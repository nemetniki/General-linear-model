{
 "cells": [
  {
   "cell_type": "markdown",
   "metadata": {},
   "source": [
    "# Classical model\n",
    "$$\\def\\time{\\left(\\tilde{t}\\right)}\n",
    "\\def\\timedel#1{\\left(\\tilde{t}-\\tilde{\\tau}_{#1}\\right)}$$\n",
    "\n",
    "### Notation differences:\n",
    "\n",
    "* $\\tilde{g}_a = \\frac{|g|}{\\kappa_a}$ conversion strength\n",
    "* $\\tilde{k}_a = \\frac{k_a}{\\kappa_a}$ feedback strength in mode $\\hat{a}$\n",
    "* $\\tilde{k}_b = \\frac{k_b}{\\kappa_b}$ feedback strength in mode $\\hat{b}$\n",
    "* $\\tilde{r} = \\frac{\\kappa_a}{\\kappa_b}$ ratio of decay rates of the modes\n",
    "* $\\tilde{\\Omega_a} = \\frac{\\Omega}{\\kappa_a}$ driving strength in mode $\\hat{a}$\n",
    "* $\\tilde{\\kappa_p} = \\frac{\\kappa_p}{\\kappa_a}$ decay rate of the pump mode compared to mode $\\hat{a}$\n",
    "* $\\eta = \\frac{|\\epsilon|}{\\kappa_a}$ driving strength of the parametric pump\n",
    "* $\\delta_a = \\frac{\\Delta_a}{\\kappa_a}$ detuning of mode $\\hat{a}$\n",
    "* $\\delta_b = \\frac{\\Delta_b}{\\kappa_a}$ detuning of mode $\\hat{b}$\n",
    "* $\\tilde{t} = \\kappa_at$ time\n",
    "* $\\tilde{\\tau}_a = \\kappa_a\\tau_a$ time-delay of mode $\\hat{a}$ in the feedback loop\n",
    "* $\\tilde{\\tau}_b = \\kappa_a\\tau_b$ time-delay of mode $\\hat{b}$ in the feedback loop\n",
    "\n",
    "### Equations of motion:\n",
    "$$\\begin{align}\n",
    "\\frac{d\\alpha}{d\\tilde{t}} &= -(1+i\\delta_a)\\alpha\\time + p(t)\\beta^*\\time + \\tilde{g}_ae^{i\\chi}\\beta\\time -\\tilde{k}_ae^{i\\phi_a}\\alpha\\timedel{a}\\\\\n",
    "\\frac{d\\beta}{d\\tilde{t}} &= -\\left(\\frac{1}{\\tilde{r}}+i\\delta_b\\right)\\beta\\time + \\tilde{r}p\\time\\alpha^*\\time - \\tilde{r}\\tilde{g}_ae^{-i\\chi}\\alpha\\time -\\frac{\\tilde{k}_b}{\\tilde{r}}e^{i\\phi_b}\\beta\\timedel{b}\\\\\n",
    "\\frac{dp}{d\\tilde{t}} &= -\\tilde{\\kappa_p}\\left(p\\time - \\alpha\\time\\beta\\time + \\eta e^{i\\theta}\\right)\n",
    "\\end{align}$$\n",
    "\n",
    "## 1. NDPA $\\left(\\tilde{g}_a = 0\\right)$\n",
    "\n",
    "\n"
   ]
  },
  {
   "cell_type": "code",
   "execution_count": 1,
   "metadata": {
    "collapsed": false
   },
   "outputs": [
    {
     "ename": "ImportError",
     "evalue": "No module named '_dde23'",
     "output_type": "error",
     "traceback": [
      "\u001b[1;31m---------------------------------------------------------------------------\u001b[0m",
      "\u001b[1;31mImportError\u001b[0m                               Traceback (most recent call last)",
      "\u001b[1;32m<ipython-input-1-db892ceeb720>\u001b[0m in \u001b[0;36m<module>\u001b[1;34m()\u001b[0m\n\u001b[0;32m      3\u001b[0m \u001b[1;32mimport\u001b[0m \u001b[0mpylab\u001b[0m \u001b[1;32mas\u001b[0m \u001b[0mpl\u001b[0m\u001b[1;33m\u001b[0m\u001b[0m\n\u001b[0;32m      4\u001b[0m \u001b[1;32mimport\u001b[0m \u001b[0mmatplotlib\u001b[0m\u001b[1;33m.\u001b[0m\u001b[0mpyplot\u001b[0m \u001b[1;32mas\u001b[0m \u001b[0mplt\u001b[0m\u001b[1;33m\u001b[0m\u001b[0m\n\u001b[1;32m----> 5\u001b[1;33m \u001b[1;32mfrom\u001b[0m \u001b[0mpydelay\u001b[0m \u001b[1;32mimport\u001b[0m \u001b[0mdde23\u001b[0m\u001b[1;33m\u001b[0m\u001b[0m\n\u001b[0m",
      "\u001b[1;32m/home/nnem614/Documents/anaconda3/lib/python3.5/site-packages/pydelay/__init__.py\u001b[0m in \u001b[0;36m<module>\u001b[1;34m()\u001b[0m\n\u001b[0;32m      7\u001b[0m \u001b[0mLast\u001b[0m \u001b[0mupdate\u001b[0m\u001b[1;33m:\u001b[0m \u001b[1;36m23.10\u001b[0m\u001b[1;36m.2009\u001b[0m\u001b[1;33m\u001b[0m\u001b[0m\n\u001b[0;32m      8\u001b[0m \"\"\"\n\u001b[1;32m----> 9\u001b[1;33m \u001b[1;32mfrom\u001b[0m \u001b[0m_dde23\u001b[0m \u001b[1;32mimport\u001b[0m \u001b[0mdde23\u001b[0m\u001b[1;33m\u001b[0m\u001b[0m\n\u001b[0m\u001b[0;32m     10\u001b[0m \u001b[1;31m#from constantStepper import dde3\u001b[0m\u001b[1;33m\u001b[0m\u001b[1;33m\u001b[0m\u001b[0m\n\u001b[0;32m     11\u001b[0m \u001b[0m__all__\u001b[0m \u001b[1;33m=\u001b[0m \u001b[1;33m[\u001b[0m\u001b[1;34m'dde23'\u001b[0m\u001b[1;33m,\u001b[0m \u001b[1;34m'gen_disconts'\u001b[0m\u001b[1;33m]\u001b[0m\u001b[1;33m\u001b[0m\u001b[0m\n",
      "\u001b[1;31mImportError\u001b[0m: No module named '_dde23'"
     ]
    }
   ],
   "source": [
    "from math import *\n",
    "import numpy as np\n",
    "import pylab as pl\n",
    "import matplotlib.pyplot as plt\n",
    "from pydelay import dde23"
   ]
  },
  {
   "cell_type": "code",
   "execution_count": null,
   "metadata": {
    "collapsed": true
   },
   "outputs": [],
   "source": []
  }
 ],
 "metadata": {
  "kernelspec": {
   "display_name": "Python 3",
   "language": "python",
   "name": "python3"
  },
  "language_info": {
   "codemirror_mode": {
    "name": "ipython",
    "version": 3
   },
   "file_extension": ".py",
   "mimetype": "text/x-python",
   "name": "python",
   "nbconvert_exporter": "python",
   "pygments_lexer": "ipython3",
   "version": "3.5.1"
  }
 },
 "nbformat": 4,
 "nbformat_minor": 0
}
