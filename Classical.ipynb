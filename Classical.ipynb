{
 "cells": [
  {
   "cell_type": "markdown",
   "metadata": {},
   "source": [
    "# Classical model\n",
    "$$\\def\\time{\\left(\\tilde{t}\\right)}\n",
    "\\def\\timedel#1{\\left(\\tilde{t}-\\tilde{\\tau}_{#1}\\right)}$$\n",
    "\n",
    "### Notation differences:\n",
    "\n",
    "* $\\tilde{g}_a = \\frac{|g|}{\\kappa_a}$ conversion strength\n",
    "* $\\tilde{k}_a = \\frac{k_a}{\\kappa_a}$ feedback strength in mode $\\hat{a}$\n",
    "* $\\tilde{k}_b = \\frac{k_b}{\\kappa_b}$ feedback strength in mode $\\hat{b}$\n",
    "* $\\tilde{r} = \\frac{\\kappa_a}{\\kappa_b}$ ratio of decay rates of the modes\n",
    "* $\\tilde{\\Omega_a} = \\frac{\\Omega}{\\kappa_a}$ driving strength in mode $\\hat{a}$\n",
    "* $\\tilde{\\kappa_p} = \\frac{\\kappa_p}{\\kappa_a}$ decay rate of the pump mode compared to mode $\\hat{a}$\n",
    "* $\\eta = \\frac{|\\epsilon|}{\\kappa_a}$ driving strength of the parametric pump\n",
    "* $\\delta_a = \\frac{\\Delta_a}{\\kappa_a}$ detuning of mode $\\hat{a}$\n",
    "* $\\delta_b = \\frac{\\Delta_b}{\\kappa_a}$ detuning of mode $\\hat{b}$\n",
    "* $\\tilde{t} = \\kappa_at$ time\n",
    "* $\\tilde{\\tau}_a = \\kappa_a\\tau_a$ time-delay of mode $\\hat{a}$ in the feedback loop\n",
    "* $\\tilde{\\tau}_b = \\kappa_a\\tau_b$ time-delay of mode $\\hat{b}$ in the feedback loop\n",
    "\n",
    "### Equations of motion:\n",
    "$$\\begin{align}\n",
    "\\frac{d\\alpha}{d\\tilde{t}} &= -(1+i\\delta_a)\\alpha\\time + p(t)\\beta^*\\time + \\tilde{g}_ae^{i\\chi}\\beta\\time -\\tilde{k}_ae^{i\\phi_a}\\alpha\\timedel{a}\\\\\n",
    "\\frac{d\\beta}{d\\tilde{t}} &= -\\left(\\frac{1}{\\tilde{r}}+i\\delta_b\\right)\\beta\\time + \\tilde{r}p\\time\\alpha^*\\time - \\tilde{r}\\tilde{g}_ae^{-i\\chi}\\alpha\\time -\\frac{\\tilde{k}_b}{\\tilde{r}}e^{i\\phi_b}\\beta\\timedel{b}\\\\\n",
    "\\frac{dp}{d\\tilde{t}} &= -\\tilde{\\kappa_p}\\left(p\\time + \\alpha\\time\\beta\\time - \\eta e^{i\\theta}\\right)\n",
    "\\end{align}$$"
   ]
  },
  {
   "cell_type": "code",
   "execution_count": 4,
   "metadata": {
    "collapsed": false
   },
   "outputs": [],
   "source": [
    "%matplotlib inline\n",
    "from math import *\n",
    "import numpy as np\n",
    "import pylab as pl\n",
    "import matplotlib.pyplot as plt\n",
    "from pydelay import dde23"
   ]
  },
  {
   "cell_type": "markdown",
   "metadata": {},
   "source": [
    "## 1. NDPA $\\left(\\tilde{g}_a = 0\\right)$\n",
    "#### Defining the equations and parameters and add it to one dde structure:"
   ]
  },
  {
   "cell_type": "code",
   "execution_count": 252,
   "metadata": {
    "collapsed": false
   },
   "outputs": [],
   "source": [
    "eqnsNDPA = {\n",
    "    'al:c' : '-(1.+ii*d)*al + p*conj(be) - ka*exp(ii*pha)*al(t-taua)',\n",
    "    'be:c' : '-(1./kab-ii*d)*be + p*conj(al) - kb/kab*exp(ii*phb)*be(t-taub)',\n",
    "    'p:c'  : '-kpa * (p  - eta*exp(ii*th))- al*be'\n",
    "    }\n",
    "    \n",
    "paramsNDPA = {\n",
    "            'd'    : 0.,\n",
    "            'ka'   : 1.000000,\n",
    "            'kb'   : 1.000000,\n",
    "            'pha'  : 0.0,\n",
    "            'phb'  : 0.0,\n",
    "            'kab'  : 1.,\n",
    "            'kpa'  : 1.,\n",
    "            'eta'  : 1.7,\n",
    "            'th'   : 0.,\n",
    "            'taua' : 0.0,\n",
    "            'taub' : 1.8833\n",
    "                        }\n",
    "#1,0.2,0.9487,0.0942,.25,0.9487,0.0,1,0.4,0,3,0.0001\n",
    "ddeNDPA = dde23(eqns=eqnsNDPA, params=paramsNDPA)\n",
    "ddeNDPA.set_sim_params(tfinal=4000, dtmax=.1)"
   ]
  },
  {
   "cell_type": "code",
   "execution_count": 253,
   "metadata": {
    "collapsed": false
   },
   "outputs": [
    {
     "name": "stdout",
     "output_type": "stream",
     "text": [
      "k_a = 0.94868330 and k_b=0.82158384\n",
      "phi_a = 0.09424778 and phi_b = 0.00000000\n"
     ]
    }
   ],
   "source": [
    "kad = 2*sqrt(.5*.5*.9)\n",
    "kbd = 2*sqrt(.25*.75*.9)\n",
    "print'k_a = %.8f and k_b=%.8f'% (kad,kbd)\n",
    "phiad = 0.03*pi\n",
    "#phibd = 0.04*pi\n",
    "phibd = 0\n",
    "print'phi_a = %.8f and phi_b = %.8f' % (phiad,phibd)"
   ]
  },
  {
   "cell_type": "markdown",
   "metadata": {},
   "source": [
    "#### Set the history\n",
    "Constant function is used with the help of python lambda function."
   ]
  },
  {
   "cell_type": "code",
   "execution_count": 254,
   "metadata": {
    "collapsed": false
   },
   "outputs": [],
   "source": [
    "histfuncNDPA = { 'al': lambda t: 1,\n",
    "             'be': lambda t: 0.5,\n",
    "             'p' : lambda t: 1\n",
    "             }\n",
    "ddeNDPA.hist_from_funcs(histfuncNDPA, 51)"
   ]
  },
  {
   "cell_type": "markdown",
   "metadata": {},
   "source": [
    "#### Run the solver"
   ]
  },
  {
   "cell_type": "code",
   "execution_count": 255,
   "metadata": {
    "collapsed": false
   },
   "outputs": [],
   "source": [
    "ddeNDPA.run()"
   ]
  },
  {
   "cell_type": "markdown",
   "metadata": {},
   "source": [
    "#### Sample the solution\n",
    "The solver use adaptive stepsize. For equal time intervals sampling of the solution is necessary"
   ]
  },
  {
   "cell_type": "code",
   "execution_count": 256,
   "metadata": {
    "collapsed": false
   },
   "outputs": [],
   "source": [
    "sol = ddeNDPA.sample(0,1000,0.1)\n",
    "tNDPA  = sol['t']\n",
    "alNDPA = sol['al']\n",
    "beNDPA = sol['be']\n",
    "pNDPA  = sol['p']"
   ]
  },
  {
   "cell_type": "markdown",
   "metadata": {},
   "source": [
    "#### Plotting the solution"
   ]
  },
  {
   "cell_type": "code",
   "execution_count": 257,
   "metadata": {
    "collapsed": false
   },
   "outputs": [
    {
     "data": {
      "image/png": "[encoded data removed]",
      "text/plain": [
       "<matplotlib.figure.Figure at 0x7f383ed1f050>"
      ]
     },
     "metadata": {},
     "output_type": "display_data"
    }
   ],
   "source": [
    "plt.figure(1)\n",
    "plt.clf()\n",
    "plt.subplot(2,1,1)\n",
    "plt.plot(tNDPA,np.real(alNDPA),linewidth=2.0)\n",
    "plt.plot(tNDPA,np.real(beNDPA),linewidth=2.0)\n",
    "plt.plot(tNDPA,np.real(pNDPA),linewidth=2.0)\n",
    "plt.xlabel('$t$',fontsize=15.)\n",
    "plt.ylabel('Real amplitudes',fontsize=15.)\n",
    "plt.legend(['$\\Re{\\\\alpha}$','$\\Re{\\\\beta}$','$\\Re{p}$'],loc='best')\n",
    "plt.title('Time-evolution of NDPA amplitudes',fontsize=17.)\n",
    "#plt.xlim(0.,100)\n",
    "#plt.ylim(-1.,3)\n",
    "plt.grid(True)\n",
    "plt.subplot(2,1,2)\n",
    "plt.plot(tNDPA,np.imag(beNDPA),linewidth=2.0)\n",
    "plt.plot(tNDPA,np.imag(alNDPA),linewidth=2.0)\n",
    "plt.plot(tNDPA,np.imag(pNDPA),linewidth=2.0)\n",
    "plt.legend(['$\\Im{\\\\alpha}$','$\\Im{\\\\beta}$','$\\Im{p}$'],loc='best')\n",
    "plt.xlabel('$t$',fontsize=15.)\n",
    "plt.ylabel('Imaginary amplitudes',fontsize=15.)\n",
    "#plt.xlim(0.,100)\n",
    "#plt.ylim(-1.,3)\n",
    "plt.grid(True)\n",
    "plt.show()\n",
    "\n",
    "## Make a plot of x(t) vs x(t-tau):\n",
    "# Sample the solution twice with a stepsize of dt=0.1:\n",
    "\n",
    "# once in the interval [515, 1000]\n",
    "#sol1 = dde.sample(515, 1000, 0.1)\n",
    "#al1 = sol1['al']\n",
    "\n",
    "# and once between [500, 1000-15]\n",
    "#sol2 = dde.sample(514.999, 1000-0.001, 0.1)\n",
    "#al2 = sol2['al']\n",
    "\n",
    "#pl.figure(2)\n",
    "#pl.clf()\n",
    "#pl.plot(al1, al2)\n",
    "#pl.xlabel('$\\\\alpha(t)$')\n",
    "#pl.ylabel('$\\\\alpha(t - \\\\tau)$')\n",
    "#pl.show()"
   ]
  },
  {
   "cell_type": "code",
   "execution_count": 245,
   "metadata": {
    "collapsed": true
   },
   "outputs": [],
   "source": [
    "eqnsNDPA = {\n",
    "    'al:c' : '-(1.+ii*d)*al + p*conj(be) - ka*exp(ii*pha)*al(t-taua)',\n",
    "    'be:c' : '-(1./kab-ii*d)*be + p*conj(al) - kb/kab*exp(ii*phb)*be(t-taub)',\n",
    "    'p:c'  : '-kpa * (p  - eta*exp(ii*th))- al*be'\n",
    "    }\n",
    "    \n",
    "paramsNDPA = {\n",
    "            'd'    : 0.,\n",
    "            'ka'   : 1.000000,\n",
    "            'kb'   : 1.000000,\n",
    "            'pha'  : 0.0,\n",
    "            'phb'  : 0.0,\n",
    "            'kab'  : 1.,\n",
    "            'kpa'  : 1.,\n",
    "            'eta'  : 1.,\n",
    "            'th'   : 0.,\n",
    "            'taua' : 0.5,\n",
    "            'taub' : 1.8833\n",
    "                        }"
   ]
  },
  {
   "cell_type": "code",
   "execution_count": 117,
   "metadata": {
    "collapsed": false
   },
   "outputs": [
    {
     "ename": "KeyboardInterrupt",
     "evalue": "",
     "output_type": "error",
     "traceback": [
      "\u001b[1;31m---------------------------------------------------------------------------\u001b[0m",
      "\u001b[1;31mKeyboardInterrupt\u001b[0m                         Traceback (most recent call last)",
      "\u001b[1;32m<ipython-input-117-05f9a815aa41>\u001b[0m in \u001b[0;36m<module>\u001b[1;34m()\u001b[0m\n\u001b[0;32m     18\u001b[0m              }\n\u001b[0;32m     19\u001b[0m     \u001b[0mddeNDPA\u001b[0m\u001b[1;33m.\u001b[0m\u001b[0mhist_from_funcs\u001b[0m\u001b[1;33m(\u001b[0m\u001b[0mhistfuncNDPA_pos\u001b[0m\u001b[1;33m,\u001b[0m \u001b[1;36m51\u001b[0m\u001b[1;33m)\u001b[0m\u001b[1;33m\u001b[0m\u001b[0m\n\u001b[1;32m---> 20\u001b[1;33m     \u001b[0mddeNDPA\u001b[0m\u001b[1;33m.\u001b[0m\u001b[0mrun\u001b[0m\u001b[1;33m(\u001b[0m\u001b[1;33m)\u001b[0m\u001b[1;33m\u001b[0m\u001b[0m\n\u001b[0m\u001b[0;32m     21\u001b[0m     \u001b[0msol_pos\u001b[0m \u001b[1;33m=\u001b[0m \u001b[0mddeNDPA\u001b[0m\u001b[1;33m.\u001b[0m\u001b[0msample\u001b[0m\u001b[1;33m(\u001b[0m\u001b[1;36m0\u001b[0m\u001b[1;33m,\u001b[0m\u001b[1;36m500\u001b[0m\u001b[1;33m,\u001b[0m\u001b[1;36m1\u001b[0m\u001b[1;33m)\u001b[0m\u001b[1;33m\u001b[0m\u001b[0m\n\u001b[0;32m     22\u001b[0m     \u001b[0mx\u001b[0m\u001b[1;33m[\u001b[0m\u001b[0mix\u001b[0m\u001b[1;33m]\u001b[0m \u001b[1;33m=\u001b[0m \u001b[0mparamsNDPA\u001b[0m\u001b[1;33m[\u001b[0m\u001b[1;34m'eta'\u001b[0m\u001b[1;33m]\u001b[0m\u001b[1;33m\u001b[0m\u001b[0m\n",
      "\u001b[1;32m/home/nnem614/Documents/anaconda3/envs/py27/lib/python2.7/site-packages/pydelay/_dde23.pyc\u001b[0m in \u001b[0;36mrun\u001b[1;34m(self)\u001b[0m\n\u001b[0;32m   1118\u001b[0m                    \u001b[0msupport_code\u001b[0m\u001b[1;33m=\u001b[0m\u001b[0mself\u001b[0m\u001b[1;33m.\u001b[0m\u001b[0mincludes\u001b[0m\u001b[1;33m,\u001b[0m\u001b[1;33m\u001b[0m\u001b[0m\n\u001b[0;32m   1119\u001b[0m                    \u001b[0mverbose\u001b[0m\u001b[1;33m=\u001b[0m\u001b[1;36m0\u001b[0m\u001b[1;33m,\u001b[0m\u001b[1;33m\u001b[0m\u001b[0m\n\u001b[1;32m-> 1120\u001b[1;33m                    compiler = 'gcc')\n\u001b[0m\u001b[0;32m   1121\u001b[0m \u001b[1;33m\u001b[0m\u001b[0m\n\u001b[0;32m   1122\u001b[0m         \u001b[1;32mfor\u001b[0m \u001b[0mvar\u001b[0m \u001b[1;32min\u001b[0m \u001b[0mself\u001b[0m\u001b[1;33m.\u001b[0m\u001b[0mvars\u001b[0m\u001b[1;33m:\u001b[0m\u001b[1;33m\u001b[0m\u001b[0m\n",
      "\u001b[1;32m/home/nnem614/Documents/anaconda3/envs/py27/lib/python2.7/site-packages/scipy/weave/inline_tools.pyc\u001b[0m in \u001b[0;36minline\u001b[1;34m(code, arg_names, local_dict, global_dict, force, compiler, verbose, support_code, headers, customize, type_converters, auto_downcast, newarr_converter, **kw)\u001b[0m\n\u001b[0;32m    366\u001b[0m                                     **kw)\n\u001b[0;32m    367\u001b[0m \u001b[1;33m\u001b[0m\u001b[0m\n\u001b[1;32m--> 368\u001b[1;33m             \u001b[0mfunction_catalog\u001b[0m\u001b[1;33m.\u001b[0m\u001b[0madd_function\u001b[0m\u001b[1;33m(\u001b[0m\u001b[0mcode\u001b[0m\u001b[1;33m,\u001b[0m\u001b[0mfunc\u001b[0m\u001b[1;33m,\u001b[0m\u001b[0mmodule_dir\u001b[0m\u001b[1;33m)\u001b[0m\u001b[1;33m\u001b[0m\u001b[0m\n\u001b[0m\u001b[0;32m    369\u001b[0m             \u001b[0mresults\u001b[0m \u001b[1;33m=\u001b[0m \u001b[0mattempt_function_call\u001b[0m\u001b[1;33m(\u001b[0m\u001b[0mcode\u001b[0m\u001b[1;33m,\u001b[0m\u001b[0mlocal_dict\u001b[0m\u001b[1;33m,\u001b[0m\u001b[0mglobal_dict\u001b[0m\u001b[1;33m)\u001b[0m\u001b[1;33m\u001b[0m\u001b[0m\n\u001b[0;32m    370\u001b[0m     \u001b[1;32mreturn\u001b[0m \u001b[0mresults\u001b[0m\u001b[1;33m\u001b[0m\u001b[0m\n",
      "\u001b[1;32m/home/nnem614/Documents/anaconda3/envs/py27/lib/python2.7/site-packages/scipy/weave/catalog.pyc\u001b[0m in \u001b[0;36madd_function\u001b[1;34m(self, code, function, module_dir)\u001b[0m\n\u001b[0;32m    826\u001b[0m         \u001b[1;32melse\u001b[0m\u001b[1;33m:\u001b[0m\u001b[1;33m\u001b[0m\u001b[0m\n\u001b[0;32m    827\u001b[0m             \u001b[1;31m# Load functions and put this one up front\u001b[0m\u001b[1;33m\u001b[0m\u001b[1;33m\u001b[0m\u001b[0m\n\u001b[1;32m--> 828\u001b[1;33m             \u001b[0mself\u001b[0m\u001b[1;33m.\u001b[0m\u001b[0mcache\u001b[0m\u001b[1;33m[\u001b[0m\u001b[0mcode\u001b[0m\u001b[1;33m]\u001b[0m \u001b[1;33m=\u001b[0m \u001b[0mself\u001b[0m\u001b[1;33m.\u001b[0m\u001b[0mget_functions\u001b[0m\u001b[1;33m(\u001b[0m\u001b[0mcode\u001b[0m\u001b[1;33m)\u001b[0m\u001b[1;33m\u001b[0m\u001b[0m\n\u001b[0m\u001b[0;32m    829\u001b[0m             \u001b[0mself\u001b[0m\u001b[1;33m.\u001b[0m\u001b[0mfast_cache\u001b[0m\u001b[1;33m(\u001b[0m\u001b[0mcode\u001b[0m\u001b[1;33m,\u001b[0m\u001b[0mfunction\u001b[0m\u001b[1;33m)\u001b[0m\u001b[1;33m\u001b[0m\u001b[0m\n\u001b[0;32m    830\u001b[0m         \u001b[1;31m# 2. Store the function entry to disk.\u001b[0m\u001b[1;33m\u001b[0m\u001b[1;33m\u001b[0m\u001b[0m\n",
      "\u001b[1;32m/home/nnem614/Documents/anaconda3/envs/py27/lib/python2.7/site-packages/scipy/weave/catalog.pyc\u001b[0m in \u001b[0;36mget_functions\u001b[1;34m(self, code, module_dir)\u001b[0m\n\u001b[0;32m    793\u001b[0m         \u001b[1;32mtry\u001b[0m\u001b[1;33m:\u001b[0m\u001b[1;33m\u001b[0m\u001b[0m\n\u001b[0;32m    794\u001b[0m             \u001b[0mself\u001b[0m\u001b[1;33m.\u001b[0m\u001b[0mset_module_directory\u001b[0m\u001b[1;33m(\u001b[0m\u001b[0mmodule_dir\u001b[0m\u001b[1;33m)\u001b[0m\u001b[1;33m\u001b[0m\u001b[0m\n\u001b[1;32m--> 795\u001b[1;33m             \u001b[0mfunction_list\u001b[0m \u001b[1;33m=\u001b[0m \u001b[0mself\u001b[0m\u001b[1;33m.\u001b[0m\u001b[0mget_cataloged_functions\u001b[0m\u001b[1;33m(\u001b[0m\u001b[0mcode\u001b[0m\u001b[1;33m)\u001b[0m\u001b[1;33m\u001b[0m\u001b[0m\n\u001b[0m\u001b[0;32m    796\u001b[0m             \u001b[1;31m# put function_list in cache to save future lookups.\u001b[0m\u001b[1;33m\u001b[0m\u001b[1;33m\u001b[0m\u001b[0m\n\u001b[0;32m    797\u001b[0m             \u001b[1;32mif\u001b[0m \u001b[0mfunction_list\u001b[0m\u001b[1;33m:\u001b[0m\u001b[1;33m\u001b[0m\u001b[0m\n",
      "\u001b[1;32m/home/nnem614/Documents/anaconda3/envs/py27/lib/python2.7/site-packages/scipy/weave/catalog.pyc\u001b[0m in \u001b[0;36mget_cataloged_functions\u001b[1;34m(self, code)\u001b[0m\n\u001b[0;32m    708\u001b[0m         \u001b[0mfunction_list\u001b[0m \u001b[1;33m=\u001b[0m \u001b[1;33m[\u001b[0m\u001b[1;33m]\u001b[0m\u001b[1;33m\u001b[0m\u001b[0m\n\u001b[0;32m    709\u001b[0m         \u001b[1;32mfor\u001b[0m \u001b[0mpath\u001b[0m \u001b[1;32min\u001b[0m \u001b[0mself\u001b[0m\u001b[1;33m.\u001b[0m\u001b[0mbuild_search_order\u001b[0m\u001b[1;33m(\u001b[0m\u001b[1;33m)\u001b[0m\u001b[1;33m:\u001b[0m\u001b[1;33m\u001b[0m\u001b[0m\n\u001b[1;32m--> 710\u001b[1;33m             \u001b[0mcat\u001b[0m \u001b[1;33m=\u001b[0m \u001b[0mget_catalog\u001b[0m\u001b[1;33m(\u001b[0m\u001b[0mpath\u001b[0m\u001b[1;33m,\u001b[0m\u001b[0mmode\u001b[0m\u001b[1;33m)\u001b[0m\u001b[1;33m\u001b[0m\u001b[0m\n\u001b[0m\u001b[0;32m    711\u001b[0m             \u001b[1;32mif\u001b[0m \u001b[0mcat\u001b[0m \u001b[1;32mis\u001b[0m \u001b[1;32mnot\u001b[0m \u001b[0mNone\u001b[0m \u001b[1;32mand\u001b[0m \u001b[0mcode\u001b[0m \u001b[1;32min\u001b[0m \u001b[0mcat\u001b[0m\u001b[1;33m:\u001b[0m\u001b[1;33m\u001b[0m\u001b[0m\n\u001b[0;32m    712\u001b[0m                 \u001b[1;31m# set up the python path so that modules for this\u001b[0m\u001b[1;33m\u001b[0m\u001b[1;33m\u001b[0m\u001b[0m\n",
      "\u001b[1;32m/home/nnem614/Documents/anaconda3/envs/py27/lib/python2.7/site-packages/scipy/weave/catalog.pyc\u001b[0m in \u001b[0;36mget_catalog\u001b[1;34m(module_path, mode)\u001b[0m\n\u001b[0;32m    479\u001b[0m            and ((dumb and os.path.exists(catalog_file+'.dat'))\n\u001b[0;32m    480\u001b[0m                 or os.path.exists(catalog_file)):\n\u001b[1;32m--> 481\u001b[1;33m         \u001b[0msh\u001b[0m \u001b[1;33m=\u001b[0m \u001b[0mshelve\u001b[0m\u001b[1;33m.\u001b[0m\u001b[0mopen\u001b[0m\u001b[1;33m(\u001b[0m\u001b[0mcatalog_file\u001b[0m\u001b[1;33m,\u001b[0m\u001b[0mmode\u001b[0m\u001b[1;33m)\u001b[0m\u001b[1;33m\u001b[0m\u001b[0m\n\u001b[0m\u001b[0;32m    482\u001b[0m     \u001b[1;32melse\u001b[0m\u001b[1;33m:\u001b[0m\u001b[1;33m\u001b[0m\u001b[0m\n\u001b[0;32m    483\u001b[0m         \u001b[1;32mif\u001b[0m \u001b[0mmode\u001b[0m \u001b[1;33m==\u001b[0m \u001b[1;34m'r'\u001b[0m\u001b[1;33m:\u001b[0m\u001b[1;33m\u001b[0m\u001b[0m\n",
      "\u001b[1;32m/home/nnem614/Documents/anaconda3/envs/py27/lib/python2.7/site-packages/scipy/weave/_dumb_shelve.pyc\u001b[0m in \u001b[0;36mopen\u001b[1;34m(filename, flag)\u001b[0m\n\u001b[0;32m     49\u001b[0m     \"\"\"\n\u001b[0;32m     50\u001b[0m \u001b[1;33m\u001b[0m\u001b[0m\n\u001b[1;32m---> 51\u001b[1;33m     \u001b[1;32mreturn\u001b[0m \u001b[0mDbfilenameShelf\u001b[0m\u001b[1;33m(\u001b[0m\u001b[0mfilename\u001b[0m\u001b[1;33m,\u001b[0m \u001b[0mflag\u001b[0m\u001b[1;33m)\u001b[0m\u001b[1;33m\u001b[0m\u001b[0m\n\u001b[0m",
      "\u001b[1;32m/home/nnem614/Documents/anaconda3/envs/py27/lib/python2.7/site-packages/scipy/weave/_dumb_shelve.pyc\u001b[0m in \u001b[0;36m__init__\u001b[1;34m(self, filename, flag)\u001b[0m\n\u001b[0;32m     20\u001b[0m     \u001b[1;32mdef\u001b[0m \u001b[0m__init__\u001b[0m\u001b[1;33m(\u001b[0m\u001b[0mself\u001b[0m\u001b[1;33m,\u001b[0m \u001b[0mfilename\u001b[0m\u001b[1;33m,\u001b[0m \u001b[0mflag\u001b[0m\u001b[1;33m=\u001b[0m\u001b[1;34m'c'\u001b[0m\u001b[1;33m)\u001b[0m\u001b[1;33m:\u001b[0m\u001b[1;33m\u001b[0m\u001b[0m\n\u001b[0;32m     21\u001b[0m         \u001b[1;32mfrom\u001b[0m \u001b[1;33m.\u001b[0m \u001b[1;32mimport\u001b[0m \u001b[0m_dumbdbm_patched\u001b[0m\u001b[1;33m\u001b[0m\u001b[0m\n\u001b[1;32m---> 22\u001b[1;33m         \u001b[0mShelf\u001b[0m\u001b[1;33m.\u001b[0m\u001b[0m__init__\u001b[0m\u001b[1;33m(\u001b[0m\u001b[0mself\u001b[0m\u001b[1;33m,\u001b[0m \u001b[0m_dumbdbm_patched\u001b[0m\u001b[1;33m.\u001b[0m\u001b[0mopen\u001b[0m\u001b[1;33m(\u001b[0m\u001b[0mfilename\u001b[0m\u001b[1;33m,\u001b[0m \u001b[0mflag\u001b[0m\u001b[1;33m)\u001b[0m\u001b[1;33m)\u001b[0m\u001b[1;33m\u001b[0m\u001b[0m\n\u001b[0m\u001b[0;32m     23\u001b[0m \u001b[1;33m\u001b[0m\u001b[0m\n\u001b[0;32m     24\u001b[0m     \u001b[1;32mdef\u001b[0m \u001b[0m__getitem__\u001b[0m\u001b[1;33m(\u001b[0m\u001b[0mself\u001b[0m\u001b[1;33m,\u001b[0m \u001b[0mkey\u001b[0m\u001b[1;33m)\u001b[0m\u001b[1;33m:\u001b[0m\u001b[1;33m\u001b[0m\u001b[0m\n",
      "\u001b[1;32m/home/nnem614/Documents/anaconda3/envs/py27/lib/python2.7/site-packages/scipy/weave/_dumbdbm_patched.pyc\u001b[0m in \u001b[0;36mopen\u001b[1;34m(file, flag, mode)\u001b[0m\n\u001b[0;32m    157\u001b[0m \u001b[1;32mdef\u001b[0m \u001b[0mopen\u001b[0m\u001b[1;33m(\u001b[0m\u001b[0mfile\u001b[0m\u001b[1;33m,\u001b[0m \u001b[0mflag\u001b[0m\u001b[1;33m=\u001b[0m\u001b[0mNone\u001b[0m\u001b[1;33m,\u001b[0m \u001b[0mmode\u001b[0m\u001b[1;33m=\u001b[0m\u001b[0mNone\u001b[0m\u001b[1;33m)\u001b[0m\u001b[1;33m:\u001b[0m\u001b[1;33m\u001b[0m\u001b[0m\n\u001b[0;32m    158\u001b[0m     \u001b[1;31m# flag, mode arguments are currently ignored\u001b[0m\u001b[1;33m\u001b[0m\u001b[1;33m\u001b[0m\u001b[0m\n\u001b[1;32m--> 159\u001b[1;33m     \u001b[1;32mreturn\u001b[0m \u001b[0m_Database\u001b[0m\u001b[1;33m(\u001b[0m\u001b[0mfile\u001b[0m\u001b[1;33m)\u001b[0m\u001b[1;33m\u001b[0m\u001b[0m\n\u001b[0m",
      "\u001b[1;32m/home/nnem614/Documents/anaconda3/envs/py27/lib/python2.7/site-packages/scipy/weave/_dumbdbm_patched.pyc\u001b[0m in \u001b[0;36m__init__\u001b[1;34m(self, file)\u001b[0m\n\u001b[0;32m     47\u001b[0m             \u001b[0mf\u001b[0m \u001b[1;33m=\u001b[0m \u001b[0m_open\u001b[0m\u001b[1;33m(\u001b[0m\u001b[0mself\u001b[0m\u001b[1;33m.\u001b[0m\u001b[0m_datfile\u001b[0m\u001b[1;33m,\u001b[0m \u001b[1;34m'w'\u001b[0m\u001b[1;33m)\u001b[0m\u001b[1;33m\u001b[0m\u001b[0m\n\u001b[0;32m     48\u001b[0m         \u001b[0mf\u001b[0m\u001b[1;33m.\u001b[0m\u001b[0mclose\u001b[0m\u001b[1;33m(\u001b[0m\u001b[1;33m)\u001b[0m\u001b[1;33m\u001b[0m\u001b[0m\n\u001b[1;32m---> 49\u001b[1;33m         \u001b[0mself\u001b[0m\u001b[1;33m.\u001b[0m\u001b[0m_update\u001b[0m\u001b[1;33m(\u001b[0m\u001b[1;33m)\u001b[0m\u001b[1;33m\u001b[0m\u001b[0m\n\u001b[0m\u001b[0;32m     50\u001b[0m \u001b[1;33m\u001b[0m\u001b[0m\n\u001b[0;32m     51\u001b[0m     \u001b[1;32mdef\u001b[0m \u001b[0m_update\u001b[0m\u001b[1;33m(\u001b[0m\u001b[0mself\u001b[0m\u001b[1;33m)\u001b[0m\u001b[1;33m:\u001b[0m\u001b[1;33m\u001b[0m\u001b[0m\n",
      "\u001b[1;32m/home/nnem614/Documents/anaconda3/envs/py27/lib/python2.7/site-packages/scipy/weave/_dumbdbm_patched.pyc\u001b[0m in \u001b[0;36m_update\u001b[1;34m(self)\u001b[0m\n\u001b[0;32m     61\u001b[0m                 \u001b[1;32mif\u001b[0m \u001b[1;32mnot\u001b[0m \u001b[0mline\u001b[0m\u001b[1;33m:\u001b[0m\u001b[1;33m\u001b[0m\u001b[0m\n\u001b[0;32m     62\u001b[0m                     \u001b[1;32mbreak\u001b[0m\u001b[1;33m\u001b[0m\u001b[0m\n\u001b[1;32m---> 63\u001b[1;33m                 \u001b[0mkey\u001b[0m\u001b[1;33m,\u001b[0m \u001b[1;33m(\u001b[0m\u001b[0mpos\u001b[0m\u001b[1;33m,\u001b[0m \u001b[0msiz\u001b[0m\u001b[1;33m)\u001b[0m \u001b[1;33m=\u001b[0m \u001b[0meval\u001b[0m\u001b[1;33m(\u001b[0m\u001b[0mline\u001b[0m\u001b[1;33m)\u001b[0m\u001b[1;33m\u001b[0m\u001b[0m\n\u001b[0m\u001b[0;32m     64\u001b[0m                 \u001b[0mself\u001b[0m\u001b[1;33m.\u001b[0m\u001b[0m_index\u001b[0m\u001b[1;33m[\u001b[0m\u001b[0mkey\u001b[0m\u001b[1;33m]\u001b[0m \u001b[1;33m=\u001b[0m \u001b[1;33m(\u001b[0m\u001b[0mpos\u001b[0m\u001b[1;33m,\u001b[0m \u001b[0msiz\u001b[0m\u001b[1;33m)\u001b[0m\u001b[1;33m\u001b[0m\u001b[0m\n\u001b[0;32m     65\u001b[0m             \u001b[0mf\u001b[0m\u001b[1;33m.\u001b[0m\u001b[0mclose\u001b[0m\u001b[1;33m(\u001b[0m\u001b[1;33m)\u001b[0m\u001b[1;33m\u001b[0m\u001b[0m\n",
      "\u001b[1;32m/home/nnem614/Documents/anaconda3/envs/py27/lib/python2.7/site-packages/scipy/weave/_dumbdbm_patched.pyc\u001b[0m in \u001b[0;36m<module>\u001b[1;34m()\u001b[0m\n",
      "\u001b[1;31mKeyboardInterrupt\u001b[0m: "
     ]
    }
   ],
   "source": [
    "import time\n",
    "\n",
    "start  = time.clock()\n",
    "Nx     = 400\n",
    "x      = np.zeros(Nx)\n",
    "amp    = np.zeros((Nx,6))\n",
    "amp_im = np.zeros((Nx,6))\n",
    "eta_i  = 1.1\n",
    "tfinal = 2000\n",
    "\n",
    "for ix in range(0,Nx):\n",
    "    paramsNDPA['eta'] = ix*0.01\n",
    "    ddeNDPA = dde23(eqns=eqnsNDPA, params=paramsNDPA)\n",
    "    ddeNDPA.set_sim_params(tfinal, dtmax=1.0)\n",
    "    histfuncNDPA_pos = { 'al': lambda t: 0.5,\n",
    "             'be': lambda t: 0.5,\n",
    "             'p' : lambda t: 0.5\n",
    "             }\n",
    "    ddeNDPA.hist_from_funcs(histfuncNDPA_pos, 51)\n",
    "    ddeNDPA.run()\n",
    "    sol_pos = ddeNDPA.sample(0,500,1)\n",
    "    x[ix] = paramsNDPA['eta']\n",
    "    buff = sol_pos['al']\n",
    "    amp[ix,0] = np.real(buff[len(buff)-1])\n",
    "    amp_im[ix,0] = np.imag(buff[len(buff)-1])\n",
    "    buff = sol_pos['be']\n",
    "    amp[ix,1] = np.real(buff[len(buff)-1])\n",
    "    amp_im[ix,1] = np.imag(buff[len(buff)-1])\n",
    "    buff = sol_pos['p']\n",
    "    amp[ix,2] = np.real(buff[len(buff)-1])\n",
    "    amp_im[ix,2] = np.imag(buff[len(buff)-1])\n",
    "\n",
    "    ddeNDPA = dde23(eqns=eqnsNDPA, params=paramsNDPA)\n",
    "    ddeNDPA.set_sim_params(tfinal, dtmax=1.0)\n",
    "    histfuncNDPA_neg = { 'al': lambda t: -0.5,\n",
    "             'be': lambda t: -0.5,\n",
    "             'p' : lambda t: 0.5\n",
    "             }\n",
    "    ddeNDPA.hist_from_funcs(histfuncNDPA_neg, 51)\n",
    "    ddeNDPA.run()\n",
    "    sol_neg = ddeNDPA.sample(0,500,1)\n",
    "    buff = sol_neg['al']\n",
    "    amp[ix,3] = np.real(buff[len(buff)-1])\n",
    "    amp_im[ix,3] = np.imag(buff[len(buff)-1])\n",
    "    buff = sol_neg['be']\n",
    "    amp[ix,4] = np.real(buff[len(buff)-1])\n",
    "    amp_im[ix,4] = np.imag(buff[len(buff)-1])\n",
    "    buff = sol_neg['p']\n",
    "    amp[ix,5] = np.real(buff[len(buff)-1])\n",
    "    amp_im[ix,5] = np.imag(buff[len(buff)-1])\n",
    "\n",
    "plt.figure(1)\n",
    "plt.clf()\n",
    "fig, ax = plt.subplots()\n",
    "ax.set_prop_cycle('color',['blue', 'green', 'magenta'])\n",
    "plt.plot(x,amp,linewidth=2.0)\n",
    "plt.xlabel('$\\eta$',fontsize=15.)\n",
    "plt.ylabel('Real amplitudes',fontsize=15.)\n",
    "#plt.ylim(-1.,3)\n",
    "plt.grid(True)\n",
    "plt.title('Bifurcation of NDPA amplitudes',fontsize=17.)\n",
    "plt.legend(['$\\\\alpha$','$\\\\beta$','$p$'],loc='best')\n",
    "\n",
    "plt.figure(1)\n",
    "plt.clf()\n",
    "fig, ax = plt.subplots()\n",
    "ax.set_prop_cycle('color',['blue', 'green', 'magenta'])\n",
    "plt.plot(x,amp_im,linewidth=2.0)\n",
    "plt.xlabel('$\\eta$',fontsize=15.)\n",
    "plt.ylabel('Imaginary amplitudes',fontsize=15.)\n",
    "#plt.ylim(-1.,3)\n",
    "plt.grid(True)\n",
    "plt.title('Bifurcation of NDPA amplitudes',fontsize=17.)\n",
    "plt.legend(['$\\\\alpha$','$\\\\beta$','$p$'],loc='best')\n",
    "\n",
    "end = time.clock()\n",
    "time = end-start\n",
    "mins = int(time/60.)\n",
    "secs = time-mins*60\n",
    "print 'The elapsed time: %d mins and %d secs' % (mins,secs)\n",
    "plt.show()"
   ]
  },
  {
   "cell_type": "code",
   "execution_count": 74,
   "metadata": {
    "collapsed": false
   },
   "outputs": [
    {
     "data": {
      "text/plain": [
       "array([ 0.,  0.,  0.,  0.])"
      ]
     },
     "execution_count": 74,
     "metadata": {},
     "output_type": "execute_result"
    }
   ],
   "source": [
    "valami = np.zeros(4)\n",
    "valami"
   ]
  },
  {
   "cell_type": "markdown",
   "metadata": {},
   "source": [
    "## 2. Optomechanics\n",
    "#### Defining the equations and parameters and add it to one dde structure:"
   ]
  },
  {
   "cell_type": "code",
   "execution_count": 43,
   "metadata": {
    "collapsed": false
   },
   "outputs": [
    {
     "data": {
      "image/png": "[encoded data removed]",
      "text/plain": [
       "<matplotlib.figure.Figure at 0x7efdaba25490>"
      ]
     },
     "metadata": {},
     "output_type": "display_data"
    }
   ],
   "source": [
    "eqnsOPME = {\n",
    "    'al:c' : '-(1.+ii*da)*al + eta*exp(ii*chi)*conj(be) + ga*be*exp(ii*chi) - ka*exp(ii*pha)*al(t-taua) + om',\n",
    "    'be:c' : '-(1./kab+ii*db)*be + kab * (eta*exp(ii*chi)*conj(al) - ga*exp(-ii*chi)*al)'\n",
    "    }\n",
    "    \n",
    "paramsOPME = {\n",
    "            'da'   : 0.,\n",
    "            'db'   : 1.0,\n",
    "            'ka'   : 1.0,\n",
    "            'pha'  : 0.,\n",
    "            'kab'  : 0.,\n",
    "            'taua' : 0.,\n",
    "            'om'   : 10.0,\n",
    "            'eta'  : 1.,\n",
    "            'theta': 0.,\n",
    "            'ga'   : 100.,\n",
    "            'chi'  : 0.\n",
    "                        }\n",
    "\n",
    "ddeOPME = dde23(eqns=eqnsOPME, params=paramsOPME)\n",
    "ddeOPME.set_sim_params(tfinal=10000, dtmax=1.0)\n",
    "\n",
    "histfuncOPME = { 'al': lambda t: 1.,\n",
    "                 'be': lambda t: 1.,\n",
    "                 }\n",
    "ddeOPME.hist_from_funcs(histfuncOPME, 51)\n",
    "\n",
    "ddeOPME.run()\n",
    "sol = ddeOPME.sample(0,10,0.1)\n",
    "tOPME  = sol['t']\n",
    "alOPME = sol['al']*np.conjugate(sol['al'])\n",
    "beOPME = sol['be']*np.conjugate(sol['be'])\n",
    "   \n",
    "plt.figure(1)\n",
    "plt.clf()\n",
    "plt.plot(tOPME,np.real(alOPME),linewidth=2.0)\n",
    "plt.plot(tOPME,np.real(beOPME),linewidth=2.0)\n",
    "plt.xlabel('$t$',fontsize=15.)\n",
    "plt.ylabel('Amplitudes',fontsize=15.)\n",
    "#plt.ylim(-0.02,30)\n",
    "plt.grid(True)\n",
    "plt.legend(['$|\\\\alpha|^2$','$|\\\\beta|^2$'],loc='best')\n",
    "plt.show()"
   ]
  },
  {
   "cell_type": "code",
   "execution_count": null,
   "metadata": {
    "collapsed": true
   },
   "outputs": [],
   "source": []
  }
 ],
 "metadata": {
  "kernelspec": {
   "display_name": "Python 2",
   "language": "python",
   "name": "python2"
  },
  "language_info": {
   "codemirror_mode": {
    "name": "ipython",
    "version": 2
   },
   "file_extension": ".py",
   "mimetype": "text/x-python",
   "name": "python",
   "nbconvert_exporter": "python",
   "pygments_lexer": "ipython2",
   "version": "2.7.11"
  }
 },
 "nbformat": 4,
 "nbformat_minor": 0
}
