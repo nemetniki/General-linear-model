{
 "cells": [
  {
   "cell_type": "markdown",
   "metadata": {},
   "source": [
    "# Classical model\n",
    "$$\\def\\time{\\left(\\tilde{t}\\right)}\n",
    "\\def\\timedel#1{\\left(\\tilde{t}-\\tilde{\\tau}_{#1}\\right)}$$\n",
    "\n",
    "### Notation differences:\n",
    "\n",
    "* $\\tilde{g}_a = \\frac{|g|}{\\kappa_a}$ conversion strength\n",
    "* $\\tilde{k}_a = \\frac{k_a}{\\kappa_a}$ feedback strength in mode $\\hat{a}$\n",
    "* $\\tilde{k}_b = \\frac{k_b}{\\kappa_b}$ feedback strength in mode $\\hat{b}$\n",
    "* $\\tilde{r} = \\frac{\\kappa_a}{\\kappa_b}$ ratio of decay rates of the modes\n",
    "* $\\tilde{\\Omega_a} = \\frac{\\Omega}{\\kappa_a}$ driving strength in mode $\\hat{a}$\n",
    "* $\\tilde{\\kappa_p} = \\frac{\\kappa_p}{\\kappa_a}$ decay rate of the pump mode compared to mode $\\hat{a}$\n",
    "* $\\eta = \\frac{|\\epsilon|}{\\kappa_a}$ driving strength of the parametric pump\n",
    "* $\\delta_a = \\frac{\\Delta_a}{\\kappa_a}$ detuning of mode $\\hat{a}$\n",
    "* $\\delta_b = \\frac{\\Delta_b}{\\kappa_a}$ detuning of mode $\\hat{b}$\n",
    "* $\\tilde{t} = \\kappa_at$ time\n",
    "* $\\tilde{\\tau}_a = \\kappa_a\\tau_a$ time-delay of mode $\\hat{a}$ in the feedback loop\n",
    "* $\\tilde{\\tau}_b = \\kappa_a\\tau_b$ time-delay of mode $\\hat{b}$ in the feedback loop\n",
    "\n",
    "### Equations of motion:\n",
    "$$\\begin{align}\n",
    "\\frac{d\\alpha}{d\\tilde{t}} &= -(1+i\\delta_a)\\alpha\\time + p(t)\\beta^*\\time + \\tilde{g}_ae^{i\\chi}\\beta\\time -\\tilde{k}_ae^{i\\phi_a}\\alpha\\timedel{a}\\\\\n",
    "\\frac{d\\beta}{d\\tilde{t}} &= -\\left(\\frac{1}{\\tilde{r}}+i\\delta_b\\right)\\beta\\time + \\tilde{r}p\\time\\alpha^*\\time - \\tilde{r}\\tilde{g}_ae^{-i\\chi}\\alpha\\time -\\frac{\\tilde{k}_b}{\\tilde{r}}e^{i\\phi_b}\\beta\\timedel{b}\\\\\n",
    "\\frac{dp}{d\\tilde{t}} &= -\\tilde{\\kappa_p}\\left(p\\time + \\alpha\\time\\beta\\time - \\eta e^{i\\theta}\\right)\n",
    "\\end{align}$$"
   ]
  },
  {
   "cell_type": "code",
   "execution_count": 1,
   "metadata": {
    "collapsed": false
   },
   "outputs": [],
   "source": [
    "%matplotlib inline\n",
    "from math import *\n",
    "import numpy as np\n",
    "import pylab as pl\n",
    "import matplotlib.pyplot as plt\n",
    "from pydelay import dde23"
   ]
  },
  {
   "cell_type": "markdown",
   "metadata": {},
   "source": [
    "## 1. NDPA $\\left(\\tilde{g}_a = 0\\right)$\n",
    "#### Defining the equations and parameters and add it to one dde structure:"
   ]
  },
  {
   "cell_type": "code",
   "execution_count": 53,
   "metadata": {
    "collapsed": false
   },
   "outputs": [],
   "source": [
    "eqnsNDPA = {\n",
    "    'al:c' : '-(1.+ii*da)*al + p*conj(be) - ka*exp(ii*pha)*al(t-taua)',\n",
    "    'be:c' : '-(1./kab+ii*db)*be + kab * p*conj(al) - kb/kab*exp(ii*phb)*be(t-taub)',\n",
    "    'p:c'  : '-kpa * (p + al*be - eta*exp(ii*th))'\n",
    "    }\n",
    "    \n",
    "paramsNDPA = {\n",
    "            'da'   : 0.,\n",
    "            'db'   : 0.,\n",
    "            'ka'   : 0.,\n",
    "            'kb'   : 0.,\n",
    "            'pha'  : 0.,\n",
    "            'phb'  : 0.,\n",
    "            'kab'  : 1.,\n",
    "            'kpa'  : 1.,\n",
    "            'eta'  : 5.,\n",
    "            'th'   : 0.,\n",
    "            'taua' : 0.0,\n",
    "            'taub' : 0.0\n",
    "                        }\n",
    "\n",
    "ddeNDPA = dde23(eqns=eqnsNDPA, params=paramsNDPA)\n",
    "ddeNDPA.set_sim_params(tfinal=1000, dtmax=1.0)"
   ]
  },
  {
   "cell_type": "markdown",
   "metadata": {},
   "source": [
    "#### Set the history\n",
    "Constant function is used with the help of python lambda function."
   ]
  },
  {
   "cell_type": "code",
   "execution_count": 54,
   "metadata": {
    "collapsed": false
   },
   "outputs": [],
   "source": [
    "histfuncNDPA = { 'al': lambda t: 0.5,\n",
    "             'be': lambda t: 0.5,\n",
    "             'p' : lambda t: 0.5\n",
    "             }\n",
    "ddeNDPA.hist_from_funcs(histfuncNDPA, 51)"
   ]
  },
  {
   "cell_type": "markdown",
   "metadata": {},
   "source": [
    "#### Run the solver"
   ]
  },
  {
   "cell_type": "code",
   "execution_count": 55,
   "metadata": {
    "collapsed": false
   },
   "outputs": [],
   "source": [
    "ddeNDPA.run()"
   ]
  },
  {
   "cell_type": "markdown",
   "metadata": {},
   "source": [
    "#### Sample the solution\n",
    "The solver use adaptive stepsize. For equal time intervals sampling of the solution is necessary"
   ]
  },
  {
   "cell_type": "code",
   "execution_count": 56,
   "metadata": {
    "collapsed": false
   },
   "outputs": [],
   "source": [
    "sol = ddeNDPA.sample(0,100,0.1)\n",
    "tNDPA  = sol['t']\n",
    "alNDPA = sol['al']\n",
    "beNDPA = sol['be']\n",
    "pNDPA  = sol['p']"
   ]
  },
  {
   "cell_type": "markdown",
   "metadata": {},
   "source": [
    "#### Plotting the solution"
   ]
  },
  {
   "cell_type": "code",
   "execution_count": 57,
   "metadata": {
    "collapsed": false
   },
   "outputs": [
    {
     "data": {
      "image/png": "[encoded data removed]",
      "text/plain": [
       "<matplotlib.figure.Figure at 0x7efdaba8c890>"
      ]
     },
     "metadata": {},
     "output_type": "display_data"
    }
   ],
   "source": [
    "plt.figure(1)\n",
    "plt.clf()\n",
    "plt.plot(tNDPA,np.real(alNDPA),linewidth=2.0)\n",
    "plt.plot(tNDPA,np.real(beNDPA),linewidth=2.0)\n",
    "plt.plot(tNDPA,np.real(pNDPA),linewidth=2.0)\n",
    "plt.xlabel('$t$',fontsize=15.)\n",
    "plt.ylabel('Amplitudes',fontsize=15.)\n",
    "plt.ylim(-1.,3)\n",
    "plt.grid(True)\n",
    "plt.title('Time-evolution of NDPA amplitudes',fontsize=17.)\n",
    "plt.legend(['$\\\\alpha$','$\\\\beta$','$p$'],loc='best')\n",
    "plt.show()\n",
    "\n",
    "## Make a plot of x(t) vs x(t-tau):\n",
    "# Sample the solution twice with a stepsize of dt=0.1:\n",
    "\n",
    "# once in the interval [515, 1000]\n",
    "#sol1 = dde.sample(515, 1000, 0.1)\n",
    "#al1 = sol1['al']\n",
    "\n",
    "# and once between [500, 1000-15]\n",
    "#sol2 = dde.sample(514.999, 1000-0.001, 0.1)\n",
    "#al2 = sol2['al']\n",
    "\n",
    "#pl.figure(2)\n",
    "#pl.clf()\n",
    "#pl.plot(al1, al2)\n",
    "#pl.xlabel('$\\\\alpha(t)$')\n",
    "#pl.ylabel('$\\\\alpha(t - \\\\tau)$')\n",
    "#pl.show()"
   ]
  },
  {
   "cell_type": "code",
   "execution_count": 77,
   "metadata": {
    "collapsed": false
   },
   "outputs": [
    {
     "ename": "ValueError",
     "evalue": "Invalid input data",
     "output_type": "error",
     "traceback": [
      "\u001b[1;31m---------------------------------------------------------------------------\u001b[0m",
      "\u001b[1;31mValueError\u001b[0m                                Traceback (most recent call last)",
      "\u001b[1;32m<ipython-input-77-e7f138d0d670>\u001b[0m in \u001b[0;36m<module>\u001b[1;34m()\u001b[0m\n\u001b[0;32m     12\u001b[0m     \u001b[0mddeNDPA\u001b[0m\u001b[1;33m.\u001b[0m\u001b[0mhist_from_funcs\u001b[0m\u001b[1;33m(\u001b[0m\u001b[0mhistfuncNDPA\u001b[0m\u001b[1;33m,\u001b[0m \u001b[1;36m51\u001b[0m\u001b[1;33m)\u001b[0m\u001b[1;33m\u001b[0m\u001b[0m\n\u001b[0;32m     13\u001b[0m     \u001b[0mddeNDPA\u001b[0m\u001b[1;33m.\u001b[0m\u001b[0mrun\u001b[0m\u001b[1;33m(\u001b[0m\u001b[1;33m)\u001b[0m\u001b[1;33m\u001b[0m\u001b[0m\n\u001b[1;32m---> 14\u001b[1;33m     \u001b[0msol\u001b[0m \u001b[1;33m=\u001b[0m \u001b[0mddeNDPA\u001b[0m\u001b[1;33m.\u001b[0m\u001b[0msample\u001b[0m\u001b[1;33m(\u001b[0m\u001b[1;36m500\u001b[0m\u001b[1;33m,\u001b[0m\u001b[1;36m500\u001b[0m\u001b[1;33m,\u001b[0m\u001b[1;36m1\u001b[0m\u001b[1;33m)\u001b[0m\u001b[1;33m\u001b[0m\u001b[0m\n\u001b[0m\u001b[0;32m     15\u001b[0m     \u001b[0mx\u001b[0m\u001b[1;33m[\u001b[0m\u001b[0mix\u001b[0m\u001b[1;33m]\u001b[0m \u001b[1;33m=\u001b[0m \u001b[0mparamsNDPA\u001b[0m\u001b[1;33m[\u001b[0m\u001b[1;34m'eta'\u001b[0m\u001b[1;33m]\u001b[0m\u001b[1;33m\u001b[0m\u001b[0m\n\u001b[0;32m     16\u001b[0m     \u001b[0mamp\u001b[0m\u001b[1;33m[\u001b[0m\u001b[0mix\u001b[0m\u001b[1;33m,\u001b[0m\u001b[1;36m1\u001b[0m\u001b[1;33m]\u001b[0m \u001b[1;33m=\u001b[0m \u001b[0msol\u001b[0m\u001b[1;33m[\u001b[0m\u001b[1;34m'al'\u001b[0m\u001b[1;33m]\u001b[0m\u001b[1;33m\u001b[0m\u001b[0m\n",
      "\u001b[1;32m/home/nnem614/Documents/anaconda3/envs/py27/lib/python2.7/site-packages/pydelay/_dde23.pyc\u001b[0m in \u001b[0;36msample\u001b[1;34m(self, tstart, tfinal, dt)\u001b[0m\n\u001b[0;32m   1174\u001b[0m             \u001b[0mdt\u001b[0m \u001b[1;33m=\u001b[0m \u001b[1;36m0.5\u001b[0m\u001b[1;33m*\u001b[0m\u001b[1;33m(\u001b[0m\u001b[0mself\u001b[0m\u001b[1;33m.\u001b[0m\u001b[0msol\u001b[0m\u001b[1;33m[\u001b[0m\u001b[1;34m't'\u001b[0m\u001b[1;33m]\u001b[0m\u001b[1;33m[\u001b[0m\u001b[1;33m-\u001b[0m\u001b[1;36m1\u001b[0m\u001b[1;33m]\u001b[0m\u001b[1;33m-\u001b[0m\u001b[0mself\u001b[0m\u001b[1;33m.\u001b[0m\u001b[0msol\u001b[0m\u001b[1;33m[\u001b[0m\u001b[1;34m't'\u001b[0m\u001b[1;33m]\u001b[0m\u001b[1;33m[\u001b[0m\u001b[1;36m0\u001b[0m\u001b[1;33m]\u001b[0m\u001b[1;33m)\u001b[0m\u001b[1;33m/\u001b[0m\u001b[0mlen\u001b[0m\u001b[1;33m(\u001b[0m\u001b[0mself\u001b[0m\u001b[1;33m.\u001b[0m\u001b[0msol\u001b[0m\u001b[1;33m[\u001b[0m\u001b[1;34m't'\u001b[0m\u001b[1;33m]\u001b[0m\u001b[1;33m)\u001b[0m\u001b[1;33m\u001b[0m\u001b[0m\n\u001b[0;32m   1175\u001b[0m         \u001b[0mt\u001b[0m \u001b[1;33m=\u001b[0m \u001b[0mnp\u001b[0m\u001b[1;33m.\u001b[0m\u001b[0marange\u001b[0m\u001b[1;33m(\u001b[0m\u001b[0mtstart\u001b[0m\u001b[1;33m,\u001b[0m \u001b[0mtfinal\u001b[0m\u001b[1;33m,\u001b[0m \u001b[0mdt\u001b[0m\u001b[1;33m)\u001b[0m\u001b[1;33m\u001b[0m\u001b[0m\n\u001b[1;32m-> 1176\u001b[1;33m         \u001b[0merg\u001b[0m \u001b[1;33m=\u001b[0m \u001b[0mself\u001b[0m\u001b[1;33m.\u001b[0m\u001b[0msol_spl\u001b[0m\u001b[1;33m(\u001b[0m\u001b[0mt\u001b[0m\u001b[1;33m)\u001b[0m\u001b[1;33m\u001b[0m\u001b[0m\n\u001b[0m\u001b[0;32m   1177\u001b[0m         \u001b[1;32mreturn\u001b[0m \u001b[0merg\u001b[0m\u001b[1;33m\u001b[0m\u001b[0m\n\u001b[0;32m   1178\u001b[0m \u001b[1;33m\u001b[0m\u001b[0m\n",
      "\u001b[1;32m/home/nnem614/Documents/anaconda3/envs/py27/lib/python2.7/site-packages/pydelay/_dde23.pyc\u001b[0m in \u001b[0;36msol_spl\u001b[1;34m(self, t)\u001b[0m\n\u001b[0;32m   1147\u001b[0m         \u001b[1;32mfor\u001b[0m \u001b[0mvar\u001b[0m \u001b[1;32min\u001b[0m \u001b[0mself\u001b[0m\u001b[1;33m.\u001b[0m\u001b[0mvars\u001b[0m\u001b[1;33m:\u001b[0m\u001b[1;33m\u001b[0m\u001b[0m\n\u001b[0;32m   1148\u001b[0m             \u001b[1;32mif\u001b[0m \u001b[0mself\u001b[0m\u001b[1;33m.\u001b[0m\u001b[0mtypes\u001b[0m\u001b[1;33m[\u001b[0m\u001b[0mvar\u001b[0m\u001b[1;33m]\u001b[0m \u001b[1;33m==\u001b[0m \u001b[1;34m'Complex'\u001b[0m\u001b[1;33m:\u001b[0m\u001b[1;33m\u001b[0m\u001b[0m\n\u001b[1;32m-> 1149\u001b[1;33m                 \u001b[0merg\u001b[0m\u001b[1;33m[\u001b[0m\u001b[0mvar\u001b[0m\u001b[1;33m]\u001b[0m \u001b[1;33m=\u001b[0m \u001b[0msplev\u001b[0m\u001b[1;33m(\u001b[0m\u001b[0mt\u001b[0m\u001b[1;33m,\u001b[0m \u001b[0mself\u001b[0m\u001b[1;33m.\u001b[0m\u001b[0mspline_tck\u001b[0m\u001b[1;33m[\u001b[0m\u001b[0mvar\u001b[0m\u001b[1;33m+\u001b[0m\u001b[1;34m'real'\u001b[0m\u001b[1;33m]\u001b[0m\u001b[1;33m)\u001b[0m \u001b[1;33m+\u001b[0m \u001b[1;36m1.0j\u001b[0m\u001b[1;33m*\u001b[0m\u001b[0msplev\u001b[0m\u001b[1;33m(\u001b[0m\u001b[0mt\u001b[0m\u001b[1;33m,\u001b[0m \u001b[0mself\u001b[0m\u001b[1;33m.\u001b[0m\u001b[0mspline_tck\u001b[0m\u001b[1;33m[\u001b[0m\u001b[0mvar\u001b[0m\u001b[1;33m+\u001b[0m\u001b[1;34m'imag'\u001b[0m\u001b[1;33m]\u001b[0m\u001b[1;33m)\u001b[0m\u001b[1;33m\u001b[0m\u001b[0m\n\u001b[0m\u001b[0;32m   1150\u001b[0m             \u001b[1;32melse\u001b[0m\u001b[1;33m:\u001b[0m\u001b[1;33m\u001b[0m\u001b[0m\n\u001b[0;32m   1151\u001b[0m                 \u001b[0merg\u001b[0m\u001b[1;33m[\u001b[0m\u001b[0mvar\u001b[0m\u001b[1;33m]\u001b[0m \u001b[1;33m=\u001b[0m \u001b[0msplev\u001b[0m\u001b[1;33m(\u001b[0m\u001b[0mt\u001b[0m\u001b[1;33m,\u001b[0m \u001b[0mself\u001b[0m\u001b[1;33m.\u001b[0m\u001b[0mspline_tck\u001b[0m\u001b[1;33m[\u001b[0m\u001b[0mvar\u001b[0m\u001b[1;33m]\u001b[0m\u001b[1;33m)\u001b[0m\u001b[1;33m\u001b[0m\u001b[0m\n",
      "\u001b[1;32m/home/nnem614/Documents/anaconda3/envs/py27/lib/python2.7/site-packages/scipy/interpolate/fitpack.pyc\u001b[0m in \u001b[0;36msplev\u001b[1;34m(x, tck, der, ext)\u001b[0m\n\u001b[0;32m    599\u001b[0m \u001b[1;33m\u001b[0m\u001b[0m\n\u001b[0;32m    600\u001b[0m         \u001b[1;32mif\u001b[0m \u001b[0mier\u001b[0m \u001b[1;33m==\u001b[0m \u001b[1;36m10\u001b[0m\u001b[1;33m:\u001b[0m\u001b[1;33m\u001b[0m\u001b[0m\n\u001b[1;32m--> 601\u001b[1;33m             \u001b[1;32mraise\u001b[0m \u001b[0mValueError\u001b[0m\u001b[1;33m(\u001b[0m\u001b[1;34m\"Invalid input data\"\u001b[0m\u001b[1;33m)\u001b[0m\u001b[1;33m\u001b[0m\u001b[0m\n\u001b[0m\u001b[0;32m    602\u001b[0m         \u001b[1;32mif\u001b[0m \u001b[0mier\u001b[0m \u001b[1;33m==\u001b[0m \u001b[1;36m1\u001b[0m\u001b[1;33m:\u001b[0m\u001b[1;33m\u001b[0m\u001b[0m\n\u001b[0;32m    603\u001b[0m             \u001b[1;32mraise\u001b[0m \u001b[0mValueError\u001b[0m\u001b[1;33m(\u001b[0m\u001b[1;34m\"Found x value not in the domain\"\u001b[0m\u001b[1;33m)\u001b[0m\u001b[1;33m\u001b[0m\u001b[0m\n",
      "\u001b[1;31mValueError\u001b[0m: Invalid input data"
     ]
    }
   ],
   "source": [
    "Nx  = 10\n",
    "x   = np.zeros(Nx)\n",
    "amp = np.zeros((Nx,3))\n",
    "for ix in range(0,Nx+1):\n",
    "    paramsNDPA['eta'] = ix*0.01\n",
    "    ddeNDPA = dde23(eqns=eqnsNDPA, params=paramsNDPA)\n",
    "    ddeNDPA.set_sim_params(tfinal=500, dtmax=1.0)\n",
    "    histfuncNDPA = { 'al': lambda t: 0.5,\n",
    "             'be': lambda t: 0.5,\n",
    "             'p' : lambda t: 0.5\n",
    "             }\n",
    "    ddeNDPA.hist_from_funcs(histfuncNDPA, 51)\n",
    "    ddeNDPA.run()\n",
    "    sol = ddeNDPA.sample(500,500,1)\n",
    "    x[ix] = paramsNDPA['eta']\n",
    "    amp[ix,1] = sol['al']\n",
    "    amp[ix,2] = sol['be']\n",
    "    amp[ix,1] = sol['p']\n",
    "\n",
    "plt.figure(1)\n",
    "plt.clf()\n",
    "plt.plot(x,amp,linewidth=2.0)\n",
    "plt.xlabel('$\\eta$',fontsize=15.)\n",
    "plt.ylabel('Amplitudes',fontsize=15.)\n",
    "plt.ylim(-1.,3)\n",
    "plt.grid(True)\n",
    "plt.title('Bifurcation of NDPA amplitudes',fontsize=17.)\n",
    "plt.legend(['$\\\\alpha$','$\\\\beta$','$p$'],loc='best')\n",
    "plt.show()"
   ]
  },
  {
   "cell_type": "code",
   "execution_count": 74,
   "metadata": {
    "collapsed": false
   },
   "outputs": [
    {
     "data": {
      "text/plain": [
       "array([ 0.,  0.,  0.,  0.])"
      ]
     },
     "execution_count": 74,
     "metadata": {},
     "output_type": "execute_result"
    }
   ],
   "source": [
    "valami = np.zeros(4)\n",
    "valami"
   ]
  },
  {
   "cell_type": "markdown",
   "metadata": {},
   "source": [
    "## 2. Optomechanics\n",
    "#### Defining the equations and parameters and add it to one dde structure:"
   ]
  },
  {
   "cell_type": "code",
   "execution_count": 43,
   "metadata": {
    "collapsed": false
   },
   "outputs": [
    {
     "data": {
      "image/png": "[encoded data removed]",
      "text/plain": [
       "<matplotlib.figure.Figure at 0x7efdaba25490>"
      ]
     },
     "metadata": {},
     "output_type": "display_data"
    }
   ],
   "source": [
    "eqnsOPME = {\n",
    "    'al:c' : '-(1.+ii*da)*al + eta*exp(ii*chi)*conj(be) + ga*be*exp(ii*chi) - ka*exp(ii*pha)*al(t-taua) + om',\n",
    "    'be:c' : '-(1./kab+ii*db)*be + kab * (eta*exp(ii*chi)*conj(al) - ga*exp(-ii*chi)*al)'\n",
    "    }\n",
    "    \n",
    "paramsOPME = {\n",
    "            'da'   : 0.,\n",
    "            'db'   : 1.0,\n",
    "            'ka'   : 1.0,\n",
    "            'pha'  : 0.,\n",
    "            'kab'  : 0.,\n",
    "            'taua' : 0.,\n",
    "            'om'   : 10.0,\n",
    "            'eta'  : 1.,\n",
    "            'theta': 0.,\n",
    "            'ga'   : 100.,\n",
    "            'chi'  : 0.\n",
    "                        }\n",
    "\n",
    "ddeOPME = dde23(eqns=eqnsOPME, params=paramsOPME)\n",
    "ddeOPME.set_sim_params(tfinal=10000, dtmax=1.0)\n",
    "\n",
    "histfuncOPME = { 'al': lambda t: 1.,\n",
    "                 'be': lambda t: 1.,\n",
    "                 }\n",
    "ddeOPME.hist_from_funcs(histfuncOPME, 51)\n",
    "\n",
    "ddeOPME.run()\n",
    "sol = ddeOPME.sample(0,10,0.1)\n",
    "tOPME  = sol['t']\n",
    "alOPME = sol['al']*np.conjugate(sol['al'])\n",
    "beOPME = sol['be']*np.conjugate(sol['be'])\n",
    "   \n",
    "plt.figure(1)\n",
    "plt.clf()\n",
    "plt.plot(tOPME,np.real(alOPME),linewidth=2.0)\n",
    "plt.plot(tOPME,np.real(beOPME),linewidth=2.0)\n",
    "plt.xlabel('$t$',fontsize=15.)\n",
    "plt.ylabel('Amplitudes',fontsize=15.)\n",
    "#plt.ylim(-0.02,30)\n",
    "plt.grid(True)\n",
    "plt.legend(['$|\\\\alpha|^2$','$|\\\\beta|^2$'],loc='best')\n",
    "plt.show()"
   ]
  },
  {
   "cell_type": "code",
   "execution_count": null,
   "metadata": {
    "collapsed": true
   },
   "outputs": [],
   "source": []
  }
 ],
 "metadata": {
  "kernelspec": {
   "display_name": "Python 2",
   "language": "python",
   "name": "python2"
  },
  "language_info": {
   "codemirror_mode": {
    "name": "ipython",
    "version": 2
   },
   "file_extension": ".py",
   "mimetype": "text/x-python",
   "name": "python",
   "nbconvert_exporter": "python",
   "pygments_lexer": "ipython2",
   "version": "2.7.11"
  }
 },
 "nbformat": 4,
 "nbformat_minor": 0
}
