{
 "cells": [
  {
   "cell_type": "code",
   "execution_count": 1,
   "metadata": {
    "collapsed": false
   },
   "outputs": [
    {
     "name": "stdout",
     "output_type": "stream",
     "text": [
      "1.0000000000000002\n",
      "1.0346447361664605e-12\n",
      "0.8413447460854371\n",
      "4.683631640725952e-09\n"
     ]
    }
   ],
   "source": [
    "%matplotlib inline\n",
    "import numpy as np\n",
    "import scipy.integrate as integ\n",
    "import matplotlib.pyplot as plt\n",
    "\n",
    "def f(x,y,a,b):\n",
    "    return np.exp(-(((x-a)/a)**2+((y-b)/b)**2)/2)/(a*b*2*np.pi)\n",
    "#y=np.linspace(-100,100,10000)\n",
    "#plt.plot(y,integ.quad(f, -np.inf, np.inf,args=(3,4,y)))\n",
    "#x,y=np.meshgrid(np.linspace(-10,10,100),np.linspace(-10,10,100))\n",
    "#plt.contourf(x,y,f(x,y,10,4))\n",
    "#plt.show()\n",
    "#res,err=integ.quad(f, -np.inf, np.inf,args=(0,3,4))\n",
    "#print(res*np.sqrt(2*np.pi)*4*np.exp(1/2))\n",
    "#print(err)\n",
    "def f2(x,a):\n",
    "    return np.exp(-(x/a)**2/2)/(a*np.sqrt(2*np.pi) )\n",
    "res,err=integ.quad(f2, -100, 100,args=(1,))\n",
    "#plt.figure(2)\n",
    "#plt.plot(np.linspace(-20,20,100),f2(np.linspace(-20,20,100),1))\n",
    "#plt.show()\n",
    "print(res)\n",
    "print(err)\n",
    "def fint(a,b):\n",
    "    return integ.dblquad(f, -np.inf, np.inf, lambda x: 0, lambda x: np.inf,args=(a,b))\n",
    "    #return integ.dblquad(f, -np.inf, np.inf, lambda x: 0, lambda x: np.inf,args=(a,b))\n",
    "    #return integ.quad(lambda a,b,y: integ.quad(f, -np.inf, np.inf,args=(a,b,y)),-np.inf,np.inf,args=(a,b))\n",
    "    #return integ.quad(f, -np.inf, np.inf,args=(a,b,0))\n",
    "res,err = fint(3,4)\n",
    "print(res)\n",
    "print(err)\n",
    "#def f(a,b,x):\n",
    "#    return np.exp(-(((x-a)/b)**2)/2)/(b*np.sqrt(2*np.pi))\n",
    "#def fint(a,b):\n",
    "#    return integ.quad(f, -np.inf, np.inf,args=(a,b))\n",
    "#res,err = fint(3,4)\n",
    "#res"
   ]
  },
  {
   "cell_type": "code",
   "execution_count": 6,
   "metadata": {
    "collapsed": false
   },
   "outputs": [
    {
     "data": {
      "text/plain": [
       "1.00000000000000"
      ]
     },
     "execution_count": 6,
     "metadata": {},
     "output_type": "execute_result"
    }
   ],
   "source": [
    "import sympy as sym\n",
    "\n",
    "a,b,x,y = sym.symbols(\" a b x y\")\n",
    "def fsym(a,b,x,y):\n",
    "    return sym.exp(-(((x-a)/a)**2+((y-b)/b)**2)/2)/(a*b*2*sym.pi)\n",
    "sym.N(sym.integrate(fsym(3,4,x,0),(x,-sym.oo, sym.oo))*sym.sqrt(sym.pi*2)*4*sym.exp(1/2))"
   ]
  },
  {
   "cell_type": "code",
   "execution_count": null,
   "metadata": {
    "collapsed": false
   },
   "outputs": [
    {
     "name": "stdout",
     "output_type": "stream",
     "text": [
      "characteristic frequency:  9.68245836552\n"
     ]
    },
    {
     "name": "stderr",
     "output_type": "stream",
     "text": [
      "/home/nnem614/Documents/anaconda3/envs/py35/lib/python3.5/site-packages/matplotlib/contour.py:1538: UserWarning: Log scale: values of z <= 0 have been masked\n",
      "  warnings.warn('Log scale: values of z <= 0 have been masked')\n"
     ]
    },
    {
     "data": {
      "image/png": "[encoded data removed]",
      "text/plain": [
       "<matplotlib.figure.Figure at 0x7fbd7d923c50>"
      ]
     },
     "metadata": {},
     "output_type": "display_data"
    },
    {
     "name": "stdout",
     "output_type": "stream",
     "text": [
      "The frequency is:  0.968245836552\n",
      "-inf -10.1824583655 -inf -10.1824583655\n"
     ]
    },
    {
     "name": "stderr",
     "output_type": "stream",
     "text": [
      "/home/nnem614/Documents/anaconda3/envs/py35/lib/python3.5/site-packages/scipy/integrate/quadpack.py:357: IntegrationWarning: The maximum number of subdivisions (50) has been achieved.\n",
      "  If increasing the limit yields no improvement it is advised to analyze \n",
      "  the integrand in order to determine the difficulties.  If the position of a \n",
      "  local difficulty can be determined (singularity, discontinuity) one will \n",
      "  probably gain from splitting up the interval and calling the integrator \n",
      "  on the subranges.  Perhaps a special-purpose integrator should be used.\n",
      "  warnings.warn(msg, IntegrationWarning)\n",
      "/home/nnem614/Documents/anaconda3/envs/py35/lib/python3.5/site-packages/scipy/integrate/quadpack.py:357: IntegrationWarning: The integral is probably divergent, or slowly convergent.\n",
      "  warnings.warn(msg, IntegrationWarning)\n"
     ]
    },
    {
     "name": "stdout",
     "output_type": "stream",
     "text": [
      "-inf -10.1824583655 -9.18245836552 9.18245836552\n",
      "-inf -10.1824583655 10.1824583655 inf\n"
     ]
    }
   ],
   "source": [
    "import numpy as np\n",
    "%matplotlib inline\n",
    "import matplotlib as mpl\n",
    "import matplotlib.pyplot as plt\n",
    "import scipy.integrate as integ\n",
    "from IPython.core.debugger import Tracer\n",
    "from matplotlib.colors import LogNorm\n",
    "import numdifftools as nd\n",
    "#Tracer()() #this one triggers the debugger\n",
    "import time\n",
    "\n",
    "mpl.rc('font',family='FreeSerif')\n",
    "mpl.rc('xtick',labelsize=20)\n",
    "mpl.rc('ytick',labelsize=20)\n",
    "\n",
    "def sens(x,delta,kapa,kapb,ra,rb,kta,ktb,phib,La,Lb):\n",
    "# Function to determine the phase sensitivity of the setup\n",
    "    ## Parameters from inputs ##\n",
    "    kapa  = kapa*2*np.pi\n",
    "    kapb  = kapb*2*np.pi\n",
    "    La    = La/100.\n",
    "    Lb    = Lb/100.\n",
    "    phib  = phib*np.pi\n",
    "    taua  = kta/kapa\n",
    "    taub  = ktb/kapa\n",
    "    Del   = delta*kapa\n",
    "    eps   = x*kapa\n",
    "    kap1a = kapa * ra                         #\\kappa_{1,a} (coupling on the right hand side in mode a)\n",
    "    kap1b = kapb * rb                         #\\kappa_{1,b} (coupling on the right hand side in mode b)\n",
    "    kap2a = kapa * (1-ra)                     #\\kappa_{2,a} (coupling on the left hand side in mode a)\n",
    "    kap2b = kapb * (1-rb)                     #\\kappa_{2,b} (coupling on the left hand side in mode b)\n",
    "\n",
    "    ka = 2*np.sqrt(ra*(1-ra)*(1-La))*kapa    #k_a (feedback strength in mode a)\n",
    "    kb = 2*np.sqrt(rb*(1-rb)*(1-Lb))*kapb    #k_b (feedback strength in mode b)\n",
    "    \n",
    "    specfreq = np.sqrt(ka**2-(kapa-eps)**2)/np.pi/2.\n",
    "    print(\"characteristic frequency: \",specfreq)\n",
    "    ### EXPRESSIONS ###\n",
    "    def Ei(nu,t,phi):\n",
    "        return np.exp(1j*(nu*t+phi))\n",
    "    def d(nu,t,phi,kap,Del,k): #dpa if Del&phi, dma if -Del&-phi, dmb if Del&-phi, dpb if -Del&phi\n",
    "        return kap - 1j*(nu+Del) + k*Ei(nu,t,-phi)\n",
    "    def Lf(nu,Del,tp,phip,kapp,kp,tm,phim,kapm,km,eps):#Lab if Del&p is a\n",
    "        return abs(eps)**2 - d(nu,tp,phip,kapp,Del,kp)*d(nu,tm,-phim,kapm,Del,km)\n",
    "    def K(nu,t,phi,kap,k,kap1,L):\n",
    "        return kap + k*np.cos(phi+nu*t) - kap1*L    \n",
    "    def U1(nu,tL,phiL,kapL,kL,kap1L,L,t,phi,kap,k): #in case of ab L is for a\n",
    "        return 4*K(-nu,tL,phiL,kapL,kL,kap1L,L)*K(nu,t,phi,kap,k,0,0)\n",
    "    def albe(nu,t,phi,kap1,kap2,L):\n",
    "        return np.sqrt(2*kap1) + np.sqrt(2*kap2*(1-L))*Ei(nu,t,phi)\n",
    "    def D(nu,Del,tp,phip,kapp,kp,tm,phim,kapm,km,kap1,kap2,L,eps):\n",
    "        return np.sqrt(1-L)*Lf(nu,-Del,tp,phip,kapp,kp,tm,phim,kapm,km,eps)*Ei(nu,tm,phim) +\\\n",
    "        d(nu,tp,phip,kapp,-Del,kp)*albe(nu,tm,phim,kap1,kap2,L)*albe(nu,tm,phim,kap2,kap1,L)\n",
    "    def E(nu,Del,tp,phip,kapp,kp,tm,phim,kapm,km,kap1,kap2,L,eps):\n",
    "        return np.sqrt(L)*np.sqrt(2*kap2)*d(nu,tp,phip,kapp,-Del,kp)*albe(nu,tm,phim,kap2,kap1,L) +\\\n",
    "        Lf(nu,Del,tp,phip,kapp,kp,tm,phim,kapm,km,eps)\n",
    "    def R(nu,Del,tp,phip,kapp,kp,tm,phim,kapm,km,kap1,kap2,L,eps): #for Ra p means b\n",
    "        return np.conj(albe(nu,tm,phim,kap1,kap2,L))*D(nu,Del,tp,phip,kapp,kp,tm,phim,kapm,km,kap1,kap2,L,eps) +\\\n",
    "    np.sqrt(2*kap2*L)*E(nu,Del,tp,phip,kapp,kp,tm,phim,kapm,km,kap1,kap2,L,eps)\n",
    "    \n",
    "    def U(nu,nup,tp,phip,kapp,Del,kp,Lp,kap1p,kap2p,tm,phim,kapm,km,Lm,kap1m,kap2m,eps): #in case of Uab a is p\n",
    "        return 4*K(-nu,tp,phip,kapp,kp,kap1p,Lp)*K(nu,tm,phim,kapm,km,kap1m,0)*\\\n",
    "    (abs(D(nup,Del,tm,phim,kapm,km,tp,phip,kapp,kp,kap1p,kap2p,Lp,eps))**2+\\\n",
    "     abs(E(nup,Del,tm,phim,kapm,km,tp,phip,kapp,kp,kap1p,kap2p,Lp,eps))**2) +\\\n",
    "    np.conj(albe(-nu,tp,phip,kap2p,kap1p,Lp))*np.conj(R(nu,-Del,tp,phip,kapp,kp,tm,phim,kapm,km,kap1m,kap2m,Lm,eps))*\\\n",
    "    albe(nup,tm,phim,kap2m,kap1m,Lm)*R(nup,Del,tm,phim,kapm,km,tp,phip,kapp,kp,kap1p,kap2p,Lp,eps)\n",
    "    \n",
    "    #Uncertainty of the particle number \n",
    "    def uncert(nu,nup,phi,eps):\n",
    "        return np.real(np.abs(eps)**2*(U(nu,nup,taua,phib+phi,kapa,Del,ka,La,kap1a,kap2a,taub,phib,kapb,kb,Lb,kap1b,kap2b,eps)+\\\n",
    "                               U(-nu,-nup,taub,phib,kapb,Del,kb,Lb,kap1b,kap2b,taua,phib+phi,kapa,ka,La,kap1a,kap2a,eps))/\\\n",
    "                            (np.abs(Lf(nu,Del,taua,phib+phi,kapa,ka,taub,phib,kapb,kb,eps))**2*\\\n",
    "                            np.abs(Lf(nup,-Del,taub,phib,kapb,kb,taua,phib+phi,kapa,ka,eps))**2))\n",
    "    def unc_int(phi,eps):\n",
    "        lims = np.array([[-np.inf,-(specfreq-.5)*2*np.pi,(specfreq+.5)*2*np.pi],\\\n",
    "                         [-(specfreq+.5)*2*np.pi,(specfreq-.5)*2*np.pi,np.inf]])\n",
    "        integral = 0\n",
    "        for i1 in range(3):\n",
    "            for i2 in range(3):\n",
    "                print(lims[0,i1]/2/np.pi,lims[1,i1]/2/np.pi,lims[0,i2]/2/np.pi,lims[1,i2]/2/np.pi)\n",
    "                res,err = integ.dblquad(uncert,lims[0,i1],lims[1,i1],\\\n",
    "                                  lambda nup: lims[0,i2],lambda nup: lims[1,i2], args=(phi,eps),epsabs=100)\n",
    "                integral += res\n",
    "        return integral\n",
    "    ##IMPORTANT! This double integral only works with python 3.\n",
    "    \n",
    "    #Expectation value of the outgoing photon number\n",
    "    def I_exp(nu,phi,eps):\n",
    "        return np.real(eps**2*\\\n",
    "    (U1(nu,taua,phib+phi,kapa,ka,kap1a,La,taub,phib,kapb,kb)/(np.abs(Lf(nu,Del,taua,phib+phi,kapa,ka,taub,phib,kapb,kb,eps))**2) + \n",
    "     U1(-nu,taub,phib,kapb,kb,kap1b,Lb,taua,phib+phi,kapa,ka)/(np.abs(Lf(-nu,-Del,taub,phib,kapb,kb,taua,phib+phi,kapa,ka,eps))**2)))\n",
    "    def I_int(phi,eps):\n",
    "        res,err = integ.quad(I_exp,-np.inf,np.inf,args=(phi,eps))\n",
    "        #print(res)\n",
    "        return res\n",
    "    \n",
    "    nus  = np.linspace(-20,20,501)\n",
    "    nups = np.linspace(-20,20,501)\n",
    "    phis = np.linspace(-1,1,101)\n",
    "    nu,phi = np.meshgrid(nus,phis)\n",
    "    nu,nup = np.meshgrid(nus,nups)\n",
    "    plt.contourf(nu,nup,uncert(2*np.pi*nu,2*np.pi*nup,0,0.75*kapa),400,cmap=plt.cm.jet,norm = LogNorm())\n",
    "    plt.colorbar()\n",
    "    plt.show()\n",
    "\n",
    "    print(\"The frequency is: \",np.sqrt((ka/kapa)**2-(1-x)**2))\n",
    "    uncertain = unc_int(0.0,.75*kapa)\n",
    "    print(\"The integral is: \", uncertain)\n",
    "    \n",
    "#sens(x,delta,kapa,kapb,ra,rb,kta,ktb,phib,La,Lb)\n",
    "start = time.time()\n",
    "sens(.75,0,10,10,0.5,0.5,1.8833,1.8833,0,0,0)\n",
    "end = time.time()\n",
    "print(\"Time elapsed: \", end-start)"
   ]
  },
  {
   "cell_type": "code",
   "execution_count": 38,
   "metadata": {
    "collapsed": false
   },
   "outputs": [
    {
     "name": "stdout",
     "output_type": "stream",
     "text": [
      "0\n",
      "2\n",
      "6\n",
      "12\n"
     ]
    },
    {
     "data": {
      "text/plain": [
       "34.557519189487721"
      ]
     },
     "execution_count": 38,
     "metadata": {},
     "output_type": "execute_result"
    }
   ],
   "source": [
    "n = 0\n",
    "for i in range(4):\n",
    "    n += 2*i\n",
    "    print(n)\n",
    "specfreq = 5\n",
    "i2 = 2\n",
    "lims = np.array([[-np.inf,-(specfreq-.5)*2*np.pi,(specfreq+.5)*2*np.pi],\\\n",
    "                 [-(specfreq+.5)*2*np.pi,(specfreq-.5)*2*np.pi,np.inf]])    \n",
    "lims[0,i2]"
   ]
  },
  {
   "cell_type": "code",
   "execution_count": null,
   "metadata": {
    "collapsed": true
   },
   "outputs": [],
   "source": []
  }
 ],
 "metadata": {
  "anaconda-cloud": {},
  "kernelspec": {
   "display_name": "Python [conda env:py35]",
   "language": "python",
   "name": "conda-env-py35-py"
  },
  "language_info": {
   "codemirror_mode": {
    "name": "ipython",
    "version": 3
   },
   "file_extension": ".py",
   "mimetype": "text/x-python",
   "name": "python",
   "nbconvert_exporter": "python",
   "pygments_lexer": "ipython3",
   "version": "3.5.1"
  }
 },
 "nbformat": 4,
 "nbformat_minor": 0
}
