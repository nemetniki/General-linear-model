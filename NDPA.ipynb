{
 "cells": [
  {
   "cell_type": "markdown",
   "metadata": {},
   "source": [
    "# EPR-type entanglement of NDPA\n",
    "\n",
    "$$\\def \\lk{\\left(}\n",
    "\\def \\rk{\\right)}\n",
    "\\def \\frop#1{\\hat{\\tilde{#1}}}\n",
    "\\def\\thetap{\\theta^\\prime}\n",
    "\\def\\ul#1{\\underline{#1}}\n",
    "\\def\\frvecop#1{\\hat{\\tilde{\\underline{#1}}}}\n",
    "\\def\\dul#1{\\underline{\\underline{#1}}}\n",
    "\\def\\frmat#1{\\tilde{\\dul{#1}}}\n",
    "\\def\\lk{\\left(}\n",
    "\\def\\rk{\\right)}\n",
    "\\def\\lka{\\left\\{}\n",
    "\\def\\rka{\\right\\}}\n",
    "\\def\\lsz{\\left[}\n",
    "\\def\\rsz{\\right]}$$\n",
    "\n",
    "## Intracavity field\n",
    "$$\\begin{align}\n",
    "\\frop{a} &= - \\lk\\nu\\dul{\\mathbb{1}} - \\dul{\\Delta} - i\\sqrt{2\\pi}\\frmat{f}\\rk^{-1}\\frop{B} = \n",
    "\\frmat{N}\\ \\frop{B} \\\\\n",
    "\\dul{\\Delta} &= \\left(\\begin{matrix} \n",
    "(-i\\kappa_a+\\Delta_a) & 0 & ig & i\\epsilon \\\\\n",
    "0 & (-i\\kappa_a-\\Delta_a) & i\\epsilon^* & ig^* \\\\\n",
    "-ig^* & i\\epsilon & (-i\\kappa_b+\\Delta_b) & 0 \\\\\n",
    "i\\epsilon^* & -ig & 0 & (-i\\kappa_b-\\Delta_b)\\end{matrix}\\right)\\\\\n",
    "\\sqrt{2\\pi}\\frmat{f} &= diag \\left(k_ae^{i(\\nu\\tau_a+\\phi_a)},k_ae^{i(\\nu\\tau_a-\\phi_a)},k_be^{i(\\nu\\tau_b+\\phi_b)},k_be^{i(\\nu\\tau_b-\\phi_b)}\\right)\n",
    "\\end{align}$$\n",
    "\n",
    "### Input field\n",
    "$$\\begin{align}\n",
    "\\frvecop{B} &= -i\\lsz\\dul{\\kappa}_1^{-1}\\lk\\dul{\\kappa}_1^2+\\sqrt{2\\pi}\\, \\frmat{f}\\rk\\frvecop{a}_{1,in} + \\dul{\\kappa}_2\\dul{L}_1\\frvecop{\\xi} \\rsz = \\frmat{A}\\,\\frvecop{a}_{1,in} + \\dul{S}\\,\\frvecop{\\xi}\\\\\n",
    "\\dul{\\kappa}_n &= diag(\\sqrt{2\\kappa_{n,a}},\\sqrt{2\\kappa_{n,a}},\\sqrt{2\\kappa_{n,b}},\\sqrt{2\\kappa_{n,b}})\\\\\n",
    "\\dul{L}_1 &= diag(\\sqrt{L_a},\\sqrt{L_a},\\sqrt{L_b},\\sqrt{L_b})\\\\\n",
    "\\dul{L}_2 &= diag(\\sqrt{1-L_a},\\sqrt{1-L_a},\\sqrt{1-L_b},\\sqrt{1-L_b})\\\\\n",
    "\\end{align}$$\n",
    "where $\\frvecop{a}_{1,in}$ and $\\frvecop{\\xi}$ represent vacuum fields.\n",
    "\n",
    "Therefore, the intracavity field has the following form:\n",
    "$$\\frvecop{a} = \\frmat{N}\\lk\\frmat{A}\\,\\frvecop{a}_{1,in}+\\dul{S}\\,\\frvecop{\\xi}\\rk$$"
   ]
  },
  {
   "cell_type": "code",
   "execution_count": 122,
   "metadata": {
    "collapsed": true
   },
   "outputs": [],
   "source": [
    "from sympy import *\n",
    "import numpy as np\n",
    "from IPython.display import display, Math, Latex\n",
    "init_printing(use_unicode=True)"
   ]
  },
  {
   "cell_type": "code",
   "execution_count": 123,
   "metadata": {
    "collapsed": false
   },
   "outputs": [],
   "source": [
    "from sympy.assumptions.assume import global_assumptions\n",
    "from sympy.solvers.solvers import check_assumptions\n",
    "\n",
    "dma,dmb,dpa,dpb,eps,Lab,Lba = \\\n",
    "symbols('d_-a d_-b d_+a d_+b \\epsilon \\Lambda_ab \\Lambda_ba')\n",
    "\n",
    "ka,kb,ta,tb,phia,phib,La,Lb,kap1a,kap2a,kap1b,kap2b =\\\n",
    "symbols('k_a k_b \\\\tau_a \\\\tau_b \\phi_a \\phi_b L_a,L_b,\\kappa_1a \\kappa_2a \\kappa_1b \\kappa_2b')\n",
    "\n",
    "xia,xida,xib,xidb,a1in,ad1in,b1in,bd1in,nu = \\\n",
    "symbols('\\\\xi_a \\\\xi^+_a \\\\xi_b \\\\xi^+_b a_1in a^+_1in b_1in b^+_1in \\\\nu')\n",
    "\n",
    "kap1 = diag(sqrt(2*kap1a),sqrt(2*kap1a),sqrt(2*kap1b),sqrt(2*kap1b))\n",
    "kap2 = diag(sqrt(2*kap2a),sqrt(2*kap2a),sqrt(2*kap2b),sqrt(2*kap2b))\n",
    "L1   = diag(sqrt(La),sqrt(La),sqrt(Lb),sqrt(Lb))\n",
    "L2   = diag(sqrt(1-La),sqrt(1-La),sqrt(1-Lb),sqrt(1-Lb))\n",
    "ftil = diag(ka*exp(I*(nu*ta+phia)),ka*exp(I*(nu*ta-phia)),kb*exp(I*(nu*tb+phib)),kb*exp(I*(nu*tb-phib)))\n",
    "ain  = Matrix([a1in,ad1in,b1in,bd1in])\n",
    "xi   = Matrix([xia,xida,xib,xidb])\n",
    "\n",
    "A    = -I*(kap1+kap1.inv()*ftil)\n",
    "S    = -I*kap2*L1\n",
    "\n",
    "N    = -I*Matrix([[dmb/Lab,0,0,eps/Lab],[0,dpb/Lba,conjugate(eps)/Lba,0],\\\n",
    "              [0,eps/Lba,dma/Lba,0],[conjugate(eps)/Lab,0,0,dpa/Lab]])\n"
   ]
  },
  {
   "cell_type": "markdown",
   "metadata": {},
   "source": [
    "The intracavity field is:"
   ]
  },
  {
   "cell_type": "code",
   "execution_count": 124,
   "metadata": {
    "collapsed": false
   },
   "outputs": [
    {
     "data": {
      "image/png": "[encoded data removed]",
      "text/latex": [
       "$$\\left[\\begin{matrix}- \\frac{i \\epsilon}{\\Lambda_{ab}} \\left(- \\sqrt{2} i \\sqrt{L_{b}} \\sqrt{\\kappa_{2b}} \\xi^{+}_{b} - i b^{+}_{1in} \\left(\\sqrt{2} \\sqrt{\\kappa_{1b}} + \\frac{\\sqrt{2} k_{b}}{2 \\sqrt{\\kappa_{1b}}} e^{i \\left(\\nu \\tau_{b} - \\phi_{b}\\right)}\\right)\\right) - \\frac{i d_{-b}}{\\Lambda_{ab}} \\left(- \\sqrt{2} i \\sqrt{L_{a}} \\sqrt{\\kappa_{2a}} \\xi_{a} - i a_{1in} \\left(\\sqrt{2} \\sqrt{\\kappa_{1a}} + \\frac{\\sqrt{2} k_{a}}{2 \\sqrt{\\kappa_{1a}}} e^{i \\left(\\nu \\tau_{a} + \\phi_{a}\\right)}\\right)\\right)\\\\- \\frac{i d_{+b}}{\\Lambda_{ba}} \\left(- \\sqrt{2} i \\sqrt{L_{a}} \\sqrt{\\kappa_{2a}} \\xi^{+}_{a} - i a^{+}_{1in} \\left(\\sqrt{2} \\sqrt{\\kappa_{1a}} + \\frac{\\sqrt{2} k_{a}}{2 \\sqrt{\\kappa_{1a}}} e^{i \\left(\\nu \\tau_{a} - \\phi_{a}\\right)}\\right)\\right) - \\frac{i \\overline{\\epsilon}}{\\Lambda_{ba}} \\left(- \\sqrt{2} i \\sqrt{L_{b}} \\sqrt{\\kappa_{2b}} \\xi_{b} - i b_{1in} \\left(\\sqrt{2} \\sqrt{\\kappa_{1b}} + \\frac{\\sqrt{2} k_{b}}{2 \\sqrt{\\kappa_{1b}}} e^{i \\left(\\nu \\tau_{b} + \\phi_{b}\\right)}\\right)\\right)\\\\- \\frac{i \\epsilon}{\\Lambda_{ba}} \\left(- \\sqrt{2} i \\sqrt{L_{a}} \\sqrt{\\kappa_{2a}} \\xi^{+}_{a} - i a^{+}_{1in} \\left(\\sqrt{2} \\sqrt{\\kappa_{1a}} + \\frac{\\sqrt{2} k_{a}}{2 \\sqrt{\\kappa_{1a}}} e^{i \\left(\\nu \\tau_{a} - \\phi_{a}\\right)}\\right)\\right) - \\frac{i d_{-a}}{\\Lambda_{ba}} \\left(- \\sqrt{2} i \\sqrt{L_{b}} \\sqrt{\\kappa_{2b}} \\xi_{b} - i b_{1in} \\left(\\sqrt{2} \\sqrt{\\kappa_{1b}} + \\frac{\\sqrt{2} k_{b}}{2 \\sqrt{\\kappa_{1b}}} e^{i \\left(\\nu \\tau_{b} + \\phi_{b}\\right)}\\right)\\right)\\\\- \\frac{i d_{+a}}{\\Lambda_{ab}} \\left(- \\sqrt{2} i \\sqrt{L_{b}} \\sqrt{\\kappa_{2b}} \\xi^{+}_{b} - i b^{+}_{1in} \\left(\\sqrt{2} \\sqrt{\\kappa_{1b}} + \\frac{\\sqrt{2} k_{b}}{2 \\sqrt{\\kappa_{1b}}} e^{i \\left(\\nu \\tau_{b} - \\phi_{b}\\right)}\\right)\\right) - \\frac{i \\overline{\\epsilon}}{\\Lambda_{ab}} \\left(- \\sqrt{2} i \\sqrt{L_{a}} \\sqrt{\\kappa_{2a}} \\xi_{a} - i a_{1in} \\left(\\sqrt{2} \\sqrt{\\kappa_{1a}} + \\frac{\\sqrt{2} k_{a}}{2 \\sqrt{\\kappa_{1a}}} e^{i \\left(\\nu \\tau_{a} + \\phi_{a}\\right)}\\right)\\right)\\end{matrix}\\right]$$"
      ],
      "text/plain": [
       "⎡             ⎛                                                      ⎛        \n",
       "⎢             ⎜    ___     _____   ___________                       ⎜  ___   \n",
       "⎢  ⅈ⋅\\epsilon⋅⎜- ╲╱ 2 ⋅ⅈ⋅╲╱ L_b ⋅╲╱ \\kappa_2b ⋅\\xi_b__+ - ⅈ⋅b_1in__+⋅⎜╲╱ 2 ⋅╲╱\n",
       "⎢             ⎜                                                      ⎜        \n",
       "⎢             ⎝                                                      ⎝        \n",
       "⎢- ───────────────────────────────────────────────────────────────────────────\n",
       "⎢                                                            \\Lambda_ab       \n",
       "⎢                                                                             \n",
       "⎢          ⎛                                                 ⎛                \n",
       "⎢          ⎜    ___     ____   __________                    ⎜  ___   ________\n",
       "⎢   ⅈ⋅d_+b⋅⎜- ╲╱ 2 ⋅ⅈ⋅╲╱ Lₐ ⋅╲╱ \\kappa₂ₐ ⋅\\xi⁺ₐ - ⅈ⋅a_1in__+⋅⎜╲╱ 2 ⋅╲╱ \\kappa₁\n",
       "⎢          ⎜                                                 ⎜                \n",
       "⎢          ⎝                                                 ⎝                \n",
       "⎢ - ──────────────────────────────────────────────────────────────────────────\n",
       "⎢                                                      \\Lambda_ba             \n",
       "⎢                                                                             \n",
       "⎢              ⎛                                                 ⎛            \n",
       "⎢              ⎜    ___     ____   __________                    ⎜  ___   ____\n",
       "⎢   ⅈ⋅\\epsilon⋅⎜- ╲╱ 2 ⋅ⅈ⋅╲╱ Lₐ ⋅╲╱ \\kappa₂ₐ ⋅\\xi⁺ₐ - ⅈ⋅a_1in__+⋅⎜╲╱ 2 ⋅╲╱ \\ka\n",
       "⎢              ⎜                                                 ⎜            \n",
       "⎢              ⎝                                                 ⎝            \n",
       "⎢ - ──────────────────────────────────────────────────────────────────────────\n",
       "⎢                                                        \\Lambda_ba           \n",
       "⎢                                                                             \n",
       "⎢        ⎛                                                      ⎛             \n",
       "⎢        ⎜    ___     _____   ___________                       ⎜  ___   _____\n",
       "⎢  ⅈ⋅d₊ₐ⋅⎜- ╲╱ 2 ⋅ⅈ⋅╲╱ L_b ⋅╲╱ \\kappa_2b ⋅\\xi_b__+ - ⅈ⋅b_1in__+⋅⎜╲╱ 2 ⋅╲╱ \\kap\n",
       "⎢        ⎜                                                      ⎜             \n",
       "⎢        ⎝                                                      ⎝             \n",
       "⎢- ───────────────────────────────────────────────────────────────────────────\n",
       "⎣                                                         \\Lambda_ab          \n",
       "\n",
       "                ___      ⅈ⋅(\\nu⋅\\tau_b - \\phi_b)⎞⎞          ⎛                 \n",
       "___________   ╲╱ 2 ⋅k_b⋅ℯ                       ⎟⎟          ⎜    ___     ____ \n",
       " \\kappa_1b  + ──────────────────────────────────⎟⎟   ⅈ⋅d_-b⋅⎜- ╲╱ 2 ⋅ⅈ⋅╲╱ Lₐ ⋅\n",
       "                           ___________          ⎟⎟          ⎜                 \n",
       "                       2⋅╲╱ \\kappa_1b           ⎠⎠          ⎝                 \n",
       "────────────────────────────────────────────────── - ─────────────────────────\n",
       "                                                                              \n",
       "                                                                              \n",
       "       ___     ⅈ⋅(\\nu⋅\\tauₐ - \\phiₐ)⎞⎞     ⎛                                  \n",
       "__   ╲╱ 2 ⋅kₐ⋅ℯ                     ⎟⎟     ⎜    ___     _____   ___________   \n",
       "ₐ  + ───────────────────────────────⎟⎟   ⅈ⋅⎜- ╲╱ 2 ⋅ⅈ⋅╲╱ L_b ⋅╲╱ \\kappa_2b ⋅\\x\n",
       "                  __________        ⎟⎟     ⎜                                  \n",
       "              2⋅╲╱ \\kappa₁ₐ         ⎠⎠     ⎝                                  \n",
       "────────────────────────────────────── - ─────────────────────────────────────\n",
       "                                                                              \n",
       "                                                                              \n",
       "           ___     ⅈ⋅(\\nu⋅\\tauₐ - \\phiₐ)⎞⎞         ⎛                          \n",
       "______   ╲╱ 2 ⋅kₐ⋅ℯ                     ⎟⎟         ⎜    ___     _____   ______\n",
       "ppa₁ₐ  + ───────────────────────────────⎟⎟   ⅈ⋅d₋ₐ⋅⎜- ╲╱ 2 ⋅ⅈ⋅╲╱ L_b ⋅╲╱ \\kapp\n",
       "                      __________        ⎟⎟         ⎜                          \n",
       "                  2⋅╲╱ \\kappa₁ₐ         ⎠⎠         ⎝                          \n",
       "────────────────────────────────────────── - ─────────────────────────────────\n",
       "                                                                              \n",
       "                                                                              \n",
       "           ___      ⅈ⋅(\\nu⋅\\tau_b - \\phi_b)⎞⎞     ⎛                           \n",
       "______   ╲╱ 2 ⋅k_b⋅ℯ                       ⎟⎟     ⎜    ___     ____   ________\n",
       "pa_1b  + ──────────────────────────────────⎟⎟   ⅈ⋅⎜- ╲╱ 2 ⋅ⅈ⋅╲╱ Lₐ ⋅╲╱ \\kappa₂\n",
       "                      ___________          ⎟⎟     ⎜                           \n",
       "                  2⋅╲╱ \\kappa_1b           ⎠⎠     ⎝                           \n",
       "───────────────────────────────────────────── - ──────────────────────────────\n",
       "                                                                              \n",
       "\n",
       "                            ⎛                       ___     ⅈ⋅(\\nu⋅\\tauₐ + \\ph\n",
       "  __________                ⎜  ___   __________   ╲╱ 2 ⋅kₐ⋅ℯ                  \n",
       "╲╱ \\kappa₂ₐ ⋅\\xiₐ - ⅈ⋅a_1in⋅⎜╲╱ 2 ⋅╲╱ \\kappa₁ₐ  + ────────────────────────────\n",
       "                            ⎜                                  __________     \n",
       "                            ⎝                              2⋅╲╱ \\kappa₁ₐ      \n",
       "──────────────────────────────────────────────────────────────────────────────\n",
       "                        \\Lambda_ab                                            \n",
       "                                                                              \n",
       "              ⎛                        ___      ⅈ⋅(\\nu⋅\\tau_b + \\phi_b)⎞⎞     \n",
       "              ⎜  ___   ___________   ╲╱ 2 ⋅k_b⋅ℯ                       ⎟⎟ ____\n",
       "i_b - ⅈ⋅b_1in⋅⎜╲╱ 2 ⋅╲╱ \\kappa_1b  + ──────────────────────────────────⎟⎟⋅\\eps\n",
       "              ⎜                                   ___________          ⎟⎟     \n",
       "              ⎝                               2⋅╲╱ \\kappa_1b           ⎠⎠     \n",
       "──────────────────────────────────────────────────────────────────────────────\n",
       "                  \\Lambda_ba                                                  \n",
       "                                                                              \n",
       "                      ⎛                        ___      ⅈ⋅(\\nu⋅\\tau_b + \\phi_b\n",
       "_____                 ⎜  ___   ___________   ╲╱ 2 ⋅k_b⋅ℯ                      \n",
       "a_2b ⋅\\xi_b - ⅈ⋅b_1in⋅⎜╲╱ 2 ⋅╲╱ \\kappa_1b  + ─────────────────────────────────\n",
       "                      ⎜                                   ___________         \n",
       "                      ⎝                               2⋅╲╱ \\kappa_1b          \n",
       "──────────────────────────────────────────────────────────────────────────────\n",
       "                   \\Lambda_ba                                                 \n",
       "                                                                              \n",
       "                  ⎛                       ___     ⅈ⋅(\\nu⋅\\tauₐ + \\phiₐ)⎞⎞     \n",
       "__                ⎜  ___   __________   ╲╱ 2 ⋅kₐ⋅ℯ                     ⎟⎟ ____\n",
       "ₐ ⋅\\xiₐ - ⅈ⋅a_1in⋅⎜╲╱ 2 ⋅╲╱ \\kappa₁ₐ  + ───────────────────────────────⎟⎟⋅\\eps\n",
       "                  ⎜                                  __________        ⎟⎟     \n",
       "                  ⎝                              2⋅╲╱ \\kappa₁ₐ         ⎠⎠     \n",
       "──────────────────────────────────────────────────────────────────────────────\n",
       "                     \\Lambda_ab                                               \n",
       "\n",
       "iₐ)⎞⎞⎤\n",
       "   ⎟⎟⎥\n",
       "───⎟⎟⎥\n",
       "   ⎟⎟⎥\n",
       "   ⎠⎠⎥\n",
       "─────⎥\n",
       "     ⎥\n",
       "     ⎥\n",
       "     ⎥\n",
       "____ ⎥\n",
       "ilon ⎥\n",
       "     ⎥\n",
       "     ⎥\n",
       "──── ⎥\n",
       "     ⎥\n",
       "     ⎥\n",
       ")⎞⎞  ⎥\n",
       " ⎟⎟  ⎥\n",
       "─⎟⎟  ⎥\n",
       " ⎟⎟  ⎥\n",
       " ⎠⎠  ⎥\n",
       "───  ⎥\n",
       "     ⎥\n",
       "     ⎥\n",
       "     ⎥\n",
       "____ ⎥\n",
       "ilon ⎥\n",
       "     ⎥\n",
       "     ⎥\n",
       "──── ⎥\n",
       "     ⎦"
      ]
     },
     "execution_count": 124,
     "metadata": {},
     "output_type": "execute_result"
    }
   ],
   "source": [
    "a = (N*(A*ain+S*xi))\n",
    "a"
   ]
  },
  {
   "cell_type": "markdown",
   "metadata": {},
   "source": [
    "So we have the following equations for the intracavity field:\n",
    "$$\\begin{align}\n",
    "\\frop{a}(\\nu) &= -\\frac{1}{\\Lambda_{ab}(\\nu)}\\lsz\\frac{d_{-b}(\\nu)}{\\sqrt{2\\kappa_{1,a}}}\\lk 2 \\kappa_{1,a}+k_a e^{i\\lk\\nu\\tau_a+\\phi_a\\rk}\\rk \\frop{a}_{1,in}(\\nu)+\\right.\\\\\n",
    "&\\quad\\left. \\frac{\\epsilon}{\\sqrt{2\\kappa_{1,b}}}\\lk 2\\kappa_{1,b} + k_b e^{i\\lk\\nu\\tau_b-\\phi_b\\rk}\\rk\\frop{b}^\\dagger_{1,in}(\\nu)+\\right.\\\\\n",
    "&\\quad\\left. \\sqrt{\\kappa_{2,a}L_a}d_{-b}(\\nu)\\frop{\\xi}_a(\\nu) +  \\sqrt{\\kappa_{2,b}L_b}\\epsilon\\frop{\\xi}^\\dagger_b(-\\nu) \\rsz =\\\\\n",
    "&=-\\frac{1}{\\Lambda_{ab}(\\nu)}\\lsz d_{-b}(\\nu) \\alpha_1(\\nu) \\frop{a}_{1,in}(\\nu)+\\epsilon\\beta_1^*(-\\nu)\\frop{b}^\\dagger_{1,in}(-\\nu)+\\right.\\\\\n",
    "&\\quad\\left. \\sqrt{\\kappa_{2,a}L_a}d_{-b}(\\nu)\\frop{\\xi}_a(\\nu) +  \\sqrt{\\kappa_{2,b}L_b}\\epsilon\\frop{\\xi}^\\dagger_b(-\\nu) \\rsz\\\\\n",
    "\\frop{a}^\\dagger(-\\nu) &=-\\frac{1}{\\Lambda_{ba}(\\nu)}\\lsz d_{+b}(\\nu) \\alpha_1^*(-\\nu) \\frop{a}^\\dagger_{1,in}(-\\nu)+\\epsilon^*\\beta_1(\\nu)\\frop{b}_{1,in}(\\nu)+\\right.\\\\\n",
    "&\\quad\\left. \\sqrt{\\kappa_{2,a}L_a}d_{+b}(\\nu)\\frop{\\xi}^\\dagger_a(-\\nu) +  \\sqrt{\\kappa_{2,b}L_b}\\epsilon^*\\frop{\\xi}_b(\\nu) \\rsz\\\\\n",
    "\\frop{b}(\\nu) &=-\\frac{1}{\\Lambda_{ba}(\\nu)}\\lsz \\epsilon \\alpha_1^*(-\\nu) \\frop{a}^\\dagger_{1,in}(-\\nu)+d_{-a}(\\nu)\\beta_1(\\nu)\\frop{b}_{1,in}(\\nu)+\\right.\\\\\n",
    "&\\quad\\left. \\sqrt{\\kappa_{2,b}L_b}d_{-a}(\\nu)\\frop{\\xi}_b(\\nu) +  \\sqrt{\\kappa_{2,a}L_a}\\epsilon\\frop{\\xi}^\\dagger_a(-\\nu) \\rsz\\\\\n",
    "\\frop{b}^\\dagger(-\\nu) &=-\\frac{1}{\\Lambda_{ab}(\\nu)}\\lsz \\epsilon^* \\alpha_1(\\nu) \\frop{a}_{1,in}(\\nu)+d_{+a}(\\nu)\\beta_1^*(-\\nu)\\frop{b}^\\dagger_{1,in}(-\\nu)+\\right.\\\\\n",
    "&\\quad\\left. \\sqrt{\\kappa_{2,b}L_b}d_{+a}(\\nu)\\frop{\\xi}^\\dagger_b(-\\nu) +  \\sqrt{\\kappa_{2,a}L_a}\\epsilon^*\\frop{\\xi}_a(\\nu) \\rsz\n",
    "\\end{align}$$"
   ]
  },
  {
   "cell_type": "markdown",
   "metadata": {},
   "source": [
    "### Output field\n",
    "$$\\begin{align}\n",
    "\\frvecop{a}_{2,out} &= \\hat{\\tilde{\\underline{a}}}_{2,in} + \\dul{\\kappa}_2\\hat{\\tilde{\\underline{a}}} = \\lk\\dul{\\kappa}_1\\dul{\\kappa}_2\\rk^{-1}\\frmat{F}\\,\\frvecop{a}_{1,in}+ \\dul{\\kappa}_2^{-1}\\lk\\frmat{F}+\\dul{\\kappa}_2^2\\rk\\hat{\\tilde{\\underline{a}}}=\\dul{\\kappa}_2^{-1}\\lka\\lsz\\dul{\\kappa}_1^{-1}\\frmat{F}+\\lk\\frmat{F}+\\dul{\\kappa}_2^2\\rk\\frmat{N}\\,\\frmat{A}\\rsz\\frvecop{a}_{1,in}+ \\lk\\frmat{F}+\\dul{\\kappa}_2^2\\rk\\frmat{N}\\,\\dul{S}\\,\\frvecop{\\xi}\\rka=\\\\\n",
    "&=\\frmat{O}_1\\frvecop{a}_{1,in}+\\frmat{O}_2\\frvecop{\\xi}\n",
    "\\end{align}$$"
   ]
  },
  {
   "cell_type": "code",
   "execution_count": 125,
   "metadata": {
    "collapsed": false
   },
   "outputs": [
    {
     "data": {
      "image/png": "[encoded data removed]",
      "text/latex": [
       "$$- \\frac{\\sqrt{L_{a}} \\epsilon \\sqrt{\\kappa_{2a}} \\xi^{+}_{a}}{\\Lambda_{ba} \\sqrt{\\kappa_{2b}}} \\left(2 \\kappa_{2b} + k_{b} e^{i \\left(\\nu \\tau_{b} + \\phi_{b}\\right)}\\right) - \\frac{\\xi_{b} d_{-a}}{\\Lambda_{ba}} \\sqrt{L_{b}} \\left(2 \\kappa_{2b} + k_{b} e^{i \\left(\\nu \\tau_{b} + \\phi_{b}\\right)}\\right) + \\frac{\\sqrt{2} b_{1in}}{2 \\sqrt{\\kappa_{2b}}} \\left(\\frac{\\sqrt{2} k_{b}}{2 \\sqrt{\\kappa_{1b}}} e^{i \\left(\\nu \\tau_{b} + \\phi_{b}\\right)} - \\frac{d_{-a}}{\\Lambda_{ba}} \\left(2 \\kappa_{2b} + k_{b} e^{i \\left(\\nu \\tau_{b} + \\phi_{b}\\right)}\\right) \\left(\\sqrt{2} \\sqrt{\\kappa_{1b}} + \\frac{\\sqrt{2} k_{b}}{2 \\sqrt{\\kappa_{1b}}} e^{i \\left(\\nu \\tau_{b} + \\phi_{b}\\right)}\\right)\\right) - \\frac{\\sqrt{2} \\epsilon a^{+}_{1in}}{2 \\Lambda_{ba} \\sqrt{\\kappa_{2b}}} \\left(2 \\kappa_{2b} + k_{b} e^{i \\left(\\nu \\tau_{b} + \\phi_{b}\\right)}\\right) \\left(\\sqrt{2} \\sqrt{\\kappa_{1a}} + \\frac{\\sqrt{2} k_{a}}{2 \\sqrt{\\kappa_{1a}}} e^{i \\left(\\nu \\tau_{a} - \\phi_{a}\\right)}\\right)$$"
      ],
      "text/plain": [
       "                                                                              \n",
       "                                                                              \n",
       "                                                                              \n",
       "                                                                              \n",
       "                                                                              \n",
       "                                                                              \n",
       "    ____            __________       ⎛                   ⅈ⋅(\\nu⋅\\tau_b + \\phi_\n",
       "  ╲╱ Lₐ ⋅\\epsilon⋅╲╱ \\kappa₂ₐ ⋅\\xi⁺ₐ⋅⎝2⋅\\kappa_2b + k_b⋅ℯ                     \n",
       "- ────────────────────────────────────────────────────────────────────────────\n",
       "                                           ___________                        \n",
       "                              \\Lambda_ba⋅╲╱ \\kappa_2b                         \n",
       "\n",
       "                                                                              \n",
       "                                                                              \n",
       "                                                                              \n",
       "                                                                              \n",
       "                                                                         ___  \n",
       "                                                                       ╲╱ 2 ⋅b\n",
       "b)⎞     _____           ⎛                   ⅈ⋅(\\nu⋅\\tau_b + \\phi_b)⎞          \n",
       "  ⎠   ╲╱ L_b ⋅\\xi_b⋅d₋ₐ⋅⎝2⋅\\kappa_2b + k_b⋅ℯ                       ⎠          \n",
       "─── - ────────────────────────────────────────────────────────────── + ───────\n",
       "                                \\Lambda_ba                                    \n",
       "                                                                              \n",
       "\n",
       "     ⎛                                                                        \n",
       "     ⎜                                         ⎛                   ⅈ⋅(\\nu⋅\\tau\n",
       "     ⎜                                     d₋ₐ⋅⎝2⋅\\kappa_2b + k_b⋅ℯ           \n",
       "     ⎜  ___      ⅈ⋅(\\nu⋅\\tau_b + \\phi_b)                                      \n",
       "     ⎜╲╱ 2 ⋅k_b⋅ℯ                                                             \n",
       "_1in⋅⎜────────────────────────────────── - ───────────────────────────────────\n",
       "     ⎜             ___________                                                \n",
       "     ⎝         2⋅╲╱ \\kappa_1b                                                 \n",
       "──────────────────────────────────────────────────────────────────────────────\n",
       "                                                                    __________\n",
       "                                                                2⋅╲╱ \\kappa_2b\n",
       "\n",
       "              ⎛                        ___      ⅈ⋅(\\nu⋅\\tau_b + \\phi_b)⎞⎞     \n",
       "_b + \\phi_b)⎞ ⎜  ___   ___________   ╲╱ 2 ⋅k_b⋅ℯ                       ⎟⎟     \n",
       "            ⎠⋅⎜╲╱ 2 ⋅╲╱ \\kappa_1b  + ──────────────────────────────────⎟⎟     \n",
       "              ⎜                                   ___________          ⎟⎟     \n",
       "              ⎝                               2⋅╲╱ \\kappa_1b           ⎠⎟     \n",
       "────────────────────────────────────────────────────────────────────────⎟   ╲╱\n",
       "              \\Lambda_ba                                                ⎟     \n",
       "                                                                        ⎠     \n",
       "───────────────────────────────────────────────────────────────────────── - ──\n",
       "_                                                                             \n",
       "                                                                              \n",
       "\n",
       "                                                                              \n",
       "                                                                              \n",
       "                                                                              \n",
       "                                                                   ⎛          \n",
       "___                   ⎛                   ⅈ⋅(\\nu⋅\\tau_b + \\phi_b)⎞ ⎜  ___   __\n",
       " 2 ⋅\\epsilon⋅a_1in__+⋅⎝2⋅\\kappa_2b + k_b⋅ℯ                       ⎠⋅⎜╲╱ 2 ⋅╲╱ \\\n",
       "                                                                   ⎜          \n",
       "                                                                   ⎝          \n",
       "──────────────────────────────────────────────────────────────────────────────\n",
       "                                                              ___________     \n",
       "                                               2⋅\\Lambda_ba⋅╲╱ \\kappa_2b      \n",
       "\n",
       "                                           \n",
       "                                           \n",
       "                                           \n",
       "             ___     ⅈ⋅(\\nu⋅\\tauₐ - \\phiₐ)⎞\n",
       "________   ╲╱ 2 ⋅kₐ⋅ℯ                     ⎟\n",
       "kappa₁ₐ  + ───────────────────────────────⎟\n",
       "                        __________        ⎟\n",
       "                    2⋅╲╱ \\kappa₁ₐ         ⎠\n",
       "───────────────────────────────────────────\n",
       "                                           \n",
       "                                           "
      ]
     },
     "execution_count": 125,
     "metadata": {},
     "output_type": "execute_result"
    }
   ],
   "source": [
    "O1 = kap2.inv()*(kap1.inv()*ftil+(ftil+kap2**2)*N*A)\n",
    "O2 = kap2.inv()*(ftil+kap2**2)*N*S\n",
    "aout = O1*ain + O2*xi\n",
    "aout[2]"
   ]
  },
  {
   "cell_type": "markdown",
   "metadata": {},
   "source": [
    "Therefore the output fields have the following expressions:\n",
    "$$\\begin{align}\n",
    "\\frop{a}_{2,out}(\\nu) &=  \\overbrace{\\lk \\sqrt{1-L_a} e^{i\\lk\\nu\\tau_a+\\phi_a\\rk}-\\frac{d_{-b}(\\nu)}{\\Lambda_{ab}(\\nu)}\\alpha_1(\\nu)\\alpha_2(\\nu)\\rk}^{\\frac{D_a(\\nu)}{\\Lambda_{ab}(\\nu)}}\\frop{a}_{1,in}(\\nu)-\\frac{\\alpha_2(\\nu)}{\\Lambda_{ab}(\\nu)}\\lsz\\sqrt{2\\kappa_{2,a}L_a}d_{-b}(\\nu)\\frop{\\xi}_a(\\nu)+\\right.\\\\\n",
    "&\\left.\\quad+\\epsilon\\lk\\beta^*_1(-\\nu)\\frop{b}^\\dagger_{1,in}(-\\nu)+\\sqrt{2\\kappa_{2,b}L_b}\\epsilon\\frop{\\xi}^\\dagger_b(-\\nu)\\rk\\rsz=\\\\\n",
    "&=\\frac{1}{\\Lambda_{ab}(\\nu)}\\lka D_a(\\nu)\\frop{a}_{1,in}(\\nu)-\\alpha_2(\\nu)\\lsz\\sqrt{2\\kappa_{2,a}L_a}d_{-b}(\\nu)\\frop{\\xi}_a(\\nu)+\\epsilon\\lk\\beta^*_1(-\\nu)\\frop{b}^\\dagger_{1,in}(-\\nu)+\\sqrt{2\\kappa_{2,b}L_b}\\epsilon\\frop{\\xi}^\\dagger_b(-\\nu)\\rk\\rsz\\rka\\\\\n",
    "\\frop{a}^\\dagger_{2,out}(-\\nu) &= \\frac{1}{\\Lambda_{ba}(\\nu)}\\lka D^*_a(-\\nu)\\frop{a}^\\dagger_{1,in}(-\\nu)-\\alpha^*_2(-\\nu)\\lsz\\sqrt{2\\kappa_{2,a}L_a}d_{+b}(\\nu)\\frop{\\xi}^\\dagger_a(-\\nu)+\\epsilon^*\\lk\\beta_1(\\nu)\\frop{b}_{1,in}(\\nu)+\\sqrt{2\\kappa_{2,b}L_b}\\epsilon^*\\frop{\\xi}_b(\\nu)\\rk\\rsz\\rka\\\\\n",
    "\\frop{b}_{2,out}(\\nu)&= \\frac{1}{\\Lambda_{ba}(\\nu)}\\lka D_b(\\nu)\\frop{b}_{1,in}(\\nu)-\\beta_2(\\nu)\\lsz\\sqrt{2\\kappa_{2,b}L_b}d_{-a}(\\nu)\\frop{\\xi}_b(\\nu)+\\epsilon\\lk\\alpha^*_1(-\\nu)\\frop{a}^\\dagger_{1,in}(-\\nu)+\\sqrt{2\\kappa_{2,a}L_a}\\epsilon\\frop{\\xi}^\\dagger_a(-\\nu)\\rk\\rsz\\rka\\\\\n",
    "\\frop{b}^\\dagger_{2,out}(-\\nu) &= \\frac{1}{\\Lambda_{ab}(\\nu)}\\lka D^*_b(-\\nu)\\frop{b}^\\dagger_{1,in}(-\\nu)-\\beta^*_2(-\\nu)\\lsz\\sqrt{2\\kappa_{2,b}L_b}d_{+a}(\\nu)\\frop{\\xi}^\\dagger_b(-\\nu)+\\epsilon^*\\lk\\alpha_1(\\nu)\\frop{a}_{1,in}(\\nu)+\\sqrt{2\\kappa_{2,a}L_a}\\epsilon^*\\frop{\\xi}_a(\\nu)\\rk\\rsz\\rka\\\\\n",
    "\\end{align}$$"
   ]
  },
  {
   "cell_type": "markdown",
   "metadata": {},
   "source": [
    "## Quadrature variances\n",
    "\n",
    "The quadratures of the two modes are:\n",
    "$$\\frop{X}_{\\mu,\\theta^\\prime_\\mu}=\\frac{1}{2}\\lk\\frop{\\mu}e^{-i\\thetap_\\mu/2}+\\frop{\\mu}^\\dagger e^{i\\thetap_\\mu/2}\\rk$$\n",
    "The generalized quadratures involve both modes:\n",
    "$$\\frop{X}^G_{\\thetap} = \\frac{1}{\\sqrt{2}}\\lk X_{a,\\thetap_a}- X_{b,\\thetap_b}\\rk$$\n",
    "\n"
   ]
  },
  {
   "cell_type": "code",
   "execution_count": 138,
   "metadata": {
    "collapsed": false
   },
   "outputs": [
    {
     "data": {
      "image/png": "[encoded data removed]",
      "text/latex": [
       "$$\\left[\\begin{matrix}\\frac{1}{\\Lambda_{ab}} \\left(D_{a} a_{1in} - \\alpha_{2}{\\left (\\epsilon \\left(\\sqrt{2} \\xi^{+}_{b} \\sqrt{L_{b} \\kappa_{2b}} + b^{+}_{1in} \\overline{\\beta_{1}}\\right) + \\sqrt{2} \\xi_{a} d_{-b} \\sqrt{L_{a} \\kappa_{2a}} \\right )}\\right)\\\\\\frac{1}{\\Lambda_{ba}} \\left(a^{+}_{1in} \\overline{D_{a}} - \\left(\\sqrt{2} \\xi^{+}_{a} d_{+b} \\sqrt{L_{a} \\kappa_{2a}} + \\left(\\beta_{1} b_{1in} + \\sqrt{2} \\xi_{b} \\sqrt{L_{b} \\kappa_{2b}}\\right) \\overline{\\epsilon}\\right) \\overline{\\alpha_{2}}\\right)\\\\\\frac{1}{\\Lambda_{ba}} \\left(D_{b} b_{1in} - \\beta_{2}{\\left (\\epsilon \\left(\\sqrt{2} \\xi^{+}_{a} \\sqrt{L_{a} \\kappa_{2a}} + a^{+}_{1in} \\overline{\\alpha_{1}}\\right) + \\sqrt{2} \\xi_{b} d_{-a} \\sqrt{L_{b} \\kappa_{2b}} \\right )}\\right)\\\\\\frac{1}{\\Lambda_{ab}} \\left(b^{+}_{1in} \\overline{D_{b}} - \\left(\\sqrt{2} \\xi^{+}_{b} d_{+a} \\sqrt{L_{b} \\kappa_{2b}} + \\left(\\alpha_{1} a_{1in} + \\sqrt{2} \\xi_{a} \\sqrt{L_{a} \\kappa_{2a}}\\right) \\overline{\\epsilon}\\right) \\overline{\\beta_{2}}\\right)\\end{matrix}\\right]$$"
      ],
      "text/plain": [
       "⎡                  ⎛         ⎛  ___            _______________            ____\n",
       "⎢Dₐ⋅a_1in - \\alpha₂⎝\\epsilon⋅⎝╲╱ 2 ⋅\\xi_b__+⋅╲╱ L_b⋅\\kappa_2b  + b_1in__+⋅\\bet\n",
       "⎢─────────────────────────────────────────────────────────────────────────────\n",
       "⎢                                                     \\Lambda_ab              \n",
       "⎢                                                                             \n",
       "⎢          __   ⎛  ___              _____________   ⎛                 ___     \n",
       "⎢ a_1in__+⋅Dₐ - ⎝╲╱ 2 ⋅\\xi⁺ₐ⋅d_+b⋅╲╱ Lₐ⋅\\kappa₂ₐ  + ⎝\\beta₁⋅b_1in + ╲╱ 2 ⋅\\xi_\n",
       "⎢ ────────────────────────────────────────────────────────────────────────────\n",
       "⎢                                                     \\Lambda_ba              \n",
       "⎢                                                                             \n",
       "⎢                   ⎛         ⎛  ___         _____________            _______⎞\n",
       "⎢ D_b⋅b_1in - \\beta₂⎝\\epsilon⋅⎝╲╱ 2 ⋅\\xi⁺ₐ⋅╲╱ Lₐ⋅\\kappa₂ₐ  + a_1in__+⋅\\alpha₁⎠\n",
       "⎢ ────────────────────────────────────────────────────────────────────────────\n",
       "⎢                                                     \\Lambda_ba              \n",
       "⎢                                                                             \n",
       "⎢         ___   ⎛  ___                _______________   ⎛                  ___\n",
       "⎢b_1in__+⋅D_b - ⎝╲╱ 2 ⋅\\xi_b__+⋅d₊ₐ⋅╲╱ L_b⋅\\kappa_2b  + ⎝\\alpha₁⋅a_1in + ╲╱ 2 \n",
       "⎢─────────────────────────────────────────────────────────────────────────────\n",
       "⎣                                                     \\Lambda_ab              \n",
       "\n",
       "__⎞     ___             _____________⎞ ⎤\n",
       "a₁⎠ + ╲╱ 2 ⋅\\xiₐ⋅d_-b⋅╲╱ Lₐ⋅\\kappa₂ₐ ⎠ ⎥\n",
       "────────────────────────────────────── ⎥\n",
       "                                       ⎥\n",
       "                                       ⎥\n",
       "    _______________⎞ ________⎞ _______ ⎥\n",
       "b⋅╲╱ L_b⋅\\kappa_2b ⎠⋅\\epsilon⎠⋅\\alpha₂ ⎥\n",
       "────────────────────────────────────── ⎥\n",
       "                                       ⎥\n",
       "                                       ⎥\n",
       "     ___             _______________⎞  ⎥\n",
       " + ╲╱ 2 ⋅\\xi_b⋅d₋ₐ⋅╲╱ L_b⋅\\kappa_2b ⎠  ⎥\n",
       "─────────────────────────────────────  ⎥\n",
       "                                       ⎥\n",
       "                                       ⎥\n",
       "        _____________⎞ ________⎞ ______⎥\n",
       "⋅\\xiₐ⋅╲╱ Lₐ⋅\\kappa₂ₐ ⎠⋅\\epsilon⎠⋅\\beta₂⎥\n",
       "───────────────────────────────────────⎥\n",
       "                                       ⎦"
      ]
     },
     "execution_count": 138,
     "metadata": {},
     "output_type": "execute_result"
    }
   ],
   "source": [
    "alpha1,beta1,alpha2,beta2,Da,Db = symbols('\\\\alpha_1 \\\\beta_1 \\\\alpha_2 \\\\beta_2 D_a D_b')\n",
    "thetapa,thetapb,kapa,kapb = symbols('\\\\theta_pa \\\\theta_pb \\kappa_a \\kappa_b')\n",
    "aout = Matrix([1/(Lab)*(Da*a1in-alpha2(sqrt(2*kap2a*La)*dmb*xia+eps*(conjugate(beta1)*bd1in+sqrt(2*kap2b*Lb)*xidb))),\\\n",
    "               1/(Lba)*(conjugate(Da)*ad1in-conjugate(alpha2)*(sqrt(2*kap2a*La)*dpb*xida+\\\n",
    "                                                              conjugate(eps)*(beta1*b1in+sqrt(2*kap2b*Lb)*xib))),\\\n",
    "               1/(Lba)*(Db*b1in-beta2(sqrt(2*kap2b*Lb)*dma*xib+eps*(conjugate(alpha1)*ad1in+sqrt(2*kap2a*La)*xida))),\\\n",
    "               1/(Lab)*(conjugate(Db)*bd1in-conjugate(beta2)*(sqrt(2*kap2b*Lb)*dpa*xidb+\\\n",
    "                                                              conjugate(eps)*(alpha1*a1in+sqrt(2*kap2a*La)*xia)))])\n",
    "aout"
   ]
  },
  {
   "cell_type": "code",
   "execution_count": 139,
   "metadata": {
    "collapsed": false
   },
   "outputs": [
    {
     "data": {
      "image/png": "[encoded data removed]",
      "text/latex": [
       "$$\\frac{\\sqrt{2}}{2} \\left(- \\frac{0.5}{\\Lambda_{ba}} \\left(D_{b} b_{1in} - \\beta_{2}{\\left (\\epsilon \\left(\\sqrt{2} \\xi^{+}_{a} \\sqrt{L_{a} \\kappa_{2a}} + a^{+}_{1in} \\overline{\\alpha_{1}}\\right) + \\sqrt{2} \\xi_{b} d_{-a} \\sqrt{L_{b} \\kappa_{2b}} \\right )}\\right) e^{- \\frac{i \\theta_{pb}}{2}} + \\frac{0.5}{\\Lambda_{ba}} \\left(a^{+}_{1in} \\overline{D_{a}} - \\left(\\sqrt{2} \\xi^{+}_{a} d_{+b} \\sqrt{L_{a} \\kappa_{2a}} + \\left(\\beta_{1} b_{1in} + \\sqrt{2} \\xi_{b} \\sqrt{L_{b} \\kappa_{2b}}\\right) \\overline{\\epsilon}\\right) \\overline{\\alpha_{2}}\\right) e^{\\frac{i \\theta_{pa}}{2}} + \\frac{0.5}{\\Lambda_{ab}} \\left(D_{a} a_{1in} - \\alpha_{2}{\\left (\\epsilon \\left(\\sqrt{2} \\xi^{+}_{b} \\sqrt{L_{b} \\kappa_{2b}} + b^{+}_{1in} \\overline{\\beta_{1}}\\right) + \\sqrt{2} \\xi_{a} d_{-b} \\sqrt{L_{a} \\kappa_{2a}} \\right )}\\right) e^{- \\frac{i \\theta_{pa}}{2}} - \\frac{0.5}{\\Lambda_{ab}} \\left(b^{+}_{1in} \\overline{D_{b}} - \\left(\\sqrt{2} \\xi^{+}_{b} d_{+a} \\sqrt{L_{b} \\kappa_{2b}} + \\left(\\alpha_{1} a_{1in} + \\sqrt{2} \\xi_{a} \\sqrt{L_{a} \\kappa_{2a}}\\right) \\overline{\\epsilon}\\right) \\overline{\\beta_{2}}\\right) e^{\\frac{i \\theta_{pb}}{2}}\\right)$$"
      ],
      "text/plain": [
       "      ⎛                                                                       \n",
       "      ⎜                                                                       \n",
       "      ⎜         ⎛                  ⎛         ⎛  ___         _____________     \n",
       "  ___ ⎜  - -0.5⋅⎝D_b⋅b_1in - \\beta₂⎝\\epsilon⋅⎝╲╱ 2 ⋅\\xi⁺ₐ⋅╲╱ Lₐ⋅\\kappa₂ₐ  + a_\n",
       "╲╱ 2 ⋅⎜- ─────────────────────────────────────────────────────────────────────\n",
       "      ⎝                                                                  \\Lamb\n",
       "──────────────────────────────────────────────────────────────────────────────\n",
       "                                                                              \n",
       "\n",
       "                                                       -ⅈ⋅\\theta_pb           \n",
       "                                                       ─────────────          \n",
       "       _______⎞     ___             _______________⎞⎞        2              ⎛ \n",
       "1in__+⋅\\alpha₁⎠ + ╲╱ 2 ⋅\\xi_b⋅d₋ₐ⋅╲╱ L_b⋅\\kappa_2b ⎠⎠⋅ℯ                 0.5⋅⎝a\n",
       "───────────────────────────────────────────────────────────────────── + ──────\n",
       "da_ba                                                                         \n",
       "──────────────────────────────────────────────────────────────────────────────\n",
       "                                                                              \n",
       "\n",
       "                                                                              \n",
       "                                                                              \n",
       "        __   ⎛  ___              _____________   ⎛                 ___        \n",
       "_1in__+⋅Dₐ - ⎝╲╱ 2 ⋅\\xi⁺ₐ⋅d_+b⋅╲╱ Lₐ⋅\\kappa₂ₐ  + ⎝\\beta₁⋅b_1in + ╲╱ 2 ⋅\\xi_b⋅╲\n",
       "──────────────────────────────────────────────────────────────────────────────\n",
       "                                                        \\Lambda_ba            \n",
       "──────────────────────────────────────────────────────────────────────────────\n",
       "                                                                              \n",
       "\n",
       "                                      ⅈ⋅\\theta_pa                             \n",
       "                                      ───────────                             \n",
       " _______________⎞ ________⎞ _______⎞       2            ⎛                  ⎛  \n",
       "╱ L_b⋅\\kappa_2b ⎠⋅\\epsilon⎠⋅\\alpha₂⎠⋅ℯ              0.5⋅⎝Dₐ⋅a_1in - \\alpha₂⎝\\e\n",
       "───────────────────────────────────────────────── + ──────────────────────────\n",
       "                                                                              \n",
       "──────────────────────────────────────────────────────────────────────────────\n",
       "                                                2                             \n",
       "\n",
       "                                                                              \n",
       "                                                                              \n",
       "       ⎛  ___            _______________            ______⎞     ___           \n",
       "psilon⋅⎝╲╱ 2 ⋅\\xi_b__+⋅╲╱ L_b⋅\\kappa_2b  + b_1in__+⋅\\beta₁⎠ + ╲╱ 2 ⋅\\xiₐ⋅d_-b⋅\n",
       "──────────────────────────────────────────────────────────────────────────────\n",
       "                                     \\Lambda_ab                               \n",
       "──────────────────────────────────────────────────────────────────────────────\n",
       "                                                                              \n",
       "\n",
       "                   -ⅈ⋅\\theta_pa                                               \n",
       "                   ─────────────                                              \n",
       "  _____________⎞⎞        2                ⎛         ___   ⎛  ___              \n",
       "╲╱ Lₐ⋅\\kappa₂ₐ ⎠⎠⋅ℯ                - -0.5⋅⎝b_1in__+⋅D_b - ⎝╲╱ 2 ⋅\\xi_b__+⋅d₊ₐ⋅\n",
       "──────────────────────────────── - ───────────────────────────────────────────\n",
       "                                                                              \n",
       "──────────────────────────────────────────────────────────────────────────────\n",
       "                                                                              \n",
       "\n",
       "                                                                              \n",
       "                                                                              \n",
       "  _______________   ⎛                  ___        _____________⎞ ________⎞ ___\n",
       "╲╱ L_b⋅\\kappa_2b  + ⎝\\alpha₁⋅a_1in + ╲╱ 2 ⋅\\xiₐ⋅╲╱ Lₐ⋅\\kappa₂ₐ ⎠⋅\\epsilon⎠⋅\\be\n",
       "──────────────────────────────────────────────────────────────────────────────\n",
       "                      \\Lambda_ab                                              \n",
       "──────────────────────────────────────────────────────────────────────────────\n",
       "                                                                              \n",
       "\n",
       "      ⅈ⋅\\theta_pb ⎞\n",
       "      ─────────── ⎟\n",
       "___⎞       2      ⎟\n",
       "ta₂⎠⋅ℯ            ⎟\n",
       "──────────────────⎟\n",
       "                  ⎠\n",
       "───────────────────\n",
       "                   "
      ]
     },
     "execution_count": 139,
     "metadata": {},
     "output_type": "execute_result"
    }
   ],
   "source": [
    "Xa = 1/2*(aout[0]*exp(-I*thetapa/2)+aout[1]*exp(I*thetapa/2))\n",
    "Xb = 1/2*(aout[2]*exp(-I*thetapb/2)+aout[3]*exp(I*thetapb/2))\n",
    "XG = 1/sqrt(2)*(Xa-Xb)\n",
    "XG"
   ]
  },
  {
   "cell_type": "markdown",
   "metadata": {},
   "source": [
    "So the expression of one of the quadratures is:\n",
    "$$\\begin{align}\n",
    "\\frop{X}_{\\thetap}^G(\\nu) &= \\frac{\\sqrt{2}}{4}\\lka\\frac{1}{\\Lambda_{ab}}\n",
    "\\lsz \\overbrace{\\lk D_a(\\nu)e^{-i\\thetap_a/2}-\\epsilon^*\\alpha_1(\\nu)\\beta_2^*(-\\nu)e^{i\\thetap_b/2}\\rk}^{M_{a}(\\nu)}\\frop{a}_{1,in}(\\nu)-\n",
    "\\lk D^*_b(-\\nu)e^{i\\thetap_b/2}-\\epsilon\\alpha_2(\\nu)\\beta_1^*(-\\nu) e^{-i\\thetap_a/2}\\rk\\frop{b}^\\dagger_{1,in}(-\\nu)+\\right.\\right.\\\\\n",
    "&\\quad\\left.\\left.+\\overbrace{\\sqrt{2\\kappa_{2a}L_a}\\lk d_{-b}(\\nu)\\alpha_2(\\nu)e^{-i\\thetap_a/2}-\\epsilon^*\\beta^*_2(-\\nu)e^{i\\thetap_b/2}\\rk}^{N_a(\\nu)}\\frop{\\xi}_{a}(\\nu)-\n",
    "\\sqrt{2\\kappa_{2b}L_b}\\lk d_{+a}(\\nu)\\beta^*_2(-\\nu)e^{i\\thetap_b/2}-\\epsilon\\alpha_2(\\nu) e^{-i\\thetap_a/2}\\rk\\frop{\\xi}^\\dagger_{b}(-\\nu)\\rsz+\\right.\\\\\n",
    "&\\quad\\left.+\\rsz=\\\\\n",
    "&= \\frac{\\sqrt{2}}{4}\\lka\\frac{1}{\\Lambda_{ab}}\n",
    "\\lsz M_{a}(\\nu)\\lk\\alpha(\\nu)\\frop{a}_{1,in}(\\nu)+\\sqrt{2\\kappa_{2a}L_a}\\frop{\\xi}_a(\\nu)\\rk- M_{b}^*(-\\nu)\\lk\\beta^*(-\\nu)\\frop{b}^\\dagger_{1,in}(-\\nu)+\\sqrt{2\\kappa_{2b}L_b}\\frop{\\xi}_b^\\dagger(-\\nu)\\rk\\rsz+\\right.\\\\\n",
    "&\\left.\\quad+\\frac{1}{\\Lambda_{ba}}\n",
    "\\lsz M^*_{a}(-\\nu)\\lk\\alpha^*(-\\nu)\\frop{a}^\\dagger_{1,in}(-\\nu)+\\sqrt{2\\kappa_{2a}L_a}\\frop{\\xi}^\\dagger_a(-\\nu)\\rk- M_{b}(\\nu)\\lk\\beta(\\nu)\\frop{b}_{1,in}(\\nu)+\\sqrt{2\\kappa_{2b}L_b}\\frop{\\xi}_b(\\nu)\\rk\\rsz\\rka\n",
    "\\end{align}$$"
   ]
  },
  {
   "cell_type": "markdown",
   "metadata": {},
   "source": [
    "## Numerical calculations\n",
    "\n",
    "Here I set the appropriate parameters and calculate the general quadrature variance in the units of dB."
   ]
  },
  {
   "cell_type": "code",
   "execution_count": 1,
   "metadata": {
    "collapsed": true
   },
   "outputs": [],
   "source": [
    "from pylab import *\n",
    "def quadr_spec(kapa=20.*pi,kapb=20.*pi,dela=0.,delb=0.,ra=1.,rb=1.,kta=0.,ktb=0.,phia=0.,phib=0.,La=100.,Lb=100.,\\\n",
    "               thetapa=-pi,thetapb=pi,x=1.,nui=-25.,nuf=25.,N=20000):\n",
    "    \n",
    "    nu = linspace(nui*2.*pi,nuf*2.*pi,N)\n",
    "    \n",
    "    eps = x*kapa\n",
    "    Dela = kapa*dela\n",
    "    Delb = kapb*delb\n",
    "    ta   = kta/kapa\n",
    "    tb   = ktb/kapb\n",
    "    kap2a = kapa * ra\n",
    "    kap2b = kapb * rb\n",
    "    kap1a = kapa * (1-ra)\n",
    "    kap1b = kapb * (1-rb)\n",
    "    ka = 2*sqrt(ra*(1-ra)*(1-La/100))*kapa\n",
    "    kb = 2*sqrt(rb*(1-rb)*(1-Lb/100))*kapb\n",
    "    Ema = ka*exp(1j*(nu*ta-phia))\n",
    "    Emb = kb*exp(1j*(nu*tb-phib))\n",
    "    Epa = ka*exp(1j*(nu*ta+phia))\n",
    "    Epb = kb*exp(1j*(nu*tb+phib))\n",
    "    dma = kapa+1j*(nu-Dela) - Ema\n",
    "    dmb = kapb+1j*(nu-Delb) - Emb\n",
    "    dpa = kapa+1j*(nu+Dela) - Epa\n",
    "    dpb = kapb+1j*(nu+Delb) - Epb\n",
    "    Lab = abs(eps)**2 - dpa*dmb\n",
    "    Lba = abs(eps)**2 - dpb*dma\n",
    "    alpha = 1/sqrt(2*kap2a) * (2*kap1a+Epa)\n",
    "    beta  = 1/sqrt(2*kap2b) * (2*kap1b+Epb)\n",
    "    Da = Lab + 2*sqrt(kapa*kap2a)*dmb\n",
    "    Db = Lba + 2*sqrt(kapb*kap2b)*dma\n",
    "    Ma = Da/sqrt(2*kapa)*exp(-1j*thetapa/2) - sqrt(2*kap2b)*conjugate(eps)*exp(1j*thetapb/2)\n",
    "    Mb = Db/sqrt(2*kapb)*exp(-1j*thetapb/2) - sqrt(2*kap2a)*conjugate(eps)*exp(1j*thetapa/2)\n",
    "    \n",
    "    XXG = 1/2*(abs(Ma)**2/abs(Lab)**2*(abs(alpha)**2+2*kap2a*La/100)+abs(Mb)**2/abs(Lba)**2*(abs(beta)**2+2*kap2b*Lb/100))\n",
    "    Sout = 10*np.log10(XXG)\n",
    "    \n",
    "    plot(nu/2/pi,Sout,linewidth=2.0)\n",
    "    xlabel('$\\\\nu/2\\pi$')\n",
    "    ylabel('$S_{out,\\\\theta^\\prime}(\\\\nu)$')\n",
    "    xlim(nui,nuf)\n",
    "    ylim(-50,30)\n",
    "    grid(True)\n",
    "    show()\n",
    "    print(alpha)"
   ]
  },
  {
   "cell_type": "code",
   "execution_count": 2,
   "metadata": {
    "collapsed": false
   },
   "outputs": [
    {
     "data": {
      "image/png": "[encoded data removed]",
      "text/plain": [
       "<matplotlib.figure.Figure at 0x7f714e3f8780>"
      ]
     },
     "metadata": {},
     "output_type": "display_data"
    },
    {
     "name": "stdout",
     "output_type": "stream",
     "text": [
      "[ 0.+0.j  0.+0.j  0.+0.j ...,  0.+0.j  0.+0.j  0.+0.j]\n"
     ]
    }
   ],
   "source": [
    "%matplotlib inline\n",
    "from ipywidgets import interactive\n",
    "from IPython.display import display\n",
    "slider = interactive(quadr_spec,kapa=(0.,20*pi,),kapb=(0.,20*pi),dela=(0.,2.),delb=(0.,2),ra=(0.,1.),rb=(0.,1.),\\\n",
    "                     kta=(0.,10.,0.0001),ktb=(0.,10.,0.0001),phia=(0.,2.*pi),phib=(0.,2.*pi),La=(0,100),Lb=(0,100),\\\n",
    "                     thetapa=(-pi,pi,.0001),thetapb=(-pi,pi,0.0001),x=(0.,2.,0.001),nui=(-25.,0.),nuf=(0.,25.),N=(1000,20000))\n",
    "display(slider)"
   ]
  },
  {
   "cell_type": "markdown",
   "metadata": {},
   "source": [
    "\n",
    "## Singularities\n",
    "\n",
    "If one calculates the quadrature variance $\\left<\\frop{X}^G_{\\pm,\\thetap}(\\nu),\\frop{X}^G_{\\pm,\\thetap}(\\nu^\\prime)\\right>$, then the obtained expression has a singularity when $\\left|\\Lambda_{ab}\\right|^2=0$. To find this condition, let us take a closer look at expression $\\Lambda_{ab}$.\n",
    "$$\\begin{align}\n",
    "\\Lambda_{ab}(\\nu) &= |\\epsilon|^2-d_{+a}(\\nu)d_{-b}(\\nu) = |\\epsilon|^2-\\lk\\kappa_a + i\\lk\\nu+\\Delta_a\\rk - k_a e^{i\\lk\\nu\\tau_a+\\phi_a\\rk}\\rk\\lk\\kappa_b + i\\lk\\nu-\\Delta_b\\rk - k_b e^{i\\lk\\nu\\tau_b-\\phi_b\\rk}\\rk\\\\\n",
    "d_{\\pm,\\mu} &= \\kappa_\\mu + i\\lk\\nu\\pm\\Delta_\\mu\\rk - k_\\mu e^{i\\lk\\nu\\tau_\\mu\\pm\\phi_\\mu\\rk} \n",
    "\\end{align}$$"
   ]
  },
  {
   "cell_type": "markdown",
   "metadata": {},
   "source": [
    "The denominator:\n",
    "$$\\begin{align}\n",
    "\\lka|\\epsilon|^2-\\lsz\\lk\\kappa_a-k_a\\cos{\\lk\\nu\\tau_a+\\phi_a\\rk}\\rk\\lk\\kappa_b-k_b\\cos{\\lk\\nu\\tau_b-\\phi_b\\rk}\\rk-\n",
    "\\lk\\nu+\\Delta_a-k_a\\sin{\\lk\\nu\\tau_a+\\phi_a\\rk}\\rk\\lk\\nu-\\Delta_b-k_b\\sin{\\lk\\nu\\tau_b-\\phi_b\\rk}\\rk\\rsz\\rka^2+\n",
    "\\lsz\\lk\\nu+\\Delta_a-k_a\\sin{\\lk\\nu\\tau_a+\\phi_a\\rk}\\rk\\lk\\kappa_b-k_b\\cos{\\lk\\nu\\tau_b-\\phi_b\\rk}\\rk+\n",
    "\\lk\\nu-\\Delta_b-k_b\\sin{\\lk\\nu\\tau_b-\\phi_b\\rk}\\rk\\lk\\kappa_a-k_a\\cos{\\lk\\nu\\tau_a+\\phi_a\\rk}\\rk\\rsz^2\n",
    "\\end{align}$$"
   ]
  },
  {
   "cell_type": "code",
   "execution_count": 41,
   "metadata": {
    "collapsed": false
   },
   "outputs": [],
   "source": [
    "from sympy.solvers import solve\n",
    "Dela, Delb = symbols('\\Delta_a \\Delta_b')\n",
    "E1, E2, E3, E4 = symbols('E_1 E_2 E_3 E_4')\n",
    "E1 = kapa-ka*cos(nu*ta+phia)\n",
    "E2 = kapb-kb*cos(nu*tb-phib)\n",
    "E3 = nu+Dela-ka*sin(nu*ta+phia)\n",
    "E4 = nu-Delb-kb*sin(nu*tb-phib)"
   ]
  },
  {
   "cell_type": "markdown",
   "metadata": {},
   "source": [
    "Solution of the first term=0"
   ]
  },
  {
   "cell_type": "code",
   "execution_count": null,
   "metadata": {
    "collapsed": false
   },
   "outputs": [],
   "source": [
    "solve(Abs(eps)**2-(E1*E2-E3*E4),ta)"
   ]
  },
  {
   "cell_type": "markdown",
   "metadata": {},
   "source": [
    "Solution of the second term=0"
   ]
  },
  {
   "cell_type": "code",
   "execution_count": null,
   "metadata": {
    "collapsed": true
   },
   "outputs": [],
   "source": []
  }
 ],
 "metadata": {
  "kernelspec": {
   "display_name": "Python 3",
   "language": "python",
   "name": "python3"
  },
  "language_info": {
   "codemirror_mode": {
    "name": "ipython",
    "version": 3
   },
   "file_extension": ".py",
   "mimetype": "text/x-python",
   "name": "python",
   "nbconvert_exporter": "python",
   "pygments_lexer": "ipython3",
   "version": "3.5.1"
  }
 },
 "nbformat": 4,
 "nbformat_minor": 0
}
