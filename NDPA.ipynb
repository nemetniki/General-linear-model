{
 "cells": [
  {
   "cell_type": "markdown",
   "metadata": {},
   "source": [
    "# EPR-type entanglement of NDPA\n",
    "\n",
    "$$\\def \\lk{\\left(}\n",
    "\\def \\rk{\\right)}\n",
    "\\def \\frop#1{\\hat{\\tilde{#1}}}\n",
    "\\def\\thetap{\\theta^\\prime}\n",
    "\\def\\ul#1{\\underline{#1}}\n",
    "\\def\\frvecop#1{\\hat{\\tilde{\\underline{#1}}}}\n",
    "\\def\\dul#1{\\underline{\\underline{#1}}}\n",
    "\\def\\frmat#1{\\tilde{\\dul{#1}}}\n",
    "\\def\\lk{\\left(}\n",
    "\\def\\rk{\\right)}\n",
    "\\def\\lka{\\left\\{}\n",
    "\\def\\rka{\\right\\}}\n",
    "\\def\\lsz{\\left[}\n",
    "\\def\\rsz{\\right]}\n",
    "\\def\\bra{\\left\\langle}\n",
    "\\def\\ket{\\right\\rangle}$$\n",
    "\n",
    "## Intracavity field\n",
    "$$\\begin{align}\n",
    "\\frop{a} &= \\lk\\nu\\dul{\\mathbb{1}} - \\dul{\\Delta} + i\\sqrt{2\\pi}\\frmat{f}\\rk^{-1}\\frop{B} = \n",
    "\\frmat{N}\\ \\frop{B} \\\\\n",
    "\\dul{\\Delta} &= \\left(\\begin{matrix} \n",
    "(-i\\kappa_a+\\Delta) & 0 & ig & i\\epsilon \\\\\n",
    "0 & (-i\\kappa_a-\\Delta) & i\\epsilon^* & ig^* \\\\\n",
    "-ig^* & i\\epsilon & (-i\\kappa_b-\\Delta) & 0 \\\\\n",
    "i\\epsilon^* & -ig & 0 & (-i\\kappa_b+\\Delta)\\end{matrix}\\right)\\\\\n",
    "\\sqrt{2\\pi}\\frmat{f} &= diag \\left(k_ae^{i(\\nu\\tau_a+\\phi_a)},k_ae^{i(\\nu\\tau_a-\\phi_a)},k_be^{i(\\nu\\tau_b+\\phi_b)},k_be^{i(\\nu\\tau_b-\\phi_b)}\\right) =\\\\\n",
    "& =diag \\left(k_a,k_a,k_b,k_b\\right)\\cdot diag \\left(e^{i(\\nu\\tau_a+\\phi_a)},e^{i(\\nu\\tau_a-\\phi_a)},e^{i(\\nu\\tau_b+\\phi_b)},e^{i(\\nu\\tau_b-\\phi_b)}\\right)=\\\\\n",
    "&=\\dul{K}\\,\\frmat{f}_N\n",
    "\\end{align}$$\n",
    "\n",
    "### Input field\n",
    "$$\\begin{align}\n",
    "\\frvecop{B} &= -i\\lsz\\lk\\dul{\\kappa}_1+\\sqrt{2\\pi}\\, \\dul{\\kappa}_2\\,\\dul{L}_2\\,\\frmat{f}_N\\rk\\frvecop{a}_{1,in} + \\dul{\\kappa}_2\\dul{L}_1\\frvecop{\\xi} \\rsz = -i\\lk\\frmat{A}_1\\,\\frvecop{a}_{1,in} + \\dul{\\kappa}_2\\dul{L}_1\\,\\frvecop{\\xi}\\rk\\\\\n",
    "\\dul{\\kappa}_n &= diag(\\sqrt{2\\kappa_{n,a}},\\sqrt{2\\kappa_{n,a}},\\sqrt{2\\kappa_{n,b}},\\sqrt{2\\kappa_{n,b}})\\\\\n",
    "\\dul{L}_1 &= diag(\\sqrt{L_a},\\sqrt{L_a},\\sqrt{L_b},\\sqrt{L_b})\\\\\n",
    "\\dul{L}_2 &= diag(\\sqrt{1-L_a},\\sqrt{1-L_a},\\sqrt{1-L_b},\\sqrt{1-L_b})\\\\\n",
    "\\frmat{A}_1 &= diag\\lk\\alpha_1(\\nu),\\alpha^*_1(-\\nu),\\beta_1(\\nu),\\beta^*_1(-\\nu)\\rk \\text{ where, } \\alpha_1(\\nu) = \\frac{1}{\\sqrt{2\\kappa_{1,a}}}\\lk 2\\kappa_{1,a}+k_a e^{i\\lk\\nu\\tau_a+\\phi_a\\rk}\\rk\n",
    "\\end{align}$$\n",
    "where $\\frvecop{a}_{1,in}$ and $\\frvecop{\\xi}$ represent vacuum fields.\n",
    "\n",
    "Therefore, the intracavity field has the following form:\n",
    "$$\\frvecop{a} = -i\\frmat{N}\\lk\\frmat{A}_1\\,\\frvecop{a}_{1,in} + \\dul{\\kappa}_2\\dul{L}_1\\,\\frvecop{\\xi}\\rk$$"
   ]
  },
  {
   "cell_type": "code",
   "execution_count": null,
   "metadata": {
    "collapsed": true
   },
   "outputs": [],
   "source": []
  },
  {
   "cell_type": "code",
   "execution_count": 1,
   "metadata": {
    "collapsed": true
   },
   "outputs": [],
   "source": [
    "from sympy import *\n",
    "import numpy as np\n",
    "from IPython.display import display, Math, Latex\n",
    "init_printing(use_unicode=True)"
   ]
  },
  {
   "cell_type": "code",
   "execution_count": 2,
   "metadata": {
    "collapsed": false
   },
   "outputs": [],
   "source": [
    "from sympy.assumptions.assume import global_assumptions\n",
    "from sympy.solvers.solvers import check_assumptions\n",
    "\n",
    "dma,dmb,dpa,dpb,eps,Lab,Lba = \\\n",
    "symbols('d_-a d_-b d_+a d_+b \\epsilon \\Lambda_ab \\Lambda_ba')\n",
    "\n",
    "ka,kb,ta,tb,phia,phib,La,Lb,kap1a,kap2a,kap1b,kap2b,Del =\\\n",
    "symbols('k_a k_b \\\\tau_a \\\\tau_b \\phi_a \\phi_b L_a,L_b,\\kappa_1a \\kappa_2a \\kappa_1b \\kappa_2b \\Delta')\n",
    "\n",
    "xia,xida,xib,xidb,a1in,ad1in,b1in,bd1in,nu = \\\n",
    "symbols('\\\\xi_a \\\\xi^+_a \\\\xi_b \\\\xi^+_b a_1in a^+_1in b_1in b^+_1in \\\\nu')\n",
    "\n",
    "taua,taub = symbols('\\\\tau_a \\\\tau_b')\n",
    "\n",
    "alpha1, beta1 = symbols('\\\\alpha_1 \\\\beta_1')\n",
    "\n",
    "kap1 = diag(sqrt(2*kap1a),sqrt(2*kap1a),sqrt(2*kap1b),sqrt(2*kap1b))\n",
    "kap2 = diag(sqrt(2*kap2a),sqrt(2*kap2a),sqrt(2*kap2b),sqrt(2*kap2b))\n",
    "L1   = diag(sqrt(La),sqrt(La),sqrt(Lb),sqrt(Lb))\n",
    "L2   = diag(sqrt(1-La),sqrt(1-La),sqrt(1-Lb),sqrt(1-Lb))\n",
    "K    = diag(ka,ka,kb,kb)\n",
    "ftil = diag(exp(I*(nu*ta+phia)),exp(I*(nu*ta-phia)),exp(I*(nu*tb+phib)),exp(I*(nu*tb-phib)))\n",
    "ain  = Matrix([a1in,ad1in,b1in,bd1in])\n",
    "xi   = Matrix([xia,xida,xib,xidb])\n",
    "\n",
    "A    = -I*diag(alpha1,conjugate(alpha1),beta1,conjugate(beta1)) #A = -i*A1\n",
    "S    = -I*kap2*L1                                               #S = -i*kappa2*L1\n",
    "\n",
    "N    = I*Matrix([[dpb/Lba,0,0,eps/Lba],[0,dmb/Lab,conjugate(eps)/Lab,0],\\\n",
    "              [0,eps/Lab,dpa/Lab,0],[conjugate(eps)/Lba,0,0,dma/Lba]])"
   ]
  },
  {
   "cell_type": "markdown",
   "metadata": {},
   "source": [
    "The input field B has the following form:"
   ]
  },
  {
   "cell_type": "code",
   "execution_count": 3,
   "metadata": {
    "collapsed": false
   },
   "outputs": [
    {
     "data": {
      "image/png": "[encoded data removed]",
      "text/latex": [
       "$$\\left[\\begin{matrix}- 1.0 i \\left(\\sqrt{2} \\sqrt{L_{a}} \\sqrt{\\kappa_2a} \\xi_a + a_{1in} \\left(\\sqrt{2} \\sqrt{\\kappa_1a} + \\sqrt{2} \\sqrt{\\kappa_2a} \\sqrt{- L_{a} + 1} e^{i \\left(\\nu \\tau_a + \\phi_a\\right)}\\right)\\right)\\\\- 1.0 i \\left(\\sqrt{2} \\sqrt{L_{a}} \\sqrt{\\kappa_2a} \\xi^+_a + a^{+}_{1in} \\left(\\sqrt{2} \\sqrt{\\kappa_1a} + \\sqrt{2} \\sqrt{\\kappa_2a} \\sqrt{- L_{a} + 1} e^{i \\left(\\nu \\tau_a - \\phi_a\\right)}\\right)\\right)\\\\- 1.0 i \\left(\\sqrt{2} \\sqrt{L_{b}} \\sqrt{\\kappa_2b} \\xi_b + b_{1in} \\left(\\sqrt{2} \\sqrt{\\kappa_1b} + \\sqrt{2} \\sqrt{\\kappa_2b} \\sqrt{- L_{b} + 1} e^{i \\left(\\nu \\tau_b + \\phi_b\\right)}\\right)\\right)\\\\- 1.0 i \\left(\\sqrt{2} \\sqrt{L_{b}} \\sqrt{\\kappa_2b} \\xi^+_b + b^{+}_{1in} \\left(\\sqrt{2} \\sqrt{\\kappa_1b} + \\sqrt{2} \\sqrt{\\kappa_2b} \\sqrt{- L_{b} + 1} e^{i \\left(\\nu \\tau_b - \\phi_b\\right)}\\right)\\right)\\end{matrix}\\right]$$"
      ],
      "text/plain": [
       "⎡             ⎛     ____   __________             ⎛     __________        ____\n",
       "⎢      -1.0⋅ⅈ⋅⎝√2⋅╲╱ Lₐ ⋅╲╱ \\kappa₂ₐ ⋅\\xiₐ + a₁ᵢₙ⋅⎝√2⋅╲╱ \\kappa₁ₐ  + √2⋅╲╱ \\ka\n",
       "⎢                                                                             \n",
       "⎢            ⎛     ____   __________               ⎛     __________        ___\n",
       "⎢     -1.0⋅ⅈ⋅⎝√2⋅╲╱ Lₐ ⋅╲╱ \\kappa₂ₐ ⋅\\xi⁺ₐ + a⁺₁ᵢₙ⋅⎝√2⋅╲╱ \\kappa₁ₐ  + √2⋅╲╱ \\k\n",
       "⎢                                                                             \n",
       "⎢         ⎛     _____   ___________              ⎛     ___________        ____\n",
       "⎢  -1.0⋅ⅈ⋅⎝√2⋅╲╱ L_b ⋅╲╱ \\kappa_2b ⋅\\xi_b + b₁ᵢₙ⋅⎝√2⋅╲╱ \\kappa_1b  + √2⋅╲╱ \\ka\n",
       "⎢                                                                             \n",
       "⎢       ⎛     _____   ___________                  ⎛     ___________        __\n",
       "⎣-1.0⋅ⅈ⋅⎝√2⋅╲╱ L_b ⋅╲╱ \\kappa_2b ⋅\\xi_b__+ + b⁺₁ᵢₙ⋅⎝√2⋅╲╱ \\kappa_1b  + √2⋅╲╱ \\\n",
       "\n",
       "______   _________  ⅈ⋅(\\nu⋅\\tauₐ + \\phiₐ)⎞⎞      ⎤\n",
       "ppa₂ₐ ⋅╲╱ -Lₐ + 1 ⋅ℯ                     ⎠⎠      ⎥\n",
       "                                                 ⎥\n",
       "_______   _________  ⅈ⋅(\\nu⋅\\tauₐ - \\phiₐ)⎞⎞     ⎥\n",
       "appa₂ₐ ⋅╲╱ -Lₐ + 1 ⋅ℯ                     ⎠⎠     ⎥\n",
       "                                                 ⎥\n",
       "_______   __________  ⅈ⋅(\\nu⋅\\tau_b + \\phi_b)⎞⎞  ⎥\n",
       "ppa_2b ⋅╲╱ -L_b + 1 ⋅ℯ                       ⎠⎠  ⎥\n",
       "                                                 ⎥\n",
       "_________   __________  ⅈ⋅(\\nu⋅\\tau_b - \\phi_b)⎞⎞⎥\n",
       "kappa_2b ⋅╲╱ -L_b + 1 ⋅ℯ                       ⎠⎠⎦"
      ]
     },
     "execution_count": 3,
     "metadata": {},
     "output_type": "execute_result"
    }
   ],
   "source": [
    "B    = -1j*((kap1+kap2*ftil*L2)*ain + kap2*L1*xi)\n",
    "B"
   ]
  },
  {
   "cell_type": "markdown",
   "metadata": {},
   "source": [
    "which is the same as (with the notation shown above)"
   ]
  },
  {
   "cell_type": "code",
   "execution_count": 4,
   "metadata": {
    "collapsed": false
   },
   "outputs": [
    {
     "data": {
      "image/png": "[encoded data removed]",
      "text/latex": [
       "$$\\left[\\begin{matrix}- i \\left(\\sqrt{2} \\sqrt{L_{a}} \\sqrt{\\kappa_2a} \\xi_a + \\alpha_1 a_{1in}\\right)\\\\- i \\left(\\sqrt{2} \\sqrt{L_{a}} \\sqrt{\\kappa_2a} \\xi^+_a + a^{+}_{1in} \\overline{\\alpha_1}\\right)\\\\- i \\left(\\sqrt{2} \\sqrt{L_{b}} \\sqrt{\\kappa_2b} \\xi_b + \\beta_1 b_{1in}\\right)\\\\- i \\left(\\sqrt{2} \\sqrt{L_{b}} \\sqrt{\\kappa_2b} \\xi^+_b + b^{+}_{1in} \\overline{\\beta_1}\\right)\\end{matrix}\\right]$$"
      ],
      "text/plain": [
       "⎡      ⎛     ____   __________                    ⎞   ⎤\n",
       "⎢   -ⅈ⋅⎝√2⋅╲╱ Lₐ ⋅╲╱ \\kappa₂ₐ ⋅\\xiₐ + \\alpha₁⋅a₁ᵢₙ⎠   ⎥\n",
       "⎢                                                     ⎥\n",
       "⎢     ⎛     ____   __________               _______⎞  ⎥\n",
       "⎢  -ⅈ⋅⎝√2⋅╲╱ Lₐ ⋅╲╱ \\kappa₂ₐ ⋅\\xi⁺ₐ + a⁺₁ᵢₙ⋅\\alpha₁⎠  ⎥\n",
       "⎢                                                     ⎥\n",
       "⎢     ⎛     _____   ___________                    ⎞  ⎥\n",
       "⎢  -ⅈ⋅⎝√2⋅╲╱ L_b ⋅╲╱ \\kappa_2b ⋅\\xi_b + \\beta₁⋅b₁ᵢₙ⎠  ⎥\n",
       "⎢                                                     ⎥\n",
       "⎢   ⎛     _____   ___________                  ______⎞⎥\n",
       "⎣-ⅈ⋅⎝√2⋅╲╱ L_b ⋅╲╱ \\kappa_2b ⋅\\xi_b__+ + b⁺₁ᵢₙ⋅\\beta₁⎠⎦"
      ]
     },
     "execution_count": 4,
     "metadata": {},
     "output_type": "execute_result"
    }
   ],
   "source": [
    "simplify(A*ain+S*xi)"
   ]
  },
  {
   "cell_type": "markdown",
   "metadata": {},
   "source": [
    "### Intracavity field"
   ]
  },
  {
   "cell_type": "code",
   "execution_count": 5,
   "metadata": {
    "collapsed": false
   },
   "outputs": [
    {
     "data": {
      "image/png": "[encoded data removed]",
      "text/latex": [
       "$$\\left[\\begin{matrix}\\frac{1}{\\Lambda_ba} \\left(\\epsilon \\left(\\sqrt{2} \\sqrt{L_{b}} \\sqrt{\\kappa_2b} \\xi^+_b + b^{+}_{1in} \\overline{\\beta_1}\\right) + d_{+b} \\left(\\sqrt{2} \\sqrt{L_{a}} \\sqrt{\\kappa_2a} \\xi_a + \\alpha_1 a_{1in}\\right)\\right)\\\\\\frac{1}{\\Lambda_ab} \\left(d_{-b} \\left(\\sqrt{2} \\sqrt{L_{a}} \\sqrt{\\kappa_2a} \\xi^+_a + a^{+}_{1in} \\overline{\\alpha_1}\\right) + \\left(\\sqrt{2} \\sqrt{L_{b}} \\sqrt{\\kappa_2b} \\xi_b + \\beta_1 b_{1in}\\right) \\overline{\\epsilon}\\right)\\\\\\frac{1}{\\Lambda_ab} \\left(\\epsilon \\left(\\sqrt{2} \\sqrt{L_{a}} \\sqrt{\\kappa_2a} \\xi^+_a + a^{+}_{1in} \\overline{\\alpha_1}\\right) + d_{+a} \\left(\\sqrt{2} \\sqrt{L_{b}} \\sqrt{\\kappa_2b} \\xi_b + \\beta_1 b_{1in}\\right)\\right)\\\\\\frac{1}{\\Lambda_ba} \\left(d_{-a} \\left(\\sqrt{2} \\sqrt{L_{b}} \\sqrt{\\kappa_2b} \\xi^+_b + b^{+}_{1in} \\overline{\\beta_1}\\right) + \\left(\\sqrt{2} \\sqrt{L_{a}} \\sqrt{\\kappa_2a} \\xi_a + \\alpha_1 a_{1in}\\right) \\overline{\\epsilon}\\right)\\end{matrix}\\right]$$"
      ],
      "text/plain": [
       "⎡         ⎛     _____   ___________                  ______⎞        ⎛     ____\n",
       "⎢\\epsilon⋅⎝√2⋅╲╱ L_b ⋅╲╱ \\kappa_2b ⋅\\xi_b__+ + b⁺₁ᵢₙ⋅\\beta₁⎠ + d_+b⋅⎝√2⋅╲╱ Lₐ \n",
       "⎢─────────────────────────────────────────────────────────────────────────────\n",
       "⎢                                                   \\Lambda_ba                \n",
       "⎢                                                                             \n",
       "⎢      ⎛     ____   __________               _______⎞   ⎛     _____   ________\n",
       "⎢ d_-b⋅⎝√2⋅╲╱ Lₐ ⋅╲╱ \\kappa₂ₐ ⋅\\xi⁺ₐ + a⁺₁ᵢₙ⋅\\alpha₁⎠ + ⎝√2⋅╲╱ L_b ⋅╲╱ \\kappa_\n",
       "⎢ ────────────────────────────────────────────────────────────────────────────\n",
       "⎢                                                   \\Lambda_ab                \n",
       "⎢                                                                             \n",
       "⎢          ⎛     ____   __________               _______⎞       ⎛     _____   \n",
       "⎢ \\epsilon⋅⎝√2⋅╲╱ Lₐ ⋅╲╱ \\kappa₂ₐ ⋅\\xi⁺ₐ + a⁺₁ᵢₙ⋅\\alpha₁⎠ + d₊ₐ⋅⎝√2⋅╲╱ L_b ⋅╲╱\n",
       "⎢ ────────────────────────────────────────────────────────────────────────────\n",
       "⎢                                                  \\Lambda_ab                 \n",
       "⎢                                                                             \n",
       "⎢    ⎛     _____   ___________                  ______⎞   ⎛     ____   _______\n",
       "⎢d₋ₐ⋅⎝√2⋅╲╱ L_b ⋅╲╱ \\kappa_2b ⋅\\xi_b__+ + b⁺₁ᵢₙ⋅\\beta₁⎠ + ⎝√2⋅╲╱ Lₐ ⋅╲╱ \\kappa\n",
       "⎢─────────────────────────────────────────────────────────────────────────────\n",
       "⎣                                                  \\Lambda_ba                 \n",
       "\n",
       "   __________                    ⎞⎤\n",
       "⋅╲╱ \\kappa₂ₐ ⋅\\xiₐ + \\alpha₁⋅a₁ᵢₙ⎠⎥\n",
       "──────────────────────────────────⎥\n",
       "                                  ⎥\n",
       "                                  ⎥\n",
       "___                    ⎞ ________ ⎥\n",
       "2b ⋅\\xi_b + \\beta₁⋅b₁ᵢₙ⎠⋅\\epsilon ⎥\n",
       "───────────────────────────────── ⎥\n",
       "                                  ⎥\n",
       "                                  ⎥\n",
       "___________                    ⎞  ⎥\n",
       " \\kappa_2b ⋅\\xi_b + \\beta₁⋅b₁ᵢₙ⎠  ⎥\n",
       "────────────────────────────────  ⎥\n",
       "                                  ⎥\n",
       "                                  ⎥\n",
       "___                    ⎞ ________ ⎥\n",
       "₂ₐ ⋅\\xiₐ + \\alpha₁⋅a₁ᵢₙ⎠⋅\\epsilon ⎥\n",
       "───────────────────────────────── ⎥\n",
       "                                  ⎦"
      ]
     },
     "execution_count": 5,
     "metadata": {},
     "output_type": "execute_result"
    }
   ],
   "source": [
    "a = (N*(A*ain+S*xi))\n",
    "simplify(a)"
   ]
  },
  {
   "cell_type": "markdown",
   "metadata": {},
   "source": [
    "So we have the following equations for the intracavity field:\n",
    "$$\\begin{align}\n",
    "\\frop{a}(\\nu) &= \\frac{1}{\\Lambda_{ba}(\\nu)}\\lsz d_{+b}(\\nu) \\alpha_1(\\nu) \\frop{a}_{1,in}(\\nu)+\\epsilon\\beta_1^*(-\\nu)\\frop{b}^\\dagger_{1,in}(-\\nu)+\\right.\\\\\n",
    "&\\quad\\left. \\sqrt{2\\kappa_{2,a}L_a}d_{+b}(\\nu)\\frop{\\xi}_a(\\nu) +  \\sqrt{2\\kappa_{2,b}L_b}\\epsilon\\frop{\\xi}^\\dagger_b(-\\nu) \\rsz\\\\\n",
    "\\frop{a}^\\dagger(-\\nu) &=\\frac{1}{\\Lambda_{ab}(\\nu)}\\lsz d_{-b}(\\nu) \\alpha_1^*(-\\nu) \\frop{a}^\\dagger_{1,in}(-\\nu)+\\epsilon^*\\beta_1(\\nu)\\frop{b}_{1,in}(\\nu)+\\right.\\\\\n",
    "&\\quad\\left. \\sqrt{2\\kappa_{2,a}L_a}d_{-b}(\\nu)\\frop{\\xi}^\\dagger_a(-\\nu) +  \\sqrt{2\\kappa_{2,b}L_b}\\epsilon^*\\frop{\\xi}_b(\\nu) \\rsz\\\\\n",
    "\\frop{b}(\\nu) &=\\frac{1}{\\Lambda_{ab}(\\nu)}\\lsz \\epsilon \\alpha_1^*(-\\nu) \\frop{a}^\\dagger_{1,in}(-\\nu)+d_{+a}(\\nu)\\beta_1(\\nu)\\frop{b}_{1,in}(\\nu)+\\right.\\\\\n",
    "&\\quad\\left. \\sqrt{2\\kappa_{2,b}L_b}d_{+a}(\\nu)\\frop{\\xi}_b(\\nu) +  \\sqrt{2\\kappa_{2,a}L_a}\\epsilon\\frop{\\xi}^\\dagger_a(-\\nu) \\rsz\\\\\n",
    "\\frop{b}^\\dagger(-\\nu) &=\\frac{1}{\\Lambda_{ba}(\\nu)}\\lsz \\epsilon^* \\alpha_1(\\nu) \\frop{a}_{1,in}(\\nu)+d_{-a}(\\nu)\\beta_1^*(-\\nu)\\frop{b}^\\dagger_{1,in}(-\\nu)+\\right.\\\\\n",
    "&\\quad\\left. \\sqrt{2\\kappa_{2,b}L_b}d_{-a}(\\nu)\\frop{\\xi}^\\dagger_b(-\\nu) +  \\sqrt{2\\kappa_{2,a}L_a}\\epsilon^*\\frop{\\xi}_a(\\nu) \\rsz\n",
    "\\end{align}$$"
   ]
  },
  {
   "cell_type": "markdown",
   "metadata": {},
   "source": [
    "## Output field\n",
    "$$\\begin{align}\n",
    "\\hat{\\tilde{\\underline{a}}}_{2,out} &= \\hat{\\tilde{\\underline{a}}}_{2,in} + \\dul{\\kappa}_2\\hat{\\tilde{\\underline{a}}} = \\sqrt{2\\pi}\\dul{L}_2\\frmat{f}_N\\lk\\frvecop{a}_{1,in}+\\dul{\\kappa}_1\\frvecop{a}\\rk + \\dul{L}_1\\frvecop{\\xi}+\\dul{\\kappa}_2\\hat{\\tilde{\\underline{a}}}=\\\\\n",
    "&= \\sqrt{2\\pi}\\dul{L}_2\\frmat{f}_N\\frvecop{a}_{1,in}+\\dul{L}_1\\frvecop{\\xi}-i\\lk\\sqrt{2\\pi}\\dul{L}_2\\frmat{f}_N\\dul{\\kappa}_1 + \\dul{\\kappa}_2\\rk\\frmat{N}\\lk\\frmat{A}_1\\,\\frvecop{a}_{1,in} + \\dul{\\kappa}_2\\dul{L}_1\\,\\frvecop{\\xi}\\rk =\\\\\n",
    "&= \\lsz\\sqrt{2\\pi}\\dul{L}_2\\ \\frmat{f}_N -i\\lk\\sqrt{2\\pi}\\dul{L}_2\\ \\frmat{f}_N\\dul{\\kappa}_1 + \\dul{\\kappa}_2\\rk\\frmat{N}\\ \\frmat{A}_1\\rsz\\frvecop{a}_{1,in}+\\lsz\\dul{\\mathbb{1}}-i\\lk\\sqrt{2\\pi}\\dul{L}_2\\ \\frmat{f}_N\\dul{\\kappa}_1 + \\dul{\\kappa}_2\\rk\\frmat{N}\\ \\dul{\\kappa}_2\\rsz\\dul{L}_1\\frvecop{\\xi}=\\\\\n",
    "&=\\frmat{O}_1\\frvecop{a}_{1,in}+\\frmat{O}_2\\frvecop{\\xi}\n",
    "\\end{align}$$"
   ]
  },
  {
   "cell_type": "code",
   "execution_count": 6,
   "metadata": {
    "collapsed": false
   },
   "outputs": [
    {
     "data": {
      "image/png": "[encoded data removed]",
      "text/latex": [
       "$$\\frac{1}{\\Lambda_ab} \\left(2 \\sqrt{L_{a}} \\epsilon \\sqrt{\\kappa_2a} \\xi^+_a \\left(\\sqrt{\\kappa_1b} \\sqrt{- L_{b} + 1} e^{i \\left(\\nu \\tau_b + \\phi_b\\right)} + \\sqrt{\\kappa_2b}\\right) + \\sqrt{L_{b}} \\xi_b \\left(1.0 \\Lambda_ab + 2 \\sqrt{\\kappa_2b} d_{+a} \\left(\\sqrt{\\kappa_1b} \\sqrt{- L_{b} + 1} e^{i \\left(\\nu \\tau_b + \\phi_b\\right)} + \\sqrt{\\kappa_2b}\\right)\\right) + \\sqrt{2} \\epsilon a^{+}_{1in} \\left(\\sqrt{\\kappa_1b} \\sqrt{- L_{b} + 1} e^{i \\left(\\nu \\tau_b + \\phi_b\\right)} + \\sqrt{\\kappa_2b}\\right) \\overline{\\alpha_1} + b_{1in} \\left(\\Lambda_ab \\sqrt{- L_{b} + 1} e^{i \\left(\\nu \\tau_b + \\phi_b\\right)} + \\sqrt{2} \\beta_1 d_{+a} \\left(\\sqrt{\\kappa_1b} \\sqrt{- L_{b} + 1} e^{i \\left(\\nu \\tau_b + \\phi_b\\right)} + \\sqrt{\\kappa_2b}\\right)\\right)\\right)$$"
      ],
      "text/plain": [
       "    ____            __________       ⎛  ___________   __________  ⅈ⋅(\\nu⋅\\tau_\n",
       "2⋅╲╱ Lₐ ⋅\\epsilon⋅╲╱ \\kappa₂ₐ ⋅\\xi⁺ₐ⋅⎝╲╱ \\kappa_1b ⋅╲╱ -L_b + 1 ⋅ℯ            \n",
       "──────────────────────────────────────────────────────────────────────────────\n",
       "                                                                              \n",
       "\n",
       "b + \\phi_b)     ___________⎞     _____       ⎛                     ___________\n",
       "            + ╲╱ \\kappa_2b ⎠ + ╲╱ L_b ⋅\\xi_b⋅⎝1.0⋅\\Lambda_ab + 2⋅╲╱ \\kappa_2b \n",
       "──────────────────────────────────────────────────────────────────────────────\n",
       "                                                                              \n",
       "\n",
       "     ⎛  ___________   __________  ⅈ⋅(\\nu⋅\\tau_b + \\phi_b)     ___________⎞⎞   \n",
       "⋅d₊ₐ⋅⎝╲╱ \\kappa_1b ⋅╲╱ -L_b + 1 ⋅ℯ                        + ╲╱ \\kappa_2b ⎠⎠ + \n",
       "──────────────────────────────────────────────────────────────────────────────\n",
       "                                                                            \\L\n",
       "\n",
       "                  ⎛  ___________   __________  ⅈ⋅(\\nu⋅\\tau_b + \\phi_b)     ___\n",
       "√2⋅\\epsilon⋅a⁺₁ᵢₙ⋅⎝╲╱ \\kappa_1b ⋅╲╱ -L_b + 1 ⋅ℯ                        + ╲╱ \\k\n",
       "──────────────────────────────────────────────────────────────────────────────\n",
       "ambda_ab                                                                      \n",
       "\n",
       "________⎞ _______        ⎛             __________  ⅈ⋅(\\nu⋅\\tau_b + \\phi_b)    \n",
       "appa_2b ⎠⋅\\alpha₁ + b₁ᵢₙ⋅⎝\\Lambda_ab⋅╲╱ -L_b + 1 ⋅ℯ                        + √\n",
       "──────────────────────────────────────────────────────────────────────────────\n",
       "                                                                              \n",
       "\n",
       "             ⎛  ___________   __________  ⅈ⋅(\\nu⋅\\tau_b + \\phi_b)     ________\n",
       "2⋅\\beta₁⋅d₊ₐ⋅⎝╲╱ \\kappa_1b ⋅╲╱ -L_b + 1 ⋅ℯ                        + ╲╱ \\kappa_\n",
       "──────────────────────────────────────────────────────────────────────────────\n",
       "                                                                              \n",
       "\n",
       "___⎞⎞\n",
       "2b ⎠⎠\n",
       "─────\n",
       "     "
      ]
     },
     "execution_count": 6,
     "metadata": {},
     "output_type": "execute_result"
    }
   ],
   "source": [
    "O1 = L2*ftil+(L2*ftil*kap1+kap2)*N*A\n",
    "O2 = (np.identity(4)-I*(L2*ftil*kap1+kap2)*N*kap2)*L1\n",
    "aout = O1*ain + O2*xi\n",
    "simplify(aout[2])"
   ]
  },
  {
   "cell_type": "markdown",
   "metadata": {},
   "source": [
    "Therefore the output fields have the following expressions:\n",
    "$$\\begin{align}\n",
    "\\frop{a}_{2,out}(\\nu) &=  \\overbrace{\\lk \\sqrt{1-L_a} e^{i\\lk\\nu\\tau_a+\\phi_a\\rk}+\\frac{d_{+b}(\\nu)}{\\Lambda_{ba}(\\nu)}\\alpha_1(\\nu)\\alpha_2(\\nu)\\rk}^{\\frac{D_a(\\nu)}{\\Lambda_{ba}(\\nu)}}\\frop{a}_{1,in}(\\nu)+\\overbrace{\\sqrt{L_a}\\lk 1+\\sqrt{2\\kappa_{2,a}}\\frac{d_{+b}(\\nu)\\alpha_2(\\nu)}{\\Lambda_{ba}}\\rk}^{\\frac{E_a(\\nu)}{\\Lambda_{ba}}}\\frop{\\xi}_a(\\nu)+\\\\\n",
    "&\\quad+\\epsilon\\frac{\\alpha_2(\\nu)}{\\Lambda_{ba}(\\nu)}\\lsz\\lk\\beta^*_1(-\\nu)\\frop{b}^\\dagger_{1,in}(-\\nu)+\\sqrt{2\\kappa_{2,b}L_b}\\frop{\\xi}^\\dagger_b(-\\nu)\\rk\\rsz=\\\\\n",
    "&=\\frac{1}{\\Lambda_{ba}(\\nu)}\\lka D_a(\\nu)\\frop{a}_{1,in}(\\nu)+E_a(\\nu)\\frop{\\xi}_a(\\nu)+\\epsilon\\alpha_2(\\nu)\\lsz\\beta^*_1(-\\nu)\\frop{b}^\\dagger_{1,in}(-\\nu)+\\sqrt{2\\kappa_{2,b}L_b}\\frop{\\xi}^\\dagger_b(-\\nu)\\rsz\\rka\\\\\n",
    "\\frop{a}^\\dagger_{2,out}(-\\nu) &= \\frac{1}{\\Lambda_{ab}(\\nu)}\\lka D^*_a(-\\nu)\\frop{a}^\\dagger_{1,in}(-\\nu)+E^*_a(-\\nu)\\frop{\\xi}^\\dagger_a(-\\nu)+\\epsilon^*\\alpha^*_2(-\\nu)\\lsz\\beta_1(\\nu)\\frop{b}_{1,in}(\\nu)+\\sqrt{2\\kappa_{2,b}L_b}\\frop{\\xi}_b(\\nu)\\rsz\\rka\\\\\n",
    "\\frop{b}_{2,out}(\\nu)&= \\frac{1}{\\Lambda_{ab}(\\nu)}\\lka D_b(\\nu)\\frop{b}_{1,in}(\\nu)+E_b(\\nu)\\frop{\\xi}_b(\\nu)+\\epsilon\\beta_2(\\nu)\\lsz\\alpha^*_1(-\\nu)\\frop{a}^\\dagger_{1,in}(-\\nu)+\\sqrt{2\\kappa_{2,a}L_a}\\frop{\\xi}^\\dagger_a(-\\nu)\\rsz\\rka\\\\\n",
    "\\frop{b}^\\dagger_{2,out}(-\\nu) &= \\frac{1}{\\Lambda_{ba}(\\nu)}\\lka D^*_b(-\\nu)\\frop{b}^\\dagger_{1,in}(-\\nu)+E^*_b(-\\nu)\\frop{\\xi}^\\dagger_b(-\\nu)+\\epsilon^*\\beta^*_2(-\\nu)\\lsz\\alpha_1(\\nu)\\frop{a}_{1,in}(\\nu)+\\sqrt{2\\kappa_{2,a}L_a}\\frop{\\xi}_a(\\nu)\\rsz\\rka\n",
    "\\end{align}$$"
   ]
  },
  {
   "cell_type": "code",
   "execution_count": 7,
   "metadata": {
    "collapsed": false
   },
   "outputs": [
    {
     "data": {
      "image/png": "[encoded data removed]",
      "text/latex": [
       "$$\\left[\\begin{matrix}\\frac{1}{\\Lambda_ba} \\left(D_{a} a_{1in} + E_{a} \\xi_a + \\alpha_2 \\epsilon \\left(\\sqrt{2} \\xi^+_b \\sqrt{L_{b} \\kappa_2b} + b^{+}_{1in} \\overline{\\beta_1}\\right)\\right)\\\\\\frac{1}{\\Lambda_ab} \\left(\\xi^+_a \\overline{E_{a}} + a^{+}_{1in} \\overline{D_{a}} + \\left(\\beta_1 b_{1in} + \\sqrt{2} \\xi_b \\sqrt{L_{b} \\kappa_2b}\\right) \\overline{\\alpha_2} \\overline{\\epsilon}\\right)\\\\\\frac{1}{\\Lambda_ab} \\left(D_{b} b_{1in} + E_{b} \\xi_b + \\beta_2 \\epsilon \\left(\\sqrt{2} \\xi^+_a \\sqrt{L_{a} \\kappa_2a} + a^{+}_{1in} \\overline{\\alpha_1}\\right)\\right)\\\\\\frac{1}{\\Lambda_ba} \\left(\\xi^+_b \\overline{E_{b}} + b^{+}_{1in} \\overline{D_{b}} + \\left(\\alpha_1 a_{1in} + \\sqrt{2} \\xi_a \\sqrt{L_{a} \\kappa_2a}\\right) \\overline{\\beta_2} \\overline{\\epsilon}\\right)\\end{matrix}\\right]$$"
      ],
      "text/plain": [
       "⎡                                     ⎛              _______________         _\n",
       "⎢Dₐ⋅a₁ᵢₙ + Eₐ⋅\\xiₐ + \\alpha₂⋅\\epsilon⋅⎝√2⋅\\xi_b__+⋅╲╱ L_b⋅\\kappa_2b  + b⁺₁ᵢₙ⋅\\\n",
       "⎢─────────────────────────────────────────────────────────────────────────────\n",
       "⎢                                     \\Lambda_ba                              \n",
       "⎢                                                                             \n",
       "⎢       __         __   ⎛                         _______________⎞ _______ ___\n",
       "⎢ \\xi⁺ₐ⋅Eₐ + a⁺₁ᵢₙ⋅Dₐ + ⎝\\beta₁⋅b₁ᵢₙ + √2⋅\\xi_b⋅╲╱ L_b⋅\\kappa_2b ⎠⋅\\alpha₂⋅\\ep\n",
       "⎢ ────────────────────────────────────────────────────────────────────────────\n",
       "⎢                                     \\Lambda_ab                              \n",
       "⎢                                                                             \n",
       "⎢                                        ⎛           _____________         ___\n",
       "⎢ D_b⋅b₁ᵢₙ + E_b⋅\\xi_b + \\beta₂⋅\\epsilon⋅⎝√2⋅\\xi⁺ₐ⋅╲╱ Lₐ⋅\\kappa₂ₐ  + a⁺₁ᵢₙ⋅\\al\n",
       "⎢ ────────────────────────────────────────────────────────────────────────────\n",
       "⎢                                     \\Lambda_ab                              \n",
       "⎢                                                                             \n",
       "⎢         ___         ___   ⎛                         _____________⎞ ______ __\n",
       "⎢\\xi_b__+⋅E_b + b⁺₁ᵢₙ⋅D_b + ⎝\\alpha₁⋅a₁ᵢₙ + √2⋅\\xiₐ⋅╲╱ Lₐ⋅\\kappa₂ₐ ⎠⋅\\beta₂⋅\\e\n",
       "⎢─────────────────────────────────────────────────────────────────────────────\n",
       "⎣                                     \\Lambda_ba                              \n",
       "\n",
       "_____⎞⎤\n",
       "beta₁⎠⎥\n",
       "──────⎥\n",
       "      ⎥\n",
       "      ⎥\n",
       "_____ ⎥\n",
       "silon ⎥\n",
       "───── ⎥\n",
       "      ⎥\n",
       "      ⎥\n",
       "____⎞ ⎥\n",
       "pha₁⎠ ⎥\n",
       "───── ⎥\n",
       "      ⎥\n",
       "      ⎥\n",
       "______⎥\n",
       "psilon⎥\n",
       "──────⎥\n",
       "      ⎦"
      ]
     },
     "execution_count": 7,
     "metadata": {},
     "output_type": "execute_result"
    }
   ],
   "source": [
    "alpha1,beta1,alpha2,beta2,Da,Db,Ea,Eb = symbols('\\\\alpha_1 \\\\beta_1 \\\\alpha_2 \\\\beta_2 D_a D_b E_a E_b')\n",
    "thetapa,thetapb,kapa,kapb = symbols('\\\\theta_pa \\\\theta_pb \\kappa_a \\kappa_b')\n",
    "aout = Matrix([1/(Lba)*(Da*a1in+Ea*xia+alpha2*eps*(conjugate(beta1)*bd1in+sqrt(2*kap2b*Lb)*xidb)),\\\n",
    "               1/(Lab)*(conjugate(Da)*ad1in+conjugate(Ea)*xida+\\\n",
    "                        conjugate(alpha2)*conjugate(eps)*(beta1*b1in+sqrt(2*kap2b*Lb)*xib)),\\\n",
    "               1/(Lab)*(Db*b1in+Eb*xib+beta2*eps*(conjugate(alpha1)*ad1in+sqrt(2*kap2a*La)*xida)),\\\n",
    "               1/(Lba)*(conjugate(Db)*bd1in+conjugate(Eb)*xidb+\\\n",
    "                        conjugate(beta2)*conjugate(eps)*(alpha1*a1in+sqrt(2*kap2a*La)*xia))])\n",
    "aout"
   ]
  },
  {
   "cell_type": "markdown",
   "metadata": {},
   "source": [
    "## Quadrature variances\n",
    "\n",
    "The quadratures of the two modes are:\n",
    "$$\\begin{align}\n",
    "\\frop{X}_{\\mu,\\theta^\\prime_\\mu}&=\\frac{1}{2}\\lk\\frop{\\mu}e^{-i\\thetap_\\mu/2}+\\frop{\\mu}^\\dagger e^{i\\thetap_\\mu/2}\\rk\\\\\n",
    "\\frop{Y}_{\\mu,\\theta^\\prime_\\mu}&=\\frac{1}{2i}\\lk\\frop{\\mu}e^{-i\\thetap_\\mu/2}-\\frop{\\mu}^\\dagger e^{i\\thetap_\\mu/2}\\rk\n",
    "\\end{align}$$\n",
    "The generalized quadratures involve both modes:\n",
    "$$\\begin{align}\n",
    "\\frop{X}^G_{\\thetap} &= \\lk \\frop{X}_{a,\\thetap_a}+\\frop{X}_{b,\\thetap_b}\\rk\\\\\n",
    "\\frop{Y}^G_{\\thetap} &= \\lk \\frop{Y}_{a,\\thetap_a}- \\frop{Y}_{b,\\thetap_b}\\rk\n",
    "\\end{align}$$\n",
    "For two-party, two-mode entanglement, the following condition must be satisfied for separability of any CV state (PRL 84:2722 (2000)):\n",
    "$$\\left\\langle\\lsz\\Delta\\frop{X}^G_{\\thetap}\\rsz^2\\right\\rangle+\\left\\langle\\lsz\\Delta\\frop{Y}^G_{\\thetap}\\rsz^2\\right\\rangle\\ge \\left|\\left\\langle\\lsz\\frop{X}_{a,\\thetap_a},\\frop{Y}_{a,\\thetap_a}\\rsz\\right\\rangle\\right|+\\left|\\left\\langle\\lsz\\frop{X}_{b,\\thetap_b},\\frop{Y}_{b,\\thetap_b}\\rsz\\right\\rangle\\right|=1$$\n",
    "\n"
   ]
  },
  {
   "cell_type": "markdown",
   "metadata": {},
   "source": [
    "$$\n",
    "\\def\\nup{\\nu^\\prime}\n",
    "\\begin{align}\n",
    "\\left\\langle\\lsz\\Delta\\frop{X}^G_{\\thetap}\\rsz^2\\right\\rangle+\\left\\langle\\lsz\\Delta\\frop{Y}^G_{\\thetap}\\rsz^2\\right\\rangle=\\\\\n",
    "=\\frac{1}{4}\\lka\\left\\langle\\lk\\frop{a}e^{-i\\thetap_a/2}+\\frop{a}^\\dagger e^{i\\thetap_a/2}+\\frop{b}e^{-i\\thetap_b/2}+\\frop{b}^\\dagger e^{i\\thetap_b/2}\\rk\\lk\\frop{a}e^{-i\\thetap_a/2}+\\frop{a}^\\dagger e^{i\\thetap_a/2}+\\frop{b}e^{-i\\thetap_b/2}+\\frop{b}^\\dagger e^{i\\thetap_b/2}\\rk\\right\\rangle-\\right.\\\\\n",
    "\\left.-\\left\\langle\\lk\\frop{a}e^{-i\\thetap_a/2}-\\frop{a}^\\dagger e^{i\\thetap_a/2}-\\frop{b}e^{-i\\thetap_b/2}+\\frop{b}^\\dagger e^{i\\thetap_b/2}\\rk\\lk\\frop{a}e^{-i\\thetap_a/2}-\\frop{a}^\\dagger e^{i\\thetap_a/2}-\\frop{b}e^{-i\\thetap_b/2}+\\frop{b}^\\dagger e^{i\\thetap_b/2}\\rk\\right\\rangle\\rka=\\\\\n",
    "=\\frac{1}{2}\\lka\\bra\\frop{a}\\frop{a}^\\dagger\\ket+\\bra\\frop{a}^\\dagger\\frop{a}\\ket+\\bra\\frop{b}\\frop{b}^\\dagger\\ket+\\bra\\frop{b}^\\dagger\\frop{b}\\ket+\\lk\\bra\\frop{a}\\frop{b}\\ket+\\bra\\frop{b}\\frop{a}\\ket\\rk e^{-i\\lk\\thetap_a+\\thetap_b\\rk/2}+\\lk\\bra\\frop{a}^\\dagger\\frop{b}^\\dagger\\ket+\\bra\\frop{b}^\\dagger\\frop{a}^\\dagger\\ket\\rk e^{i\\lk\\thetap_a+\\thetap_b\\rk/2}\\rka\\\\\n",
    "\\bra:\\lsz\\Delta\\frop{X}^G_{\\thetap}\\rsz^2:\\ket+\\bra:\\lsz\\Delta\\frop{Y}^G_{\\thetap}\\rsz^2:\\ket=\\frac{1}{2}\\lka\\bra\\frop{a}^\\dagger(-\\nu)\\frop{a}(\\nup)\\ket+\\bra\\frop{a}^\\dagger(-\\nup)\\frop{a}(\\nu)\\ket+\\bra\\frop{b}^\\dagger(-\\nu)\\frop{b}(\\nup)\\ket+\\bra\\frop{b}^\\dagger(-\\nup)\\frop{b}(\\nu)\\ket+\\\\\n",
    "\\lsz\\bra\\frop{a(\\nu)}\\frop{b(\\nup)}\\ket+\\bra\\frop{b(\\nu)}\\frop{a(\\nup)}\\ket\\rsz e^{-i\\lk\\thetap_a+\\thetap_b\\rk/2}+\\lsz\\bra\\frop{a}^\\dagger(-\\nu)\\frop{b}^\\dagger(-\\nup)\\ket+\\bra\\frop{b}^\\dagger(-\\nup)\\frop{a}^\\dagger(-\\nu)\\ket\\rsz e^{i\\lk\\thetap_a+\\thetap_b\\rk/2}\\rka\n",
    "\\end{align}$$"
   ]
  },
  {
   "cell_type": "markdown",
   "metadata": {},
   "source": [
    "Calculated two-mode output quadrature variances. Terms in the expectation values, when vacuum state is suggested:\n",
    "$$\n",
    "\\def\\nup{\\nu^\\prime}\n",
    "\\begin{align}\n",
    "\\bra\\frop{a}^\\dagger(-\\nu)\\frop{a}\\lk\\nup\\rk\\ket&=\\frac{|\\epsilon|^2}{\\Lambda_{ab}(\\nu)\\Lambda_{ba}(\\nup)}\\alpha_2^*(-\\nu)\\alpha_2\n",
    "\\lk\\nup\\rk\\lk\\beta_1(\\nu)\\beta_1^*\\lk-\\nup\\rk+2L_b\\kappa_{2,b}\\rk\\delta\\lk\\nu+\\nup\\rk=\\\\\n",
    "&=|\\epsilon|^2\\frac{\\left|\\alpha_2(-\\nu)\\right|^2}{\\left|\\Lambda_{ab}(\\nu)\\right|^2}\n",
    "\\lk\\left|\\beta_1(\\nu)\\right|^2+2L_b\\kappa_{2,b}\\rk\\delta\\lk\\nu+\\nup\\rk\\\\\n",
    "\\bra\\frop{a}^\\dagger(-\\nup)\\frop{a}\\lk\\nu\\rk\\ket&=\\frac{|\\epsilon|^2}{\\Lambda_{ab}(\\nup)\\Lambda_{ba}(\\nu)}\\alpha_2^*(-\\nup)\\alpha_2\n",
    "\\lk\\nu\\rk\\lk\\beta_1(\\nup)\\beta_1^*\\lk-\\nu\\rk+2L_b\\kappa_{2,b}\\rk\\delta\\lk\\nu+\\nup\\rk=\\\\\n",
    "&=|\\epsilon|^2\\frac{\\left|\\alpha_2(\\nu)\\right|^2}{\\left|\\Lambda_{ba}(\\nu)\\right|^2}\n",
    "\\lk\\left|\\beta_1(-\\nu)\\right|^2+2L_b\\kappa_{2,b}\\rk\\delta\\lk\\nu+\\nup\\rk\\\\\n",
    "\\bra\\frop{b}^\\dagger(-\\nu)\\frop{b}\\lk\\nup\\rk\\ket&=|\\epsilon|^2\\frac{\\left|\\beta_2(-\\nu)\\right|^2}{\\left|\\Lambda_{ba}(\\nu)\\right|^2}\n",
    "\\lk\\left|\\alpha_1(\\nu)\\right|^2+2L_a\\kappa_{2,a}\\rk\\delta\\lk\\nu+\\nup\\rk\\\\\n",
    "\\bra\\frop{b}^\\dagger(-\\nup)\\frop{b}\\lk\\nu\\rk\\ket&=|\\epsilon|^2\\frac{\\left|\\beta_2(\\nu)\\right|^2}{\\left|\\Lambda_{ab}(\\nu)\\right|^2}\n",
    "\\lk\\left|\\alpha_1(-\\nu)\\right|^2+2L_a\\kappa_{2,a}\\rk\\delta\\lk\\nu+\\nup\\rk\\\\\n",
    "\\bra\\frop{a}(\\nu)\\frop{b}\\lk\\nup\\rk\\ket&=\\frac{\\epsilon}{\\Lambda_{ba}(\\nu)\\Lambda_{ab}\\lk\\nup\\rk}\\beta_2\\lk\\nup\\rk\n",
    "\\lk D_a(\\nu)\\alpha_1^*\\lk-\\nup\\rk+\\sqrt{2L_a\\kappa_{2,a}}E_a(\\nu)\\rk\\delta\\lk\\nu+\\nup\\rk=\\\\\n",
    "&=\\epsilon\\frac{\\beta_2(-\\nu)}{\\left|\\Lambda_{ba}(\\nu)\\right|^2}\n",
    "\\lk D_a(\\nu)\\alpha_1^*\\lk\\nu\\rk+\\sqrt{2L_a\\kappa_{2,a}}E_a(\\nu)\\rk\\delta\\lk\\nu+\\nup\\rk\\\\\n",
    "\\bra\\frop{b}(\\nu)\\frop{a}\\lk\\nup\\rk\\ket&=\\epsilon\\frac{\\alpha_2(-\\nu)}{\\left|\\Lambda_{ab}(\\nu)\\right|^2}\n",
    "\\lk D_b(\\nu)\\beta_1^*\\lk\\nu\\rk+\\sqrt{2L_b\\kappa_{2,b}}E_b(\\nu)\\rk\\delta\\lk\\nu+\\nup\\rk\\\\\n",
    "\\bra\\frop{a}^\\dagger(-\\nu)\\frop{b}^\\dagger\\lk-\\nup\\rk\\ket&=\\frac{\\epsilon^*}{\\Lambda_{ab}(\\nu)\\Lambda_{ba}\\lk\\nup\\rk}\\alpha^*_2\\lk-\\nu\\rk\n",
    "\\lk \\beta_1(\\nu) D^*_b\\lk-\\nup\\rk+\\sqrt{2L_b\\kappa_{2,b}}E_b^*\\lk-\\nup\\rk\\rk\\delta\\lk\\nu+\\nup\\rk=\\\\\n",
    "&=\\epsilon^*\\frac{\\alpha^*_2(-\\nu)}{\\left|\\Lambda_{ab}(\\nu)\\right|^2}\n",
    "\\lk D^*_b(\\nu)\\beta_1\\lk\\nu\\rk+\\sqrt{2L_b\\kappa_{2,b}}E_b^*(\\nu)\\rk\\delta\\lk\\nu+\\nup\\rk=\\\\\n",
    "&=\\bra\\frop{b}(\\nu)\\frop{a}\\lk\\nup\\rk\\ket^*\\\\\n",
    "\\bra\\frop{b}^\\dagger(-\\nu)\\frop{a}^\\dagger\\lk-\\nup\\rk\\ket&=\\epsilon^*\\frac{\\beta^*_2(-\\nu)}{\\left|\\Lambda_{ba}(\\nu)\\right|^2}\n",
    "\\lk D^*_a(\\nu)\\alpha_1\\lk\\nu\\rk+\\sqrt{2L_a\\kappa_{2,a}}E_a^*(\\nu)\\rk\\delta\\lk\\nu+\\nup\\rk=\\\\\n",
    "&=\\bra\\frop{a}(\\nu)\\frop{b}\\lk\\nup\\rk\\ket^*\n",
    "\\end{align}$$"
   ]
  },
  {
   "cell_type": "markdown",
   "metadata": {},
   "source": [
    "The required expectation value:\n",
    "$$\\begin{align}\n",
    "&\\bra:\\lk\\lsz\\Delta\\frop{X}^G_{\\thetap}\\rsz^2+\\lsz\\Delta\\frop{Y}^G_{\\thetap}\\rsz^2\\rk:\\ket = \\\\\n",
    "&=|\\epsilon|\\lka\\frac{1}{\\left|\\Lambda_{ab}(\\nu)\\right|^2}\\lsz \\Re\\lk\\overbrace{e^{i\\lk\\theta-\\frac{\\thetap_a+\\thetap_b}{2}\\rk}\\alpha_2(-\\nu)\\lsz D_b(\\nu)\\beta_1^*(\\nu)+\\sqrt{2L_b\\kappa_{2,b}}E_b(\\nu)\\rsz}^{M_{ba}(\\nu)}\\rk+\\right.\\right.\\\\\n",
    "&\\left.\\left.+\\overbrace{\\frac{|\\epsilon|}{2}\\cdot\\lk\\left|\\alpha_2(-\\nu)\\right|^2\\lsz\\left|\\beta_1(\\nu)\\right|^2+2L_b\\kappa_{2,b}\\rsz+\\left|\\beta_2(\\nu)\\right|^2\\lsz\\left|\\alpha_1(-\\nu)\\right|^2+2L_a\\kappa_{2,a}\\rsz\\rk}^{N_{ba}(\\nu)}\\rsz\\right.+\\\\\n",
    "&\\quad\\quad +\\left.\\frac{1}{\\left|\\Lambda_{ba}(\\nu)\\right|^2}\\lsz \\Re\\lk e^{i\\lk\\theta-\\frac{\\thetap_a+\\thetap_b}{2}\\rk}\n",
    "\\beta_2(-\\nu)\\lsz D_a(\\nu)\\alpha_1^*(\\nu)+\\sqrt{2L_a\\kappa_{2,a}}E_a(\\nu)\\rsz\\rk+\\right.\\right.\\\\\n",
    "&\\quad\\quad\\left.\\left.+\\frac{|\\epsilon|}{2}\\cdot\\lk\\left|\\beta_2(-\\nu)\\right|^2\\lsz\\left|\\alpha_1(\\nu)\\right|^2+2L_a\\kappa_{2,a}\\rsz+\\left|\\alpha_2(\\nu)\\right|^2\\lsz\\left|\\beta_1(-\\nu)\\right|^2+2L_b\\kappa_{2,b}\\rsz\\rk\\rsz\\rka\\delta\\lk\\nu+\\nup\\rk=\\\\\n",
    "&=|\\epsilon|\\lka\\frac{\\Re\\lk M_{ba}(\\nu)\\rk+N_{ba}(\\nu)}{\\left|\\Lambda_{ab}(\\nu)\\right|^2}+\\frac{\\Re\\lk M_{ab}(\\nu)\\rk+N_{ab}(\\nu)}{\\left|\\Lambda_{ba}(\\nu)\\right|^2}\\rka\\delta\\lk\\nu+\\nup\\rk\n",
    "\\end{align}$$"
   ]
  },
  {
   "cell_type": "markdown",
   "metadata": {},
   "source": [
    "\n",
    "## Numerical calculations\n",
    "\n",
    "Here I set the appropriate parameters and calculate the general quadrature variance in the units of dB."
   ]
  },
  {
   "cell_type": "code",
   "execution_count": 8,
   "metadata": {
    "collapsed": false
   },
   "outputs": [],
   "source": [
    "from pylab import *\n",
    "import numpy as np\n",
    "\n",
    "colors={'brown':(200/255.,154/255.,125/255.),\\\n",
    "\t\t'green':(0,151/255.,78/255.),\\\n",
    "\t\t'blue':(0,120/255.,180/255.),\\\n",
    "\t\t'yellow':(1., 215/255., 0),\\\n",
    "\t\t'black':(0.,0.,0.)}\n",
    "collab = ['brown','green','blue','yellow','black']\n",
    "linewidth = [2,2,3,3,4]\n",
    "linestyle = ['solid','dashed','dashdot','dotted','solid']\n",
    "\n",
    "#function which determines the quadrature correlations of a NDPA for a set of parameters\n",
    "def quadr_spec(kapa=20.,kapb=20.,dela=0.,ra=0.0000000001,rb=0.0000000001,kta=0.,ktb=0.,phia=0.,phib=0.,La=100.,Lb=100.,\\\n",
    "               theta=0,thetapa=-pi,thetapb=pi,x=1.,nui=-25.,nuf=25.,N=20):\n",
    "    \n",
    "    ### PARAMETERS ####\n",
    "    #Most of the parameters are given without the constant pi or 2pi.\n",
    "    kapa = kapa*2.*pi       #\\kappa_a (overall coupling for mode a)\n",
    "    kapb = kapb*2.*pi       #\\kappa_b (overall coupling for mode b)\n",
    "    theta = theta*pi        #\\theta (coherent pump phase)\n",
    "    thetapa = thetapa*pi    #\\theta^\\prime_a (local oscillator phase for mode a)\n",
    "    thetapb = thetapb*pi    #\\theta^\\prime_b (local oscillator phase for mode b)\n",
    "    phia = phia*pi          #\\phi_a (overall phase shift for mode a)\n",
    "    phib = phib*pi          #\\phi_b (overall phase shift for mode b)\n",
    "    N = N*1000 +1           #resolution of frequencies\n",
    "    \n",
    "    #Frequency range initialization (nui:min, nuf:max, N:number of points)\n",
    "    nu = linspace(nui*2.*pi,nuf*2.*pi,N)\n",
    "    \n",
    "    #Parameters calculated from the input parameters\n",
    "    eps = x*kapa*exp(1j*theta)                #\\epsilon (the coherent pump amplitude)\n",
    "    Del = kapa*dela                           #\\Delta (detuning of modes a, same as for b but in the opposite direction)\n",
    "    ta   = kta/kapa                           #\\tau_a (time delay in mode a)\n",
    "    tb   = ktb/kapb                           #\\tau_b (time delay in mode b)\n",
    "    kap1a = kapa * ra                         #\\kappa_{1,a} (coupling on the right hand side in mode a)\n",
    "    kap1b = kapb * rb                         #\\kappa_{1,b} (coupling on the right hand side in mode b)\n",
    "    kap2a = kapa * (1-ra)                     #\\kappa_{2,a} (coupling on the left hand side in mode a)\n",
    "    kap2b = kapb * (1-rb)                     #\\kappa_{2,b} (coupling on the left hand side in mode b)\n",
    "    ka = 2*sqrt(ra*(1-ra)*(1-La/100.))*kapa    #k_a (feedback strength in mode a)\n",
    "    kb = 2*sqrt(rb*(1-rb)*(1-Lb/100.))*kapb    #k_b (feedback strength in mode b)\n",
    "    \n",
    "    ### EXPRESSIONS ###\n",
    "    Ema = np.exp(1j*(-nu*ta+phia))\n",
    "    Emb = np.exp(1j*(-nu*tb+phib))\n",
    "    Epa = np.exp(1j*(nu*ta+phia))\n",
    "    Epb = np.exp(1j*(nu*tb+phib))\n",
    "    dma = kapa-1j*(nu-Del) + ka*Epa         #d_{-,a}(\\nu)\n",
    "    dmb = kapb-1j*(nu+Del) + kb*Epb         #d_{-,b}(\\nu)\n",
    "    dpa = kapa-1j*(nu+Del) + ka*conj(Ema)   #d_{+,a}(\\nu)\n",
    "    dpb = kapb-1j*(nu-Del) + kb*conj(Emb)   #d_{+,b}(\\nu)\n",
    "    Lab = abs(eps)**2 - dpa*dmb          #\\Lambda_{ab}(\\nu)\n",
    "    Lba = abs(eps)**2 - dpb*dma          #\\Lambda_{ba}(\\nu)\n",
    "    \n",
    "    alpha1p = sqrt(2*kap1a)+sqrt(2*kap2a*(1-La/100.))*Epa   #\\alpha_1(\\nu)\n",
    "    alpha2p = sqrt(2*kap2a)+sqrt(2*kap1a*(1-La/100.))*Epa   #\\alpha_2(\\nu)\n",
    "    beta1p  = sqrt(2*kap1b)+sqrt(2*kap2b*(1-Lb/100.))*Epb   #\\beta_1(\\nu)\n",
    "    beta2p  = sqrt(2*kap2b)+sqrt(2*kap1b*(1-Lb/100.))*Epb   #\\beta_2(\\nu)\n",
    "    alpha1m = sqrt(2*kap1a)+sqrt(2*kap2a*(1-La/100.))*Ema   #\\alpha_1(-\\nu)\n",
    "    alpha2m = sqrt(2*kap2a)+sqrt(2*kap1a*(1-La/100.))*Ema   #\\alpha_2(-\\nu)\n",
    "    beta1m  = sqrt(2*kap1b)+sqrt(2*kap2b*(1-Lb/100.))*Emb   #\\beta_1(-\\nu)\n",
    "    beta2m  = sqrt(2*kap2b)+sqrt(2*kap1b*(1-Lb/100.))*Emb   #\\beta_2(-\\nu)\n",
    "    \n",
    "    Da  = sqrt(1-La/100.)*Lba*Epa+dpb*alpha1p*alpha2p\n",
    "    Db  = sqrt(1-Lb/100.)*Lab*Epb+dpa*beta1p*beta2p\n",
    "    Ea  = sqrt(La/100.)*(sqrt(2*kap2a)*dpb*alpha2p+Lba)\n",
    "    Eb  = sqrt(Lb/100.)*(sqrt(2*kap2b)*dpa*beta2p+Lab)\n",
    "    Mba = exp(1j*(theta-(thetapa+thetapb)/2))*alpha2m*(Db*np.conj(beta1p)+sqrt(2*Lb/100.*kap2b)*Eb)\n",
    "    Mab = exp(1j*(theta-(thetapa+thetapb)/2))*beta2m*(Da*np.conj(alpha1p)+sqrt(2*La/100.*kap2a)*Ea)\n",
    "    Nba = abs(eps)/2.*(np.abs(alpha2m)**2*(np.abs(beta1p)**2+2*Lb/100.*kap2b)+\\\n",
    "                    np.abs(beta2p)**2*(np.abs(alpha1m)**2+2*La/100.*kap2a))\n",
    "    Nab = abs(eps)/2.*(np.abs(beta2m)**2*(np.abs(alpha1p)**2+2*La/100.*kap2a)+\\\n",
    "                    np.abs(alpha2p)**2*(np.abs(beta1m)**2+2*Lb/100.*kap2b))\n",
    "    \n",
    "    ### CORRELATIONS ###\n",
    "    ncorr = abs(eps)*(1/np.abs(Lab)**2*(np.real(Mba)+Nba)+1/np.abs(Lba)**2*(np.real(Mab)+Nab))   #(normalized)\n",
    "    Sout  = 10*np.log10(1+ncorr)\n",
    "    So_th = 10*np.log10(1+4*eps*kap1a/((eps-kapa)**2+nu**2))\n",
    "    So_os = 10*np.log10(1+4*eps*kapa/((eps-kapa)**2+nu**2))\n",
    "    \n",
    "    ### FIGURES ###\n",
    "    #Correlations compared to the non-correlated case in dB\n",
    "    \n",
    "    fsfont = {'fontname':'FreeSerif'}\n",
    "    colors={'brown':(200/255.,154/255.,125/255.),\\\n",
    "            'green':(0,151/255.,78/255.),\\\n",
    "            'blue':(0,120/255.,180/255.),\\\n",
    "            'yellow':(1., 215/255., 0),\\\n",
    "            'black':(0.,0.,0.)}\n",
    "    collab = ['brown','green','blue','yellow','black']\n",
    "    linewidth = [2,2,3,3,4]\n",
    "    linestyle = ['solid','dashed','dashdot','dotted','solid']\n",
    "\n",
    "    figure(1)\n",
    "    plot(nu/2/np.pi,Sout,linewidth=2.0,color=colors['brown'])\n",
    "    hold(True)\n",
    "    plot(nu/2/np.pi,So_th,linewidth=4.0,color=colors['yellow'],linestyle='dashed')\n",
    "    plot(nu/2/np.pi,So_os,linewidth=3.0,color=colors['green'],linestyle='dotted')\n",
    "    xlabel('$\\\\nu$ (MHz)',fontsize = 50.,**fsfont)\n",
    "    ylabel('$S_{out,\\\\theta^\\prime}(\\\\nu)$',fontsize = 50.,**fsfont)\n",
    "    xticks(fontsize = 30.,**fsfont)\n",
    "    yticks(fontsize = 30.,**fsfont)\n",
    "    xlim(nui,nuf)\n",
    "    #ylim(-15,0)\n",
    "    grid(True)\n",
    "#    show()\n",
    "    \n",
    "#   Denominator |\\Lambda_{ab}(\\nu)|^2 as a function of the frequency\n",
    "    #figure(2)\n",
    "    #plot(nu/2/np.pi,np.abs(Lab)**2,linewidth=2.0)\n",
    "    #xlabel('$\\\\nu$(MHz)',fontsize = 20.)\n",
    "    #ylabel('$\\Lambda_{ab}(\\\\nu)(MHz^2)$',fontsize = 20.)\n",
    "    #xlim(-10,0)\n",
    "    #ylim(0,2*10**7)\n",
    "    #grid(True)\n",
    "#    show()\n",
    "\n",
    "#   Corr\n",
    "#    figure(2)\n",
    "#    plot(nu/2/np.pi,ncorr,linewidth=2.0)\n",
    "#    xlabel('$\\\\nu$(MHz)',fontsize = 20.)\n",
    "#    ylabel('$\\Lambda_{ab}(\\\\nu)(MHz^2)$',fontsize = 20.)\n",
    "#    xlim(-10,-6)\n",
    "    #ylim(0,2*10**7)\n",
    "#    grid(True)\n",
    "#    show()"
   ]
  },
  {
   "cell_type": "code",
   "execution_count": 9,
   "metadata": {
    "collapsed": false
   },
   "outputs": [
    {
     "name": "stderr",
     "output_type": "stream",
     "text": [
      "/home/nnem614/Documents/anaconda3/lib/python3.5/site-packages/numpy/core/numeric.py:482: ComplexWarning: Casting complex values to real discards the imaginary part\n",
      "  return array(a, dtype, copy=False, order=order)\n"
     ]
    }
   ],
   "source": [
    "#quadr_spec(kapa=20.,kapb=20.,dela=0.,ra=0.0000000001,rb=0.0000000001,kta=0.,ktb=0.,phia=0.,phib=0.,La=100.,Lb=100.,\\\n",
    "#               theta=0,thetapa=-pi,thetapb=pi,x=1.,nui=-25.,nuf=25.,N=20)\n",
    "fsfont = {'fontname':'FreeSerif'}\n",
    "\n",
    "#plt.subplot(1,3,1)\n",
    "figure(1)\n",
    "#plt.title('(a) $\\Delta = 0$',fontsize = 30.0,**fsfont)\n",
    "quadr_spec(10.,2.5,0.1,0.5,0.75,4.65,0.403,0.,0.04,10.,10.,\\\n",
    "               1,0,0,0.4,-25.,25.,200)\n",
    "#plt.subplot(1,3,2)\n",
    "#plt.title('(b) $\\Delta = 0.4\\kappa_a$',fontsize = 30.0,**fsfont)\n",
    "#quadr_spec(10.,2.5,0.4,0.00001,0.00001,0.,0.,0,0,0.,0.,\\\n",
    "#               1,0,0,0.5,-25.,25.,200)\n",
    "#plt.subplot(1,3,3)\n",
    "#plt.title('(c) $\\Delta = 0.8\\kappa_a$',fontsize = 30.0,**fsfont)\n",
    "#quadr_spec(10.,2.5,0.8,0.00001,0.00001,0.,0.,0,0,0.,0.,\\\n",
    "#               1,0,0,0.5,-25.,25.,200)\n",
    "plt.show()"
   ]
  },
  {
   "cell_type": "markdown",
   "metadata": {},
   "source": [
    "### Comparison with existing literature\n",
    "\n",
    "* P. Drummond, M. Reid, PRA **41** 3930 (1990)\n",
    "\n",
    "  It uses operators rotating with different frequencies. In our case they are in the frame rotating by $\\omega_p/2$ (see equation 2.12). We obtain symmetric spectrum BUT:\n",
    "  - only max 50% squeezing if degenerate frequencies with different polarization in their case, whereas here perfect two-mode squeezing is possible.\n",
    "  \n",
    "  \n",
    "* Z. Y. Ou, S. F. Pereira, and H. J. Kimble, Appl.Phys.B **55** 265 (1992)\n",
    "  \n",
    "  - Good agreement of analytical results, when there is no feedback ($\\kappa_a=\\kappa_b=\\kappa_{2,a}=\\kappa_{2,b}=\\frac{\\gamma}{2}$ with $L_a=L_b=1$ and $\\kappa_{1,a}=\\kappa_{1,b}=0$)\\\\\n",
    "  - plotted comparison\n",
    "  "
   ]
  },
  {
   "cell_type": "markdown",
   "metadata": {
    "collapsed": false
   },
   "source": [
    "## Stability analysis\n",
    "\n",
    "\n",
    "In order to determine the stability of the system, the equation of motion can be rearranged in the following way:\n",
    "\\begin{align}\n",
    "\\frac{d}{dt}\\ul{X} &= -\\dul{\\Delta}_X\\ul{X}(t)-\\dul{K}\\,\\dul{\\Phi}\\,\\ul{X}_\\tau(t)\\\\\n",
    "\\ul{X}(t) &= \\lka X_{a,\\theta}(t),Y_{a,\\theta}(t),X_{b,\\theta}(t),Y_{b,\\theta}(t)\\rka\\\\\n",
    "\\dul{\\Delta}_X &= \\left(\\begin{matrix} \n",
    "\\kappa_a & -\\Delta & -|\\epsilon| & 0 \\\\\n",
    "\\Delta & \\kappa_a & 0 & |\\epsilon| \\\\\n",
    "-|\\epsilon| & 0 & \\kappa_b & \\Delta \\\\\n",
    "0 & |\\epsilon| & -\\Delta & \\kappa_b\\end{matrix}\\right)\\\\\n",
    "\\ul{X}_\\tau(t) &= \\lka X_{a,\\theta}(t-\\tau_a),Y_{a,\\theta}(t-\\tau_a),X_{b,\\theta}(t-\\tau_b),Y_{b,\\theta}(t-\\tau_b)\\rka\\\\\n",
    "\\dul{\\Phi} &=\\left(\\begin{matrix} \n",
    "\\cos{\\phi_a} & -\\sin{\\phi_a} & 0 & 0 \\\\\n",
    "\\sin{\\phi_a} & \\cos{\\phi_a} & 0 & 0 \\\\\n",
    "0 & 0 & \\cos{\\phi_b} & -\\sin{\\phi_b} \\\\\n",
    "0 & 0 & \\sin{\\phi_b} & \\cos{\\phi_b}\\end{matrix}\\right)\n",
    "\\end{align}\n",
    "\n",
    "The behaviour close to the steady states can be described by suggesting exponential time-evolution $(X_i(t) = X_i(0)e^{\\lambda t},Y_i(t) = Y_i(0)e^{\\lambda t})$. Then the following should be satisfied:\n",
    "\n",
    "\\begin{align}\n",
    "\\left(\\begin{matrix} \n",
    "\\overbrace{\\lk\\lambda+\\kappa_a+k_a\\cos{\\phi_a}e^{-\\lambda\\tau_a}\\rk}^{R_a(\\nu)} & -\\overbrace{\\lk\\Delta+k_a\\sin{\\phi_a}e^{-\\lambda\\tau_a}\\rk}^{I_a(\\nu)} & -|\\epsilon| & 0 \\\\\n",
    "\\lk\\Delta+k_a\\sin{\\phi_a}e^{-\\lambda\\tau_a}\\rk & \\lk\\lambda+\\kappa_a+k_a\\cos{\\phi_a}e^{-\\lambda\\tau_a}\\rk & 0 & |\\epsilon| \\\\\n",
    "-|\\epsilon| & 0 & \\overbrace{\\lk\\lambda+\\kappa_b+k_b\\cos{\\phi_b}e^{-\\lambda\\tau_b}\\rk}^{R_b(\\nu)} & \\overbrace{\\lk\\Delta-k_b\\sin{\\phi_b}e^{-\\lambda\\tau_b}\\rk}^{I_b(\\nu)} \\\\\n",
    "0 & |\\epsilon| & -\\lk\\Delta-k_b\\sin{\\phi_b}e^{-\\lambda\\tau_b}\\rk & \\lk\\lambda+\\kappa_b+k_b\\cos{\\phi_b}e^{-\\lambda\\tau_b}\\rk\\end{matrix}\\right)\\,\\left(\\begin{matrix}\\tilde{X}_a\\\\\\tilde{Y}_a\\\\\\tilde{X}_b\\\\\\tilde{Y}_b \\end{matrix}\\right)=0\n",
    "\\end{align}"
   ]
  },
  {
   "cell_type": "code",
   "execution_count": 10,
   "metadata": {
    "collapsed": false
   },
   "outputs": [
    {
     "data": {
      "image/png": "[encoded data removed]",
      "text/latex": [
       "$$I_{a}^{2} I_{b}^{2} + I_{a}^{2} R_{b}^{2} + 2 I_{a} I_{b} |\\epsilon|^{2} + I_{b}^{2} R_{a}^{2} + R_{a}^{2} R_{b}^{2} - 2 R_{a} R_{b} |\\epsilon|^{2} + |\\epsilon|^{4}$$"
      ],
      "text/plain": [
       "  2    2     2    2                      2      2   2     2    2              \n",
       "Iₐ ⋅I_b  + Iₐ ⋅R_b  + 2⋅Iₐ⋅I_b⋅|\\epsilon|  + I_b ⋅Rₐ  + Rₐ ⋅R_b  - 2⋅Rₐ⋅R_b⋅|\\\n",
       "\n",
       "        2             4\n",
       "epsilon|  + |\\epsilon| "
      ]
     },
     "execution_count": 10,
     "metadata": {},
     "output_type": "execute_result"
    }
   ],
   "source": [
    "from sympy import *\n",
    "import numpy as np\n",
    "from IPython.display import display, Math, Latex\n",
    "init_printing(use_unicode=True)\n",
    "\n",
    "Ra,Ia,Rb,Ib,eps = symbols('R_a I_a R_b I_b |\\epsilon|')\n",
    "\n",
    "Stab = Matrix([[Ra,-Ia,-eps,0],\\\n",
    "               [Ia,Ra,0,eps],\\\n",
    "              [-eps,0,Rb,Ib],\\\n",
    "              [0,eps,-Ib,Rb]])\n",
    "Stab.det()"
   ]
  },
  {
   "cell_type": "code",
   "execution_count": 11,
   "metadata": {
    "collapsed": false
   },
   "outputs": [
    {
     "data": {
      "image/png": "[encoded data removed]",
      "text/plain": [
       "<matplotlib.figure.Figure at 0x7ff7e2dc32b0>"
      ]
     },
     "metadata": {},
     "output_type": "display_data"
    }
   ],
   "source": [
    "%matplotlib inline\n",
    "from pylab import *\n",
    "import numpy as np\n",
    "from scipy.optimize import fsolve\n",
    "import matplotlib.pyplot as plt\n",
    "\n",
    "def NDPA_stab(kapap, ra, La, phiap, ktaua, delta, kapbp, rb, Lb, phibp, ktaub, x,fig):\n",
    "    ## Stability of and NDPA system ##\n",
    "    \n",
    "    ## Parameters ##\n",
    "    kapa  = kapap*2*pi\n",
    "    ka    = 2*sqrt(ra*(1-ra)*(1-La/100.))*kapa\n",
    "    phia  = phiap*pi\n",
    "    ta    = ktaua/kapa\n",
    "    Del   = delta*kapa\n",
    "    kapb  = kapbp*2*pi\n",
    "    kb    = 2*sqrt(rb*(1-rb)*(1-Lb/100.))*kapb\n",
    "    phib  = phibp*pi\n",
    "    tb    = ktaub/kapa\n",
    "    eps   = x*kapa\n",
    "    \n",
    "    ## Functions ##\n",
    "    def Ra(lambr,lambi):\n",
    "        return lambr+1j*lambi*2*pi+kapa+ka*cos(phia)*exp(-(1j*2*np.pi*lambi+lambr)*ta)\n",
    "    def Ia(lambr,lambi):\n",
    "        return Del+ka*sin(phia)*exp(-(1j*2*np.pi*lambi+lambr)*ta)\n",
    "    def Rb(lambr,lambi):\n",
    "        return lambr+1j*lambi*2*pi+kapb+kb*cos(phib)*exp(-(1j*2*np.pi*lambi+lambr)*tb)\n",
    "    def Ib(lambr,lambi):\n",
    "        return Del-kb*sin(phib)*exp(-(1j*2*np.pi*lambi+lambr)*tb)\n",
    "    \n",
    "    ## Equations ##\n",
    "    def eq1(lambr, lambi):\n",
    "        return (Ra(lambr,lambi)+1j*Ia(lambr,lambi))*(Rb(lambr,lambi)+1j*Ib(lambr,lambi)) - eps**2\n",
    "    def equation1(l):\n",
    "        equations = [np.real(eq1(l[0],l[1]))]\n",
    "        equations.append(np.imag(eq1(l[0],l[1])))\n",
    "        return equations\n",
    "    def eq2(lambr, lambi):\n",
    "        return (Ra(lambr,lambi)-1j*Ia(lambr,lambi))*(Rb(lambr,lambi)-1j*Ib(lambr,lambi)) - eps**2\n",
    "    def equation2(l):\n",
    "        equations = [np.real(eq2(l[0],l[1]))]\n",
    "        equations.append(np.imag(eq2(l[0],l[1])))\n",
    "        return equations\n",
    "\n",
    "    \n",
    "    ## Grid ##\n",
    "    lr = np.linspace(-30,30,200)\n",
    "    li = np.linspace(-30,30,200)\n",
    "    lr,li = np.meshgrid(lr,li)\n",
    "    \n",
    "    ## Solving the equations ##\n",
    "    lamb1 = np.zeros(2)\n",
    "    lamb2 = np.zeros(2)\n",
    "    lamb1 = fsolve(equation1,[10,1])\n",
    "    lamb2 = fsolve(equation2,[10,1])\n",
    "    lambr = np.array([lamb1[0],lamb1[0],lamb2[0],lamb2[0]])\n",
    "    lambi = np.array([lamb1[1],-lamb1[1],lamb2[1],-lamb2[1]])    \n",
    "    \n",
    "    #fig = plt.figure()\n",
    "    ax = fig.axes\n",
    "    plt.contour(lr,li, np.real(eq1(lr,li)),[0],colors='b')\n",
    "    plt.hold(True)\n",
    "    plt.contour(lr,li, np.real(eq2(lr,li)),[0],colors='b')\n",
    "    plt.contour(lr,li, np.imag(eq1(lr,li)),[0],colors='g')\n",
    "    plt.contour(lr,li, np.imag(eq2(lr,li)),[0],colors='g')\n",
    "    plt.contour(lr,li,lr,[0],colors='grey',linestyles='dashed')\n",
    "    plt.plot(lambr,lambi,'o',color = 'r')\n",
    "    plt.grid(True)\n",
    "    plt.xlim(-30,30)\n",
    "    plt.xlabel('$\\lambda_r (MHz)$')\n",
    "    plt.ylabel('$\\lambda_i (MHz)$')\n",
    "    plt.text(35, 20, '$\\lambda_r=%.2f \\ &\\ %.2f$,\\n $\\lambda_i=%.2f\\ &\\ %.2f$' % (lambr[0],lambr[2],lambi[0],lambi[2]),\\\n",
    "             fontsize=14,bbox={'facecolor':'white', 'alpha':0.5})\n",
    "    #ax.xaxis.set_label_coords(1.3, -0.0015)\n",
    "    #ax.yaxis.set_label_coords(-0.0015,1.3)\n",
    "#    plt.show()\n",
    "\n",
    "#def NDPA_stab(kapap, ra   , La, phiap, ktaua , delta, kapbp, rb     , Lb, phibp, ktaub , x):\n",
    "figs=plt.figure()\n",
    "NDPA_stab     (10.   , 0.5  , 10 , .0    ,4.65, .1    , 2.5  , .75  , 10 , 0.04    ,.403, .25,figs)"
   ]
  },
  {
   "cell_type": "code",
   "execution_count": 12,
   "metadata": {
    "collapsed": false
   },
   "outputs": [
    {
     "data": {
      "image/png": "[encoded data removed]",
      "text/latex": [
       "$$3.65697017049$$"
      ],
      "text/plain": [
       "3.65697017049"
      ]
     },
     "execution_count": 12,
     "metadata": {},
     "output_type": "execute_result"
    }
   ],
   "source": [
    "np.arccos(.25-1)/sqrt(1-(1-.25)**2)"
   ]
  },
  {
   "cell_type": "markdown",
   "metadata": {
    "collapsed": true
   },
   "source": [
    "# Interferometry using NDPA\n",
    "\n",
    "## Measured quantities\n",
    "* Homodyne detection with a seed field: quadrature variance $\\lk\\Delta\\phi\\rk_{hom} = \\frac{\\lk\\Delta X^G\\rk^2}{\\lk\\frac{\\partial\\left<\\frop{X}^G\\right>}{\\partial\\phi}\\rk^2}$\n",
    "* Photon number detection with sum or difference current $\\frop{I}_\\pm=\\frop{a}^\\dagger_{2,out}\\frop{a}_{2,out}\\pm\\frop{b}^\\dagger_{2,out}\\frop{b}_{2,out}$\n",
    "\n",
    "In our case the input field is vacuum, therefore the latter is more applicable. The phase sensitivity in that case is defined as:\n",
    "\\begin{align}\n",
    "\\lk\\Delta\\phi\\rk_{\\pm} = \\frac{\\lk\\Delta I_{\\pm}\\rk^2}{\\lk\\frac{\\partial\\left<\\frop{I}_{\\pm}\\right>}{\\partial\\phi}\\rk^2}\n",
    "\\end{align}\n",
    "where $\\lk\\Delta I_{\\pm}\\rk^2=\\left<\\frop{I}_{\\pm}^2\\right>-\\left<\\frop{I}_{\\pm}\\right>^2$\n",
    "\n",
    "The phase sensitivity is given in terms of the total number of photons going through the phase shifters: \n",
    "\\begin{align}\n",
    "N=\\left<\\frop{N}\\right> = \\left<\\frop{a}^\\dagger_{1,out}\\frop{a}_{1,out}+\\frop{b}^\\dagger_{1,out}\\frop{b}_{1,out}\\right>\n",
    "\\end{align}"
   ]
  },
  {
   "cell_type": "code",
   "execution_count": 1,
   "metadata": {
    "collapsed": false
   },
   "outputs": [],
   "source": [
    "import sympy as sym\n",
    "import numpy as np\n",
    "#import pylab as pl\n",
    "from IPython.display import display, Math, Latex\n",
    "sym.init_printing(use_unicode=True)\n",
    "import sympy.utilities.autowrap as symauto\n",
    "\n",
    "epss,Dels,nus,ta,tb,pa,pb,kappa,kappb,kas,kbs =\\\n",
    "sym.symbols('epsilon Delta nus ta tb pa pb kappaa kappab kas kbs',real=True)\n",
    "kapp1a,kapp1b,Las,Lbs = \\\n",
    "sym.symbols('kappa1a kappa1b Las Lbs',real=True)\n",
    "\n",
    "#Functions for evaluation\n",
    "Ema = sym.exp(sym.I*(-nus*ta+pa))\n",
    "Emb = sym.exp(sym.I*(-nus*tb+pb))\n",
    "Epa = sym.exp(sym.I*(nus*ta+pa))\n",
    "Epb = sym.exp(sym.I*(nus*tb+pb))\n",
    "dma = kappa-sym.I*(nus-Dels) + kas*Epa         #d_{-,a}(\\nu)\n",
    "dmb = kappb-sym.I*(nus+Dels) + kbs*Epb         #d_{-,b}(\\nu)\n",
    "dpa = kappa-sym.I*(nus+Dels) + kas*sym.conjugate(Ema)   #d_{+,a}(\\nu)\n",
    "dpb = kappb-sym.I*(nus-Dels) + kbs*sym.conjugate(Emb)   #d_{+,b}(\\nu)\n",
    "Lab = sym.Abs(epss)**2 - dpa*dmb          #\\Lambda_{ab}(\\nu)\n",
    "Lba = sym.Abs(epss)**2 - dpb*dma          #\\Lambda_{ba}(\\nu)\n",
    "\n",
    "#Expectation value of the outgoing photon number\n",
    "nom_ba = (kappa+kas*sym.cos(pa-nus*ta)-kapp1a*Las)*(kappb+kbs*sym.cos(pb+nus*tb))\n",
    "nom_ab = (kappb+kbs*sym.cos(pb-nus*tb)-kapp1b*Lbs)*(kappa+kas*sym.cos(pa+nus*ta))\n",
    "I_pexp  = 4*epss**2*(nom_ba/(Lab*sym.conjugate(Lab))+nom_ab/(Lba*sym.conjugate(Lba)))\n",
    "I_mexp  = 4*epss**2*(nom_ba/(Lab*sym.conjugate(Lab))-nom_ab/(Lba*sym.conjugate(Lba)))\n",
    "\n",
    "diffp   = sym.Rational(1,2)*(sym.diff(I_pexp,pa)-sym.diff(I_pexp,pb))\n",
    "diffm   = sym.Rational(1,2)*(sym.diff(I_mexp,pa)-sym.diff(I_mexp,pb))\n",
    "#display(sym.re(diffm))\n",
    "#display(diffp)\n",
    "derivp = sym.lambdify((nus,epss,Dels,kappa,kappb,kapp1a,kapp1b,kas,kbs,ta,tb,pa,pb,Las,Lbs), diffp, modules=\"numpy\")\n",
    "derivm = sym.lambdify((nus,epss,Dels,kappa,kappb,kapp1a,kapp1b,kas,kbs,ta,tb,pa,pb,Las,Lbs), diffm, modules=\"numpy\")\n",
    "num    = sym.lambdify((nus,epss,Dels,kappa,kappb,kapp1a,kapp1b,kas,kbs,ta,tb,pa,pb,Las,Lbs), I_pexp, modules=\"numpy\")\n",
    "#derivp = symauto.ufuncify([nu,eps,Del,kapa,kapb,kap1a,kap1b,ka,kb,ta,tb,phia,phib,La,Lb], diffp)\n",
    "#derivm = symauto.ufuncify([nu,eps,Del,kapa,kapb,kap1a,kap1b,ka,kb,ta,tb,phia,phib,La,Lb], diffm)\n",
    "#num    = symauto.ufuncify([nu,eps,Del,kapa,kapb,kap1a,kap1b,ka,kb,ta,tb,phia,phib,La,Lb], I_pexp)"
   ]
  },
  {
   "cell_type": "code",
   "execution_count": 2,
   "metadata": {
    "collapsed": false
   },
   "outputs": [
    {
     "data": {
      "image/png": "[encoded data removed]",
      "text/latex": [
       "$$\\frac{1}{2}$$"
      ],
      "text/plain": [
       "1/2"
      ]
     },
     "execution_count": 2,
     "metadata": {},
     "output_type": "execute_result"
    }
   ],
   "source": [
    "sym.Rational(1,2)"
   ]
  },
  {
   "cell_type": "code",
   "execution_count": 18,
   "metadata": {
    "collapsed": false
   },
   "outputs": [
    {
     "name": "stderr",
     "output_type": "stream",
     "text": [
      "/home/nnem614/Documents/anaconda3/lib/python3.5/site-packages/ipykernel/__main__.py:68: RuntimeWarning: divide by zero encountered in true_divide\n"
     ]
    }
   ],
   "source": [
    "import numpy as np\n",
    "#%matplotlib inline\n",
    "import matplotlib.pyplot as plt\n",
    "import scipy.integrate as integ\n",
    "from IPython.core.debugger import Tracer\n",
    "#Tracer()() #this one triggers the debugger\n",
    "\n",
    "def sens(x,delta,kapa,kapb,ra,rb,kta,ktb,phia,phib,La,Lb):\n",
    "# Function to determine the phase sensitivity of the setup\n",
    "    import time\n",
    "    start  = time.clock()\n",
    "\n",
    "    ## Parameters from inputs ##\n",
    "    kapa  = kapa*2*np.pi\n",
    "    kapb  = kapb*2*np.pi\n",
    "    La    = La/100.\n",
    "    Lb    = Lb/100.\n",
    "    phia  = phia*np.pi\n",
    "    phib  = phib*np.pi\n",
    "    taua  = kta/kapa\n",
    "    taub  = ktb/kapa\n",
    "    Del   = delta*kapa\n",
    "    eps   = x*kapa\n",
    "    kap1a = kapa * ra                         #\\kappa_{1,a} (coupling on the right hand side in mode a)\n",
    "    kap1b = kapb * rb                         #\\kappa_{1,b} (coupling on the right hand side in mode b)\n",
    "    kap2a = kapa * (1-ra)                     #\\kappa_{2,a} (coupling on the left hand side in mode a)\n",
    "    kap2b = kapb * (1-rb)                     #\\kappa_{2,b} (coupling on the left hand side in mode b)\n",
    "\n",
    "    ka = 2*np.sqrt(ra*(1-ra)*(1-La))*kapa    #k_a (feedback strength in mode a)\n",
    "    kb = 2*np.sqrt(rb*(1-rb)*(1-Lb))*kapb    #k_b (feedback strength in mode b)\n",
    "    \n",
    "    ### EXPRESSIONS ###\n",
    "    def Ei(nu,t,phi):\n",
    "        if isinstance(t,str):\n",
    "            display(t)\n",
    "        return np.exp(1j*(nu*t+phi))\n",
    "    def d(nu,t,phi,kap,Del,k):\n",
    "        return kap - 1j*(nu+Del) + k*Ei(nu,t,phi)\n",
    "    def Lf(nu,Del,tp,phip,kapp,kp,tm,phim,kapm,km):\n",
    "        return abs(eps)**2 - d(nu,tp,phip,kapp,Del,kp)*d(nu,tm,phim,kapm,-Del,km)\n",
    "\n",
    "    def albe(nu,t,phi,kap1,kap2,L):\n",
    "        return np.sqrt(2*kap1) + np.sqrt(2*kap2*(1-L))*Ei(nu,t,phi)\n",
    "    def D(nu,Del,tp,phip,kapp,kp,tm,phim,kapm,km,kap1,kap2,L):\n",
    "        return np.sqrt(1-L)*Lf(nu,-Del,tp,phip,kapp,kp,tm,phim,kapm,km)*Ei(nu,tm,phim) +\\\n",
    "        d(nu,tp,phip,kapp,-Del,kp)*albe(nu,tm,phim,kap1,kap2,L)*albe(nu,tm,phim,kap2,kap1,L)\n",
    "\n",
    "    def E(nu,Del,tp,phip,kapp,kp,tm,phim,kapm,km,kap1,kap2,L):\n",
    "        return np.sqrt(L)*np.sqrt(2*kap2)*d(nu,tp,phip,kapp,-Del,kp)*albe(nu,tm,phim,kap2,kap1,L) +\\\n",
    "        Lf(nu,Del,tp,phip,kapp,kp,tm,phim,kapm,km)\n",
    "\n",
    "    def K(nu,t,phi,kap,k,kap1,L):\n",
    "        return kap + k*np.cos(phi+nu*t) - kap1*L\n",
    "    \n",
    "    def U(nu,nup,tp,phip,kapp,Del,kp,Lp,kap1p,kap2p,tm,phim,kapm,km,Lm,kap1m,kap2m):\n",
    "        return 4*K(-nu,tp,phip,kapp,kp,kap1p,Lp)*K(nu,tm,phim,kapm,km,kap1m,0)*\\\n",
    "    (abs(D(nup,Del,tm,phim,kapm,km,tp,phip,kapp,kp,kap1p,kap2p,Lp))**2+\\\n",
    "     abs(E(nup,Del,tm,phim,kapm,km,tp,phip,kapp,kp,kap1p,kap2p,Lp))**2) -\\\n",
    "    np.conj(albe(-nu,tp,phip,kap2p,kap1p,Lp))*albe(-nup,tm,phim,kap2m,kap1m,Lm)*\\\n",
    "    (albe(nu,tm,phim,kap1m,kap2m,Lm)*np.conj(D(nu,-Del,tp,phip,kapp,kp,tm,phim,kapm,km,kap1m,kap2m,Lm))+\\\n",
    "    np.sqrt(2*kap2m*Lm)*np.conj(E(nu,-Del,tp,phip,kapp,kp,tm,phim,kapm,km,kap1m,kap2m,Lm)))*\\\n",
    "    (np.conj(albe(nup,tp,phip,kap1p,kap2p,Lp))*D(nup,Del,tm,phim,kapm,km,tp,phip,kapp,kp,kap1p,kap2p,Lp)+\\\n",
    "    np.sqrt(2*kap2p*Lp)*np.conj(E(nup,Del,tm,phim,kapm,km,tp,phip,kapp,kp,kap1p,kap2p,Lp)))\n",
    "    \n",
    "    def uncert(nu,nup):\n",
    "        return np.abs(eps)**2*(U(nu,nup,taua,phia,kapa,Del,ka,La,kap1a,kap2a,taub,phib,kapb,kb,Lb,kap1b,kap2b)/\\\n",
    "                            (np.abs(Lf(nu,Del,taua,phia,kapa,ka,taub,phib,kapb,kb))**2*\\\n",
    "                            np.abs(Lf(nup,-Del,taub,phib,kapb,kb,taua,phia,kapa,ka))**2)+\n",
    "                            U(nu,nup,taub,phib,kapb,-Del,kb,Lb,kap1b,kap2b,taua,phia,kapa,ka,La,kap1a,kap2a)/\\\n",
    "                            (np.abs(Lf(nup,Del,taua,phia,kapa,ka,taub,phib,kapb,kb))**2*\\\n",
    "                            np.abs(Lf(nu,-Del,taub,phib,kapb,kb,taua,phia,kapa,ka))**2))\n",
    "    def denom(nu,nup):\n",
    "        return derivm(nu,eps,Del,kapa,kapb,kap1a,kap1b,ka,kb,taua,taub,phia,phib,La,Lb)*\\\n",
    "    derivm(nup,eps,Del,kapa,kapb,kap1a,kap1b,ka,kb,taua,taub,phia,phib,La,Lb) \n",
    "    \n",
    "    def N(nu):\n",
    "        return num(nu,eps,Del,kapa,kapb,kap1a,kap1b,ka,kb,taua,taub,phia,phib,La,Lb) \n",
    "    \n",
    "    def sens(nu,nup):\n",
    "        return uncert(nu,nup)/denom(nu,nup)\n",
    "    \n",
    "    lims = 25.\n",
    "    nu  = np.linspace(-lims,lims,1001)\n",
    "    nus = np.linspace(-lims,lims,1001)\n",
    "    nup = np.linspace(-lims,lims,1001)\n",
    "    nu,nup = np.meshgrid(nu,nup)\n",
    "    fsfont = {'fontname':'FreeSerif'}\n",
    "\n",
    "    colors={'brown':(200/255.,154/255.,125/255.),\\\n",
    "        'green':(0,151/255.,78/255.),\\\n",
    "        'blue':(0,120/255.,180/255.),\\\n",
    "        'yellow':(1., 215/255., 0),\\\n",
    "        'black':(0.,0.,0.)}\n",
    "    tickfont  = 18.\n",
    "    labelfont = 21.\n",
    "    titlefont = 25.\n",
    "    \n",
    "    plt.contourf(nu,nup,np.real(sens(2*nu*np.pi,2*nup*np.pi)),300)\n",
    "    plt.xlabel(\"$\\\\nu$\",**fsfont,fontsize=labelfont)\n",
    "    plt.ylabel(\"$\\\\nu^\\prime$\",**fsfont,fontsize=labelfont)\n",
    "    cb1  = plt.colorbar()\n",
    "    cb1.formatter.set_powerlimits((0, 0))\n",
    "    cb1.ax.tick_params(labelsize=tickfont-5)\n",
    "    cb1.update_ticks()\n",
    "    plt.xticks(fontsize = tickfont,**fsfont)\n",
    "    plt.yticks(fontsize = tickfont,**fsfont)\n",
    "#sens(x,delta,kapa,kapb,ra,rb,kta,ktb,phia,phib,La,Lb):    \n",
    "sens(0.49,0.2,10,10,0.933012701892219,0.933012701892219,0,0,1.122,0.878,2.,2.)\n",
    "plt.show()"
   ]
  },
  {
   "cell_type": "code",
   "execution_count": 22,
   "metadata": {
    "collapsed": false
   },
   "outputs": [
    {
     "data": {
      "image/png": "[encoded data removed]",
      "text/latex": [
       "$$\\left [ 0.0669872981077807, \\quad 0.933012701892219\\right ]$$"
      ],
      "text/plain": [
       "[0.0669872981077807, 0.933012701892219]"
      ]
     },
     "execution_count": 22,
     "metadata": {},
     "output_type": "execute_result"
    }
   ],
   "source": [
    "var = sym.symbols('x')\n",
    "sym.solve(2*sym.sqrt(var*(1-var))-.5,var)"
   ]
  },
  {
   "cell_type": "code",
   "execution_count": 24,
   "metadata": {
    "collapsed": false
   },
   "outputs": [
    {
     "data": {
      "image/png": "[encoded data removed]",
      "text/plain": [
       "<matplotlib.figure.Figure at 0x7ff7dac3d630>"
      ]
     },
     "metadata": {},
     "output_type": "display_data"
    }
   ],
   "source": [
    "%matplotlib inline\n",
    "from ipywidgets import interactive\n",
    "import ipywidgets as widgets\n",
    "from IPython.display import display\n",
    "\n",
    "def analysis(kapa=20.,kapb=20.,dela=0.,ra=0.0000000001,rb=0.0000000001,kta=0.,ktb=0.,phia=0.,phib=0.,La=100.,Lb=100.,\\\n",
    "               theta=0,thetapa=-1,thetapb=1,x=1.,nui=-25.,nuf=25.,N=20):\n",
    "    plt.subplot(1,3,1)\n",
    "    quadr_spec(kapa,kapb,dela,ra,rb,kta,ktb,phia,phib,La,Lb,theta,thetapa,thetapb,x,nui,nuf,N)\n",
    "    fig=plt.subplot(1,3,2)\n",
    "    NDPA_stab(kapa,ra,La,phia,kta,dela,kapb,rb,Lb,phib,ktb,x,fig)\n",
    "    plt.subplot(1,3,3)\n",
    "    sens(x,dela,kapa,kapb,ra,rb,kta,ktb,phia,phib,La,Lb)\n",
    "    plt.show()\n",
    "#def sens(x,delta,kapa,kapb,ra,rb,kta,ktb,phia,phib,La,Lb):\n",
    "### SLIDERS ###\n",
    "#input parameters:\n",
    "kapa_slider    = widgets.FloatSlider(value = 10., min=0., max=20., step=1., description='$\\kappa_a (2\\pi)$')\n",
    "kapb_slider    = widgets.FloatSlider(value = 2.5, min=0., max=20., step=1., description='$\\kappa_b (2\\pi)$')\n",
    "dela_slider    = widgets.FloatSlider(value = 0.1, min=-4., max=4., step=0.01, description='$\\Delta (\\kappa_a)$')\n",
    "ra_slider      = widgets.FloatSlider(value = 0.5, min=0., max=1., step=0.001, description='$\\kappa_{1,a} (\\kappa_a)$')\n",
    "rb_slider      = widgets.FloatSlider(value = 0.75, min=0., max=1., step=0.001, description='$\\kappa_{1,b} (\\kappa_b)$')\n",
    "kta_slider     = widgets.FloatSlider(value = 4.65, min=0., max=10., step=0.001, description='$\\kappa_{a}\\\\tau_a$')\n",
    "ktb_slider     = widgets.FloatSlider(value = 0.403, min=0., max=10., step=0.001, description='$\\kappa_{b}\\\\tau_b$')\n",
    "phia_slider    = widgets.FloatSlider(value = 0.0, min=0., max=2., step=0.001, description='$\\phi_a (\\pi)$')\n",
    "phib_slider    = widgets.FloatSlider(value = 0.04, min=0., max=2., step=0.001, description='$\\phi_b (\\pi)$')\n",
    "La_slider      = widgets.FloatSlider(value = 10., min=0., max=100., step=1., description='$L_a (\\%)$')\n",
    "Lb_slider      = widgets.FloatSlider(value = 10., min=0., max=100., step=1., description='$L_b (\\%)$')\n",
    "theta_slider   = widgets.FloatSlider(value = 1., min=-1., max=1., step=0.01, description='$\\\\theta (\\pi)$')\n",
    "thetapa_slider = widgets.FloatSlider(value = 0., min=-1., max=1., step=0.01, description='$\\\\theta^\\prime_a (\\pi)$')\n",
    "thetapb_slider = widgets.FloatSlider(value = 0., min=-1., max=1., step=0.01, description='$\\\\theta^\\prime_b (\\pi)$')\n",
    "x_slider       = widgets.FloatSlider(value = 0.25, min=0., max=5., step=0.01, description='$|\\epsilon| (\\kappa)$')\n",
    "nui_fill       = widgets.FloatText(value=-25., description='Frequency min $(2\\pi)$')\n",
    "nuf_fill       = widgets.FloatText(value=25., description='Frequency max $(2\\pi)$')\n",
    "N_fill         = widgets.IntText(value=50., description='Resolution $\\left(10^3 \\\\right)$')\n",
    "\n",
    "#interactive setup\n",
    "w = interactive(analysis,kapa=kapa_slider,kapb=kapb_slider,dela=dela_slider,\\\n",
    "                        ra = ra_slider,rb = rb_slider,kta = kta_slider,ktb = ktb_slider,\\\n",
    "                        phia = phia_slider,phib = phib_slider,La = La_slider,Lb = Lb_slider,\\\n",
    "                        theta = theta_slider,thetapa = thetapa_slider,thetapb = thetapb_slider,x = x_slider,\\\n",
    "                        nui = nui_fill, nuf = nuf_fill, N = N_fill\n",
    "                       )\n",
    "#show sliders\n",
    "display(w)"
   ]
  },
  {
   "cell_type": "code",
   "execution_count": null,
   "metadata": {
    "collapsed": true
   },
   "outputs": [],
   "source": []
  }
 ],
 "metadata": {
  "celltoolbar": "Raw Cell Format",
  "kernelspec": {
   "display_name": "Python 3",
   "language": "python",
   "name": "python3"
  },
  "language_info": {
   "codemirror_mode": {
    "name": "ipython",
    "version": 3
   },
   "file_extension": ".py",
   "mimetype": "text/x-python",
   "name": "python",
   "nbconvert_exporter": "python",
   "pygments_lexer": "ipython3",
   "version": "3.5.2"
  }
 },
 "nbformat": 4,
 "nbformat_minor": 0
}
