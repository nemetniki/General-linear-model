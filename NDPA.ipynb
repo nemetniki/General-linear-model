{
 "cells": [
  {
   "cell_type": "markdown",
   "metadata": {},
   "source": [
    "# EPR-type entanglement of NDPA\n",
    "\n",
    "$$\\def \\lk{\\left(}\n",
    "\\def \\rk{\\right)}\n",
    "\\def \\frop#1{\\hat{\\tilde{#1}}}\n",
    "\\def\\thetap{\\theta^\\prime}$$\n",
    "## Quadrature variances\n",
    "The quadratures of the two modes are:\n",
    "$$X_{\\mu,\\theta^\\prime}=\\frac{1}{2}\\lk\\frop{\\mu}e^{-i\\thetap/2}+\\frop{\\mu}^\\dagger e^{i\\thetap/2}\\rk$$\n",
    "The generalized quadratures involve both modes:\n",
    "$$X^G_{\\pm,\\thetap} = \\frac{1}{\\sqrt{2}}\\lk X_{a,\\thetap}\\pm X_{b,\\thetap}\\rk$$"
   ]
  },
  {
   "cell_type": "code",
   "execution_count": null,
   "metadata": {
    "collapsed": true
   },
   "outputs": [],
   "source": []
  }
 ],
 "metadata": {
  "kernelspec": {
   "display_name": "Python 3",
   "language": "python",
   "name": "python3"
  },
  "language_info": {
   "codemirror_mode": {
    "name": "ipython",
    "version": 3
   },
   "file_extension": ".py",
   "mimetype": "text/x-python",
   "name": "python",
   "nbconvert_exporter": "python",
   "pygments_lexer": "ipython3",
   "version": "3.5.1"
  }
 },
 "nbformat": 4,
 "nbformat_minor": 0
}
