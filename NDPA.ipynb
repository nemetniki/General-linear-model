{
 "cells": [
  {
   "cell_type": "markdown",
   "metadata": {},
   "source": [
    "# EPR-type entanglement of NDPA\n",
    "\n",
    "$$\\def \\lk{\\left(}\n",
    "\\def \\rk{\\right)}\n",
    "\\def \\frop#1{\\hat{\\tilde{#1}}}\n",
    "\\def\\thetap{\\theta^\\prime}\n",
    "\\def\\ul#1{\\underline{#1}}\n",
    "\\def\\frvecop#1{\\hat{\\tilde{\\underline{#1}}}}\n",
    "\\def\\dul#1{\\underline{\\underline{#1}}}\n",
    "\\def\\frmat#1{\\tilde{\\dul{#1}}}\n",
    "\\def\\lk{\\left(}\n",
    "\\def\\rk{\\right)}\n",
    "\\def\\lka{\\left\\{}\n",
    "\\def\\rka{\\right\\}}\n",
    "\\def\\lsz{\\left[}\n",
    "\\def\\rsz{\\right]}$$\n",
    "\n",
    "## Intracavity field\n",
    "$$\\begin{align}\n",
    "\\frop{a} &= \\lk\\nu\\dul{\\mathbb{1}} - \\dul{\\Delta} + i\\sqrt{2\\pi}\\frmat{f}\\rk^{-1}\\frop{B} = \n",
    "\\frmat{N}\\ \\frop{B} \\\\\n",
    "\\dul{\\Delta} &= \\left(\\begin{matrix} \n",
    "(-i\\kappa_a+\\Delta_a) & 0 & ig & i\\epsilon \\\\\n",
    "0 & (-i\\kappa_a-\\Delta_a) & i\\epsilon^* & ig^* \\\\\n",
    "-ig^* & i\\epsilon & (-i\\kappa_b+\\Delta_b) & 0 \\\\\n",
    "i\\epsilon^* & -ig & 0 & (-i\\kappa_b-\\Delta_b)\\end{matrix}\\right)\\\\\n",
    "\\sqrt{2\\pi}\\frmat{f} &= diag \\left(k_ae^{i(\\nu\\tau_a+\\phi_a)},k_ae^{i(\\nu\\tau_a-\\phi_a)},k_be^{i(\\nu\\tau_b+\\phi_b)},k_be^{i(\\nu\\tau_b-\\phi_b)}\\right) =\\\\\n",
    "& =diag \\left(k_a,k_a,k_b,k_b\\right)\\cdot diag \\left(e^{i(\\nu\\tau_a+\\phi_a)},e^{i(\\nu\\tau_a-\\phi_a)},e^{i(\\nu\\tau_b+\\phi_b)},e^{i(\\nu\\tau_b-\\phi_b)}\\right)=\\\\\n",
    "&=\\dul{K}\\,\\frmat{f}_N\n",
    "\\end{align}$$\n",
    "\n",
    "### Input field\n",
    "$$\\begin{align}\n",
    "\\frvecop{B} &= -i\\lsz\\lk\\dul{\\kappa}_1+\\sqrt{2\\pi}\\, \\dul{\\kappa}_2\\,\\frmat{f}_N\\rk\\frvecop{a}_{1,in} + \\dul{\\kappa}_2\\dul{L}_1\\frvecop{\\xi} \\rsz = \\frmat{A}_1\\,\\frvecop{a}_{1,in} + \\dul{S}\\,\\frvecop{\\xi}\\\\\n",
    "\\dul{\\kappa}_n &= diag(\\sqrt{2\\kappa_{n,a}},\\sqrt{2\\kappa_{n,a}},\\sqrt{2\\kappa_{n,b}},\\sqrt{2\\kappa_{n,b}})\\\\\n",
    "\\dul{L}_1 &= diag(\\sqrt{L_a},\\sqrt{L_a},\\sqrt{L_b},\\sqrt{L_b})\\\\\n",
    "\\dul{L}_2 &= diag(\\sqrt{1-L_a},\\sqrt{1-L_a},\\sqrt{1-L_b},\\sqrt{1-L_b})\\\\\n",
    "\\frmat{A}_1 &= -i\\cdot diag\\lk\\alpha_1(\\nu),\\alpha^*_1(-\\nu),\\beta_1(\\nu),\\beta^*_1(-\\nu)\\rk \\text{ where, } \\alpha_1(\\nu) = \\frac{1}{\\sqrt{2\\kappa_{1,a}}}\\lk 2\\kappa_{1,a}+k_a e^{i\\lk\\nu\\tau_a+\\phi_a\\rk}\\rk\n",
    "\\end{align}$$\n",
    "where $\\frvecop{a}_{1,in}$ and $\\frvecop{\\xi}$ represent vacuum fields.\n",
    "\n",
    "Therefore, the intracavity field has the following form:\n",
    "$$\\frvecop{a} = \\frmat{N}\\lk\\frmat{A}\\,\\frvecop{a}_{1,in}+\\dul{S}\\,\\frvecop{\\xi}\\rk$$"
   ]
  },
  {
   "cell_type": "code",
   "execution_count": 2,
   "metadata": {
    "collapsed": true
   },
   "outputs": [],
   "source": [
    "from sympy import *\n",
    "import numpy as np\n",
    "from IPython.display import display, Math, Latex\n",
    "init_printing(use_unicode=True)"
   ]
  },
  {
   "cell_type": "code",
   "execution_count": 18,
   "metadata": {
    "collapsed": false
   },
   "outputs": [],
   "source": [
    "from sympy.assumptions.assume import global_assumptions\n",
    "from sympy.solvers.solvers import check_assumptions\n",
    "\n",
    "dma,dmb,dpa,dpb,eps,Lab,Lba = \\\n",
    "symbols('d_-a d_-b d_+a d_+b \\epsilon \\Lambda_ab \\Lambda_ba')\n",
    "\n",
    "ka,kb,ta,tb,phia,phib,La,Lb,kap1a,kap2a,kap1b,kap2b =\\\n",
    "symbols('k_a k_b \\\\tau_a \\\\tau_b \\phi_a \\phi_b L_a,L_b,\\kappa_1a \\kappa_2a \\kappa_1b \\kappa_2b')\n",
    "\n",
    "xia,xida,xib,xidb,a1in,ad1in,b1in,bd1in,nu = \\\n",
    "symbols('\\\\xi_a \\\\xi^+_a \\\\xi_b \\\\xi^+_b a_1in a^+_1in b_1in b^+_1in \\\\nu')\n",
    "\n",
    "alpha1, beta1 = symbols('\\\\alpha_1 \\\\beta_1')\n",
    "\n",
    "kap1 = diag(sqrt(2*kap1a),sqrt(2*kap1a),sqrt(2*kap1b),sqrt(2*kap1b))\n",
    "kap2 = diag(sqrt(2*kap2a),sqrt(2*kap2a),sqrt(2*kap2b),sqrt(2*kap2b))\n",
    "L1   = diag(sqrt(La),sqrt(La),sqrt(Lb),sqrt(Lb))\n",
    "L2   = diag(sqrt(1-La),sqrt(1-La),sqrt(1-Lb),sqrt(1-Lb))\n",
    "K    = diag(ka,ka,kb,kb)\n",
    "ftil = diag(exp(I*(nu*ta+phia)),exp(I*(nu*ta-phia)),exp(I*(nu*tb+phib)),exp(I*(nu*tb-phib)))\n",
    "ain  = Matrix([a1in,ad1in,b1in,bd1in])\n",
    "xi   = Matrix([xia,xida,xib,xidb])\n",
    "\n",
    "A    = -I*diag(alpha1,conjugate(alpha1),beta1,conjugate(beta1))\n",
    "S    = -I*kap2*L1\n",
    "\n",
    "N    = I*Matrix([[dpb/Lba,0,0,eps/Lba],[0,dmb/Lab,conjugate(eps)/Lab,0],\\\n",
    "              [0,eps/Lab,dpa/Lab,0],[conjugate(eps)/Lba,0,0,dma/Lba]])\n"
   ]
  },
  {
   "cell_type": "markdown",
   "metadata": {},
   "source": [
    "The intracavity field is:"
   ]
  },
  {
   "cell_type": "code",
   "execution_count": 19,
   "metadata": {
    "collapsed": false
   },
   "outputs": [
    {
     "data": {
      "image/png": "[encoded data removed]",
      "text/latex": [
       "$$\\left[\\begin{matrix}\\frac{i \\epsilon}{\\Lambda_{ba}} \\left(- \\sqrt{2} i \\sqrt{L_{b}} \\sqrt{\\kappa_{2b}} \\xi^{+}_{b} - i b^{+}_{1in} \\overline{\\beta_{1}}\\right) + \\frac{i d_{+b}}{\\Lambda_{ba}} \\left(- \\sqrt{2} i \\sqrt{L_{a}} \\sqrt{\\kappa_{2a}} \\xi_{a} - i \\alpha_{1} a_{1in}\\right)\\\\\\frac{i d_{-b}}{\\Lambda_{ab}} \\left(- \\sqrt{2} i \\sqrt{L_{a}} \\sqrt{\\kappa_{2a}} \\xi^{+}_{a} - i a^{+}_{1in} \\overline{\\alpha_{1}}\\right) + \\frac{i \\overline{\\epsilon}}{\\Lambda_{ab}} \\left(- \\sqrt{2} i \\sqrt{L_{b}} \\sqrt{\\kappa_{2b}} \\xi_{b} - i \\beta_{1} b_{1in}\\right)\\\\\\frac{i \\epsilon}{\\Lambda_{ab}} \\left(- \\sqrt{2} i \\sqrt{L_{a}} \\sqrt{\\kappa_{2a}} \\xi^{+}_{a} - i a^{+}_{1in} \\overline{\\alpha_{1}}\\right) + \\frac{i d_{+a}}{\\Lambda_{ab}} \\left(- \\sqrt{2} i \\sqrt{L_{b}} \\sqrt{\\kappa_{2b}} \\xi_{b} - i \\beta_{1} b_{1in}\\right)\\\\\\frac{i d_{-a}}{\\Lambda_{ba}} \\left(- \\sqrt{2} i \\sqrt{L_{b}} \\sqrt{\\kappa_{2b}} \\xi^{+}_{b} - i b^{+}_{1in} \\overline{\\beta_{1}}\\right) + \\frac{i \\overline{\\epsilon}}{\\Lambda_{ba}} \\left(- \\sqrt{2} i \\sqrt{L_{a}} \\sqrt{\\kappa_{2a}} \\xi_{a} - i \\alpha_{1} a_{1in}\\right)\\end{matrix}\\right]$$"
      ],
      "text/plain": [
       "⎡           ⎛    ___     _____   ___________                       ______⎞    \n",
       "⎢ⅈ⋅\\epsilon⋅⎝- ╲╱ 2 ⋅ⅈ⋅╲╱ L_b ⋅╲╱ \\kappa_2b ⋅\\xi_b__+ - ⅈ⋅b_1in__+⋅\\beta₁⎠   ⅈ\n",
       "⎢───────────────────────────────────────────────────────────────────────── + ─\n",
       "⎢                                \\Lambda_ba                                   \n",
       "⎢                                                                             \n",
       "⎢        ⎛    ___     ____   __________                    _______⎞     ⎛    _\n",
       "⎢ ⅈ⋅d_-b⋅⎝- ╲╱ 2 ⋅ⅈ⋅╲╱ Lₐ ⋅╲╱ \\kappa₂ₐ ⋅\\xi⁺ₐ - ⅈ⋅a_1in__+⋅\\alpha₁⎠   ⅈ⋅⎝- ╲╱ \n",
       "⎢ ───────────────────────────────────────────────────────────────── + ────────\n",
       "⎢                             \\Lambda_ab                                      \n",
       "⎢                                                                             \n",
       "⎢            ⎛    ___     ____   __________                    _______⎞       \n",
       "⎢ ⅈ⋅\\epsilon⋅⎝- ╲╱ 2 ⋅ⅈ⋅╲╱ Lₐ ⋅╲╱ \\kappa₂ₐ ⋅\\xi⁺ₐ - ⅈ⋅a_1in__+⋅\\alpha₁⎠   ⅈ⋅d₊\n",
       "⎢ ───────────────────────────────────────────────────────────────────── + ────\n",
       "⎢                               \\Lambda_ab                                    \n",
       "⎢                                                                             \n",
       "⎢      ⎛    ___     _____   ___________                       ______⎞     ⎛   \n",
       "⎢ⅈ⋅d₋ₐ⋅⎝- ╲╱ 2 ⋅ⅈ⋅╲╱ L_b ⋅╲╱ \\kappa_2b ⋅\\xi_b__+ - ⅈ⋅b_1in__+⋅\\beta₁⎠   ⅈ⋅⎝- ╲\n",
       "⎢──────────────────────────────────────────────────────────────────── + ──────\n",
       "⎣                             \\Lambda_ba                                      \n",
       "\n",
       "      ⎛    ___     ____   __________                       ⎞⎤\n",
       "⋅d_+b⋅⎝- ╲╱ 2 ⋅ⅈ⋅╲╱ Lₐ ⋅╲╱ \\kappa₂ₐ ⋅\\xiₐ - ⅈ⋅\\alpha₁⋅a_1in⎠⎥\n",
       "────────────────────────────────────────────────────────────⎥\n",
       "                         \\Lambda_ba                         ⎥\n",
       "                                                            ⎥\n",
       "__     _____   ___________                       ⎞ ________ ⎥\n",
       "2 ⋅ⅈ⋅╲╱ L_b ⋅╲╱ \\kappa_2b ⋅\\xi_b - ⅈ⋅\\beta₁⋅b_1in⎠⋅\\epsilon ⎥\n",
       "─────────────────────────────────────────────────────────── ⎥\n",
       "                     \\Lambda_ab                             ⎥\n",
       "                                                            ⎥\n",
       "  ⎛    ___     _____   ___________                       ⎞  ⎥\n",
       "ₐ⋅⎝- ╲╱ 2 ⋅ⅈ⋅╲╱ L_b ⋅╲╱ \\kappa_2b ⋅\\xi_b - ⅈ⋅\\beta₁⋅b_1in⎠  ⎥\n",
       "──────────────────────────────────────────────────────────  ⎥\n",
       "                      \\Lambda_ab                            ⎥\n",
       "                                                            ⎥\n",
       " ___     ____   __________                       ⎞ ________ ⎥\n",
       "╱ 2 ⋅ⅈ⋅╲╱ Lₐ ⋅╲╱ \\kappa₂ₐ ⋅\\xiₐ - ⅈ⋅\\alpha₁⋅a_1in⎠⋅\\epsilon ⎥\n",
       "─────────────────────────────────────────────────────────── ⎥\n",
       "                      \\Lambda_ba                            ⎦"
      ]
     },
     "execution_count": 19,
     "metadata": {},
     "output_type": "execute_result"
    }
   ],
   "source": [
    "a = (N*(A*ain+S*xi))\n",
    "a"
   ]
  },
  {
   "cell_type": "markdown",
   "metadata": {},
   "source": [
    "So we have the following equations for the intracavity field:\n",
    "$$\\begin{align}\n",
    "\\frop{a}(\\nu) &= \\frac{1}{\\Lambda_{ba}(\\nu)}\\lsz d_{+b}(\\nu) \\alpha_1(\\nu) \\frop{a}_{1,in}(\\nu)+\\epsilon\\beta_1^*(-\\nu)\\frop{b}^\\dagger_{1,in}(-\\nu)+\\right.\\\\\n",
    "&\\quad\\left. \\sqrt{\\kappa_{2,a}L_a}d_{+b}(\\nu)\\frop{\\xi}_a(\\nu) +  \\sqrt{\\kappa_{2,b}L_b}\\epsilon\\frop{\\xi}^\\dagger_b(-\\nu) \\rsz\\\\\n",
    "\\frop{a}^\\dagger(-\\nu) &=\\frac{1}{\\Lambda_{ab}(\\nu)}\\lsz d_{-b}(\\nu) \\alpha_1^*(-\\nu) \\frop{a}^\\dagger_{1,in}(-\\nu)+\\epsilon^*\\beta_1(\\nu)\\frop{b}_{1,in}(\\nu)+\\right.\\\\\n",
    "&\\quad\\left. \\sqrt{\\kappa_{2,a}L_a}d_{-b}(\\nu)\\frop{\\xi}^\\dagger_a(-\\nu) +  \\sqrt{\\kappa_{2,b}L_b}\\epsilon^*\\frop{\\xi}_b(\\nu) \\rsz\\\\\n",
    "\\frop{b}(\\nu) &=\\frac{1}{\\Lambda_{ab}(\\nu)}\\lsz \\epsilon \\alpha_1^*(-\\nu) \\frop{a}^\\dagger_{1,in}(-\\nu)+d_{+a}(\\nu)\\beta_1(\\nu)\\frop{b}_{1,in}(\\nu)+\\right.\\\\\n",
    "&\\quad\\left. \\sqrt{\\kappa_{2,b}L_b}d_{+a}(\\nu)\\frop{\\xi}_b(\\nu) +  \\sqrt{\\kappa_{2,a}L_a}\\epsilon\\frop{\\xi}^\\dagger_a(-\\nu) \\rsz\\\\\n",
    "\\frop{b}^\\dagger(-\\nu) &=\\frac{1}{\\Lambda_{ba}(\\nu)}\\lsz \\epsilon^* \\alpha_1(\\nu) \\frop{a}_{1,in}(\\nu)+d_{-a}(\\nu)\\beta_1^*(-\\nu)\\frop{b}^\\dagger_{1,in}(-\\nu)+\\right.\\\\\n",
    "&\\quad\\left. \\sqrt{\\kappa_{2,b}L_b}d_{-a}(\\nu)\\frop{\\xi}^\\dagger_b(-\\nu) +  \\sqrt{\\kappa_{2,a}L_a}\\epsilon^*\\frop{\\xi}_a(\\nu) \\rsz\n",
    "\\end{align}$$"
   ]
  },
  {
   "cell_type": "markdown",
   "metadata": {},
   "source": [
    "### Output field\n",
    "$$\\begin{align}\n",
    "\\hat{\\tilde{\\underline{a}}}_{2,out} &= \\hat{\\tilde{\\underline{a}}}_{2,in} + \\dul{\\kappa}_2\\hat{\\tilde{\\underline{a}}} = \\sqrt{2\\pi}\\dul{L}_2\\frmat{f}_N\\lk\\frvecop{a}_{1,in}+\\dul{\\kappa}_1\\frvecop{a}\\rk + \\dul{L}_1\\frvecop{\\xi}+\\dul{\\kappa}_2\\hat{\\tilde{\\underline{a}}}=\\\\\n",
    "&= \\sqrt{2\\pi}\\dul{L}_2\\frmat{f}_N\\frvecop{a}_{1,in}+\\dul{L}_1\\frvecop{\\xi}+\\lk\\sqrt{2\\pi}\\dul{L}_2\\frmat{f}_N\\dul{\\kappa}_1 + \\dul{\\kappa}_2\\rk\\frmat{N}\\lk\\frmat{A}\\,\\frvecop{a}_{1,in} + \\dul{S}\\,\\frvecop{\\xi}\\rk =\\\\\n",
    "&= \\lsz\\sqrt{2\\pi}\\dul{L}_2\\frmat{f}_N +\\lk\\sqrt{2\\pi}\\dul{L}_2\\frmat{f}_N\\dul{\\kappa}_1 + \\dul{\\kappa}_2\\rk\\frmat{N}\\frmat{A}\\rsz\\frvecop{a}_{1,in}+\\lsz\\dul{L}_1+\\lk\\sqrt{2\\pi}\\dul{L}_2\\frmat{f}_N\\dul{\\kappa}_1 + \\dul{\\kappa}_2\\rk\\frmat{N}\\dul{S}\\rsz\\frvecop{\\xi}=\\\\\n",
    "&= \\lsz\\sqrt{2\\pi}\\dul{L}_2\\frmat{f}_N +\\lk\\sqrt{2\\pi}\\dul{L}_2\\frmat{f}_N\\dul{\\kappa}_1 + \\dul{\\kappa}_2\\rk\\frmat{N}\\frmat{A}\\rsz\\frvecop{a}_{1,in}+\\dul{L}_1\\lsz\\dul{\\mathbb{1}}-i\\dul{\\kappa}_2\\lk\\sqrt{2\\pi}\\dul{L}_2\\frmat{f}_N\\dul{\\kappa}_1 + \\dul{\\kappa}_2\\rk\\frmat{N}\\rsz\\frvecop{\\xi}=\\\\\n",
    "&=\\frmat{O}_1\\frvecop{a}_{1,in}+\\frmat{O}_2\\frvecop{\\xi}\n",
    "\\end{align}$$"
   ]
  },
  {
   "cell_type": "code",
   "execution_count": 29,
   "metadata": {
    "collapsed": false
   },
   "outputs": [
    {
     "data": {
      "image/png": "[encoded data removed]",
      "text/latex": [
       "$$\\sqrt{L_{a}} \\xi_{a} \\left(1.0 + \\frac{\\sqrt{2} d_{+b}}{\\Lambda_{ba}} \\sqrt{\\kappa_{2a}} \\left(\\sqrt{2} \\sqrt{\\kappa_{1a}} \\sqrt{- L_{a} + 1} e^{i \\left(\\nu \\tau_{a} + \\phi_{a}\\right)} + \\sqrt{2} \\sqrt{\\kappa_{2a}}\\right)\\right) + \\frac{\\epsilon \\xi^{+}_{b}}{\\Lambda_{ba}} \\sqrt{2} \\sqrt{L_{a}} \\sqrt{\\kappa_{2a}} \\left(\\sqrt{2} \\sqrt{\\kappa_{1a}} \\sqrt{- L_{a} + 1} e^{i \\left(\\nu \\tau_{a} + \\phi_{a}\\right)} + \\sqrt{2} \\sqrt{\\kappa_{2a}}\\right) + a_{1in} \\left(\\sqrt{- L_{a} + 1} e^{i \\left(\\nu \\tau_{a} + \\phi_{a}\\right)} + \\frac{\\alpha_{1} d_{+b}}{\\Lambda_{ba}} \\left(\\sqrt{2} \\sqrt{\\kappa_{1a}} \\sqrt{- L_{a} + 1} e^{i \\left(\\nu \\tau_{a} + \\phi_{a}\\right)} + \\sqrt{2} \\sqrt{\\kappa_{2a}}\\right)\\right) + \\frac{\\epsilon b^{+}_{1in}}{\\Lambda_{ba}} \\left(\\sqrt{2} \\sqrt{\\kappa_{1a}} \\sqrt{- L_{a} + 1} e^{i \\left(\\nu \\tau_{a} + \\phi_{a}\\right)} + \\sqrt{2} \\sqrt{\\kappa_{2a}}\\right) \\overline{\\beta_{1}}$$"
      ],
      "text/plain": [
       "            ⎛        ___   __________      ⎛  ___   __________   _________  ⅈ⋅\n",
       "  ____      ⎜      ╲╱ 2 ⋅╲╱ \\kappa₂ₐ ⋅d_+b⋅⎝╲╱ 2 ⋅╲╱ \\kappa₁ₐ ⋅╲╱ -Lₐ + 1 ⋅ℯ  \n",
       "╲╱ Lₐ ⋅\\xiₐ⋅⎜1.0 + ───────────────────────────────────────────────────────────\n",
       "            ⎝                                                   \\Lambda_ba    \n",
       "\n",
       "(\\nu⋅\\tauₐ + \\phiₐ)     ___   __________⎞⎞     ___   ____            _________\n",
       "                    + ╲╱ 2 ⋅╲╱ \\kappa₂ₐ ⎠⎟   ╲╱ 2 ⋅╲╱ Lₐ ⋅\\epsilon⋅╲╱ \\kappa₂ₐ\n",
       "─────────────────────────────────────────⎟ + ─────────────────────────────────\n",
       "                                         ⎠                                    \n",
       "\n",
       "_          ⎛  ___   __________   _________  ⅈ⋅(\\nu⋅\\tauₐ + \\phiₐ)     ___   __\n",
       " ⋅\\xi_b__+⋅⎝╲╱ 2 ⋅╲╱ \\kappa₁ₐ ⋅╲╱ -Lₐ + 1 ⋅ℯ                      + ╲╱ 2 ⋅╲╱ \\\n",
       "──────────────────────────────────────────────────────────────────────────────\n",
       "                      \\Lambda_ba                                              \n",
       "\n",
       "________⎞         ⎛                                                  ⎛  ___   \n",
       "kappa₂ₐ ⎠         ⎜  _________  ⅈ⋅(\\nu⋅\\tauₐ + \\phiₐ)   \\alpha₁⋅d_+b⋅⎝╲╱ 2 ⋅╲╱\n",
       "───────── + a_1in⋅⎜╲╱ -Lₐ + 1 ⋅ℯ                      + ──────────────────────\n",
       "                  ⎝                                                           \n",
       "\n",
       "__________   _________  ⅈ⋅(\\nu⋅\\tauₐ + \\phiₐ)     ___   __________⎞⎞          \n",
       " \\kappa₁ₐ ⋅╲╱ -Lₐ + 1 ⋅ℯ                      + ╲╱ 2 ⋅╲╱ \\kappa₂ₐ ⎠⎟   \\epsilo\n",
       "───────────────────────────────────────────────────────────────────⎟ + ───────\n",
       "                  \\Lambda_ba                                       ⎠          \n",
       "\n",
       "           ⎛  ___   __________   _________  ⅈ⋅(\\nu⋅\\tauₐ + \\phiₐ)     ___   __\n",
       "n⋅b_1in__+⋅⎝╲╱ 2 ⋅╲╱ \\kappa₁ₐ ⋅╲╱ -Lₐ + 1 ⋅ℯ                      + ╲╱ 2 ⋅╲╱ \\\n",
       "──────────────────────────────────────────────────────────────────────────────\n",
       "                                       \\Lambda_ba                             \n",
       "\n",
       "________⎞ ______\n",
       "kappa₂ₐ ⎠⋅\\beta₁\n",
       "────────────────\n",
       "                "
      ]
     },
     "execution_count": 29,
     "metadata": {},
     "output_type": "execute_result"
    }
   ],
   "source": [
    "import numpy as np\n",
    "O1 = L2*ftil+(L2*ftil*kap1+kap2)*N*A\n",
    "O2 = L1*(np.identity(4)-I*kap2*(L2*ftil*kap1+kap2)*N)\n",
    "aout = O1*ain + O2*xi\n",
    "aout[0]"
   ]
  },
  {
   "cell_type": "markdown",
   "metadata": {},
   "source": [
    "Therefore the output fields have the following expressions:\n",
    "$$\\begin{align}\n",
    "\\frop{a}_{2,out}(\\nu) &=  \\overbrace{\\lk \\sqrt{1-L_a} e^{i\\lk\\nu\\tau_a+\\phi_a\\rk}+\\frac{d_{+b}(\\nu)}{\\Lambda_{ba}(\\nu)}\\alpha_1(\\nu)\\alpha_2(\\nu)\\rk}^{\\frac{D_a(\\nu)}{\\Lambda_{ba}(\\nu)}}\\frop{a}_{1,in}(\\nu)+\\overbrace{\\sqrt{L_a}\\lk 1+\\sqrt{2\\kappa_{2,a}}\\frac{d_{+b}(\\nu)\\alpha_2(\\nu)}{\\Lambda_{ba}}\\rk}^{\\frac{E_a(\\nu)}{\\Lambda_{ba}}}\\frop{\\xi}_a(\\nu)+\\\\\n",
    "&\\quad+\\epsilon\\frac{\\alpha_2(\\nu)}{\\Lambda_{ba}(\\nu)}\\lsz\\lk\\beta^*_1(-\\nu)\\frop{b}^\\dagger_{1,in}(-\\nu)+\\sqrt{2\\kappa_{2,b}L_b}\\frop{\\xi}^\\dagger_b(-\\nu)\\rk\\rsz=\\\\\n",
    "&=\\frac{1}{\\Lambda_{ba}(\\nu)}\\lka D_a(\\nu)\\frop{a}_{1,in}(\\nu)+E_a(\\nu)\\frop{\\xi}_a(\\nu)+\\epsilon\\alpha_2(\\nu)\\lsz\\beta^*_1(-\\nu)\\frop{b}^\\dagger_{1,in}(-\\nu)+\\sqrt{2\\kappa_{2,b}L_b}\\frop{\\xi}^\\dagger_b(-\\nu)\\rsz\\rka\\\\\n",
    "\\frop{a}^\\dagger_{2,out}(-\\nu) &= \\frac{1}{\\Lambda_{ab}(\\nu)}\\lka D^*_a(-\\nu)\\frop{a}^\\dagger_{1,in}(-\\nu)+E^*_a(-\\nu)\\frop{\\xi}^\\dagger_a(-\\nu)+\\epsilon^*\\alpha^*_2(-\\nu)\\lsz\\beta_1(\\nu)\\frop{b}_{1,in}(\\nu)+\\sqrt{2\\kappa_{2,b}L_b}\\frop{\\xi}_b(\\nu)\\rsz\\rka\\\\\n",
    "\\frop{b}_{2,out}(\\nu)&= \\frac{1}{\\Lambda_{ab}(\\nu)}\\lka D_b(\\nu)\\frop{b}_{1,in}(\\nu)+E_b(\\nu)\\frop{\\xi}_b(\\nu)+\\epsilon\\beta_2(\\nu)\\lsz\\alpha^*_1(-\\nu)\\frop{a}^\\dagger_{1,in}(-\\nu)+\\sqrt{2\\kappa_{2,a}L_a}\\frop{\\xi}^\\dagger_a(-\\nu)\\rsz\\rka\\\\\n",
    "\\frop{b}^\\dagger_{2,out}(-\\nu) &= \\frac{1}{\\Lambda_{ba}(\\nu)}\\lka D^*_b(-\\nu)\\frop{b}^\\dagger_{1,in}(-\\nu)+E^*_b(-\\nu)\\frop{\\xi}^\\dagger_b(-\\nu)+\\epsilon^*\\beta^*_2(-\\nu)\\lsz\\alpha_1(\\nu)\\frop{a}_{1,in}(\\nu)+\\sqrt{2\\kappa_{2,a}L_a}\\frop{\\xi}_a(\\nu)\\rsz\\rka\n",
    "\\end{align}$$"
   ]
  },
  {
   "cell_type": "markdown",
   "metadata": {},
   "source": [
    "## Quadrature variances\n",
    "\n",
    "The quadratures of the two modes are:\n",
    "$$\\frop{X}_{\\mu,\\theta^\\prime_\\mu}=\\frac{1}{2}\\lk\\frop{\\mu}e^{-i\\thetap_\\mu/2}+\\frop{\\mu}^\\dagger e^{i\\thetap_\\mu/2}\\rk$$\n",
    "The generalized quadratures involve both modes:\n",
    "$$\\frop{X}^G_{\\thetap} = \\frac{1}{\\sqrt{2}}\\lk X_{a,\\thetap_a}- X_{b,\\thetap_b}\\rk$$\n",
    "\n"
   ]
  },
  {
   "cell_type": "code",
   "execution_count": 27,
   "metadata": {
    "collapsed": false
   },
   "outputs": [
    {
     "data": {
      "image/png": "[encoded data removed]",
      "text/latex": [
       "$$\\left[\\begin{matrix}\\frac{1}{\\Lambda_{ba}} \\left(D_{a} a_{1in} + E_{a} \\xi_{a} + \\alpha_{2} \\epsilon \\left(\\sqrt{2} \\xi^{+}_{b} \\sqrt{L_{b} \\kappa_{2b}} + b^{+}_{1in} \\overline{\\beta_{1}}\\right)\\right)\\\\\\frac{1}{\\Lambda_{ab}} \\left(\\xi^{+}_{a} \\overline{E_{a}} + a^{+}_{1in} \\overline{D_{a}} + \\left(\\beta_{1} b_{1in} + \\sqrt{2} \\xi_{b} \\sqrt{L_{b} \\kappa_{2b}}\\right) \\overline{\\alpha_{2}} \\overline{\\epsilon}\\right)\\\\\\frac{1}{\\Lambda_{ab}} \\left(D_{b} b_{1in} + E_{b} \\xi_{b} + \\beta_{2} \\epsilon \\left(\\sqrt{2} \\xi^{+}_{a} \\sqrt{L_{a} \\kappa_{2a}} + a^{+}_{1in} \\overline{\\alpha_{1}}\\right)\\right)\\\\\\frac{1}{\\Lambda_{ba}} \\left(\\xi^{+}_{b} \\overline{E_{b}} + b^{+}_{1in} \\overline{D_{b}} + \\left(\\alpha_{1} a_{1in} + \\sqrt{2} \\xi_{a} \\sqrt{L_{a} \\kappa_{2a}}\\right) \\overline{\\beta_{2}} \\overline{\\epsilon}\\right)\\end{matrix}\\right]$$"
      ],
      "text/plain": [
       "⎡                                      ⎛  ___            _______________      \n",
       "⎢Dₐ⋅a_1in + Eₐ⋅\\xiₐ + \\alpha₂⋅\\epsilon⋅⎝╲╱ 2 ⋅\\xi_b__+⋅╲╱ L_b⋅\\kappa_2b  + b_1\n",
       "⎢─────────────────────────────────────────────────────────────────────────────\n",
       "⎢                                        \\Lambda_ba                           \n",
       "⎢                                                                             \n",
       "⎢       __            __   ⎛                 ___         _______________⎞ ____\n",
       "⎢ \\xi⁺ₐ⋅Eₐ + a_1in__+⋅Dₐ + ⎝\\beta₁⋅b_1in + ╲╱ 2 ⋅\\xi_b⋅╲╱ L_b⋅\\kappa_2b ⎠⋅\\alp\n",
       "⎢ ────────────────────────────────────────────────────────────────────────────\n",
       "⎢                                        \\Lambda_ab                           \n",
       "⎢                                                                             \n",
       "⎢                                         ⎛  ___         _____________        \n",
       "⎢ D_b⋅b_1in + E_b⋅\\xi_b + \\beta₂⋅\\epsilon⋅⎝╲╱ 2 ⋅\\xi⁺ₐ⋅╲╱ Lₐ⋅\\kappa₂ₐ  + a_1in\n",
       "⎢ ────────────────────────────────────────────────────────────────────────────\n",
       "⎢                                        \\Lambda_ab                           \n",
       "⎢                                                                             \n",
       "⎢         ___            ___   ⎛                  ___        _____________⎞ __\n",
       "⎢\\xi_b__+⋅E_b + b_1in__+⋅D_b + ⎝\\alpha₁⋅a_1in + ╲╱ 2 ⋅\\xiₐ⋅╲╱ Lₐ⋅\\kappa₂ₐ ⎠⋅\\b\n",
       "⎢─────────────────────────────────────────────────────────────────────────────\n",
       "⎣                                        \\Lambda_ba                           \n",
       "\n",
       "      ______⎞⎤\n",
       "in__+⋅\\beta₁⎠⎥\n",
       "─────────────⎥\n",
       "             ⎥\n",
       "             ⎥\n",
       "___ ________ ⎥\n",
       "ha₂⋅\\epsilon ⎥\n",
       "──────────── ⎥\n",
       "             ⎥\n",
       "             ⎥\n",
       "    _______⎞ ⎥\n",
       "__+⋅\\alpha₁⎠ ⎥\n",
       "──────────── ⎥\n",
       "             ⎥\n",
       "             ⎥\n",
       "____ ________⎥\n",
       "eta₂⋅\\epsilon⎥\n",
       "─────────────⎥\n",
       "             ⎦"
      ]
     },
     "execution_count": 27,
     "metadata": {},
     "output_type": "execute_result"
    }
   ],
   "source": [
    "alpha1,beta1,alpha2,beta2,Da,Db,Ea,Eb = symbols('\\\\alpha_1 \\\\beta_1 \\\\alpha_2 \\\\beta_2 D_a D_b E_a E_b')\n",
    "thetapa,thetapb,kapa,kapb = symbols('\\\\theta_pa \\\\theta_pb \\kappa_a \\kappa_b')\n",
    "aout = Matrix([1/(Lba)*(Da*a1in+Ea*xia+alpha2*eps*(conjugate(beta1)*bd1in+sqrt(2*kap2b*Lb)*xidb)),\\\n",
    "               1/(Lab)*(conjugate(Da)*ad1in+conjugate(Ea)*xida+\\\n",
    "                        conjugate(alpha2)*conjugate(eps)*(beta1*b1in+sqrt(2*kap2b*Lb)*xib)),\\\n",
    "               1/(Lab)*(Db*b1in+Eb*xib+beta2*eps*(conjugate(alpha1)*ad1in+sqrt(2*kap2a*La)*xida)),\\\n",
    "               1/(Lba)*(conjugate(Db)*bd1in+conjugate(Eb)*xidb+\\\n",
    "                        conjugate(beta2)*conjugate(eps)*(alpha1*a1in+sqrt(2*kap2a*La)*xia))])\n",
    "aout"
   ]
  },
  {
   "cell_type": "code",
   "execution_count": 28,
   "metadata": {
    "collapsed": false
   },
   "outputs": [
    {
     "data": {
      "image/png": "[encoded data removed]",
      "text/latex": [
       "$$\\frac{\\sqrt{2}}{2} \\left(\\frac{0.5}{\\Lambda_{ba}} \\left(D_{a} a_{1in} + E_{a} \\xi_{a} + \\alpha_{2} \\epsilon \\left(\\sqrt{2} \\xi^{+}_{b} \\sqrt{L_{b} \\kappa_{2b}} + b^{+}_{1in} \\overline{\\beta_{1}}\\right)\\right) e^{- \\frac{i \\theta_{pa}}{2}} - \\frac{0.5}{\\Lambda_{ba}} \\left(\\xi^{+}_{b} \\overline{E_{b}} + b^{+}_{1in} \\overline{D_{b}} + \\left(\\alpha_{1} a_{1in} + \\sqrt{2} \\xi_{a} \\sqrt{L_{a} \\kappa_{2a}}\\right) \\overline{\\beta_{2}} \\overline{\\epsilon}\\right) e^{\\frac{i \\theta_{pb}}{2}} - \\frac{0.5}{\\Lambda_{ab}} \\left(D_{b} b_{1in} + E_{b} \\xi_{b} + \\beta_{2} \\epsilon \\left(\\sqrt{2} \\xi^{+}_{a} \\sqrt{L_{a} \\kappa_{2a}} + a^{+}_{1in} \\overline{\\alpha_{1}}\\right)\\right) e^{- \\frac{i \\theta_{pb}}{2}} + \\frac{0.5}{\\Lambda_{ab}} \\left(\\xi^{+}_{a} \\overline{E_{a}} + a^{+}_{1in} \\overline{D_{a}} + \\left(\\beta_{1} b_{1in} + \\sqrt{2} \\xi_{b} \\sqrt{L_{b} \\kappa_{2b}}\\right) \\overline{\\alpha_{2}} \\overline{\\epsilon}\\right) e^{\\frac{i \\theta_{pa}}{2}}\\right)$$"
      ],
      "text/plain": [
       "      ⎛                                                                       \n",
       "      ⎜                                                                       \n",
       "      ⎜    ⎛                                      ⎛  ___            __________\n",
       "  ___ ⎜0.5⋅⎝Dₐ⋅a_1in + Eₐ⋅\\xiₐ + \\alpha₂⋅\\epsilon⋅⎝╲╱ 2 ⋅\\xi_b__+⋅╲╱ L_b⋅\\kapp\n",
       "╲╱ 2 ⋅⎜───────────────────────────────────────────────────────────────────────\n",
       "      ⎝                                                   \\Lambda_ba          \n",
       "──────────────────────────────────────────────────────────────────────────────\n",
       "                                                                              \n",
       "\n",
       "                           -ⅈ⋅\\theta_pa                                       \n",
       "                           ─────────────                                      \n",
       "_____            ______⎞⎞        2                ⎛         ___            ___\n",
       "a_2b  + b_1in__+⋅\\beta₁⎠⎠⋅ℯ                - -0.5⋅⎝\\xi_b__+⋅E_b + b_1in__+⋅D_b\n",
       "──────────────────────────────────────── - ───────────────────────────────────\n",
       "                                                                              \n",
       "──────────────────────────────────────────────────────────────────────────────\n",
       "                                                                              \n",
       "\n",
       "                                                                  ⅈ⋅\\theta_pb \n",
       "                                                                  ─────────── \n",
       "   ⎛                  ___        _____________⎞ ______ ________⎞       2      \n",
       " + ⎝\\alpha₁⋅a_1in + ╲╱ 2 ⋅\\xiₐ⋅╲╱ Lₐ⋅\\kappa₂ₐ ⎠⋅\\beta₂⋅\\epsilon⎠⋅ℯ            \n",
       "──────────────────────────────────────────────────────────────────────────────\n",
       "                 \\Lambda_ba                                                   \n",
       "──────────────────────────────────────────────────────────────────────────────\n",
       "                                                                          2   \n",
       "\n",
       "                                                                              \n",
       "                                                                              \n",
       "          ⎛                                        ⎛  ___         ____________\n",
       "   - -0.5⋅⎝D_b⋅b_1in + E_b⋅\\xi_b + \\beta₂⋅\\epsilon⋅⎝╲╱ 2 ⋅\\xi⁺ₐ⋅╲╱ Lₐ⋅\\kappa₂ₐ\n",
       " - ───────────────────────────────────────────────────────────────────────────\n",
       "                                                       \\Lambda_ab             \n",
       "──────────────────────────────────────────────────────────────────────────────\n",
       "                                                                              \n",
       "\n",
       "                        -ⅈ⋅\\theta_pb                                          \n",
       "                        ─────────────                                         \n",
       "_            _______⎞⎞        2              ⎛      __            __   ⎛      \n",
       "  + a_1in__+⋅\\alpha₁⎠⎠⋅ℯ                 0.5⋅⎝\\xi⁺ₐ⋅Eₐ + a_1in__+⋅Dₐ + ⎝\\beta₁\n",
       "────────────────────────────────────── + ─────────────────────────────────────\n",
       "                                                                              \n",
       "──────────────────────────────────────────────────────────────────────────────\n",
       "                                                                              \n",
       "\n",
       "                                                           ⅈ⋅\\theta_pa⎞\n",
       "                                                           ───────────⎟\n",
       "           ___         _______________⎞ _______ ________⎞       2     ⎟\n",
       "⋅b_1in + ╲╱ 2 ⋅\\xi_b⋅╲╱ L_b⋅\\kappa_2b ⎠⋅\\alpha₂⋅\\epsilon⎠⋅ℯ           ⎟\n",
       "──────────────────────────────────────────────────────────────────────⎟\n",
       "            \\Lambda_ab                                                ⎠\n",
       "───────────────────────────────────────────────────────────────────────\n",
       "                                                                       "
      ]
     },
     "execution_count": 28,
     "metadata": {},
     "output_type": "execute_result"
    }
   ],
   "source": [
    "Xa = 1/2*(aout[0]*exp(-I*thetapa/2)+aout[1]*exp(I*thetapa/2))\n",
    "Xb = 1/2*(aout[2]*exp(-I*thetapb/2)+aout[3]*exp(I*thetapb/2))\n",
    "XG = 1/sqrt(2)*(Xa-Xb)\n",
    "XG"
   ]
  },
  {
   "cell_type": "markdown",
   "metadata": {},
   "source": [
    "So the expression of one of the quadratures is:\n",
    "$$\\begin{align}\n",
    "\\frop{X}_{\\thetap}^G(\\nu) &= \\frac{\\sqrt{2}}{4}\\lka\\frac{1}{\\Lambda_{ba}}\n",
    "\\lsz \\overbrace{\\lk D_a(\\nu)e^{-i\\thetap_a/2}-\\epsilon^*\\beta_2^*(-\\nu)\\alpha_1(\\nu)e^{i\\thetap_b/2}\\rk}^{M_{a}(\\nu)}\\frop{a}_{1,in}(\\nu)-\n",
    "\\lk D^*_b(-\\nu)e^{i\\thetap_b/2}-\\epsilon\\alpha_2(\\nu)\\beta_1^*(-\\nu) e^{-i\\thetap_a/2}\\rk\\frop{b}^\\dagger_{1,in}(-\\nu)+\\right.\\right.\\\\\n",
    "&\\quad\\left.\\left.+\\overbrace{\\lk E_a(\\nu)e^{-i\\thetap_a/2}-\\sqrt{2\\kappa_{2a}L_a}\\epsilon^*\\beta^*_2(-\\nu)e^{i\\thetap_b/2}\\rk}^{N_a(\\nu)}\\frop{\\xi}_{a}(\\nu)-\n",
    "\\lk E^*_b(-\\nu)e^{i\\thetap_b/2}-\\sqrt{2\\kappa_{2b}L_b}\\epsilon\\alpha_2(\\nu) e^{-i\\thetap_a/2}\\rk\\frop{\\xi}^\\dagger_{b}(-\\nu)\\rsz+\\right.\\\\\n",
    "&\\quad\\left.+\\frac{1}{\\Lambda_{ab}}\n",
    "\\lsz \\lk D^*_a(-\\nu)e^{i\\thetap_a/2}-\\epsilon\\beta_2(\\nu)\\alpha^*_1(-\\nu)e^{-i\\thetap_b/2}\\rk\\frop{a}^\\dagger_{1,in}(-\\nu)-\n",
    "\\lk D_b(\\nu)e^{-i\\thetap_b/2}-\\epsilon^*\\alpha^*_2(-\\nu)\\beta_1(\\nu) e^{i\\thetap_a/2}\\rk\\frop{b}_{1,in}(\\nu)+\\right.\\right.\\\\\n",
    "&\\quad\\left.\\left.+\\lk E^*_a(-\\nu)e^{i\\thetap_a/2}-\\sqrt{2\\kappa_{2a}L_a}\\epsilon\\beta_2(\\nu)e^{-i\\thetap_b/2}\\rk\\frop{\\xi}^\\dagger_{a}(-\\nu)-\n",
    "\\lk E_b(\\nu)e^{-i\\thetap_b/2}-\\sqrt{2\\kappa_{2b}L_b}\\epsilon^*\\alpha^*_2(-\\nu) e^{i\\thetap_a/2}\\rk\\frop{\\xi}_{b}(\\nu)\\rsz\\rka=\\\\\n",
    "&= \\frac{\\sqrt{2}}{4}\\lka\\frac{1}{\\Lambda_{ba}}\n",
    "\\lsz M_{a}(\\nu)\\frop{a}_{1,in}(\\nu)-M_{b}^*(-\\nu)\\frop{b}^\\dagger_{1,in}(-\\nu)+N_{a}(\\nu)\\frop{\\xi}_a(\\nu)-N_{b}^*(-\\nu)\\frop{\\xi}_b^\\dagger(-\\nu)\\rsz+\\right.\\\\\n",
    "&\\left.\\quad+\\frac{1}{\\Lambda_{ab}}\n",
    "\\lsz M^*_{a}(-\\nu)\\frop{a}^\\dagger_{1,in}(-\\nu)-M_{b}(\\nu)\\frop{b}_{1,in}(\\nu)+N^*_{a}(-\\nu)\\frop{\\xi}^\\dagger_a(-\\nu)-N_{b}(\\nu)\\frop{\\xi}_b(\\nu)\\rsz\\rka\n",
    "\\end{align}$$"
   ]
  },
  {
   "cell_type": "markdown",
   "metadata": {},
   "source": [
    "## Numerical calculations\n",
    "\n",
    "Here I set the appropriate parameters and calculate the general quadrature variance in the units of dB."
   ]
  },
  {
   "cell_type": "code",
   "execution_count": 55,
   "metadata": {
    "collapsed": true
   },
   "outputs": [],
   "source": [
    "from pylab import *\n",
    "def quadr_spec(kapa=20.,kapb=20.,dela=0.,delb=0.,ra=0.0000000001,rb=0.0000000001,kta=0.,ktb=0.,phia=0.,phib=0.,La=100.,Lb=100.,\\\n",
    "               theta=0,thetapa=-pi,thetapb=pi,x=1.,nui=-25.,nuf=25.,N=20):\n",
    "    \n",
    "    kapa = kapa*2.*pi\n",
    "    kapb = kapb*2.*pi\n",
    "    theta = theta*pi\n",
    "    thetapa = thetapa*pi\n",
    "    thetapb = thetapb*pi\n",
    "    phia = phia*pi\n",
    "    phib = phib*pi\n",
    "    N = N*1000\n",
    "    \n",
    "    nu = linspace(nui*2.*pi,nuf*2.*pi,N)\n",
    "    \n",
    "    eps = x*kapa*exp(1j*theta)\n",
    "    Dela = kapa*dela\n",
    "    Delb = kapb*delb\n",
    "    ta   = kta/kapa\n",
    "    tb   = ktb/kapb\n",
    "    kap1a = kapa * ra\n",
    "    kap1b = kapb * rb\n",
    "    kap2a = kapa * (1-ra)\n",
    "    kap2b = kapb * (1-rb)\n",
    "    ka = 2*sqrt(ra*(1-ra)*(1-La/100))*kapa\n",
    "    kb = 2*sqrt(rb*(1-rb)*(1-Lb/100))*kapb\n",
    "    Ema = ka*exp(1j*(nu*ta-phia))\n",
    "    Emb = kb*exp(1j*(nu*tb-phib))\n",
    "    Epa = ka*exp(1j*(nu*ta+phia))\n",
    "    Epb = kb*exp(1j*(nu*tb+phib))\n",
    "    dma = kapa-1j*(nu-Dela) + Epa\n",
    "    dmb = kapb-1j*(nu-Delb) + Epb\n",
    "    dpa = kapa-1j*(nu+Dela) + Ema\n",
    "    dpb = kapb-1j*(nu+Delb) + Emb\n",
    "    Lab = abs(eps)**2 - dpa*dmb\n",
    "    Lba = abs(eps)**2 - dpb*dma\n",
    "    alpha1p = 1/sqrt(2*kap1a) * (2*kap1a+Epa)\n",
    "    alpha2p = 1/sqrt(2*kap2a) * (2*kap2a+Epa)\n",
    "    beta1p  = 1/sqrt(2*kap1b) * (2*kap1b+Epb)\n",
    "    beta2p  = 1/sqrt(2*kap2b) * (2*kap2b+Epb)\n",
    "    alpha1m = 1/sqrt(2*kap1a) * (2*kap1a+Ema)\n",
    "    alpha2m = 1/sqrt(2*kap2a) * (2*kap2a+Ema)\n",
    "    beta1m  = 1/sqrt(2*kap1b) * (2*kap1b+Emb)\n",
    "    beta2m  = 1/sqrt(2*kap2b) * (2*kap2b+Emb)\n",
    "    Da = sqrt(1-La/100)*Lba*exp(1j*(nu*ta+phia))+dpb*alpha1p*alpha2p\n",
    "    Db = sqrt(1-Lb/100)*Lab*exp(1j*(nu*tb+phib))+dpa*beta1p*beta2p\n",
    "    Ea = sqrt(La/100)*(sqrt(2*kap2a)*dpb*alpha2p+Lba)\n",
    "    Eb = sqrt(Lb/100)*(sqrt(2*kap2b)*dpa*beta2p+Lab)\n",
    "    Ma = Da*exp(-1j*thetapa/2)-conj(eps)*alpha1p*beta2m*exp(1j*thetapb/2)\n",
    "    Mb = Db*exp(-1j*thetapb/2)-conj(eps)*beta1p*alpha2m*exp(1j*thetapa/2)\n",
    "    Na = Ea*exp(-1j*thetapa/2)-sqrt(2*kap2a*La/100)*conj(eps)*beta2m*exp(1j*thetapb/2)\n",
    "    Nb = Eb*exp(-1j*thetapb/2)-sqrt(2*kap2b*Lb/100)*conj(eps)*alpha2m*exp(1j*thetapa/2)\n",
    "    \n",
    "    XXG = 1/2*(1/abs(Lba)**2*(abs(Ma)**2+abs(Na)**2)+1/abs(Lab)**2*(abs(Mb)**2+abs(Nb)**2))\n",
    "    Sout = 10*np.log10(XXG)\n",
    "    \n",
    "    plot(nu/2/pi,Sout,linewidth=2.0)\n",
    "    xlabel('$\\\\nu/2\\pi$')\n",
    "    ylabel('$S_{out,\\\\theta^\\prime}(\\\\nu)$')\n",
    "    xlim(nui,nuf)\n",
    "    ylim(-30,30)\n",
    "    grid(True)\n",
    "    show()\n",
    "    print(kapa)"
   ]
  },
  {
   "cell_type": "code",
   "execution_count": 67,
   "metadata": {
    "collapsed": false
   },
   "outputs": [
    {
     "data": {
      "image/png": "[encoded data removed]",
      "text/plain": [
       "<matplotlib.figure.Figure at 0x7f84cf630198>"
      ]
     },
     "metadata": {},
     "output_type": "display_data"
    },
    {
     "name": "stdout",
     "output_type": "stream",
     "text": [
      "62.83185307179586\n"
     ]
    }
   ],
   "source": [
    "%matplotlib inline\n",
    "from ipywidgets import interactive\n",
    "import ipywidgets as widgets\n",
    "from IPython.display import display\n",
    "\n",
    "kapa_slider    = widgets.FloatSlider(value = 10., min=0., max=20., step=1., description='$\\kappa_a (2\\pi)$')\n",
    "kapb_slider    = widgets.FloatSlider(value = 10., min=0., max=20., step=1., description='$\\kappa_b (2\\pi)$')\n",
    "dela_slider    = widgets.FloatSlider(value = 0., min=-2., max=2., step=0.01, description='$\\Delta_a (\\kappa_a)$')\n",
    "delb_slider    = widgets.FloatSlider(value = 0., min=-2., max=2., step=0.01, description='$\\Delta_b (\\kappa_b)$')\n",
    "ra_slider      = widgets.FloatSlider(value = 0.5, min=0., max=1., step=0.0000001, description='$\\kappa_{1,a} (\\kappa_a)$')\n",
    "rb_slider      = widgets.FloatSlider(value = 0.5, min=0., max=1., step=0.0000001, description='$\\kappa_{1,b} (\\kappa_b)$')\n",
    "kta_slider     = widgets.FloatSlider(value = 0., min=0., max=10., step=0.0001, description='$\\kappa_{a}\\\\tau_a$')\n",
    "ktb_slider     = widgets.FloatSlider(value = 0., min=0., max=10., step=0.0001, description='$\\kappa_{b}\\\\tau_b$')\n",
    "phia_slider    = widgets.FloatSlider(value = 0., min=0., max=2., step=0.01, description='$\\phi_a (\\pi)$')\n",
    "phib_slider    = widgets.FloatSlider(value = 0., min=0., max=2., step=0.01, description='$\\phi_b (\\pi)$')\n",
    "La_slider      = widgets.FloatSlider(value = 0., min=0., max=100., step=1., description='$L_a (\\%)$')\n",
    "Lb_slider      = widgets.FloatSlider(value = 0., min=0., max=100., step=1., description='$L_b (\\%)$')\n",
    "theta_slider   = widgets.FloatSlider(value = 0., min=-1., max=1., step=0.0001, description='$\\\\theta (\\pi)$')\n",
    "thetapa_slider = widgets.FloatSlider(value = -1., min=-1., max=1., step=0.0001, description='$\\\\theta^\\prime_a (\\pi)$')\n",
    "thetapb_slider = widgets.FloatSlider(value = 1., min=-1., max=1., step=0.0001, description='$\\\\theta^\\prime_b (\\pi)$')\n",
    "x_slider       = widgets.FloatSlider(value = 1., min=0., max=2., step=0.0001, description='$|\\epsilon| (\\kappa_a)$')\n",
    "nui_fill       = widgets.FloatText(value=-25., description='Frequency min $(2\\pi)$')\n",
    "nuf_fill       = widgets.FloatText(value=25., description='Frequency max $(2\\pi)$')\n",
    "N_fill         = widgets.IntText(value=20., description='Resolution $\\left(10^3 \\\\right)$')\n",
    "\n",
    "w = interactive(quadr_spec,kapa=kapa_slider,kapb=kapb_slider,dela=dela_slider,delb=delb_slider,\\\n",
    "                        ra = ra_slider,rb = rb_slider,kta = kta_slider,ktb = ktb_slider,\\\n",
    "                        phia = phia_slider,phib = phib_slider,La = La_slider,Lb = Lb_slider,\\\n",
    "                        theta = theta_slider,thetapa = thetapa_slider,thetapb = thetapb_slider,x = x_slider,\\\n",
    "                        nui = nui_fill, nuf = nuf_fill, N = N_fill\n",
    "                       )\n",
    "display(w)\n",
    "#widgets.VBox([widgets.HBox([widgets.VBox([kapa_slider,dela_slider,ra_slider,kta_slider,phia_slider,La_slider,thetapa_slider]),\\\n",
    "#                            widgets.VBox([kapb_slider,delb_slider,rb_slider,ktb_slider,phib_slider,Lb_slider,thetapb_slider])\n",
    "#                           ]),\n",
    "#             widgets.HBox([widgets.VBox([x_slider,theta_slider]),widgets.VBox([nui_fill, nuf_fill, N_fill])]),])"
   ]
  },
  {
   "cell_type": "markdown",
   "metadata": {},
   "source": [
    "\n",
    "## Singularities\n",
    "\n",
    "If one calculates the quadrature variance $\\left<\\frop{X}^G_{\\pm,\\thetap}(\\nu),\\frop{X}^G_{\\pm,\\thetap}(\\nu^\\prime)\\right>$, then the obtained expression has a singularity when $\\left|\\Lambda_{ab}\\right|^2=0$. To find this condition, let us take a closer look at expression $\\Lambda_{ab}$.\n",
    "$$\\begin{align}\n",
    "\\Lambda_{ab}(\\nu) &= |\\epsilon|^2-d_{+a}(\\nu)d_{-b}(\\nu) = |\\epsilon|^2-\\lk\\kappa_a + i\\lk\\nu+\\Delta_a\\rk - k_a e^{i\\lk\\nu\\tau_a+\\phi_a\\rk}\\rk\\lk\\kappa_b + i\\lk\\nu-\\Delta_b\\rk - k_b e^{i\\lk\\nu\\tau_b-\\phi_b\\rk}\\rk\\\\\n",
    "d_{\\pm,\\mu} &= \\kappa_\\mu + i\\lk\\nu\\pm\\Delta_\\mu\\rk - k_\\mu e^{i\\lk\\nu\\tau_\\mu\\pm\\phi_\\mu\\rk} \n",
    "\\end{align}$$"
   ]
  },
  {
   "cell_type": "markdown",
   "metadata": {},
   "source": [
    "The denominator:\n",
    "$$\\begin{align}\n",
    "\\lka|\\epsilon|^2-\\lsz\\lk\\kappa_a-k_a\\cos{\\lk\\nu\\tau_a+\\phi_a\\rk}\\rk\\lk\\kappa_b-k_b\\cos{\\lk\\nu\\tau_b-\\phi_b\\rk}\\rk-\n",
    "\\lk\\nu+\\Delta_a-k_a\\sin{\\lk\\nu\\tau_a+\\phi_a\\rk}\\rk\\lk\\nu-\\Delta_b-k_b\\sin{\\lk\\nu\\tau_b-\\phi_b\\rk}\\rk\\rsz\\rka^2+\n",
    "\\lsz\\lk\\nu+\\Delta_a-k_a\\sin{\\lk\\nu\\tau_a+\\phi_a\\rk}\\rk\\lk\\kappa_b-k_b\\cos{\\lk\\nu\\tau_b-\\phi_b\\rk}\\rk+\n",
    "\\lk\\nu-\\Delta_b-k_b\\sin{\\lk\\nu\\tau_b-\\phi_b\\rk}\\rk\\lk\\kappa_a-k_a\\cos{\\lk\\nu\\tau_a+\\phi_a\\rk}\\rk\\rsz^2\n",
    "\\end{align}$$"
   ]
  },
  {
   "cell_type": "code",
   "execution_count": 41,
   "metadata": {
    "collapsed": false
   },
   "outputs": [],
   "source": [
    "from sympy.solvers import solve\n",
    "Dela, Delb = symbols('\\Delta_a \\Delta_b')\n",
    "E1, E2, E3, E4 = symbols('E_1 E_2 E_3 E_4')\n",
    "E1 = kapa-ka*cos(nu*ta+phia)\n",
    "E2 = kapb-kb*cos(nu*tb-phib)\n",
    "E3 = nu+Dela-ka*sin(nu*ta+phia)\n",
    "E4 = nu-Delb-kb*sin(nu*tb-phib)"
   ]
  },
  {
   "cell_type": "markdown",
   "metadata": {},
   "source": [
    "Solution of the first term=0"
   ]
  },
  {
   "cell_type": "code",
   "execution_count": null,
   "metadata": {
    "collapsed": false
   },
   "outputs": [],
   "source": [
    "solve(Abs(eps)**2-(E1*E2-E3*E4),ta)"
   ]
  },
  {
   "cell_type": "markdown",
   "metadata": {},
   "source": [
    "Solution of the second term=0"
   ]
  },
  {
   "cell_type": "code",
   "execution_count": null,
   "metadata": {
    "collapsed": true
   },
   "outputs": [],
   "source": []
  }
 ],
 "metadata": {
  "kernelspec": {
   "display_name": "Python 3",
   "language": "python",
   "name": "python3"
  },
  "language_info": {
   "codemirror_mode": {
    "name": "ipython",
    "version": 3
   },
   "file_extension": ".py",
   "mimetype": "text/x-python",
   "name": "python",
   "nbconvert_exporter": "python",
   "pygments_lexer": "ipython3",
   "version": "3.5.1"
  }
 },
 "nbformat": 4,
 "nbformat_minor": 0
}
