{
 "cells": [
  {
   "cell_type": "code",
   "execution_count": 18,
   "metadata": {
    "collapsed": false
   },
   "outputs": [
    {
     "data": {
      "image/png": "[encoded data removed]",
      "text/latex": [
       "$$\\kappa_a^{4} + 2 \\kappa_a^{2} \\nu^{2} - 2 \\kappa_a^{2} |\\epsilon|^{2} + \\nu^{4} + 2 \\nu^{2} |\\epsilon|^{2} + k_{a}^{4} + k_{a}^{3} \\left(4 \\kappa_a \\cos{\\left (\\phi_a \\right )} \\cos{\\left (\\nu \\tau_a \\right )} - 4 \\nu \\sin{\\left (\\nu \\tau_a \\right )} \\cos{\\left (\\phi_a \\right )}\\right) + k_{a}^{2} \\left(4 \\kappa_a^{2} \\cos^{2}{\\left (\\phi_a \\right )} + 4 \\kappa_a^{2} \\cos^{2}{\\left (\\nu \\tau_a \\right )} - 2 \\kappa_a^{2} - 8 \\kappa_a \\nu \\sin{\\left (\\nu \\tau_a \\right )} \\cos{\\left (\\nu \\tau_a \\right )} + 4 \\nu^{2} \\cos^{2}{\\left (\\phi_a \\right )} - 4 \\nu^{2} \\cos^{2}{\\left (\\nu \\tau_a \\right )} + 2 \\nu^{2} - 4 |\\epsilon|^{2} \\cos^{2}{\\left (\\nu \\tau_a \\right )} + 2 |\\epsilon|^{2}\\right) + k_{a} \\left(4 \\kappa_a^{3} \\cos{\\left (\\phi_a \\right )} \\cos{\\left (\\nu \\tau_a \\right )} - 4 \\kappa_a^{2} \\nu \\sin{\\left (\\nu \\tau_a \\right )} \\cos{\\left (\\phi_a \\right )} + 4 \\kappa_a \\nu^{2} \\cos{\\left (\\phi_a \\right )} \\cos{\\left (\\nu \\tau_a \\right )} - 4 \\kappa_a |\\epsilon|^{2} \\cos{\\left (\\phi_a \\right )} \\cos{\\left (\\nu \\tau_a \\right )} - 4 \\nu^{3} \\sin{\\left (\\nu \\tau_a \\right )} \\cos{\\left (\\phi_a \\right )} - 4 \\nu |\\epsilon|^{2} \\sin{\\left (\\nu \\tau_a \\right )} \\cos{\\left (\\phi_a \\right )}\\right) + |\\epsilon|^{4}$$"
      ],
      "text/plain": [
       "       4            2    2            2           2      4        2           \n",
       "\\kappaₐ  + 2⋅\\kappaₐ ⋅\\nu  - 2⋅\\kappaₐ ⋅|\\epsilon|  + \\nu  + 2⋅\\nu ⋅|\\epsilon|\n",
       "\n",
       "2     4     3                                                                 \n",
       "  + kₐ  + kₐ ⋅(4⋅\\kappaₐ⋅cos(\\phiₐ)⋅cos(\\nu⋅\\tauₐ) - 4⋅\\nu⋅sin(\\nu⋅\\tauₐ)⋅cos(\n",
       "\n",
       "            2 ⎛         2    2                   2    2                       \n",
       "\\phiₐ)) + kₐ ⋅⎝4⋅\\kappaₐ ⋅cos (\\phiₐ) + 4⋅\\kappaₐ ⋅cos (\\nu⋅\\tauₐ) - 2⋅\\kappaₐ\n",
       "\n",
       "2                                                      2    2               2 \n",
       "  - 8⋅\\kappaₐ⋅\\nu⋅sin(\\nu⋅\\tauₐ)⋅cos(\\nu⋅\\tauₐ) + 4⋅\\nu ⋅cos (\\phiₐ) - 4⋅\\nu ⋅\n",
       "\n",
       "   2                   2               2    2                          2⎞     \n",
       "cos (\\nu⋅\\tauₐ) + 2⋅\\nu  - 4⋅|\\epsilon| ⋅cos (\\nu⋅\\tauₐ) + 2⋅|\\epsilon| ⎠ + kₐ\n",
       "\n",
       " ⎛         3                                      2                           \n",
       "⋅⎝4⋅\\kappaₐ ⋅cos(\\phiₐ)⋅cos(\\nu⋅\\tauₐ) - 4⋅\\kappaₐ ⋅\\nu⋅sin(\\nu⋅\\tauₐ)⋅cos(\\ph\n",
       "\n",
       "                   2                                                 2        \n",
       "iₐ) + 4⋅\\kappaₐ⋅\\nu ⋅cos(\\phiₐ)⋅cos(\\nu⋅\\tauₐ) - 4⋅\\kappaₐ⋅|\\epsilon| ⋅cos(\\ph\n",
       "\n",
       "                          3                                             2     \n",
       "iₐ)⋅cos(\\nu⋅\\tauₐ) - 4⋅\\nu ⋅sin(\\nu⋅\\tauₐ)⋅cos(\\phiₐ) - 4⋅\\nu⋅|\\epsilon| ⋅sin(\n",
       "\n",
       "                     ⎞             4\n",
       "\\nu⋅\\tauₐ)⋅cos(\\phiₐ)⎠ + |\\epsilon| "
      ]
     },
     "metadata": {},
     "output_type": "display_data"
    },
    {
     "data": {
      "text/plain": [
       "'----------------------------------------------------------------------------------------------------------------------'"
      ]
     },
     "metadata": {},
     "output_type": "display_data"
    },
    {
     "data": {
      "image/png": "[encoded data removed]",
      "text/latex": [
       "$$\\kappa_a^{4} + 2 \\kappa_a^{2} \\nu^{2} - 2 \\kappa_a^{2} |\\epsilon|^{2} + \\nu^{4} + 2 \\nu^{2} |\\epsilon|^{2} + k_{a}^{4} + k_{a}^{3} \\left(4 \\kappa_a \\cos{\\left (\\phi_a \\right )} \\cos{\\left (\\nu \\tau_a \\right )} - 4 \\nu \\sin{\\left (\\nu \\tau_a \\right )} \\cos{\\left (\\phi_a \\right )}\\right) + k_{a}^{2} \\left(2 \\kappa_a^{2} \\cos{\\left (2 \\phi_a \\right )} + 2 \\kappa_a^{2} \\cos{\\left (2 \\nu \\tau_a \\right )} + 2 \\kappa_a^{2} - 4 \\kappa_a \\nu \\sin{\\left (2 \\nu \\tau_a \\right )} + 2 \\nu^{2} \\cos{\\left (2 \\phi_a \\right )} - 2 \\nu^{2} \\cos{\\left (2 \\nu \\tau_a \\right )} + 2 \\nu^{2} - 2 |\\epsilon|^{2} \\cos{\\left (2 \\nu \\tau_a \\right )}\\right) + k_{a} \\left(4 \\kappa_a^{3} \\cos{\\left (\\phi_a \\right )} \\cos{\\left (\\nu \\tau_a \\right )} - 4 \\kappa_a^{2} \\nu \\sin{\\left (\\nu \\tau_a \\right )} \\cos{\\left (\\phi_a \\right )} + 4 \\kappa_a \\nu^{2} \\cos{\\left (\\phi_a \\right )} \\cos{\\left (\\nu \\tau_a \\right )} - 4 \\kappa_a |\\epsilon|^{2} \\cos{\\left (\\phi_a \\right )} \\cos{\\left (\\nu \\tau_a \\right )} - 4 \\nu^{3} \\sin{\\left (\\nu \\tau_a \\right )} \\cos{\\left (\\phi_a \\right )} - 4 \\nu |\\epsilon|^{2} \\sin{\\left (\\nu \\tau_a \\right )} \\cos{\\left (\\phi_a \\right )}\\right) + |\\epsilon|^{4}$$"
      ],
      "text/plain": [
       "       4            2    2            2           2      4        2           \n",
       "\\kappaₐ  + 2⋅\\kappaₐ ⋅\\nu  - 2⋅\\kappaₐ ⋅|\\epsilon|  + \\nu  + 2⋅\\nu ⋅|\\epsilon|\n",
       "\n",
       "2     4     3                                                                 \n",
       "  + kₐ  + kₐ ⋅(4⋅\\kappaₐ⋅cos(\\phiₐ)⋅cos(\\nu⋅\\tauₐ) - 4⋅\\nu⋅sin(\\nu⋅\\tauₐ)⋅cos(\n",
       "\n",
       "            2 ⎛         2                         2                           \n",
       "\\phiₐ)) + kₐ ⋅⎝2⋅\\kappaₐ ⋅cos(2⋅\\phiₐ) + 2⋅\\kappaₐ ⋅cos(2⋅\\nu⋅\\tauₐ) + 2⋅\\kapp\n",
       "\n",
       "  2                                         2                     2           \n",
       "aₐ  - 4⋅\\kappaₐ⋅\\nu⋅sin(2⋅\\nu⋅\\tauₐ) + 2⋅\\nu ⋅cos(2⋅\\phiₐ) - 2⋅\\nu ⋅cos(2⋅\\nu⋅\n",
       "\n",
       "              2               2                 ⎞      ⎛         3            \n",
       "\\tauₐ) + 2⋅\\nu  - 2⋅|\\epsilon| ⋅cos(2⋅\\nu⋅\\tauₐ)⎠ + kₐ⋅⎝4⋅\\kappaₐ ⋅cos(\\phiₐ)⋅\n",
       "\n",
       "                          2                                              2    \n",
       "cos(\\nu⋅\\tauₐ) - 4⋅\\kappaₐ ⋅\\nu⋅sin(\\nu⋅\\tauₐ)⋅cos(\\phiₐ) + 4⋅\\kappaₐ⋅\\nu ⋅cos\n",
       "\n",
       "                                             2                                \n",
       "(\\phiₐ)⋅cos(\\nu⋅\\tauₐ) - 4⋅\\kappaₐ⋅|\\epsilon| ⋅cos(\\phiₐ)⋅cos(\\nu⋅\\tauₐ) - 4⋅\\\n",
       "\n",
       "  3                                             2                          ⎞  \n",
       "nu ⋅sin(\\nu⋅\\tauₐ)⋅cos(\\phiₐ) - 4⋅\\nu⋅|\\epsilon| ⋅sin(\\nu⋅\\tauₐ)⋅cos(\\phiₐ)⎠ +\n",
       "\n",
       "           4\n",
       " |\\epsilon| "
      ]
     },
     "metadata": {},
     "output_type": "display_data"
    }
   ],
   "source": [
    "import sympy as sym\n",
    "from IPython.display import display, Math, Latex\n",
    "sym.init_printing(use_unicode=True)\n",
    "\n",
    "nu,nup,ta,tb,phia,phib,kapa,kapb,Del,ka,kb = \\\n",
    "sym.symbols('\\\\nu \\\\nu_p \\\\tau_a \\\\tau_b \\phi_a \\phi_b \\kappa_a \\kappa_b \\Delta k_a k_b',real=True)\n",
    "eps,kap1a,kap2a,kap1b,kap2b,La,Lb = \\\n",
    "sym.symbols('|\\epsilon| \\kappa_{1a} \\kappa_{2a} \\kappa_{1b} \\kappa_{2b} L_a L_b',real=True)\n",
    "\n",
    "#Ema = exp(I*(-nu*ta+phia))\n",
    "#Emb = exp(I*(-nu*tb+phib))\n",
    "#Epa = exp(I*(nu*ta+phia))\n",
    "#Epb = exp(I*(nu*tb+phib))\n",
    "#dma = kapa-I*(nu-Del) + ka*Epa         #d_{-,a}(\\nu)\n",
    "#dmb = kapb-I*(nu+Del) + kb*Epb         #d_{-,b}(\\nu)\n",
    "#dpa = kapa-I*(nu+Del) + ka*conjugate(Ema)   #d_{+,a}(\\nu)\n",
    "#dpb = kapb-I*(nu-Del) + kb*conjugate(Emb)   #d_{+,b}(\\nu)\n",
    "#Lab = abs(eps)**2 - dpa*dmb          #\\Lambda_{ab}(\\nu)\n",
    "#Lba = abs(eps)**2 - dpb*dma          #\\Lambda_{ba}(\\nu)\n",
    "\n",
    "Ema = sym.exp(sym.I*(-nu*ta+phia))\n",
    "Emb = sym.exp(sym.I*(-nu*ta+phia))\n",
    "Epa = sym.exp(sym.I*(nu*ta+phia))\n",
    "Epb = sym.exp(sym.I*(nu*ta+phia))\n",
    "dma = kapa-sym.I*(nu) + ka*Epa         #d_{-,a}(\\nu)\n",
    "dmb = kapa-sym.I*(nu) + ka*Epb         #d_{-,b}(\\nu)\n",
    "dpa = kapa-sym.I*(nu) + ka*sym.conjugate(Ema)   #d_{+,a}(\\nu)\n",
    "dpb = kapa-sym.I*(nu) + ka*sym.conjugate(Emb)   #d_{+,b}(\\nu)\n",
    "Lab = sym.Abs(eps)**2 - dpa*dmb          #\\Lambda_{ab}(\\nu)\n",
    "Lba = sym.Abs(eps)**2 - dpb*dma          #\\Lambda_{ba}(\\nu)\n",
    "\n",
    "#nom_ba = (kapa+ka*sym.cos(phia-nu*ta)-kap1a*La)*(kapb+kb*sym.cos(phib+nu*tb))\n",
    "#nom_ab = (kapb+kb*sym.cos(phib-nu*tb)-kap1b*Lb)*(kapa+ka*sym.cos(phia+nu*ta))\n",
    "\n",
    "nom_ba = (kapa+ka*sym.cos(phia-nu*ta)-kap1a*La)*(kapa+ka*sym.cos(phib+nu*tb))\n",
    "nom_ab = (kapa+ka*sym.cos(phib-nu*tb)-kap1a*La)*(kapa+ka*sym.cos(phia+nu*ta))\n",
    "\n",
    "I_pexp  = 4*eps**2*(nom_ba/(Lab*sym.conjugate(Lab))+nom_ab/(Lba*sym.conjugate(Lba)))\n",
    "I_mexp  = 4*eps**2*(nom_ba/(Lab*sym.conjugate(Lab))-nom_ab/(Lba*sym.conjugate(Lba)))\n",
    "\n",
    "diffp   = 1/2*(sym.diff(I_pexp,phia)-sym.diff(I_pexp,phib))\n",
    "diffm   = 1/2*(sym.diff(I_mexp,phia)-sym.diff(I_mexp,phib))\n",
    "\n",
    "display(sym.collect(sym.expand(sym.expand_trig(sym.expand(sym.powsimp(sym.Abs(Lab)**2),complex=True))),ka))\n",
    "display('----------------------------------------------------------------------------------------------------------------------')\n",
    "display(sym.collect(sym.trigsimp(sym.expand((eps**2+kapa**2+nu**2+ka**2)**2-2*eps**2*(ka**2+2*kapa**2)+\\\n",
    "             2*ka**2*((kapa**2+nu**2)*sym.cos(2*phia)-(eps**2-kapa**2+nu**2)*sym.cos(2*nu*ta)-\\\n",
    "                      2*nu*kapa*sym.sin(2*nu*ta))-\\\n",
    "            4*ka*((eps**2-kapa**2-nu**2-ka**2)*kapa*sym.cos(nu*ta)+\\\n",
    "                  (eps**2+kapa**2+nu**2+ka**2)*nu*sym.sin(nu*ta))*sym.cos(phia))),ka))"
   ]
  },
  {
   "cell_type": "code",
   "execution_count": 16,
   "metadata": {
    "collapsed": false
   },
   "outputs": [
    {
     "data": {
      "image/png": "[encoded data removed]",
      "text/latex": [
       "$$C \\left(2 \\kappa_a^{3} k_{a} + 2 \\kappa_a \\nu^{2} k_{a} + 2 \\kappa_a k_{a}^{3} - 2 \\kappa_a k_{a} |\\epsilon|^{2}\\right) + S \\left(- 2 \\kappa_a^{2} \\nu k_{a} - 2 \\nu^{3} k_{a} - 2 \\nu k_{a}^{3} - 2 \\nu k_{a} |\\epsilon|^{2}\\right) + \\kappa_a^{4} + \\kappa_a^{2} \\left(2 \\nu^{2} + 2 k_{a}^{2} \\left(\\cos{\\left (\\nu \\tau_+ - \\phi_- \\right )} + \\cos{\\left (\\nu \\tau_- - \\phi_+ \\right )} + 1\\right) - 2 |\\epsilon|^{2}\\right) - 4 \\kappa_a \\nu k_{a}^{2} \\sin{\\left (\\nu \\tau_+ - \\phi_- \\right )} + \\nu^{4} + 2 \\nu^{2} k_{a}^{2} \\left(- \\cos{\\left (\\nu \\tau_+ - \\phi_- \\right )} + \\cos{\\left (\\nu \\tau_- - \\phi_+ \\right )} + 1\\right) + 2 \\nu^{2} \\left(k_{a}^{2} + |\\epsilon|^{2}\\right) + k_{a}^{4} - 2 k_{a}^{2} |\\epsilon|^{2} \\cos{\\left (\\nu \\tau_+ - \\phi_- \\right )} + |\\epsilon|^{4}$$"
      ],
      "text/plain": [
       "  ⎛         3                   2                  3                          \n",
       "C⋅⎝2⋅\\kappaₐ ⋅kₐ + 2⋅\\kappaₐ⋅\\nu ⋅kₐ + 2⋅\\kappaₐ⋅kₐ  - 2⋅\\kappaₐ⋅kₐ⋅|\\epsilon|\n",
       "\n",
       "2⎞     ⎛           2               3              3                      2⎞   \n",
       " ⎠ + S⋅⎝- 2⋅\\kappaₐ ⋅\\nu⋅kₐ - 2⋅\\nu ⋅kₐ - 2⋅\\nu⋅kₐ  - 2⋅\\nu⋅kₐ⋅|\\epsilon| ⎠ + \n",
       "\n",
       "       4          2 ⎛     2       2                                           \n",
       "\\kappaₐ  + \\kappaₐ ⋅⎝2⋅\\nu  + 2⋅kₐ ⋅(cos(\\nu⋅\\tau₊ - \\phi₋) + cos(\\nu⋅\\tau₋ - \n",
       "\n",
       "                          2⎞                   2                             4\n",
       "\\phi₊) + 1) - 2⋅|\\epsilon| ⎠ - 4⋅\\kappaₐ⋅\\nu⋅kₐ ⋅sin(\\nu⋅\\tau₊ - \\phi₋) + \\nu \n",
       "\n",
       "        2   2                                                               2 \n",
       " + 2⋅\\nu ⋅kₐ ⋅(-cos(\\nu⋅\\tau₊ - \\phi₋) + cos(\\nu⋅\\tau₋ - \\phi₊) + 1) + 2⋅\\nu ⋅\n",
       "\n",
       "⎛  2             2⎞     4       2           2                                 \n",
       "⎝kₐ  + |\\epsilon| ⎠ + kₐ  - 2⋅kₐ ⋅|\\epsilon| ⋅cos(\\nu⋅\\tau₊ - \\phi₋) + |\\epsil\n",
       "\n",
       "   4\n",
       "on| "
      ]
     },
     "metadata": {},
     "output_type": "display_data"
    },
    {
     "data": {
      "text/plain": [
       "'----------------------------------------------------------------------------------------------------------------------'"
      ]
     },
     "metadata": {},
     "output_type": "display_data"
    },
    {
     "data": {
      "image/png": "[encoded data removed]",
      "text/latex": [
       "$$C \\left(2 \\kappa_a^{3} k_{a} + 2 \\kappa_a \\nu^{2} k_{a} + 2 \\kappa_a k_{a}^{3} - 2 \\kappa_a k_{a} |\\epsilon|^{2}\\right) + S \\left(- 2 \\kappa_a^{2} \\nu k_{a} - 2 \\nu^{3} k_{a} - 2 \\nu k_{a}^{3} - 2 \\nu k_{a} |\\epsilon|^{2}\\right) + \\kappa_a^{4} + \\kappa_a^{2} \\left(2 \\nu^{2} + 2 k_{a}^{2} \\cos{\\left (\\nu \\tau_+ - \\phi_- \\right )} + 2 k_{a}^{2} \\cos{\\left (\\nu \\tau_- - \\phi_+ \\right )} + 2 k_{a}^{2} - 2 |\\epsilon|^{2}\\right) - 4 \\kappa_a \\nu k_{a}^{2} \\sin{\\left (\\nu \\tau_+ - \\phi_- \\right )} + \\nu^{4} - 2 \\nu^{2} k_{a}^{2} \\cos{\\left (\\nu \\tau_+ - \\phi_- \\right )} + 2 \\nu^{2} k_{a}^{2} \\cos{\\left (\\nu \\tau_- - \\phi_+ \\right )} + 2 \\nu^{2} k_{a}^{2} + 2 \\nu^{2} |\\epsilon|^{2} + k_{a}^{4} - 2 k_{a}^{2} |\\epsilon|^{2} \\cos{\\left (\\nu \\tau_+ - \\phi_- \\right )} + |\\epsilon|^{4}$$"
      ],
      "text/plain": [
       "  ⎛         3                   2                  3                          \n",
       "C⋅⎝2⋅\\kappaₐ ⋅kₐ + 2⋅\\kappaₐ⋅\\nu ⋅kₐ + 2⋅\\kappaₐ⋅kₐ  - 2⋅\\kappaₐ⋅kₐ⋅|\\epsilon|\n",
       "\n",
       "2⎞     ⎛           2               3              3                      2⎞   \n",
       " ⎠ + S⋅⎝- 2⋅\\kappaₐ ⋅\\nu⋅kₐ - 2⋅\\nu ⋅kₐ - 2⋅\\nu⋅kₐ  - 2⋅\\nu⋅kₐ⋅|\\epsilon| ⎠ + \n",
       "\n",
       "       4          2 ⎛     2       2                              2            \n",
       "\\kappaₐ  + \\kappaₐ ⋅⎝2⋅\\nu  + 2⋅kₐ ⋅cos(\\nu⋅\\tau₊ - \\phi₋) + 2⋅kₐ ⋅cos(\\nu⋅\\ta\n",
       "\n",
       "                  2               2⎞                   2                      \n",
       "u₋ - \\phi₊) + 2⋅kₐ  - 2⋅|\\epsilon| ⎠ - 4⋅\\kappaₐ⋅\\nu⋅kₐ ⋅sin(\\nu⋅\\tau₊ - \\phi₋\n",
       "\n",
       "       4        2   2                               2   2                     \n",
       ") + \\nu  - 2⋅\\nu ⋅kₐ ⋅cos(\\nu⋅\\tau₊ - \\phi₋) + 2⋅\\nu ⋅kₐ ⋅cos(\\nu⋅\\tau₋ - \\phi\n",
       "\n",
       "          2   2        2           2     4       2           2                \n",
       "₊) + 2⋅\\nu ⋅kₐ  + 2⋅\\nu ⋅|\\epsilon|  + kₐ  - 2⋅kₐ ⋅|\\epsilon| ⋅cos(\\nu⋅\\tau₊ -\n",
       "\n",
       "                    4\n",
       " \\phi₋) + |\\epsilon| "
      ]
     },
     "metadata": {},
     "output_type": "display_data"
    }
   ],
   "source": [
    "C,S,taup,taum,phip,phim = sym.symbols(\"C S \\\\tau_+ \\\\tau_- \\phi_+ \\phi_-\")\n",
    "display(sym.collect(sym.collect(sym.collect(\\\n",
    "kapa**4+2*kapa**3*ka*C+2*kapa**2*nu**2-2*kapa**2*nu*ka*S+2*kapa**2*ka**2*(sym.cos(nu*taum-phip)+sym.cos(nu*taup-phim)+1)-\\\n",
    "2*kapa**2*eps**2+2*kapa*nu**2*ka*C-4*kapa*nu*ka**2*sym.sin(nu*taup-phim)+2*kapa*ka**3*C-2*kapa*ka*eps**2*C+nu**4-\\\n",
    "2*nu**3*ka*S+2*nu**2*ka**2*(sym.cos(nu*taum-phip)-sym.cos(nu*taup-phim)+1)+2*nu**2*(ka**2+eps**2)-2*nu*ka**3*S-\\\n",
    "2*nu*ka*eps**2*S+ka**4-2*ka**2*eps**2*sym.cos(nu*taup-phim)+eps**4,C),S),kapa))\n",
    "display('----------------------------------------------------------------------------------------------------------------------')\n",
    "display(sym.collect(sym.collect(sym.collect(sym.expand(\\\n",
    "(eps**2+kapa**2+nu**2)**2-4*eps**2*kapa**2+ka**4+2*ka**2*(kapa**2+nu**2)*(1+sym.cos(nu*taum-phip))-\\\n",
    "       2*ka*((eps**2-kapa**2-nu**2)*kapa*C+(eps**2+kapa**2+nu**2)*nu*S-ka**2*(kapa*C-nu*S)+\\\n",
    "             ka*((eps**2-kapa**2+nu**2)*sym.cos(nu*taup-phim)+2*nu*kapa*sym.sin(nu*taup-phim)))),C),S),kapa))\n"
   ]
  },
  {
   "cell_type": "code",
   "execution_count": null,
   "metadata": {
    "collapsed": true
   },
   "outputs": [],
   "source": []
  }
 ],
 "metadata": {
  "anaconda-cloud": {},
  "kernelspec": {
   "display_name": "Python [default]",
   "language": "python",
   "name": "python3"
  },
  "language_info": {
   "codemirror_mode": {
    "name": "ipython",
    "version": 3
   },
   "file_extension": ".py",
   "mimetype": "text/x-python",
   "name": "python",
   "nbconvert_exporter": "python",
   "pygments_lexer": "ipython3",
   "version": "3.5.2"
  }
 },
 "nbformat": 4,
 "nbformat_minor": 0
}
