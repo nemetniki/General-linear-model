{
 "cells": [
  {
   "cell_type": "code",
   "execution_count": null,
   "metadata": {
    "collapsed": true
   },
   "outputs": [],
   "source": [
    "import sympy as sym\n",
    "from IPython.display import display, Math, Latex\n",
    "sym.init_printing(use_unicode=True)\n",
    "\n",
    "nu,nup,ta,tb,phia,phib,kapa,kapb,Del,ka,kb = \\\n",
    "sym.symbols('\\\\nu \\\\nu_p \\\\tau_a \\\\tau_b \\phi_a \\phi_b \\kappa_a \\kappa_b \\Delta k_a k_b',real=True)\n",
    "eps,kap1a,kap2a,kap1b,kap2b,La,Lb = \\\n",
    "sym.symbols('|\\epsilon| \\kappa_{1a} \\kappa_{2a} \\kappa_{1b} \\kappa_{2b} L_a L_b',real=True)\n",
    "\n",
    "#Ema = exp(I*(-nu*ta+phia))\n",
    "#Emb = exp(I*(-nu*tb+phib))\n",
    "#Epa = exp(I*(nu*ta+phia))\n",
    "#Epb = exp(I*(nu*tb+phib))\n",
    "#dma = kapa-I*(nu-Del) + ka*Epa         #d_{-,a}(\\nu)\n",
    "#dmb = kapb-I*(nu+Del) + kb*Epb         #d_{-,b}(\\nu)\n",
    "#dpa = kapa-I*(nu+Del) + ka*conjugate(Ema)   #d_{+,a}(\\nu)\n",
    "#dpb = kapb-I*(nu-Del) + kb*conjugate(Emb)   #d_{+,b}(\\nu)\n",
    "#Lab = abs(eps)**2 - dpa*dmb          #\\Lambda_{ab}(\\nu)\n",
    "#Lba = abs(eps)**2 - dpb*dma          #\\Lambda_{ba}(\\nu)\n",
    "\n",
    "Ema = sym.exp(sym.I*(-nu*ta+phia))\n",
    "Emb = sym.exp(sym.I*(-nu*tb+phib))\n",
    "Epa = sym.exp(sym.I*(nu*ta+phia))\n",
    "Epb = sym.exp(sym.I*(nu*tb+phib))\n",
    "dma = kapa-sym.I*(nu) + ka*Epa         #d_{-,a}(\\nu)\n",
    "dmb = kapa-sym.I*(nu) + ka*Epb         #d_{-,b}(\\nu)\n",
    "dpa = kapa-sym.I*(nu) + ka*sym.conjugate(Ema)   #d_{+,a}(\\nu)\n",
    "dpb = kapa-sym.I*(nu) + ka*sym.conjugate(Emb)   #d_{+,b}(\\nu)\n",
    "Lab = sym.Abs(eps)**2 - dpa*dmb          #\\Lambda_{ab}(\\nu)\n",
    "Lba = sym.Abs(eps)**2 - dpb*dma          #\\Lambda_{ba}(\\nu)\n",
    "\n",
    "#nom_ba = (kapa+ka*sym.cos(phia-nu*ta)-kap1a*La)*(kapb+kb*sym.cos(phib+nu*tb))\n",
    "#nom_ab = (kapb+kb*sym.cos(phib-nu*tb)-kap1b*Lb)*(kapa+ka*sym.cos(phia+nu*ta))\n",
    "\n",
    "nom_ba = (kapa+ka*sym.cos(phia-nu*ta)-kap1a*La)*(kapa+ka*sym.cos(phib+nu*tb))\n",
    "nom_ab = (kapa+ka*sym.cos(phib-nu*tb)-kap1a*La)*(kapa+ka*sym.cos(phia+nu*ta))\n",
    "\n",
    "I_pexp  = 4*eps**2*(nom_ba/(Lab*sym.conjugate(Lab))+nom_ab/(Lba*sym.conjugate(Lba)))\n",
    "I_mexp  = 4*eps**2*(nom_ba/(Lab*sym.conjugate(Lab))-nom_ab/(Lba*sym.conjugate(Lba)))\n",
    "\n",
    "diffp   = 1/2*(sym.diff(I_pexp,phia)-sym.diff(I_pexp,phib))\n",
    "diffm   = 1/2*(sym.diff(I_mexp,phia)-sym.diff(I_mexp,phib))\n",
    "\n",
    "checkp = sym.lambdify((nu,eps,Del,kapa,kapb,kap1a,kap1b,ka,kb,ta,tb,phia,phib,La,Lb), diffm, modules=\"numpy\")\n",
    "import numpy as np\n",
    "import matplotlib.pyplot as plt\n",
    "plt.plot(np.linspace(-25*2*np.pi,25*2*np.pi,1000),\\\n",
    "         np.imag(checkp(np.linspace(-25*2*np.pi,25*2*np.pi,1000),.5,0,10,10,5,5,10,10,0.1,0.1,np.pi,np.pi,0,0)))\n",
    "plt.show()"
   ]
  }
 ],
 "metadata": {
  "kernelspec": {
   "display_name": "Python 3",
   "language": "python",
   "name": "python3"
  },
  "language_info": {
   "codemirror_mode": {
    "name": "ipython",
    "version": 3
   },
   "file_extension": ".py",
   "mimetype": "text/x-python",
   "name": "python",
   "nbconvert_exporter": "python",
   "pygments_lexer": "ipython3",
   "version": "3.5.1"
  }
 },
 "nbformat": 4,
 "nbformat_minor": 0
}
