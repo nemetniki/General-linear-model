{
 "cells": [
  {
   "cell_type": "code",
   "execution_count": 31,
   "metadata": {
    "collapsed": false
   },
   "outputs": [],
   "source": [
    "import sympy as sym\n",
    "import numpy as np\n",
    "#import pylab as pl\n",
    "from IPython.display import display, Math, Latex\n",
    "sym.init_printing(use_unicode=True)\n",
    "import sympy.utilities.autowrap as symauto\n",
    "\n",
    "epss,Dels,nus,ta,tb,pa,pb,kappa,kappb,kas,kbs =\\\n",
    "sym.symbols('epsilon Delta nus ta tb pa pb kappaa kappab kas kbs',real=True)\n",
    "kapp1a,kapp1b,Las,Lbs = \\\n",
    "sym.symbols('kappa1a kappa1b Las Lbs',real=True)\n",
    "\n",
    "#Functions for evaluation\n",
    "Ema = sym.exp(sym.I*(-nus*ta+pa))\n",
    "Emb = sym.exp(sym.I*(-nus*tb+pb))\n",
    "Epa = sym.exp(sym.I*(nus*ta+pa))\n",
    "Epb = sym.exp(sym.I*(nus*tb+pb))\n",
    "dma = kappa-sym.I*(nus-Dels) + kas*Epa         #d_{-,a}(\\nu)\n",
    "dmb = kappb-sym.I*(nus+Dels) + kbs*Epb         #d_{-,b}(\\nu)\n",
    "dpa = kappa-sym.I*(nus+Dels) + kas*sym.conjugate(Ema)   #d_{+,a}(\\nu)\n",
    "dpb = kappb-sym.I*(nus-Dels) + kbs*sym.conjugate(Emb)   #d_{+,b}(\\nu)\n",
    "Lab = sym.Abs(epss)**2 - dpa*dmb          #\\Lambda_{ab}(\\nu)\n",
    "Lba = sym.Abs(epss)**2 - dpb*dma          #\\Lambda_{ba}(\\nu)\n",
    "\n",
    "#Expectation value of the outgoing photon number\n",
    "nom_ba = (kappa+kas*sym.cos(pa-nus*ta)-kapp1a*Las)*(kappb+kbs*sym.cos(pb+nus*tb))\n",
    "nom_ab = (kappb+kbs*sym.cos(pb+nus*tb)-kapp1b*Lbs)*(kappa+kas*sym.cos(pa-nus*ta))\n",
    "I_pexp  = 4*epss**2*(nom_ba/(Lab*sym.conjugate(Lab))+nom_ab/(Lba*sym.conjugate(Lba)))\n",
    "I_mexp  = 4*epss**2*(nom_ba/(Lab*sym.conjugate(Lab))-nom_ab/(Lab*sym.conjugate(Lab)))\n",
    "#display(sym.simplify(sym.expand(I_mexp,complex=True)))\n",
    "diffp   = sym.Rational(1,2)*(sym.diff(I_pexp,pa)-sym.diff(I_pexp,pb))\n",
    "diffm   = sym.Rational(1,2)*(sym.diff(I_mexp,pa)-sym.diff(I_mexp,pb))\n",
    "#display(sym.re(diffm))\n",
    "#display(diffp)\n",
    "derivp = sym.lambdify((nus,epss,Dels,kappa,kappb,kapp1a,kapp1b,kas,kbs,ta,tb,pa,pb,Las,Lbs), diffp, modules=\"numpy\")\n",
    "#derivm = sym.lambdify((nus,epss,Dels,kappa,kappb,kapp1a,kapp1b,kas,kbs,ta,tb,pa,pb,Las,Lbs), diffm, modules=\"numpy\")\n",
    "#num    = sym.lambdify((nu,eps,Del,kapa,kapb,kap1a,kap1b,ka,kb,ta,tb,phia,phib,La,Lb), I_pexp, modules=\"numpy\")"
   ]
  },
  {
   "cell_type": "code",
   "execution_count": 5,
   "metadata": {
    "collapsed": false
   },
   "outputs": [
    {
     "name": "stderr",
     "output_type": "stream",
     "text": [
      "/home/nnem614/Documents/anaconda3/envs/py35/lib/python3.5/site-packages/numpy/ma/core.py:2717: ComplexWarning: Casting complex values to real discards the imaginary part\n",
      "  order=order, subok=True, ndmin=ndmin)\n",
      "/home/nnem614/Documents/anaconda3/envs/py35/lib/python3.5/site-packages/matplotlib/contour.py:1538: UserWarning: Log scale: values of z <= 0 have been masked\n",
      "  warnings.warn('Log scale: values of z <= 0 have been masked')\n"
     ]
    },
    {
     "ename": "NameError",
     "evalue": "name 'derivp' is not defined",
     "output_type": "error",
     "traceback": [
      "\u001b[1;31m---------------------------------------------------------------------------\u001b[0m",
      "\u001b[1;31mNameError\u001b[0m                                 Traceback (most recent call last)",
      "\u001b[1;32m<ipython-input-5-58dfdf5b608b>\u001b[0m in \u001b[0;36m<module>\u001b[1;34m()\u001b[0m\n\u001b[0;32m     91\u001b[0m \u001b[0mnup\u001b[0m \u001b[1;33m=\u001b[0m \u001b[0mnp\u001b[0m\u001b[1;33m.\u001b[0m\u001b[0mlinspace\u001b[0m\u001b[1;33m(\u001b[0m\u001b[1;33m-\u001b[0m\u001b[1;36m1000\u001b[0m\u001b[1;33m,\u001b[0m\u001b[1;36m1000\u001b[0m\u001b[1;33m,\u001b[0m\u001b[1;36m501\u001b[0m\u001b[1;33m)\u001b[0m\u001b[1;33m\u001b[0m\u001b[0m\n\u001b[0;32m     92\u001b[0m \u001b[0msens\u001b[0m\u001b[1;33m(\u001b[0m\u001b[1;36m0.75\u001b[0m\u001b[1;33m,\u001b[0m\u001b[1;36m0\u001b[0m\u001b[1;33m,\u001b[0m\u001b[1;36m10\u001b[0m\u001b[1;33m,\u001b[0m\u001b[1;36m10\u001b[0m\u001b[1;33m,\u001b[0m\u001b[1;36m0.5\u001b[0m\u001b[1;33m,\u001b[0m\u001b[1;36m0.5\u001b[0m\u001b[1;33m,\u001b[0m\u001b[1;36m1.8833\u001b[0m\u001b[1;33m,\u001b[0m\u001b[1;36m1.8833\u001b[0m\u001b[1;33m,\u001b[0m\u001b[1;36m0\u001b[0m\u001b[1;33m,\u001b[0m\u001b[1;36m0\u001b[0m\u001b[1;33m,\u001b[0m\u001b[1;36m0\u001b[0m\u001b[1;33m,\u001b[0m\u001b[1;36m0\u001b[0m\u001b[1;33m,\u001b[0m\u001b[0mnu\u001b[0m\u001b[1;33m,\u001b[0m\u001b[0mnup\u001b[0m\u001b[1;33m)\u001b[0m\u001b[1;33m\u001b[0m\u001b[0m\n\u001b[1;32m---> 93\u001b[1;33m \u001b[0mplt\u001b[0m\u001b[1;33m.\u001b[0m\u001b[0mcontourf\u001b[0m\u001b[1;33m(\u001b[0m\u001b[0mnu\u001b[0m\u001b[1;33m,\u001b[0m\u001b[0mnup\u001b[0m\u001b[1;33m,\u001b[0m\u001b[0mderivp\u001b[0m\u001b[1;33m(\u001b[0m\u001b[0mnu\u001b[0m\u001b[1;33m,\u001b[0m\u001b[1;36m0.75\u001b[0m\u001b[1;33m,\u001b[0m\u001b[1;36m0\u001b[0m\u001b[1;33m,\u001b[0m\u001b[1;36m10\u001b[0m\u001b[1;33m,\u001b[0m\u001b[1;36m10\u001b[0m\u001b[1;33m,\u001b[0m\u001b[1;36m5\u001b[0m\u001b[1;33m,\u001b[0m\u001b[1;36m5\u001b[0m\u001b[1;33m,\u001b[0m\u001b[1;36m10\u001b[0m\u001b[1;33m,\u001b[0m\u001b[1;36m10\u001b[0m\u001b[1;33m,\u001b[0m\u001b[0mta\u001b[0m\u001b[1;33m,\u001b[0m\u001b[0mtb\u001b[0m\u001b[1;33m,\u001b[0m\u001b[0mpa\u001b[0m\u001b[1;33m,\u001b[0m\u001b[0mpb\u001b[0m\u001b[1;33m,\u001b[0m\u001b[0mLas\u001b[0m\u001b[1;33m,\u001b[0m\u001b[0mLbs\u001b[0m\u001b[1;33m)\u001b[0m\u001b[1;33m)\u001b[0m\u001b[1;33m\u001b[0m\u001b[0m\n\u001b[0m",
      "\u001b[1;31mNameError\u001b[0m: name 'derivp' is not defined"
     ]
    }
   ],
   "source": [
    "import numpy as np\n",
    "#%matplotlib inline\n",
    "import matplotlib.pyplot as plt\n",
    "import scipy.integrate as integ\n",
    "from matplotlib.colors import LogNorm\n",
    "from IPython.core.debugger import Tracer\n",
    "#Tracer()() #this one triggers the debugger\n",
    "\n",
    "def sens(x,delta,kapa,kapb,ra,rb,kta,ktb,phia,phib,La,Lb,nus,nups):\n",
    "# Function to determine the phase sensitivity of the setup\n",
    "    import time\n",
    "    start  = time.clock()\n",
    "\n",
    "    ## Parameters from inputs ##\n",
    "    kapa  = kapa*2*np.pi\n",
    "    kapb  = kapb*2*np.pi\n",
    "    La    = La/100.\n",
    "    Lb    = Lb/100.\n",
    "    phia  = phia*np.pi\n",
    "    phib  = phib*np.pi\n",
    "    taua  = kta/kapa\n",
    "    taub  = ktb/kapa\n",
    "    Del   = delta*kapa\n",
    "    eps   = x*kapa\n",
    "    kap1a = kapa * ra                         #\\kappa_{1,a} (coupling on the right hand side in mode a)\n",
    "    kap1b = kapb * rb                         #\\kappa_{1,b} (coupling on the right hand side in mode b)\n",
    "    kap2a = kapa * (1-ra)                     #\\kappa_{2,a} (coupling on the left hand side in mode a)\n",
    "    kap2b = kapb * (1-rb)                     #\\kappa_{2,b} (coupling on the left hand side in mode b)\n",
    "\n",
    "    ka = 2*np.sqrt(ra*(1-ra)*(1-La))*kapa    #k_a (feedback strength in mode a)\n",
    "    kb = 2*np.sqrt(rb*(1-rb)*(1-Lb))*kapb    #k_b (feedback strength in mode b)\n",
    "    \n",
    "    ### EXPRESSIONS ###\n",
    "    def Ei(nu,t,phi):\n",
    "        return np.exp(1j*(nu*t+phi))\n",
    "    def d(nu,t,phi,kap,Del,k): #dpa if Del&phi, dma if -Del&-phi, dmb if Del&-phi, dpb if -Del&phi\n",
    "        return kap - 1j*(nu+Del) + k*Ei(nu,t,-phi)\n",
    "    def Lab(nu):\n",
    "        return abs(eps)**2 - d(nu,taua,phia,kapa,Del,ka)*d(nu,taub,-phib,kapb,Del,kb)\n",
    "    def Lba(nu):\n",
    "        return abs(eps)**2 - d(nu,taub,phib,kapb,-Del,kb)*d(nu,taua,-phia,kapa,-Del,ka)\n",
    "    def Ia(nu,kap1,kap2): #alpha if quantities for a, 1 if kap1=kap1\n",
    "        return np.sqrt(2*kap1) + np.sqrt(2*kap2*(1-La))*Ei(nu,taua,phia)\n",
    "    def Ib(nu,kap1,kap2): #alpha if quantities for a, 1 if kap1=kap1\n",
    "        return np.sqrt(2*kap1) + np.sqrt(2*kap2*(1-Lb))*Ei(nu,taub,phib)\n",
    "\n",
    "    def Da(nu): #Da if p is for b\n",
    "        return np.sqrt(1-La)*Lba(nu)*Ei(nu,taua,phia) + d(nu,taub,phib,kapb,-Del,kb)*\\\n",
    "    Ia(nu,kap1a,kap2a)*Ia(nu,kap2a,kap1a)\n",
    "    def Db(nu): #Da if p is for b\n",
    "        return np.sqrt(1-Lb)*Lab(nu)*Ei(nu,taub,phib) + d(nu,taua,phia,kapa,Del,ka)*\\\n",
    "    Ib(nu,kap1b,kap2b)*Ib(nu,kap2b,kap1b)\n",
    "\n",
    "    def Ea(nu): # Da if p is for b\n",
    "        return np.sqrt(La)*(np.sqrt(2*kap2a)*d(nu,taub,phib,kapb,-Del,kb)*Ia(nu,kap2a,kap1a) + Lba(nu))\n",
    "    def Eb(nu): # Da if p is for b\n",
    "        return np.sqrt(Lb)*(np.sqrt(2*kap2b)*d(nu,taua,phia,kapa,Del,ka)*Ib(nu,kap2b,kap1b) + Lab(nu))\n",
    "\n",
    "    def U1ab(nu,nup): # for U1ab p means b\n",
    "        return np.abs(Ia(-nu,kap2a,kap1a))**2*(np.abs(Ib(nu,kap1b,kap2b))**2+2*kap2b*Lb)*\\\n",
    "    (np.abs(Da(nup))**2+np.abs(Ea(nup))**2)\n",
    "    def U1ba(nu,nup): # for U1ab p means b\n",
    "        return np.abs(Ib(-nu,kap2b,kap1b))**2*(np.abs(Ia(nu,kap1a,kap2a))**2+2*kap2a*La)*\\\n",
    "    (np.abs(Db(nup))**2+np.abs(Eb(nup))**2)\n",
    "    def U2ab(nu,nup): # for U2ab p means b\n",
    "        return np.conj(Ia(-nu,kap2a,kap1a))*Ib(-nup,kap2b,kap1b)*\\\n",
    "    (Ib(nu,kap1b,kap2b)*np.conj(Db(nu))+np.sqrt(2*kap2b*Lb)*np.conj(Eb(nu)))*\\\n",
    "    (np.conj(Ia(nup,kap1a,kap2a))*Da(nup)+np.sqrt(2*kap2a*La)*Ea(nup))\n",
    "    def U2ba(nu,nup): # for U2ab p means b\n",
    "        return np.conj(Ib(-nu,kap2b,kap1b))*Ia(-nup,kap2a,kap1a)*\\\n",
    "    (Ia(nu,kap1a,kap2a)*np.conj(Da(nu))+np.sqrt(2*kap2a*La)*np.conj(Ea(nu)))*\\\n",
    "    (np.conj(Ib(nup,kap1b,kap2b))*Db(nup)+np.sqrt(2*kap2b*Lb)*Eb(nup))\n",
    "    \n",
    "    def DelIsq1ab(nu,nup):\n",
    "        return np.abs(eps)**2*U1ab(nu,nup)/np.abs(Lab(nu))**2/np.abs(Lba(nup))**2\n",
    "    def DelIsq1ba(nu,nup):\n",
    "        return np.abs(eps)**2*U1ba(nu,nup)/np.abs(Lba(nu))**2/np.abs(Lab(nup))**2\n",
    "    def DelIsq2ab(nu,nup): # for ab p means b\n",
    "        return np.abs(eps)**2*U2ab(nu,nup)/np.abs(Lab(nu))**2/np.abs(Lba(nup))**2\n",
    "    def DelIsq2ba(nu,nup): # for ab p means b\n",
    "        return np.abs(eps)**2*U2ba(nu,nup)/np.abs(Lba(nu))**2/np.abs(Lab(nup))**2\n",
    "\n",
    "    def DelIsq(nu,nup):\n",
    "        return DelIsq1ab(nu,nup)+DelIsq1ba(nu,nup)-(DelIsq2ab(nu,nup)+DelIsq2ba(nu,nup))\n",
    "#    def denom(nu,nup):\n",
    "        return np.real(derivp(2*np.pi*nu,eps,Del,kapa,kapb,kap1a,kap1b,ka,kb,taua,taub,phia,phib,La,Lb)*\\\n",
    "                 derivp(2*np.pi*nup,eps,Del,kapa,kapb,kap1a,kap1b,ka,kb,taua,taub,phia,phib,La,Lb))\n",
    "    \n",
    "    nu,nup = np.meshgrid(nus,nups)\n",
    "    plt.figure(1)\n",
    "    plt.contourf(nu,nup,DelIsq(2*np.pi*nu,2*np.pi*nup),400,cmap=plt.cm.jet,norm = LogNorm())\n",
    "    plt.colorbar()\n",
    " #   plt.figure(2)\n",
    " #   plt.contourf(nu,nup,denom(nu,nup),400,cmap=plt.cm.jet,norm = LogNorm())\n",
    " #   plt.figure(3)\n",
    "  #  plt.plot(nus,derivp(2*np.pi*nus,eps,Del,kapa,kapb,kap1a,kap1b,ka,kb,taua,taub,phia,phib,La,Lb))\n",
    "    plt.show()\n",
    "    \n",
    "nu = np.linspace(-1000,1000,501)\n",
    "nup = np.linspace(-1000,1000,501)\n",
    "sens(0.75,0,10,10,0.5,0.5,1.8833,1.8833,0,0,0,0,nu,nup)\n",
    "plt.contourf(nu,nup,derivp(nu,0.75,0,10,10,5,5,10,10,ta,tb,pa,pb,Las,Lbs))"
   ]
  },
  {
   "cell_type": "code",
   "execution_count": 10,
   "metadata": {
    "collapsed": false
   },
   "outputs": [
    {
     "name": "stderr",
     "output_type": "stream",
     "text": [
      "/home/nnem614/Documents/anaconda3/envs/py35/lib/python3.5/site-packages/numpy/ma/core.py:2717: ComplexWarning: Casting complex values to real discards the imaginary part\n",
      "  order=order, subok=True, ndmin=ndmin)\n"
     ]
    }
   ],
   "source": [
    "sens(0.75,0,10,10,0.5,0.5,1.8833,1.8833,0,0,0,0,nu,nup)"
   ]
  },
  {
   "cell_type": "code",
   "execution_count": null,
   "metadata": {
    "collapsed": true
   },
   "outputs": [],
   "source": []
  }
 ],
 "metadata": {
  "anaconda-cloud": {},
  "kernelspec": {
   "display_name": "Python [conda env:py35]",
   "language": "python",
   "name": "conda-env-py35-py"
  },
  "language_info": {
   "codemirror_mode": {
    "name": "ipython",
    "version": 3
   },
   "file_extension": ".py",
   "mimetype": "text/x-python",
   "name": "python",
   "nbconvert_exporter": "python",
   "pygments_lexer": "ipython3",
   "version": "3.5.1"
  }
 },
 "nbformat": 4,
 "nbformat_minor": 0
}
