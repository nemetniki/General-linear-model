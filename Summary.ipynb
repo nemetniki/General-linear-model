{
 "cells": [
  {
   "cell_type": "markdown",
   "metadata": {},
   "source": [
    "# General linear model with feedback\n",
    "\n",
    "$$\\def \\lk{\\left(}\n",
    "\\def \\rk{\\right)}\n",
    "\\def \\frop#1{\\hat{\\tilde{#1}}}\n",
    "\\def\\thetap{\\theta^\\prime}\n",
    "\\def\\ul#1{\\underline{#1}}\n",
    "\\def\\frvecop#1{\\hat{\\tilde{\\underline{#1}}}}\n",
    "\\def\\dul#1{\\underline{\\underline{#1}}}\n",
    "\\def\\frmat#1{\\tilde{\\dul{#1}}}\n",
    "\\def\\lk{\\left(}\n",
    "\\def\\rk{\\right)}\n",
    "\\def\\lka{\\left\\{}\n",
    "\\def\\rka{\\right\\}}\n",
    "\\def\\lsz{\\left[}\n",
    "\\def\\rsz{\\right]}$$\n",
    "## Setup\n",
    "\n",
    "Two modes: $\\hat{a} \\text{ and } \\hat{b}$\n",
    "\n",
    "Possiblities:\n",
    "* two channels of input & output in each mode\n",
    "* driving for one mode\n",
    "* time-delayed, phase shifted, lossy feedback for each mode separately\n",
    "\n",
    "The non-Markovian overall input fields in the two modes:\n",
    "$$\\begin{align}\n",
    "\\hat{a}_{in}(t) &= \\frac{1}{\\sqrt{2\\kappa_a}} \\left\\{\\sqrt{2\\kappa_{a,1}}\\hat{a}_{1,in}(t) + \\sqrt{2\\kappa_{a,2}}\\left[\\sqrt{L_a}\\hat{\\xi}_a(t) + \\sqrt{1-L_a}e^{i\\phi_a}\\hat{a}_{1,in}(t-\\tau_a)\\right]\\right\\}\\\\\n",
    "\\hat{b}_{in}(t) &= \\frac{1}{\\sqrt{2\\kappa_b}} \\left\\{\\sqrt{2\\kappa_{b,1}}\\hat{b}_{1,in}(t) + \\sqrt{2\\kappa_{b,2}}\\left[\\sqrt{L_b}\\hat{\\xi}_b(t) + \\sqrt{1-L_b}e^{i\\phi_b}\\hat{b}_{1,in}(t-\\tau_b)\\right]\\right\\}\n",
    "\\end{align}$$\n",
    "\n",
    "Therefore the spectral densities:\n",
    "$$J_\\mu(\\nu)=1+\\frac{k_\\mu}{\\kappa_\\mu}\\cos{\\nu\\tau}$$\n",
    "\n",
    "## Hamiltonian and equations of motion\n",
    "\n",
    "Everything is in interaction picture:\n",
    "$$\\begin{align}\n",
    "\\hat{H} = \\hbar\\Delta_a\\hat{a}^\\dagger\\hat{a} + \\hbar\\Delta_b\\hat{b}^\\dagger\\hat{b} + \n",
    "i\\hbar|\\epsilon|\\left[\\hat{a}^\\dagger\\hat{b}^\\dagger e^{i\\theta} - \\hat{a}\\hat{b} e^{-i\\theta}\\right] + \n",
    "i\\hbar|g|\\left[\\hat{a}^\\dagger\\hat{b} e^{i\\chi} - \\hat{a}\\hat{b}^\\dagger e^{-i\\chi}\\right]\n",
    "\\end{align}\n",
    "$$$$\n",
    "\\begin{align}\n",
    "\\frac{d\\hat{a}}{dt} &= \\frac{i}{\\hbar}\\left[\\hat{H}(t),\\hat{a}(t)\\right] - \\kappa_a\\hat{a}(t) - \n",
    "\\sqrt{2\\kappa_a}\\hat{a}_{in}(t) - k_a e^{i\\phi_a} \\hat{a}(t-\\tau_a)\\\\\n",
    "\\frac{d\\hat{b}}{dt} &= \\frac{i}{\\hbar}\\left[\\hat{H}(t),\\hat{b}(t)\\right] - \\kappa_b\\hat{b}(t) - \n",
    "\\sqrt{2\\kappa_b}\\hat{b}_{in}(t) - k_b e^{i\\phi_b} \\hat{b}(t-\\tau_b)\\\\\n",
    "\\end{align}$$\n",
    "\n",
    "## Reordering of the equations of motion\n",
    "$$\n",
    "\\def\\doubleunderline#1{\\underline{\\underline{#1}}}\n",
    "\\begin{align}\n",
    "\\frac{d}{dt}\\hat{\\underline{a}}(t) = -i\\doubleunderline{\\Delta}\\ \\hat{\\underline{a}}(t) - \n",
    "\\int_0^t\\doubleunderline{f}(t-t^\\prime)\\hat{\\underline{a}}(t^\\prime) - \n",
    "i\\left(\\underline{\\Omega}(t)+\\hat{\\underline{B}}(t)\\right)\n",
    "\\end{align}$$\n",
    "where\n",
    "$$\\begin{align}\n",
    "\\hat{\\underline{a}}(t) &= \\left(\\hat{a}(t),\\hat{a}^\\dagger(t),\\hat{b}(t),\\hat{b}^\\dagger(t)\\right)\\\\\n",
    "\\doubleunderline{\\Delta} &= \\left(\\begin{matrix} \n",
    "(-i\\kappa_a+\\Delta_a) & 0 & ig & i\\epsilon \\\\\n",
    "0 & (-i\\kappa_a-\\Delta_a) & i\\epsilon^* & ig^* \\\\\n",
    "-ig^* & i\\epsilon & (-i\\kappa_b+\\Delta_b) & 0 \\\\\n",
    "i\\epsilon^* & -ig & 0 & (-i\\kappa_b-\\Delta_b)\\end{matrix}\\right)\\\\\n",
    "\\doubleunderline{f}(t) &= diag \\left(k_ae^{i\\phi_a}\\delta(t-\\tau_a),k_ae^{-i\\phi_a}\\delta(t-\\tau_a),k_be^{i\\phi_b} \\delta(t-\\tau_b),k_be^{-i\\phi_b}\\delta(t-\\tau_b)\\right) = \\\\\n",
    "&=diag \\left(k_a,k_a,k_b,k_b\\right)\\cdot diag \\left(e^{i\\phi_a}\\delta(t-\\tau_a),e^{-i\\phi_a}\\delta(t-\\tau_a),e^{i\\phi_b} \\delta(t-\\tau_b),e^{-i\\phi_b}\\delta(t-\\tau_b)\\right)=\\\\\n",
    "&=\\dul{K}\\ \\dul{f}_N(t)\\\\\n",
    "\\hat{\\underline{B}}(t) &= -i \\left(\\sqrt{2\\kappa_a}\\hat{a}_{in}(t),\\sqrt{2\\kappa_a}\\hat{a}^\\dagger_{in}(t),\n",
    "\\sqrt{2\\kappa_b}\\hat{b}_{in}(t),\\sqrt{2\\kappa_b}\\hat{b}^\\dagger_{in}(t)\\right)\n",
    "\\end{align}$$\n",
    "\n",
    "## 1. NDPA\n",
    "\n",
    "* $\\Delta_i$ denotes the detuning of the two subharmonic field from the cavity resonance respectively\n",
    "* $\\Omega(t)=0$, there is no driving in these modes, the pump mode is treated classically (parametric approximation)\n",
    "* $g = 0$, there is no particle conversion\n",
    "* General quadrature variances in frequency space are investigated in order to determine the degree of entanglement\n",
    "\n",
    "### Fourier Transform\n",
    "$$\n",
    "\\hat{\\tilde{\\underline{a}}} = \\underbrace{ \\left(\\nu\\doubleunderline{\\mathbb{1}} - \\doubleunderline{\\Delta} + \n",
    "i\\sqrt{2\\pi}\\tilde{\\doubleunderline{f}}\\right)^{-1}}_\\tilde{\\doubleunderline{N}} \\hat{\\tilde{\\underline{B}}} = \n",
    "\\tilde{\\doubleunderline{N}}\\ \\hat{\\tilde{\\underline{B}}}$$"
   ]
  },
  {
   "cell_type": "code",
   "execution_count": 2,
   "metadata": {
    "collapsed": true
   },
   "outputs": [],
   "source": [
    "from sympy import *\n",
    "import numpy as np\n",
    "from IPython.display import display, Math, Latex\n",
    "init_printing(use_unicode=True)\n",
    "nu,kapa,Dela,eps,kapb,Delb,ka,kb,pha,phb,ta,tb,g = \\\n",
    "    symbols('\\\\nu \\kappa_a \\Delta_a \\epsilon \\kappa_b \\Delta_b k_a k_b \\phi_a \\phi_b \\\\tau_a \\\\tau_b g')"
   ]
  },
  {
   "cell_type": "code",
   "execution_count": 3,
   "metadata": {
    "collapsed": false
   },
   "outputs": [
    {
     "data": {
      "image/png": "[encoded data removed]",
      "text/latex": [
       "$$\\left[\\begin{matrix}\\Delta_{a} - i \\kappa_{a} & 0 & 0 & i \\epsilon\\\\0 & - \\Delta_{a} - i \\kappa_{a} & i \\overline{\\epsilon} & 0\\\\0 & i \\epsilon & \\Delta_{b} - i \\kappa_{b} & 0\\\\i \\overline{\\epsilon} & 0 & 0 & - \\Delta_{b} - i \\kappa_{b}\\end{matrix}\\right]$$"
      ],
      "text/plain": [
       "⎡\\Deltaₐ - ⅈ⋅\\kappaₐ           0                      0                  ⅈ⋅\\ep\n",
       "⎢                                                                             \n",
       "⎢                                                  ________                   \n",
       "⎢         0           -\\Deltaₐ - ⅈ⋅\\kappaₐ       ⅈ⋅\\epsilon                  0\n",
       "⎢                                                                             \n",
       "⎢         0                ⅈ⋅\\epsilon       \\Delta_b - ⅈ⋅\\kappa_b            0\n",
       "⎢                                                                             \n",
       "⎢      ________                                                               \n",
       "⎣    ⅈ⋅\\epsilon                0                      0            -\\Delta_b -\n",
       "\n",
       "silon      ⎤\n",
       "           ⎥\n",
       "           ⎥\n",
       "           ⎥\n",
       "           ⎥\n",
       "           ⎥\n",
       "           ⎥\n",
       "           ⎥\n",
       " ⅈ⋅\\kappa_b⎦"
      ]
     },
     "execution_count": 3,
     "metadata": {},
     "output_type": "execute_result"
    }
   ],
   "source": [
    "Del  = Matrix([[(-I*kapa + Dela),0,0,I*eps],[0,(-I*kapa-Dela),I*conjugate(eps),0],[0,I*eps,(-I*kapb + Delb),0],\\\n",
    "               [I*conjugate(eps),0,0,(-I*kapb - Delb)]])\n",
    "Del"
   ]
  },
  {
   "cell_type": "code",
   "execution_count": 4,
   "metadata": {
    "collapsed": false
   },
   "outputs": [
    {
     "data": {
      "image/png": "[encoded data removed]",
      "text/latex": [
       "$$\\left[\\begin{matrix}k_{a} e^{i \\left(\\nu \\tau_{a} + \\phi_{a}\\right)} & 0 & 0 & 0\\\\0 & k_{a} e^{- i \\left(- \\nu \\tau_{a} + \\phi_{a}\\right)} & 0 & 0\\\\0 & 0 & k_{b} e^{i \\left(\\nu \\tau_{b} + \\phi_{b}\\right)} & 0\\\\0 & 0 & 0 & k_{b} e^{- i \\left(- \\nu \\tau_{b} + \\phi_{b}\\right)}\\end{matrix}\\right]$$"
      ],
      "text/plain": [
       "⎡    ⅈ⋅(\\nu⋅\\tauₐ + \\phiₐ)                                                    \n",
       "⎢kₐ⋅ℯ                                    0                            0       \n",
       "⎢                                                                             \n",
       "⎢                               -ⅈ⋅(-\\nu⋅\\tauₐ + \\phiₐ)                       \n",
       "⎢            0              kₐ⋅ℯ                                      0       \n",
       "⎢                                                                             \n",
       "⎢                                                             ⅈ⋅(\\nu⋅\\tau_b + \n",
       "⎢            0                           0               k_b⋅ℯ                \n",
       "⎢                                                                             \n",
       "⎢                                                                             \n",
       "⎣            0                           0                            0       \n",
       "\n",
       "                                       ⎤\n",
       "                       0               ⎥\n",
       "                                       ⎥\n",
       "                                       ⎥\n",
       "                       0               ⎥\n",
       "                                       ⎥\n",
       "\\phi_b)                                ⎥\n",
       "                       0               ⎥\n",
       "                                       ⎥\n",
       "              -ⅈ⋅(-\\nu⋅\\tau_b + \\phi_b)⎥\n",
       "         k_b⋅ℯ                         ⎦"
      ]
     },
     "execution_count": 4,
     "metadata": {},
     "output_type": "execute_result"
    }
   ],
   "source": [
    "F = diag(ka*exp(I*(pha+nu*ta)),ka*exp(-I*(pha-nu*ta)),kb*exp(I*(phb+nu*tb)),kb*exp(-I*(phb-nu*tb)))\n",
    "F"
   ]
  },
  {
   "cell_type": "code",
   "execution_count": 5,
   "metadata": {
    "collapsed": false
   },
   "outputs": [
    {
     "data": {
      "image/png": "[encoded data removed]",
      "text/latex": [
       "$$\\left[\\begin{matrix}- \\Delta_{a} + i \\kappa_{a} + 1.0 \\nu + i k_{a} e^{i \\left(\\nu \\tau_{a} + \\phi_{a}\\right)} & 0 & 0 & - i \\epsilon\\\\0 & \\Delta_{a} + i \\kappa_{a} + 1.0 \\nu + i k_{a} e^{- i \\left(- \\nu \\tau_{a} + \\phi_{a}\\right)} & - i \\overline{\\epsilon} & 0\\\\0 & - i \\epsilon & - \\Delta_{b} + i \\kappa_{b} + 1.0 \\nu + i k_{b} e^{i \\left(\\nu \\tau_{b} + \\phi_{b}\\right)} & 0\\\\- i \\overline{\\epsilon} & 0 & 0 & \\Delta_{b} + i \\kappa_{b} + 1.0 \\nu + i k_{b} e^{- i \\left(- \\nu \\tau_{b} + \\phi_{b}\\right)}\\end{matrix}\\right]$$"
      ],
      "text/plain": [
       "⎡                                       ⅈ⋅(\\nu⋅\\tauₐ + \\phiₐ)                 \n",
       "⎢-\\Deltaₐ + ⅈ⋅\\kappaₐ + 1.0⋅\\nu + ⅈ⋅kₐ⋅ℯ                                      \n",
       "⎢                                                                             \n",
       "⎢                                                                             \n",
       "⎢                             0                                \\Deltaₐ + ⅈ⋅\\ka\n",
       "⎢                                                                             \n",
       "⎢                                                                             \n",
       "⎢                             0                                               \n",
       "⎢                                                                             \n",
       "⎢                           ________                                          \n",
       "⎣                        -ⅈ⋅\\epsilon                                          \n",
       "\n",
       "                                                                              \n",
       "               0                                                              \n",
       "                                                                              \n",
       "                       -ⅈ⋅(-\\nu⋅\\tauₐ + \\phiₐ)                                \n",
       "ppaₐ + 1.0⋅\\nu + ⅈ⋅kₐ⋅ℯ                                                    -ⅈ⋅\n",
       "                                                                              \n",
       "                                                                              \n",
       "          -ⅈ⋅\\epsilon                           -\\Delta_b + ⅈ⋅\\kappa_b + 1.0⋅\\\n",
       "                                                                              \n",
       "                                                                              \n",
       "               0                                                              \n",
       "\n",
       "                                                                              \n",
       "  0                                                             -ⅈ⋅\\epsilon   \n",
       "                                                                              \n",
       "________                                                                      \n",
       "\\epsilon                                                             0        \n",
       "                                                                              \n",
       "            ⅈ⋅(\\nu⋅\\tau_b + \\phi_b)                                           \n",
       "nu + ⅈ⋅k_b⋅ℯ                                                         0        \n",
       "                                                                              \n",
       "                                                                              \n",
       "  0                                  \\Delta_b + ⅈ⋅\\kappa_b + 1.0⋅\\nu + ⅈ⋅k_b⋅ℯ\n",
       "\n",
       "                         ⎤\n",
       "                         ⎥\n",
       "                         ⎥\n",
       "                         ⎥\n",
       "                         ⎥\n",
       "                         ⎥\n",
       "                         ⎥\n",
       "                         ⎥\n",
       "                         ⎥\n",
       "-ⅈ⋅(-\\nu⋅\\tau_b + \\phi_b)⎥\n",
       "                         ⎦"
      ]
     },
     "execution_count": 5,
     "metadata": {},
     "output_type": "execute_result"
    }
   ],
   "source": [
    "coef = (nu*np.identity(4) - Del + I*F)\n",
    "coef"
   ]
  },
  {
   "cell_type": "markdown",
   "metadata": {},
   "source": [
    "if we introduce\n",
    "$$\\begin{align}\n",
    "d_{\\pm\\mu}(\\nu) &= \\kappa_\\mu - i(\\nu\\pm\\Delta_\\mu) + k_\\mu e^{i(\\nu\\tau_\\mu\\mp\\phi_\\mu)}\\\\\n",
    "d_{\\pm\\mu}(\\nu) &= d^*_{\\mp\\mu}(-\\nu)\n",
    "\\end{align}$$\n",
    "then"
   ]
  },
  {
   "cell_type": "code",
   "execution_count": 6,
   "metadata": {
    "collapsed": false
   },
   "outputs": [
    {
     "data": {
      "image/png": "[encoded data removed]",
      "text/latex": [
       "$$\\left[\\begin{matrix}i d_{-a} & 0 & 0 & - i \\epsilon\\\\0 & i d_{+a} & - i \\overline{\\epsilon} & 0\\\\0 & - i \\epsilon & i d_{-b} & 0\\\\- i \\overline{\\epsilon} & 0 & 0 & i d_{+b}\\end{matrix}\\right]$$"
      ],
      "text/plain": [
       "⎡   ⅈ⋅d₋ₐ          0            0       -ⅈ⋅\\epsilon⎤\n",
       "⎢                                                  ⎥\n",
       "⎢                             ________             ⎥\n",
       "⎢     0          ⅈ⋅d₊ₐ     -ⅈ⋅\\epsilon       0     ⎥\n",
       "⎢                                                  ⎥\n",
       "⎢     0       -ⅈ⋅\\epsilon    ⅈ⋅d_-b          0     ⎥\n",
       "⎢                                                  ⎥\n",
       "⎢   ________                                       ⎥\n",
       "⎣-ⅈ⋅\\epsilon       0            0         ⅈ⋅d_+b   ⎦"
      ]
     },
     "execution_count": 6,
     "metadata": {},
     "output_type": "execute_result"
    }
   ],
   "source": [
    "dpa, dma, dpb, dmb = symbols('d_+a d_-a d_+b d_-b')\n",
    "coef = Matrix([[I*dma,0,0,-I*eps],[0,I*dpa,-I*conjugate(eps),0],[0,-I*eps,I*dmb,0],[-I*conjugate(eps),0,0,I*dpb]])\n",
    "coef"
   ]
  },
  {
   "cell_type": "code",
   "execution_count": 11,
   "metadata": {
    "collapsed": false
   },
   "outputs": [
    {
     "data": {
      "image/png": "[encoded data removed]",
      "text/latex": [
       "$$\\left[\\begin{matrix}\\frac{i d_{+b}}{\\epsilon \\overline{\\epsilon} - d_{+b} d_{-a}} & 0 & 0 & \\frac{i \\epsilon}{\\epsilon \\overline{\\epsilon} - d_{+b} d_{-a}}\\\\0 & \\frac{i d_{-b}}{\\epsilon \\overline{\\epsilon} - d_{+a} d_{-b}} & \\frac{i \\overline{\\epsilon}}{\\epsilon \\overline{\\epsilon} - d_{+a} d_{-b}} & 0\\\\0 & \\frac{i \\epsilon}{\\epsilon \\overline{\\epsilon} - d_{+a} d_{-b}} & \\frac{i d_{+a}}{\\epsilon \\overline{\\epsilon} - d_{+a} d_{-b}} & 0\\\\\\frac{i \\overline{\\epsilon}}{\\epsilon \\overline{\\epsilon} - d_{+b} d_{-a}} & 0 & 0 & \\frac{i d_{-a}}{\\epsilon \\overline{\\epsilon} - d_{+b} d_{-a}}\\end{matrix}\\right]$$"
      ],
      "text/plain": [
       "⎡           ⅈ⋅d_+b                                                            \n",
       "⎢────────────────────────────               0                             0   \n",
       "⎢         ________                                                            \n",
       "⎢\\epsilon⋅\\epsilon - d_+b⋅d₋ₐ                                                 \n",
       "⎢                                                                             \n",
       "⎢                                                                       ______\n",
       "⎢                                         ⅈ⋅d_-b                      ⅈ⋅\\epsil\n",
       "⎢             0                ────────────────────────────  ─────────────────\n",
       "⎢                                       ________                      ________\n",
       "⎢                              \\epsilon⋅\\epsilon - d₊ₐ⋅d_-b  \\epsilon⋅\\epsilon\n",
       "⎢                                                                             \n",
       "⎢                                       ⅈ⋅\\epsilon                      ⅈ⋅d₊ₐ \n",
       "⎢             0                ────────────────────────────  ─────────────────\n",
       "⎢                                       ________                      ________\n",
       "⎢                              \\epsilon⋅\\epsilon - d₊ₐ⋅d_-b  \\epsilon⋅\\epsilon\n",
       "⎢                                                                             \n",
       "⎢           ________                                                          \n",
       "⎢         ⅈ⋅\\epsilon                                                          \n",
       "⎢────────────────────────────               0                             0   \n",
       "⎢         ________                                                            \n",
       "⎣\\epsilon⋅\\epsilon - d_+b⋅d₋ₐ                                                 \n",
       "\n",
       "                      ⅈ⋅\\epsilon         ⎤\n",
       "             ────────────────────────────⎥\n",
       "                      ________           ⎥\n",
       "             \\epsilon⋅\\epsilon - d_+b⋅d₋ₐ⎥\n",
       "                                         ⎥\n",
       "__                                       ⎥\n",
       "on                                       ⎥\n",
       "───────────               0              ⎥\n",
       "                                         ⎥\n",
       " - d₊ₐ⋅d_-b                              ⎥\n",
       "                                         ⎥\n",
       "                                         ⎥\n",
       "───────────               0              ⎥\n",
       "                                         ⎥\n",
       " - d₊ₐ⋅d_-b                              ⎥\n",
       "                                         ⎥\n",
       "                                         ⎥\n",
       "                        ⅈ⋅d₋ₐ            ⎥\n",
       "             ────────────────────────────⎥\n",
       "                      ________           ⎥\n",
       "             \\epsilon⋅\\epsilon - d_+b⋅d₋ₐ⎦"
      ]
     },
     "execution_count": 11,
     "metadata": {},
     "output_type": "execute_result"
    }
   ],
   "source": [
    "N = coef.inv()\n",
    "simplify(cancel(N))"
   ]
  },
  {
   "cell_type": "markdown",
   "metadata": {},
   "source": [
    "Let us introduce the following notations:\n",
    "$$\\begin{align}\n",
    "\\Lambda_{ab}(\\nu) &= |\\epsilon|^2-d_{+a}(\\nu)d_{-b}(\\nu)\\\\\n",
    "\\Lambda_{ba}(\\nu) &= |\\epsilon|^2-d_{-a}(\\nu)d_{+b}(\\nu)\\\\\n",
    "\\Lambda_{ab}(\\nu) &= \\Lambda^*_{ba}(-\\nu)\n",
    "\\end{align}$$\n",
    "thus\n",
    "$$\n",
    "\\tilde{\\doubleunderline{N}} = i\\left( \\begin{matrix}\n",
    "\\frac{d_{+b}}{\\Lambda_{ba}} & 0 & 0 & \\frac{\\epsilon}{\\Lambda_{ba}}\\\\\n",
    "0 & \\frac{d_{-b}}{\\Lambda_{ab}} & \\frac{\\epsilon^*}{\\Lambda_{ab}} & 0\\\\\n",
    "0 & \\frac{\\epsilon}{\\Lambda_{ab}} & \\frac{d_{+a}}{\\Lambda_{ab}} & 0\\\\\n",
    "\\frac{\\epsilon^*}{\\Lambda_{ba}} & 0 & 0 & \\frac{d_{-a}}{\\Lambda_{ba}}\\end{matrix}\\right)$$"
   ]
  },
  {
   "cell_type": "markdown",
   "metadata": {},
   "source": [
    "which is the field $\\hat{\\tilde{\\underline{a}}}(\\nu)$."
   ]
  },
  {
   "cell_type": "code",
   "execution_count": 8,
   "metadata": {
    "collapsed": false
   },
   "outputs": [
    {
     "data": {
      "image/png": "[encoded data removed]",
      "text/latex": [
       "$$\\left[\\begin{matrix}\\frac{\\sqrt{2}}{\\Lambda_{ba}} \\left(\\epsilon \\sqrt{\\kappa_{b}} b^{+}_{in} + \\sqrt{\\kappa_{a}} a_{in} d_{+b}\\right)\\\\\\frac{\\sqrt{2}}{\\Lambda_{ab}} \\left(\\sqrt{\\kappa_{a}} a^{+}_{in} d_{-b} + \\sqrt{\\kappa_{b}} b_{in} \\overline{\\epsilon}\\right)\\\\\\frac{\\sqrt{2}}{\\Lambda_{ab}} \\left(\\epsilon \\sqrt{\\kappa_{a}} a^{+}_{in} + \\sqrt{\\kappa_{b}} b_{in} d_{+a}\\right)\\\\\\frac{\\sqrt{2}}{\\Lambda_{ba}} \\left(\\sqrt{\\kappa_{a}} a_{in} \\overline{\\epsilon} + \\sqrt{\\kappa_{b}} b^{+}_{in} d_{-a}\\right)\\end{matrix}\\right]$$"
      ],
      "text/plain": [
       "⎡  ___ ⎛           __________             _________          ⎞⎤\n",
       "⎢╲╱ 2 ⋅⎝\\epsilon⋅╲╱ \\kappa_b ⋅b_in__+ + ╲╱ \\kappaₐ ⋅a_in⋅d_+b⎠⎥\n",
       "⎢─────────────────────────────────────────────────────────────⎥\n",
       "⎢                          \\Lambda_ba                         ⎥\n",
       "⎢                                                             ⎥\n",
       "⎢  ___ ⎛  _________                  __________      ________⎞⎥\n",
       "⎢╲╱ 2 ⋅⎝╲╱ \\kappaₐ ⋅a_in__+⋅d_-b + ╲╱ \\kappa_b ⋅b_in⋅\\epsilon⎠⎥\n",
       "⎢─────────────────────────────────────────────────────────────⎥\n",
       "⎢                          \\Lambda_ab                         ⎥\n",
       "⎢                                                             ⎥\n",
       "⎢  ___ ⎛           _________             __________         ⎞ ⎥\n",
       "⎢╲╱ 2 ⋅⎝\\epsilon⋅╲╱ \\kappaₐ ⋅a_in__+ + ╲╱ \\kappa_b ⋅b_in⋅d₊ₐ⎠ ⎥\n",
       "⎢──────────────────────────────────────────────────────────── ⎥\n",
       "⎢                         \\Lambda_ab                          ⎥\n",
       "⎢                                                             ⎥\n",
       "⎢  ___ ⎛  _________      ________     __________            ⎞ ⎥\n",
       "⎢╲╱ 2 ⋅⎝╲╱ \\kappaₐ ⋅a_in⋅\\epsilon + ╲╱ \\kappa_b ⋅b_in__+⋅d₋ₐ⎠ ⎥\n",
       "⎢──────────────────────────────────────────────────────────── ⎥\n",
       "⎣                         \\Lambda_ba                          ⎦"
      ]
     },
     "execution_count": 8,
     "metadata": {},
     "output_type": "execute_result"
    }
   ],
   "source": [
    "aopin,adopin,bopin,bdopin,Lab,Lba = symbols('a_in a^+_in b_in b^+_in \\Lambda_ab \\Lambda_ba')\n",
    "B = -I*Matrix([sqrt(2*kapa)*aopin,sqrt(2*kapa)*adopin,sqrt(2*kapb)*bopin,sqrt(2*kapb)*bdopin])\n",
    "N = I*Matrix([[dpb/Lba,0,0,eps/Lba],[0,dmb/Lab,conjugate(eps)/Lab,0],[0,eps/Lab,dpa/Lab,0],[conjugate(eps)/Lba,0,0,dma/Lba]])\n",
    "factor(N*B)"
   ]
  },
  {
   "cell_type": "markdown",
   "metadata": {},
   "source": [
    "$$\\def\\lsz{\\left[}\n",
    "\\def\\rsz{\\right]}\n",
    "\\def\\lk{\\left(}\n",
    "\\def\\rk{\\right)}\n",
    "\\def\\lka{\\left\\{}\n",
    "\\def\\rka{\\right\\}}\n",
    "\\def\\dul#1{\\underline{\\underline{#1}}}\n",
    "\\def\\frvecop#1{\\hat{\\tilde{\\underline{#1}}}}\n",
    "\\def\\frmat#1{\\tilde{\\dul{#1}}}$$\n",
    "### Output fields\n",
    "\n",
    "The measurement is performed on the fields labeled by the subscripts $(2,out)$.\n",
    "\n",
    "$$\\begin{align}\n",
    "\\hat{\\tilde{\\underline{a}}}_{2,out} &= \\hat{\\tilde{\\underline{a}}}_{2,in} + \\doubleunderline{\\kappa}_2\\hat{\\tilde{\\underline{a}}} = \\sqrt{2\\pi}\\dul{L}_2\\frmat{f}_N\\lk\\frvecop{a}_{1,in}+\\dul{\\kappa}_1\\frvecop{a}\\rk + \\dul{L}_1\\frvecop{\\xi}+\\dul{\\kappa}_2\\hat{\\tilde{\\underline{a}}}=\\\\\n",
    "&= \\sqrt{2\\pi}\\dul{L}_2\\frmat{f}_N\\frvecop{a}_{1,in}+\\dul{L}_1\\frvecop{\\xi}+\\lk\\sqrt{2\\pi}\\dul{L}_2\\frmat{f}_N\\dul{\\kappa}_1 + \\dul{\\kappa}_2\\rk\\frmat{N}\\lk\\frmat{A}\\,\\frvecop{a}_{1,in} + \\dul{S}\\,\\frvecop{\\xi}\\rk =\\\\\n",
    "&= \\lsz\\sqrt{2\\pi}\\dul{L}_2\\frmat{f}_N +\\lk\\sqrt{2\\pi}\\dul{L}_2\\frmat{f}_N\\dul{\\kappa}_1 + \\dul{\\kappa}_2\\rk\\frmat{N}\\frmat{A}\\rsz\\frvecop{a}_{1,in}+\\lsz\\dul{L}_1+\\lk\\sqrt{2\\pi}\\dul{L}_2\\frmat{f}_N\\dul{\\kappa}_1 + \\dul{\\kappa}_2\\rk\\frmat{N}\\dul{S}\\rsz\\frvecop{\\xi}=\\\\\n",
    "&= \\lsz\\sqrt{2\\pi}\\dul{L}_2\\frmat{f}_N +\\lk\\sqrt{2\\pi}\\dul{L}_2\\frmat{f}_N\\dul{\\kappa}_1 + \\dul{\\kappa}_2\\rk\\frmat{N}\\frmat{A}\\rsz\\frvecop{a}_{1,in}+\\dul{L}_1\\lsz\\dul{\\mathbb{1}}+\\kappa_2\\lk\\sqrt{2\\pi}\\dul{L}_2\\frmat{f}_N\\dul{\\kappa}_1 + \\dul{\\kappa}_2\\rk\\frmat{N}\\rsz\\frvecop{\\xi}=\\\\\n",
    "&=\\frmat{O}_1\\frvecop{a}_{1,in}+\\frmat{O}_2\\frvecop{\\xi}\\\\\n",
    "\\frvecop{a}_{2,in} &= \\sqrt{2\\pi}\\dul{L}_2\\frmat{f}_N\\lk\\frvecop{a}_{1,in}+\\dul{\\kappa}_1\\frvecop{a}\\rk + \\dul{L}_1\\frvecop{\\xi}\\\\\n",
    "\\frvecop{a} &= \\frmat{N}\\frvecop{B}=-i\\frmat{N}\\lsz\\lk\\dul{\\kappa}_1+\\sqrt{2\\pi}\\dul{\\kappa}_2\\, \\frmat{f}_N\\rk\\frvecop{a}_{1,in} + \\dul{\\kappa}_2\\dul{L}_1\\frvecop{\\xi} \\rsz=\\frmat{N}\\lk\\frmat{A}_1\\,\\frvecop{a}_{1,in} + \\dul{S}\\,\\frvecop{\\xi}\\rk\\\\\n",
    "\\dul{L}_1 &= diag(\\sqrt{L_a},\\sqrt{L_a},\\sqrt{L_b},\\sqrt{L_b})\\\\\n",
    "\\dul{L}_2 &= diag(\\sqrt{1-L_a},\\sqrt{1-L_a},\\sqrt{1-L_b},\\sqrt{1-L_b})\\\\\n",
    "\\sqrt{2\\pi}\\frmat{f}_N &=diag\\lk e^{i\\lk\\nu\\tau_a+\\phi_a\\rk},e^{i\\lk\\nu\\tau_a-\\phi_a\\rk},e^{i\\lk\\nu\\tau_b+\\phi_b\\rk},e^{i\\lk\\nu\\tau_b-\\phi_b\\rk}\\rk\\\\\n",
    "\\doubleunderline{\\kappa}_n &= diag(\\sqrt{2\\kappa_{n,a}},\\sqrt{2\\kappa_{n,a}},\\sqrt{2\\kappa_{n,b}},\\sqrt{2\\kappa_{n,b}})\\\\\n",
    "\\dul{\\kappa}& =\\dul{\\kappa}_1+\\dul{\\kappa}_2   \\\\\n",
    "\\frmat{A}_1 &= diag\\lk\\alpha_1(\\nu),\\alpha^*_1(-\\nu),\\beta_1(\\nu),\\beta^*_1(-\\nu)\\rk \\text{ where, } \\alpha_1(\\nu) = \\frac{1}{\\sqrt{2\\kappa_{1,a}}}\\lk 2\\kappa_{1,a}+k_a e^{i\\lk\\nu\\tau_a+\\phi_a\\rk}\\rk\\\\\n",
    "\\end{align}$$"
   ]
  },
  {
   "cell_type": "markdown",
   "metadata": {},
   "source": [
    "## 2. Optomechanical system\n",
    "* $\\hat{a}$ is the optical, whereas $\\hat{b}$ is the mechanical mode\n",
    "* $\\Delta_a$ denotes the detuning of the optical mode from the cavity resonance\n",
    "* $\\Delta_b=\\Omega_m$, in classical equations $\\delta_b=\\frac{\\Delta_b}{\\kappa_a}$ distinguishes between resolved sideband or bad cavity limit\n",
    "* $k_b=0$, there is no feedback in the mechanical mode\n",
    "* evolution of phonon number is investigated to examine the degree of cooling\n",
    "\n",
    "### Laplace Transform\n",
    "$$\\hat{\\underline{A}} = \\left(s\\doubleunderline{\\mathbb{1}} + i\\doubleunderline{\\Delta} + \\doubleunderline{F}\\right)^{-1} \\hat{\\underline{A}}=\\doubleunderline{G}\\ \\hat{\\underline{A}}$$\n",
    "where $\\doubleunderline{G}$ is the Green function. With the help of this function the fields have the following solution:\n",
    "$$\\hat{\\underline{a}}(t) = \\doubleunderline{g}(t)\\hat{\\underline{a}} - i\\left(\\doubleunderline{g}\\ast\\underline{\\Omega}\\right)(t) - i\\left(\\doubleunderline{g}\\ast\\hat{\\underline{B}}\\right)(t) = \\doubleunderline{g}(t)\\hat{\\underline{a}} - i\\left(\\doubleunderline{g}\\ast\\underline{\\Omega}\\right)(t) - i\\hat{\\underline{C}}(t)$$\n",
    "The Green-function satisfies the following equation:\n",
    "$$\\frac{d}{dt}\\doubleunderline{g}(t) = -i\\doubleunderline{\\Delta}\\ \\doubleunderline{g}(t) - \\int_0^t\\doubleunderline{F}(t-t^\\prime)\\doubleunderline{g}(t^\\prime)$$\n",
    "\n",
    "### Time-local master equation\n",
    "$$\\frac{d}{dt}\\hat{\\rho}_S(t) = -i\\sum_j\\left[\\xi_j(t)\\hat{a}_j^\\dagger,\\hat{\\rho}_S(t)\\right] + \n",
    "\\sum_{j,k} \\left\\{\\gamma_{jk}(t)\\left[\\hat{a}_k\\hat{\\rho}_S(t),\\hat{a}_j^\\dagger\\right] + \n",
    "\\gamma_{jk}^*(t)\\left[\\hat{a}_j,\\hat{\\rho}_S(t)\\hat{a}_k^\\dagger\\right] \\right\\} +\n",
    "\\sum_{jk}\\lambda_{jk}(t)\\left[\\left[\\hat{a}_k,\\hat{\\rho}_S(t)\\right]\\hat{a}_j^\\dagger\\right]$$\n",
    "where\n",
    "$$\n",
    "\\begin{align}\n",
    "\\doubleunderline{\\gamma}(t) &= -\\left(\\frac{d}{dt}\\doubleunderline{g}(t)\\right)\\doubleunderline{g}^{-1}(t)\\\\\n",
    "\\underline{\\xi}(t) &= \\left(\\doubleunderline{\\gamma}(t)+\\doubleunderline{\\mathbb{1}}\\frac{d}{dt}\\right)\n",
    "\\left(\\doubleunderline{g}\\ast\\underline{\\Omega}\\right)(t)\\\\\n",
    "\\doubleunderline{\\lambda}(t) &= \\frac{d}{dt}\\doubleunderline{W}(t) + \n",
    "\\doubleunderline{\\gamma}(t)\\doubleunderline{W}(t) + \\doubleunderline{W}(t) \\doubleunderline{\\gamma}^\\dagger(t)\\\\\n",
    "\\doubleunderline{W}(t) &= \\int_0^t dt_1\\int_0^t dt_2 \\doubleunderline{g}(t-t_1)\\doubleunderline{V}(t_{12})\\doubleunderline{g}(t-t_2)\\\\\n",
    "V_{jk}(t_{12}) &= \\left< B_k^\\dagger(t_2)B_j(t_1)\\right>\n",
    "\\end{align}\n",
    "$$"
   ]
  },
  {
   "cell_type": "code",
   "execution_count": null,
   "metadata": {
    "collapsed": true
   },
   "outputs": [],
   "source": []
  }
 ],
 "metadata": {
  "kernelspec": {
   "display_name": "Python 3",
   "language": "python",
   "name": "python3"
  },
  "language_info": {
   "codemirror_mode": {
    "name": "ipython",
    "version": 3
   },
   "file_extension": ".py",
   "mimetype": "text/x-python",
   "name": "python",
   "nbconvert_exporter": "python",
   "pygments_lexer": "ipython3",
   "version": "3.5.1"
  }
 },
 "nbformat": 4,
 "nbformat_minor": 0
}
