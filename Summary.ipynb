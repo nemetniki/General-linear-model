{
 "cells": [
  {
   "cell_type": "markdown",
   "metadata": {},
   "source": [
    "# General linear model with feedback\n",
    "\n",
    "## Setup\n",
    "\n",
    "Two modes: $\\hat{a} \\text{ and } \\hat{b}$\n",
    "\n",
    "Possiblities:\n",
    "* two channels of input & output in each mode\n",
    "* driving for one mode\n",
    "* time-delayed, phase shifted, lossy feedback for each mode separately\n",
    "\n",
    "The non-Markovian overall input fields in the two modes:\n",
    "$$\\begin{align}\n",
    "\\hat{a}_{in}(t) &= \\frac{1}{\\sqrt{2\\kappa_a}} \\left\\{\\sqrt{2\\kappa_{a,1}}\\hat{a}_{1,in}(t) + \\sqrt{2\\kappa_{a,2}}\\left[\\sqrt{L_a}\\hat{\\xi}_a(t) + \\sqrt{1-L_a}e^{i\\phi_a}\\hat{a}_{1,in}(t-\\tau_a)\\right]\\right\\}\\\\\n",
    "\\hat{b}_{in}(t) &= \\frac{1}{\\sqrt{2\\kappa_b}} \\left\\{\\sqrt{2\\kappa_{b,1}}\\hat{b}_{1,in}(t) + \\sqrt{2\\kappa_{b,2}}\\left[\\sqrt{L_b}\\hat{\\xi}_b(t) + \\sqrt{1-L_b}e^{i\\phi_b}\\hat{b}_{1,in}(t-\\tau_b)\\right]\\right\\}\n",
    "\\end{align}$$\n",
    "\n",
    "## Hamiltonian and equations of motion\n",
    "\n",
    "Everything is in interaction picture:\n",
    "$$\\begin{align}\n",
    "\\hat{H} = \\hbar\\Delta_a\\hat{a}^\\dagger\\hat{a} + \\hbar\\Delta_b\\hat{b}^\\dagger\\hat{b} + \n",
    "i\\hbar|\\epsilon|\\left[\\hat{a}^\\dagger\\hat{b}^\\dagger e^{i\\theta} - \\hat{a}\\hat{b} e^{-i\\theta}\\right] + \n",
    "i\\hbar|g|\\left[\\hat{a}^\\dagger\\hat{b} e^{i\\chi} - \\hat{a}\\hat{b}^\\dagger e^{-i\\chi}\\right]\n",
    "\\end{align}\n",
    "$$$$\n",
    "\\begin{align}\n",
    "\\frac{d\\hat{a}}{dt} &= \\frac{i}{\\hbar}\\left[\\hat{H}(t),\\hat{a}(t)\\right] - \\kappa_a\\hat{a}(t) - \n",
    "\\sqrt{2\\kappa_a}\\hat{a}_{in}(t) - k_a e^{i\\phi_a} \\hat{a}(t-\\tau_a)\\\\\n",
    "\\frac{d\\hat{b}}{dt} &= \\frac{i}{\\hbar}\\left[\\hat{H}(t),\\hat{b}(t)\\right] - \\kappa_b\\hat{b}(t) - \n",
    "\\sqrt{2\\kappa_b}\\hat{b}_{in}(t) - k_b e^{i\\phi_b} \\hat{b}(t-\\tau_b)\\\\\n",
    "\\end{align}$$\n",
    "\n",
    "## Reordering of the equations of motion\n",
    "$$\n",
    "\\def\\doubleunderline#1{\\underline{\\underline{#1}}}\n",
    "\\begin{align}\n",
    "\\frac{d}{dt}\\hat{\\underline{a}}(t) = -i\\doubleunderline{\\Delta}\\ \\hat{\\underline{a}}(t) - \n",
    "\\int_0^t\\doubleunderline{f}(t-t^\\prime)\\hat{\\underline{a}}(t^\\prime) - \n",
    "i\\left(\\underline{\\Omega}(t)+\\hat{\\underline{B}}(t)\\right)\n",
    "\\end{align}$$\n",
    "where\n",
    "$$\\begin{align}\n",
    "\\hat{\\underline{a}}(t) &= \\left(\\hat{a}(t),\\hat{a}^\\dagger(t),\\hat{b}(t),\\hat{b}^\\dagger(t)\\right)\\\\\n",
    "\\doubleunderline{\\Delta} &= \\left(\\begin{matrix} \n",
    "-(\\kappa_a+i\\Delta_a) & 0 & g & \\epsilon \\\\\n",
    "0 & -(\\kappa_a-i\\Delta_a) & \\epsilon^* & g^* \\\\\n",
    "-g^* & \\epsilon & -(\\kappa_b+i\\Delta_b) & 0 \\\\\n",
    "\\epsilon^* & -g & 0 & -(\\kappa_b-i\\Delta_b)\\end{matrix}\\right)\\\\\n",
    "\\doubleunderline{f}(t) &= diag \\left(k_ae^{i\\phi_a}\\delta(t-\\tau_a),k_ae^{-i\\phi_a}\\delta(t-\\tau_a),k_be^{i\\phi_b}\\delta(t-\\tau_b),k_be^{-i\\phi_b}\\delta(t-\\tau_b)\\right)\\\\\n",
    "\\hat{\\underline{B}}(t) &= -i \\left(\\sqrt{2\\kappa_a}\\hat{a}_{in}(t),\\sqrt{2\\kappa_a}\\hat{a}^\\dagger_{in}(t),\n",
    "\\sqrt{2\\kappa_b}\\hat{b}_{in}(t),\\sqrt{2\\kappa_b}\\hat{b}^\\dagger_{in}(t)\\right)\n",
    "\\end{align}$$\n",
    "\n",
    "## 1. NDPA\n",
    "\n",
    "* $\\Delta_i$ denotes the detuning of the two subharmonic field from the cavity resonance respectively\n",
    "* $\\Omega(t)=0$, there is no driving in these modes, the pump mode is treated classically (parametric approximation)\n",
    "* $g = 0$, there is no particle conversion\n",
    "* General quadrature variances in frequency space are investigated in order to determine the degree of entanglement\n",
    "\n",
    "### Fourier Transform\n",
    "$$\n",
    "\\hat{\\tilde{\\underline{a}}} = - \\left(\\nu\\doubleunderline{\\mathbb{1}} - \\doubleunderline{\\Delta} - \n",
    "\\sqrt{2\\pi}\\tilde{\\doubleunderline{f}}\\right)^{-1} \\hat{\\tilde{\\underline{B}}} = \n",
    "\\tilde{\\doubleunderline{N}}\\ \\hat{\\tilde{\\underline{B}}}$$"
   ]
  },
  {
   "cell_type": "code",
   "execution_count": 41,
   "metadata": {
    "collapsed": true
   },
   "outputs": [],
   "source": [
    "from sympy import *\n",
    "import numpy as np\n",
    "from IPython.display import display, Math, Latex\n",
    "init_printing(use_unicode=True)\n",
    "nu,kapa,Dela,eps,kapb,Delb,ka,kb,pha,phb,ta,tb = \\\n",
    "    symbols('\\\\nu \\kappa_a \\Delta_a \\epsilon \\kappa_b \\Delta_b k_a k_b \\phi_a \\phi_b \\\\tau_a \\\\tau_b')"
   ]
  },
  {
   "cell_type": "code",
   "execution_count": 42,
   "metadata": {
    "collapsed": false
   },
   "outputs": [
    {
     "data": {
      "image/png": "[encoded data removed]",
      "text/latex": [
       "$$\\left[\\begin{matrix}- i \\Delta_{a} - \\kappa_{a} & 0 & 0 & \\epsilon\\\\0 & i \\Delta_{a} - \\kappa_{a} & \\overline{\\epsilon} & 0\\\\0 & \\epsilon & - i \\Delta_{b} - \\kappa_{b} & 0\\\\\\overline{\\epsilon} & 0 & 0 & i \\Delta_{b} - \\kappa_{b}\\end{matrix}\\right]$$"
      ],
      "text/plain": [
       "⎡-ⅈ⋅\\Deltaₐ - \\kappaₐ           0                     0                   \\eps\n",
       "⎢                                                                             \n",
       "⎢                                                  ________                   \n",
       "⎢         0            ⅈ⋅\\Deltaₐ - \\kappaₐ         \\epsilon                   \n",
       "⎢                                                                             \n",
       "⎢         0                 \\epsilon        -ⅈ⋅\\Delta_b - \\kappa_b            \n",
       "⎢                                                                             \n",
       "⎢      ________                                                               \n",
       "⎣      \\epsilon                 0                     0             ⅈ⋅\\Delta_b\n",
       "\n",
       "ilon       ⎤\n",
       "           ⎥\n",
       "           ⎥\n",
       "0          ⎥\n",
       "           ⎥\n",
       "0          ⎥\n",
       "           ⎥\n",
       "           ⎥\n",
       " - \\kappa_b⎦"
      ]
     },
     "execution_count": 42,
     "metadata": {},
     "output_type": "execute_result"
    }
   ],
   "source": [
    "Del  = Matrix([[-(kapa + I*Dela),0,0,eps],[0,-(kapa-I*Dela),conjugate(eps),0],[0,eps,-(kapb + I*Delb),0],\\\n",
    "               [conjugate(eps),0,0,-(kapb - I*Delb)]])\n",
    "Del"
   ]
  },
  {
   "cell_type": "code",
   "execution_count": 43,
   "metadata": {
    "collapsed": false
   },
   "outputs": [
    {
     "data": {
      "image/png": "[encoded data removed]",
      "text/latex": [
       "$$\\left[\\begin{matrix}k_{a} e^{i \\left(\\nu \\tau_{a} + \\phi_{a}\\right)} & 0 & 0 & 0\\\\0 & k_{a} e^{- i \\left(- \\nu \\tau_{a} + \\phi_{a}\\right)} & 0 & 0\\\\0 & 0 & k_{b} e^{i \\left(\\nu \\tau_{b} + \\phi_{b}\\right)} & 0\\\\0 & 0 & 0 & k_{b} e^{- i \\left(- \\nu \\tau_{b} + \\phi_{b}\\right)}\\end{matrix}\\right]$$"
      ],
      "text/plain": [
       "⎡    ⅈ⋅(\\nu⋅\\tauₐ + \\phiₐ)                                                    \n",
       "⎢kₐ⋅ℯ                                    0                            0       \n",
       "⎢                                                                             \n",
       "⎢                               -ⅈ⋅(-\\nu⋅\\tauₐ + \\phiₐ)                       \n",
       "⎢            0              kₐ⋅ℯ                                      0       \n",
       "⎢                                                                             \n",
       "⎢                                                             ⅈ⋅(\\nu⋅\\tau_b + \n",
       "⎢            0                           0               k_b⋅ℯ                \n",
       "⎢                                                                             \n",
       "⎢                                                                             \n",
       "⎣            0                           0                            0       \n",
       "\n",
       "                                       ⎤\n",
       "                       0               ⎥\n",
       "                                       ⎥\n",
       "                                       ⎥\n",
       "                       0               ⎥\n",
       "                                       ⎥\n",
       "\\phi_b)                                ⎥\n",
       "                       0               ⎥\n",
       "                                       ⎥\n",
       "              -ⅈ⋅(-\\nu⋅\\tau_b + \\phi_b)⎥\n",
       "         k_b⋅ℯ                         ⎦"
      ]
     },
     "execution_count": 43,
     "metadata": {},
     "output_type": "execute_result"
    }
   ],
   "source": [
    "F = diag(ka*exp(I*(pha+nu*ta)),ka*exp(-I*(pha-nu*ta)),kb*exp(I*(phb+nu*tb)),kb*exp(-I*(phb-nu*tb)))\n",
    "F"
   ]
  },
  {
   "cell_type": "code",
   "execution_count": 44,
   "metadata": {
    "collapsed": false
   },
   "outputs": [
    {
     "data": {
      "image/png": "[encoded data removed]",
      "text/latex": [
       "$$\\left[\\begin{matrix}- i \\Delta_{a} - \\kappa_{a} - 1.0 i \\nu + k_{a} e^{i \\left(\\nu \\tau_{a} + \\phi_{a}\\right)} & 0 & 0 & \\epsilon\\\\0 & i \\Delta_{a} - \\kappa_{a} - 1.0 i \\nu + k_{a} e^{- i \\left(- \\nu \\tau_{a} + \\phi_{a}\\right)} & \\overline{\\epsilon} & 0\\\\0 & \\epsilon & - i \\Delta_{b} - \\kappa_{b} - 1.0 i \\nu + k_{b} e^{i \\left(\\nu \\tau_{b} + \\phi_{b}\\right)} & 0\\\\\\overline{\\epsilon} & 0 & 0 & i \\Delta_{b} - \\kappa_{b} - 1.0 i \\nu + k_{b} e^{- i \\left(- \\nu \\tau_{b} + \\phi_{b}\\right)}\\end{matrix}\\right]$$"
      ],
      "text/plain": [
       "⎡                                          ⅈ⋅(\\nu⋅\\tauₐ + \\phiₐ)              \n",
       "⎢-ⅈ⋅\\Deltaₐ - \\kappaₐ - - -1.0⋅ⅈ⋅\\nu + kₐ⋅ℯ                                   \n",
       "⎢                                                                             \n",
       "⎢                                                                             \n",
       "⎢                               0                                 ⅈ⋅\\Deltaₐ - \n",
       "⎢                                                                             \n",
       "⎢                                                                             \n",
       "⎢                               0                                             \n",
       "⎢                                                                             \n",
       "⎢                           ________                                          \n",
       "⎣                           \\epsilon                                          \n",
       "\n",
       "                                                                              \n",
       "                   0                                                          \n",
       "                                                                              \n",
       "                             -ⅈ⋅(-\\nu⋅\\tauₐ + \\phiₐ)                          \n",
       "\\kappaₐ - - -1.0⋅ⅈ⋅\\nu + kₐ⋅ℯ                                                 \n",
       "                                                                              \n",
       "                                                                              \n",
       "                \\epsilon                              -ⅈ⋅\\Delta_b - \\kappa_b -\n",
       "                                                                              \n",
       "                                                                              \n",
       "                   0                                                          \n",
       "\n",
       "                                                                              \n",
       "         0                                                                  \\e\n",
       "                                                                              \n",
       "      ________                                                                \n",
       "      \\epsilon                                                                \n",
       "                                                                              \n",
       "                     ⅈ⋅(\\nu⋅\\tau_b + \\phi_b)                                  \n",
       " - -1.0⋅ⅈ⋅\\nu + k_b⋅ℯ                                                         \n",
       "                                                                              \n",
       "                                                                              \n",
       "         0                                    ⅈ⋅\\Delta_b - \\kappa_b - - -1.0⋅ⅈ\n",
       "\n",
       "                                     ⎤\n",
       "psilon                               ⎥\n",
       "                                     ⎥\n",
       "                                     ⎥\n",
       "  0                                  ⎥\n",
       "                                     ⎥\n",
       "                                     ⎥\n",
       "  0                                  ⎥\n",
       "                                     ⎥\n",
       "            -ⅈ⋅(-\\nu⋅\\tau_b + \\phi_b)⎥\n",
       "⋅\\nu + k_b⋅ℯ                         ⎦"
      ]
     },
     "execution_count": 44,
     "metadata": {},
     "output_type": "execute_result"
    }
   ],
   "source": [
    "coef = -(I*nu*np.identity(4) - Del - F)\n",
    "coef"
   ]
  },
  {
   "cell_type": "markdown",
   "metadata": {},
   "source": [
    "if we introduce\n",
    "$$\\begin{align}\n",
    "d_{\\pm\\mu}(\\nu) &= \\kappa_\\mu + i(\\nu\\pm\\Delta_\\mu) - k_\\mu e^{i(\\nu\\tau_\\mu\\pm\\phi_\\mu)}\\\\\n",
    "d_{\\pm\\mu}(\\nu) &= d^*_{\\mp\\mu}(-\\nu)\n",
    "\\end{align}$$\n",
    "then"
   ]
  },
  {
   "cell_type": "code",
   "execution_count": 45,
   "metadata": {
    "collapsed": false
   },
   "outputs": [
    {
     "data": {
      "image/png": "[encoded data removed]",
      "text/latex": [
       "$$\\left[\\begin{matrix}- d_{+a} & 0 & 0 & \\epsilon\\\\0 & - d_{-a} & \\overline{\\epsilon} & 0\\\\0 & \\epsilon & - d_{+b} & 0\\\\\\overline{\\epsilon} & 0 & 0 & - d_{-b}\\end{matrix}\\right]$$"
      ],
      "text/plain": [
       "⎡  -d₊ₐ       0         0      \\epsilon⎤\n",
       "⎢                                      ⎥\n",
       "⎢                    ________          ⎥\n",
       "⎢   0        -d₋ₐ    \\epsilon     0    ⎥\n",
       "⎢                                      ⎥\n",
       "⎢   0      \\epsilon   -d_+b       0    ⎥\n",
       "⎢                                      ⎥\n",
       "⎢________                              ⎥\n",
       "⎣\\epsilon     0         0       -d_-b  ⎦"
      ]
     },
     "execution_count": 45,
     "metadata": {},
     "output_type": "execute_result"
    }
   ],
   "source": [
    "dpa, dma, dpb, dmb = symbols('d_+a d_-a d_+b d_-b')\n",
    "coef = Matrix([[-dpa,0,0,eps],[0,-dma,conjugate(eps),0],[0,eps,-dpb,0],[conjugate(eps),0,0,-dmb]])\n",
    "coef"
   ]
  },
  {
   "cell_type": "code",
   "execution_count": 46,
   "metadata": {
    "collapsed": false
   },
   "outputs": [
    {
     "data": {
      "image/png": "[encoded data removed]",
      "text/latex": [
       "$$\\left[\\begin{matrix}\\frac{d_{-b}}{\\epsilon \\overline{\\epsilon} - d_{+a} d_{-b}} & 0 & 0 & \\frac{\\epsilon}{\\epsilon \\overline{\\epsilon} - d_{+a} d_{-b}}\\\\0 & \\frac{d_{+b}}{\\epsilon \\overline{\\epsilon} - d_{+b} d_{-a}} & \\frac{\\overline{\\epsilon}}{\\epsilon \\overline{\\epsilon} - d_{+b} d_{-a}} & 0\\\\0 & \\frac{\\epsilon}{\\epsilon \\overline{\\epsilon} - d_{+b} d_{-a}} & \\frac{d_{-a}}{\\epsilon \\overline{\\epsilon} - d_{+b} d_{-a}} & 0\\\\\\frac{\\overline{\\epsilon}}{\\epsilon \\overline{\\epsilon} - d_{+a} d_{-b}} & 0 & 0 & \\frac{d_{+a}}{\\epsilon \\overline{\\epsilon} - d_{+a} d_{-b}}\\end{matrix}\\right]$$"
      ],
      "text/plain": [
       "⎡            d_-b                                                             \n",
       "⎢────────────────────────────               0                             0   \n",
       "⎢         ________                                                            \n",
       "⎢\\epsilon⋅\\epsilon - d₊ₐ⋅d_-b                                                 \n",
       "⎢                                                                             \n",
       "⎢                                                                      _______\n",
       "⎢                                          d_+b                        \\epsilo\n",
       "⎢             0                ────────────────────────────  ─────────────────\n",
       "⎢                                       ________                      ________\n",
       "⎢                              \\epsilon⋅\\epsilon - d_+b⋅d₋ₐ  \\epsilon⋅\\epsilon\n",
       "⎢                                                                             \n",
       "⎢                                        \\epsilon                        d₋ₐ  \n",
       "⎢             0                ────────────────────────────  ─────────────────\n",
       "⎢                                       ________                      ________\n",
       "⎢                              \\epsilon⋅\\epsilon - d_+b⋅d₋ₐ  \\epsilon⋅\\epsilon\n",
       "⎢                                                                             \n",
       "⎢          ________                                                           \n",
       "⎢          \\epsilon                                                           \n",
       "⎢────────────────────────────               0                             0   \n",
       "⎢         ________                                                            \n",
       "⎣\\epsilon⋅\\epsilon - d₊ₐ⋅d_-b                                                 \n",
       "\n",
       "                       \\epsilon          ⎤\n",
       "             ────────────────────────────⎥\n",
       "                      ________           ⎥\n",
       "             \\epsilon⋅\\epsilon - d₊ₐ⋅d_-b⎥\n",
       "                                         ⎥\n",
       "_                                        ⎥\n",
       "n                                        ⎥\n",
       "───────────               0              ⎥\n",
       "                                         ⎥\n",
       " - d_+b⋅d₋ₐ                              ⎥\n",
       "                                         ⎥\n",
       "                                         ⎥\n",
       "───────────               0              ⎥\n",
       "                                         ⎥\n",
       " - d_+b⋅d₋ₐ                              ⎥\n",
       "                                         ⎥\n",
       "                                         ⎥\n",
       "                         d₊ₐ             ⎥\n",
       "             ────────────────────────────⎥\n",
       "                      ________           ⎥\n",
       "             \\epsilon⋅\\epsilon - d₊ₐ⋅d_-b⎦"
      ]
     },
     "execution_count": 46,
     "metadata": {},
     "output_type": "execute_result"
    }
   ],
   "source": [
    "N = coef.inv()\n",
    "simplify(cancel(N))"
   ]
  },
  {
   "cell_type": "markdown",
   "metadata": {},
   "source": [
    "Let us introduce the following notations:\n",
    "$$\\begin{align}\n",
    "\\Lambda_{ab}(\\nu) &= |\\epsilon|^2-d_{+a}(\\nu)d_{-b}(\\nu)\\\\\n",
    "\\Lambda_{ba}(\\nu) &= |\\epsilon|^2-d_{-a}(\\nu)d_{+b}(\\nu)\\\\\n",
    "\\Lambda_{ab}(\\nu) &= \\Lambda^*_{ba}(-\\nu)\n",
    "\\end{align}$$\n",
    "thus\n",
    "$$\n",
    "\\tilde{\\doubleunderline{N}} = \\left( \\begin{matrix}\n",
    "\\frac{d_{-b}}{\\Lambda_{ab}} & 0 & 0 & \\frac{\\epsilon}{\\Lambda_{ab}}\\\\\n",
    "0 & \\frac{d_{+b}}{\\Lambda_{ba}} & \\frac{\\epsilon^*}{\\Lambda_{ba}} & 0\\\\\n",
    "0 & \\frac{\\epsilon}{\\Lambda_{ba}} & \\frac{d_{-a}}{\\Lambda_{ba}} & 0\\\\\n",
    "\\frac{\\epsilon^*}{\\Lambda_{ab}} & 0 & 0 & \\frac{d_{+a}}{\\Lambda_{ab}}\\end{matrix}\\right)$$"
   ]
  },
  {
   "cell_type": "markdown",
   "metadata": {},
   "source": [
    "### General quadratures"
   ]
  },
  {
   "cell_type": "markdown",
   "metadata": {},
   "source": [
    "## 2. Optomechanical system\n",
    "* $\\hat{a}$ is the optical, whereas $\\hat{b}$ is the mechanical mode\n",
    "* $\\Delta_a$ denotes the detuning of the optical mode from the cavity resonance\n",
    "* $\\Delta_b=\\Omega_m$, in classical equations $\\delta_b=\\frac{\\Delta_b}{\\kappa_a}$ distinguishes between resolved sideband or bad cavity limit\n",
    "* $k_b=0$, there is no feedback in the mechanical mode\n",
    "* evolution of phonon number is investigated to examine the degree of cooling\n",
    "\n",
    "### Laplace Transform\n",
    "$$\\hat{\\underline{A}} = \\left(s\\doubleunderline{\\mathbb{1}} + i\\doubleunderline{\\Delta} + \\doubleunderline{F}\\right)^{-1} \\hat{\\underline{A}}=\\doubleunderline{G}\\ \\hat{\\underline{A}}$$\n",
    "where $\\doubleunderline{G}$ is the Green function. With the help of this function the fields have the following solution:\n",
    "$$\\hat{\\underline{a}}(t) = \\doubleunderline{g}(t)\\hat{\\underline{a}} - i\\left(\\doubleunderline{g}\\ast\\underline{\\Omega}\\right)(t) - i\\left(\\doubleunderline{g}\\ast\\hat{\\underline{B}}\\right)(t) = \\doubleunderline{g}(t)\\hat{\\underline{a}} - i\\left(\\doubleunderline{g}\\ast\\underline{\\Omega}\\right)(t) - i\\hat{\\underline{C}}(t)$$\n",
    "The Green-function satisfies the following equation:\n",
    "$$\\frac{d}{dt}\\doubleunderline{g}(t) = -i\\doubleunderline{\\Delta}\\ \\doubleunderline{g}(t) - \\int_0^t\\doubleunderline{F}(t-t^\\prime)\\doubleunderline{g}(t^\\prime)$$\n",
    "\n",
    "### Time-local master equation\n",
    "$$\\frac{d}{dt}\\hat{\\rho}_S(t) = -i\\sum_j\\left[\\xi_j(t)\\hat{a}_j^\\dagger,\\hat{\\rho}_S(t)\\right] + \n",
    "\\sum_{j,k} \\left\\{\\gamma_{jk}(t)\\left[\\hat{a}_k\\hat{\\rho}_S(t),\\hat{a}_j^\\dagger\\right] + \n",
    "\\gamma_{jk}^*(t)\\left[\\hat{a}_j,\\hat{\\rho}_S(t)\\hat{a}_k^\\dagger\\right] \\right\\} +\n",
    "\\sum_{jk}\\lambda_{jk}(t)\\left[\\left[\\hat{a}_k,\\hat{\\rho}_S(t)\\right]\\hat{a}_j^\\dagger\\right]$$\n",
    "where\n",
    "$$\n",
    "\\begin{align}\n",
    "\\doubleunderline{\\gamma}(t) &= -\\left(\\frac{d}{dt}\\doubleunderline{g}(t)\\right)\\doubleunderline{g}^{-1}(t)\\\\\n",
    "\\underline{\\xi}(t) &= \\left(\\doubleunderline{\\gamma}(t)+\\doubleunderline{\\mathbb{1}}\\frac{d}{dt}\\right)\n",
    "\\left(\\doubleunderline{g}\\ast\\underline{\\Omega}\\right)(t)\\\\\n",
    "\\doubleunderline{\\lambda}(t) &= \\frac{d}{dt}\\doubleunderline{W}(t) + \n",
    "\\doubleunderline{\\gamma}(t)\\doubleunderline{W}(t) + \\doubleunderline{W}(t) \\doubleunderline{\\gamma}^\\dagger(t)\\\\\n",
    "\\doubleunderline{W}(t) &= \\int_0^t dt_1\\int_0^t dt_2 \\doubleunderline{g}(t-t_1)\\doubleunderline{V}(t_{12})\\doubleunderline{g}(t-t_2)\\\\\n",
    "V_{jk}(t_{12}) &= \\left< B_k^\\dagger(t_2)B_j(t_1)\\right>\n",
    "\\end{align}\n",
    "$$"
   ]
  },
  {
   "cell_type": "code",
   "execution_count": null,
   "metadata": {
    "collapsed": true
   },
   "outputs": [],
   "source": []
  }
 ],
 "metadata": {
  "kernelspec": {
   "display_name": "Python 3",
   "language": "python",
   "name": "python3"
  },
  "language_info": {
   "codemirror_mode": {
    "name": "ipython",
    "version": 3
   },
   "file_extension": ".py",
   "mimetype": "text/x-python",
   "name": "python",
   "nbconvert_exporter": "python",
   "pygments_lexer": "ipython3",
   "version": "3.5.1"
  }
 },
 "nbformat": 4,
 "nbformat_minor": 0
}
